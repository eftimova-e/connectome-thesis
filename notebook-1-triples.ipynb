{
 "cells": [
  {
   "cell_type": "code",
   "execution_count": 5,
   "metadata": {},
   "outputs": [
    {
     "name": "stderr",
     "output_type": "stream",
     "text": [
      "WARNING : Module pyoctree not found. Falling back to scipy's                             ConvexHull for intersection calculations. (pymaid)\n"
     ]
    },
    {
     "data": {
      "text/html": [
       "        <script type=\"text/javascript\">\n",
       "        window.PlotlyConfig = {MathJaxConfig: 'local'};\n",
       "        if (window.MathJax) {MathJax.Hub.Config({SVG: {font: \"STIX-Web\"}});}\n",
       "        if (typeof require !== 'undefined') {\n",
       "        require.undef(\"plotly\");\n",
       "        requirejs.config({\n",
       "            paths: {\n",
       "                'plotly': ['https://cdn.plot.ly/plotly-latest.min']\n",
       "            }\n",
       "        });\n",
       "        require(['plotly'], function(Plotly) {\n",
       "            window._Plotly = Plotly;\n",
       "        });\n",
       "        }\n",
       "        </script>\n",
       "        "
      ]
     },
     "metadata": {},
     "output_type": "display_data"
    },
    {
     "name": "stderr",
     "output_type": "stream",
     "text": [
      "INFO  : Global CATMAID instance set. Caching is ON. (pymaid)\n"
     ]
    },
    {
     "name": "stdout",
     "output_type": "stream",
     "text": [
      "Last run: 2019-07-18\n",
      "Pymaid version: 0.96\n"
     ]
    }
   ],
   "source": [
    "import pymaid\n",
    "import vispy\n",
    "import matplotlib.pyplot as plt\n",
    "import pandas as pd\n",
    "\n",
    "\"\"\"\n",
    "\n",
    "CATMAID credentials in the form of pymaid.CatmaidInstance(server, authname, authpassword, authtoken)\n",
    "\n",
    "\"\"\"\n",
    "\n",
    "\n",
    "\n",
    "\n",
    "import datetime\n",
    "import sys\n",
    "import csv\n",
    "import itertools\n",
    "import numpy as np\n",
    "import networkx as nx\n",
    "import matplotlib.pyplot as plt\n",
    "import seaborn as sns\n",
    "\n",
    "# reload(sys)\n",
    "# sys.setdefaultencoding(\"utf-8\")\n",
    "print('Last run:', datetime.date.today())\n",
    "print('Pymaid version:', pymaid.__version__)"
   ]
  },
  {
   "cell_type": "markdown",
   "metadata": {},
   "source": [
    "# Finding triples\n",
    "\n",
    "The goal is to use a function to find triples of neurons (source, interneuron, output) provided all three of the following unidirectional exist: source -> inter, source -> output, inter -> motor.\n"
   ]
  },
  {
   "cell_type": "markdown",
   "metadata": {},
   "source": [
    "First we need a function to find which connections exist between a single source neuron and a set of output neurons.\n",
    "\n",
    "The function **direct()** takes a skeleton id of a source neuron, a list of output neurons, and a threshold that represents above how many synapses is a synaptic partner going to be considered- connections with nr. of synapses below or equal will be ignored. This function returns a list of skeleton ids of the filtered targets of the source neuron"
   ]
  },
  {
   "cell_type": "code",
   "execution_count": 7,
   "metadata": {},
   "outputs": [
    {
     "name": "stderr",
     "output_type": "stream",
     "text": [
      "INFO  : Cached data used. Use `pymaid.clear_cache()` to clear. (pymaid)\n"
     ]
    },
    {
     "data": {
      "application/vnd.jupyter.widget-view+json": {
       "model_id": "8aedcd1fcef3422f98e5ce7e967d380c",
       "version_major": 2,
       "version_minor": 0
      },
      "text/html": [
       "<p>Failed to display Jupyter Widget of type <code>HBox</code>.</p>\n",
       "<p>\n",
       "  If you're reading this message in the Jupyter Notebook or JupyterLab Notebook, it may mean\n",
       "  that the widgets JavaScript is still loading. If this message persists, it\n",
       "  likely means that the widgets JavaScript library is either not installed or\n",
       "  not enabled. See the <a href=\"https://ipywidgets.readthedocs.io/en/stable/user_install.html\">Jupyter\n",
       "  Widgets Documentation</a> for setup instructions.\n",
       "</p>\n",
       "<p>\n",
       "  If you're reading this message in another frontend (for example, a static\n",
       "  rendering on GitHub or <a href=\"https://nbviewer.jupyter.org/\">NBViewer</a>),\n",
       "  it may mean that your frontend doesn't currently support widgets.\n",
       "</p>\n"
      ],
      "text/plain": [
       "HBox(children=(IntProgress(value=0, description='Make nrn', max=14, style=ProgressStyle(description_width='initial')), HTML(value='')))"
      ]
     },
     "metadata": {},
     "output_type": "display_data"
    },
    {
     "name": "stderr",
     "output_type": "stream",
     "text": [
      "INFO  : Found 14 neurons matching the search parameters (pymaid)\n",
      "INFO  : Cached data used. Use `pymaid.clear_cache()` to clear. (pymaid)\n"
     ]
    },
    {
     "name": "stdout",
     "output_type": "stream",
     "text": [
      "\r"
     ]
    },
    {
     "data": {
      "application/vnd.jupyter.widget-view+json": {
       "model_id": "9f654a91762a49f0b04018161723db03",
       "version_major": 2,
       "version_minor": 0
      },
      "text/html": [
       "<p>Failed to display Jupyter Widget of type <code>HBox</code>.</p>\n",
       "<p>\n",
       "  If you're reading this message in the Jupyter Notebook or JupyterLab Notebook, it may mean\n",
       "  that the widgets JavaScript is still loading. If this message persists, it\n",
       "  likely means that the widgets JavaScript library is either not installed or\n",
       "  not enabled. See the <a href=\"https://ipywidgets.readthedocs.io/en/stable/user_install.html\">Jupyter\n",
       "  Widgets Documentation</a> for setup instructions.\n",
       "</p>\n",
       "<p>\n",
       "  If you're reading this message in another frontend (for example, a static\n",
       "  rendering on GitHub or <a href=\"https://nbviewer.jupyter.org/\">NBViewer</a>),\n",
       "  it may mean that your frontend doesn't currently support widgets.\n",
       "</p>\n"
      ],
      "text/plain": [
       "HBox(children=(IntProgress(value=0, description='Make nrn', max=8, style=ProgressStyle(description_width='initial')), HTML(value='')))"
      ]
     },
     "metadata": {},
     "output_type": "display_data"
    },
    {
     "name": "stderr",
     "output_type": "stream",
     "text": [
      "INFO  : Found 8 neurons matching the search parameters (pymaid)\n",
      "INFO  : Fetching connectivity table for 1 neurons (pymaid)\n"
     ]
    },
    {
     "name": "stdout",
     "output_type": "stream",
     "text": [
      "\r"
     ]
    },
    {
     "name": "stderr",
     "output_type": "stream",
     "text": [
      "INFO  : Done. Found 0 pre-, 50 postsynaptic and 0 gap junction-connected neurons (pymaid)\n"
     ]
    }
   ],
   "source": [
    "target = pymaid.find_neurons(annotations = 'IPCs')\n",
    "hugin = pymaid.find_neurons(annotations = 'sens2-to-IPCs')\n",
    "\n",
    "def direct(skid,mot,t):#returns skids of the ou we know are output of the sens\n",
    "    cons = pymaid.get_partners([skid], directions=['outgoing'], threshold = t)\n",
    "    mots = mot.skeleton_id.tolist()\n",
    "    cons_m = [cons.loc[cons['skeleton_id']==n] for n in mots]\n",
    "    if cons_m:\n",
    "\n",
    "        direc = pd.concat(cons_m) \n",
    "        dirlist = direc['skeleton_id'].tolist()\n",
    "    else:\n",
    "        dirlist = []\n",
    "    return dirlist\n",
    " \n",
    "dir_lista = direct('13744425',target,2)"
   ]
  },
  {
   "cell_type": "code",
   "execution_count": 8,
   "metadata": {},
   "outputs": [
    {
     "data": {
      "text/plain": [
       "['3046503',\n",
       " '2283495',\n",
       " '10459723',\n",
       " '4453485',\n",
       " '2852273',\n",
       " '2357110',\n",
       " '10329208',\n",
       " '3561724']"
      ]
     },
     "execution_count": 8,
     "metadata": {},
     "output_type": "execute_result"
    }
   ],
   "source": [
    "dir_lista"
   ]
  },
  {
   "cell_type": "markdown",
   "metadata": {},
   "source": [
    "The next function **single_triple()** takes a skeleton id of a source neuron, a list of target neurons, a list of interneurons and a synaptic threshold.\n",
    "\n",
    "A list of all the triples present will be returned, where the neurons are given by their name."
   ]
  },
  {
   "cell_type": "code",
   "execution_count": 4,
   "metadata": {},
   "outputs": [
    {
     "name": "stderr",
     "output_type": "stream",
     "text": [
      "INFO  : Cached data used. Use `pymaid.clear_cache()` to clear. (pymaid)\n",
      "WARNING : Removing unexpected \"annotation:\" prefix. (pymaid)\n",
      "INFO  : Found 8 neurons with matching annotation(s) (pymaid)\n"
     ]
    },
    {
     "data": {
      "text/plain": [
       "[9716858, 13744425, 2340336, 15769680, 2284021, 40152, 2456826, 1414206]"
      ]
     },
     "execution_count": 4,
     "metadata": {},
     "output_type": "execute_result"
    }
   ],
   "source": [
    "pymaid.get_skids_by_annotation(\"annotation:sens2-to-IPCs\")"
   ]
  },
  {
   "cell_type": "code",
   "execution_count": 9,
   "metadata": {
    "scrolled": true
   },
   "outputs": [],
   "source": [
    "def single_triple (skid, mot, hug, t): #skid = skid of a source, mot,hug = already found neurons with an annotation given outside\n",
    "    triples = []\n",
    "    allnames = []\n",
    "    motids = direct(skid,mot,t)\n",
    "    hugids = direct(skid,hug,t)\n",
    "    for m in motids:\n",
    "        h_cons = pymaid.get_partners([m],directions=['incoming'], threshold = t)\n",
    "        cons_hop = [h_cons.loc[h_cons['skeleton_id']==n] for n in hugids]\n",
    "        if cons_hop:\n",
    "            n_hugs = pd.concat(cons_hop)\n",
    "            hops = n_hugs['skeleton_id'].tolist() #skids of hugins that go to the IPCs we want\n",
    "\n",
    "            mlist=[([skid,h,m]) for h in hops]\n",
    "            if len(mlist)!=0:\n",
    "                triples.append(mlist)\n",
    "    alist = list(itertools.chain.from_iterable(triples))\n",
    "    for el in alist:\n",
    "        if type(el) is list:\n",
    "            names = [pymaid.get_names(neuron)[neuron] for neuron in el]\n",
    "            allnames.append(names)\n",
    "        else:\n",
    "            allnames.append(pymaid.get_names(el)[el])\n",
    "    return allnames\n",
    "\n",
    "s_skid = '40152'\n",
    "# sin_triples = single_triple(s_skid,target,hugin,2)\n"
   ]
  },
  {
   "cell_type": "code",
   "execution_count": 6,
   "metadata": {},
   "outputs": [
    {
     "data": {
      "text/plain": [
       "[]"
      ]
     },
     "execution_count": 6,
     "metadata": {},
     "output_type": "execute_result"
    }
   ],
   "source": [
    "sin_triples"
   ]
  },
  {
   "cell_type": "markdown",
   "metadata": {},
   "source": [
    "Finally, the function **all_triples()** takes as input lists of source neurons, interneurons and target neurons, as well as a synaptic threshold and a csv file name where the output will be saved. This function makes use of the previous function to find all the triples present between the given neuron lists. It returns a list of all the triples and saves it in a csv file, where the neurons are given by names."
   ]
  },
  {
   "cell_type": "code",
   "execution_count": 7,
   "metadata": {},
   "outputs": [
    {
     "name": "stderr",
     "output_type": "stream",
     "text": [
      "INFO  : Cached data used. Use `pymaid.clear_cache()` to clear. (pymaid)\n",
      "INFO  : Found 8 neurons with matching annotation(s) (pymaid)\n"
     ]
    },
    {
     "data": {
      "application/vnd.jupyter.widget-view+json": {
       "model_id": "673acef7817e480fae27b111a52dc72b",
       "version_major": 2,
       "version_minor": 0
      },
      "text/html": [
       "<p>Failed to display Jupyter Widget of type <code>HBox</code>.</p>\n",
       "<p>\n",
       "  If you're reading this message in the Jupyter Notebook or JupyterLab Notebook, it may mean\n",
       "  that the widgets JavaScript is still loading. If this message persists, it\n",
       "  likely means that the widgets JavaScript library is either not installed or\n",
       "  not enabled. See the <a href=\"https://ipywidgets.readthedocs.io/en/stable/user_install.html\">Jupyter\n",
       "  Widgets Documentation</a> for setup instructions.\n",
       "</p>\n",
       "<p>\n",
       "  If you're reading this message in another frontend (for example, a static\n",
       "  rendering on GitHub or <a href=\"https://nbviewer.jupyter.org/\">NBViewer</a>),\n",
       "  it may mean that your frontend doesn't currently support widgets.\n",
       "</p>\n"
      ],
      "text/plain": [
       "HBox(children=(IntProgress(value=0, description='Fetch neurons', max=8, style=ProgressStyle(description_width='initial')), HTML(value='')))"
      ]
     },
     "metadata": {},
     "output_type": "display_data"
    },
    {
     "name": "stdout",
     "output_type": "stream",
     "text": [
      "\r"
     ]
    },
    {
     "data": {
      "application/vnd.jupyter.widget-view+json": {
       "model_id": "82335f56a36246a48151743b3825efb0",
       "version_major": 2,
       "version_minor": 0
      },
      "text/html": [
       "<p>Failed to display Jupyter Widget of type <code>HBox</code>.</p>\n",
       "<p>\n",
       "  If you're reading this message in the Jupyter Notebook or JupyterLab Notebook, it may mean\n",
       "  that the widgets JavaScript is still loading. If this message persists, it\n",
       "  likely means that the widgets JavaScript library is either not installed or\n",
       "  not enabled. See the <a href=\"https://ipywidgets.readthedocs.io/en/stable/user_install.html\">Jupyter\n",
       "  Widgets Documentation</a> for setup instructions.\n",
       "</p>\n",
       "<p>\n",
       "  If you're reading this message in another frontend (for example, a static\n",
       "  rendering on GitHub or <a href=\"https://nbviewer.jupyter.org/\">NBViewer</a>),\n",
       "  it may mean that your frontend doesn't currently support widgets.\n",
       "</p>\n"
      ],
      "text/plain": [
       "HBox(children=(IntProgress(value=0, description='Make nrn', max=8, style=ProgressStyle(description_width='initial')), HTML(value='')))"
      ]
     },
     "metadata": {},
     "output_type": "display_data"
    },
    {
     "name": "stdout",
     "output_type": "stream",
     "text": [
      "\r"
     ]
    },
    {
     "data": {
      "text/html": [
       "<div>\n",
       "<style scoped>\n",
       "    .dataframe tbody tr th:only-of-type {\n",
       "        vertical-align: middle;\n",
       "    }\n",
       "\n",
       "    .dataframe tbody tr th {\n",
       "        vertical-align: top;\n",
       "    }\n",
       "\n",
       "    .dataframe thead th {\n",
       "        text-align: right;\n",
       "    }\n",
       "</style>\n",
       "<table border=\"1\" class=\"dataframe\">\n",
       "  <thead>\n",
       "    <tr style=\"text-align: right;\">\n",
       "      <th></th>\n",
       "      <th>neuron_name</th>\n",
       "      <th>skeleton_id</th>\n",
       "      <th>n_nodes</th>\n",
       "      <th>n_connectors</th>\n",
       "      <th>n_branch_nodes</th>\n",
       "      <th>n_end_nodes</th>\n",
       "      <th>open_ends</th>\n",
       "      <th>cable_length</th>\n",
       "      <th>review_status</th>\n",
       "      <th>soma</th>\n",
       "    </tr>\n",
       "  </thead>\n",
       "  <tbody>\n",
       "    <tr>\n",
       "      <th>0</th>\n",
       "      <td>SE0 R1</td>\n",
       "      <td>887905</td>\n",
       "      <td>1465</td>\n",
       "      <td>102</td>\n",
       "      <td>49</td>\n",
       "      <td>54</td>\n",
       "      <td>2</td>\n",
       "      <td>162.055439</td>\n",
       "      <td>NA</td>\n",
       "      <td>False</td>\n",
       "    </tr>\n",
       "    <tr>\n",
       "      <th>1</th>\n",
       "      <td>SE0 L1</td>\n",
       "      <td>15995012</td>\n",
       "      <td>1698</td>\n",
       "      <td>147</td>\n",
       "      <td>69</td>\n",
       "      <td>72</td>\n",
       "      <td>2</td>\n",
       "      <td>211.953678</td>\n",
       "      <td>NA</td>\n",
       "      <td>True</td>\n",
       "    </tr>\n",
       "    <tr>\n",
       "      <th>2</th>\n",
       "      <td>SE0 L3</td>\n",
       "      <td>15769638</td>\n",
       "      <td>1826</td>\n",
       "      <td>123</td>\n",
       "      <td>74</td>\n",
       "      <td>76</td>\n",
       "      <td>5</td>\n",
       "      <td>200.663689</td>\n",
       "      <td>NA</td>\n",
       "      <td>True</td>\n",
       "    </tr>\n",
       "    <tr>\n",
       "      <th>3</th>\n",
       "      <td>SE0 L4</td>\n",
       "      <td>15995309</td>\n",
       "      <td>2301</td>\n",
       "      <td>156</td>\n",
       "      <td>76</td>\n",
       "      <td>79</td>\n",
       "      <td>0</td>\n",
       "      <td>314.736108</td>\n",
       "      <td>NA</td>\n",
       "      <td>True</td>\n",
       "    </tr>\n",
       "    <tr>\n",
       "      <th>4</th>\n",
       "      <td>SE0 L2</td>\n",
       "      <td>15983118</td>\n",
       "      <td>1956</td>\n",
       "      <td>154</td>\n",
       "      <td>100</td>\n",
       "      <td>107</td>\n",
       "      <td>1</td>\n",
       "      <td>220.225443</td>\n",
       "      <td>NA</td>\n",
       "      <td>True</td>\n",
       "    </tr>\n",
       "    <tr>\n",
       "      <th>5</th>\n",
       "      <td>SE0 R2</td>\n",
       "      <td>896562</td>\n",
       "      <td>1818</td>\n",
       "      <td>134</td>\n",
       "      <td>70</td>\n",
       "      <td>76</td>\n",
       "      <td>3</td>\n",
       "      <td>192.510690</td>\n",
       "      <td>NA</td>\n",
       "      <td>True</td>\n",
       "    </tr>\n",
       "    <tr>\n",
       "      <th>6</th>\n",
       "      <td>SE0 R4</td>\n",
       "      <td>15573428</td>\n",
       "      <td>2305</td>\n",
       "      <td>153</td>\n",
       "      <td>78</td>\n",
       "      <td>86</td>\n",
       "      <td>0</td>\n",
       "      <td>298.265801</td>\n",
       "      <td>NA</td>\n",
       "      <td>True</td>\n",
       "    </tr>\n",
       "    <tr>\n",
       "      <th>7</th>\n",
       "      <td>SE0 R3</td>\n",
       "      <td>15564695</td>\n",
       "      <td>1497</td>\n",
       "      <td>117</td>\n",
       "      <td>52</td>\n",
       "      <td>54</td>\n",
       "      <td>2</td>\n",
       "      <td>186.605950</td>\n",
       "      <td>NA</td>\n",
       "      <td>True</td>\n",
       "    </tr>\n",
       "  </tbody>\n",
       "</table>\n",
       "</div>"
      ],
      "text/plain": [
       "<class 'pymaid.core.CatmaidNeuronList'> of 8 neurons \n",
       "   neuron_name skeleton_id  n_nodes  n_connectors  n_branch_nodes  n_end_nodes  \\\n",
       "0      SE0 R1      887905     1465           102              49           54   \n",
       "1      SE0 L1    15995012     1698           147              69           72   \n",
       "2      SE0 L3    15769638     1826           123              74           76   \n",
       "3      SE0 L4    15995309     2301           156              76           79   \n",
       "4      SE0 L2    15983118     1956           154             100          107   \n",
       "5      SE0 R2      896562     1818           134              70           76   \n",
       "6      SE0 R4    15573428     2305           153              78           86   \n",
       "7      SE0 R3    15564695     1497           117              52           54   \n",
       "\n",
       "   open_ends  cable_length review_status   soma  \n",
       "0          2    162.055439            NA  False  \n",
       "1          2    211.953678            NA   True  \n",
       "2          5    200.663689            NA   True  \n",
       "3          0    314.736108            NA   True  \n",
       "4          1    220.225443            NA   True  \n",
       "5          3    192.510690            NA   True  \n",
       "6          0    298.265801            NA   True  \n",
       "7          2    186.605950            NA   True  "
      ]
     },
     "execution_count": 7,
     "metadata": {},
     "output_type": "execute_result"
    }
   ],
   "source": [
    "p = pymaid.get_neurons('annotation: SE0 LR')\n",
    "p"
   ]
  },
  {
   "cell_type": "code",
   "execution_count": 8,
   "metadata": {
    "scrolled": true
   },
   "outputs": [
    {
     "name": "stderr",
     "output_type": "stream",
     "text": [
      "INFO  : Fetching connectivity table for 8 neurons (pymaid)\n",
      "INFO  : Done. Found 127 pre-, 0 postsynaptic and 0 gap junction-connected neurons (pymaid)\n"
     ]
    },
    {
     "data": {
      "text/html": [
       "<div>\n",
       "<style scoped>\n",
       "    .dataframe tbody tr th:only-of-type {\n",
       "        vertical-align: middle;\n",
       "    }\n",
       "\n",
       "    .dataframe tbody tr th {\n",
       "        vertical-align: top;\n",
       "    }\n",
       "\n",
       "    .dataframe thead th {\n",
       "        text-align: right;\n",
       "    }\n",
       "</style>\n",
       "<table border=\"1\" class=\"dataframe\">\n",
       "  <thead>\n",
       "    <tr style=\"text-align: right;\">\n",
       "      <th></th>\n",
       "      <th>neuron_name</th>\n",
       "      <th>skeleton_id</th>\n",
       "      <th>num_nodes</th>\n",
       "      <th>relation</th>\n",
       "      <th>887905</th>\n",
       "      <th>15995012</th>\n",
       "      <th>15769638</th>\n",
       "      <th>15995309</th>\n",
       "      <th>15983118</th>\n",
       "      <th>896562</th>\n",
       "      <th>15573428</th>\n",
       "      <th>15564695</th>\n",
       "      <th>total</th>\n",
       "    </tr>\n",
       "  </thead>\n",
       "  <tbody>\n",
       "    <tr>\n",
       "      <th>0</th>\n",
       "      <td>SEZ-IN-A05-right - paired with #6885133</td>\n",
       "      <td>18354200</td>\n",
       "      <td>3581</td>\n",
       "      <td>upstream</td>\n",
       "      <td>0</td>\n",
       "      <td>16</td>\n",
       "      <td>17</td>\n",
       "      <td>1</td>\n",
       "      <td>6</td>\n",
       "      <td>0</td>\n",
       "      <td>0</td>\n",
       "      <td>0</td>\n",
       "      <td>40.0</td>\n",
       "    </tr>\n",
       "    <tr>\n",
       "      <th>1</th>\n",
       "      <td>SEZ-IN-08-right</td>\n",
       "      <td>14035921</td>\n",
       "      <td>4314</td>\n",
       "      <td>upstream</td>\n",
       "      <td>7</td>\n",
       "      <td>0</td>\n",
       "      <td>0</td>\n",
       "      <td>0</td>\n",
       "      <td>0</td>\n",
       "      <td>14</td>\n",
       "      <td>7</td>\n",
       "      <td>10</td>\n",
       "      <td>38.0</td>\n",
       "    </tr>\n",
       "    <tr>\n",
       "      <th>2</th>\n",
       "      <td>Pre PMN R right</td>\n",
       "      <td>3436420</td>\n",
       "      <td>5682</td>\n",
       "      <td>upstream</td>\n",
       "      <td>0</td>\n",
       "      <td>12</td>\n",
       "      <td>11</td>\n",
       "      <td>0</td>\n",
       "      <td>11</td>\n",
       "      <td>0</td>\n",
       "      <td>0</td>\n",
       "      <td>0</td>\n",
       "      <td>34.0</td>\n",
       "    </tr>\n",
       "    <tr>\n",
       "      <th>3</th>\n",
       "      <td>SEZ-X-left</td>\n",
       "      <td>3477008</td>\n",
       "      <td>3568</td>\n",
       "      <td>upstream</td>\n",
       "      <td>0</td>\n",
       "      <td>4</td>\n",
       "      <td>9</td>\n",
       "      <td>1</td>\n",
       "      <td>19</td>\n",
       "      <td>0</td>\n",
       "      <td>0</td>\n",
       "      <td>0</td>\n",
       "      <td>33.0</td>\n",
       "    </tr>\n",
       "    <tr>\n",
       "      <th>4</th>\n",
       "      <td>AN-R-Sens-B1-AVa-16</td>\n",
       "      <td>6883831</td>\n",
       "      <td>899</td>\n",
       "      <td>upstream</td>\n",
       "      <td>13</td>\n",
       "      <td>0</td>\n",
       "      <td>0</td>\n",
       "      <td>0</td>\n",
       "      <td>0</td>\n",
       "      <td>11</td>\n",
       "      <td>0</td>\n",
       "      <td>6</td>\n",
       "      <td>30.0</td>\n",
       "    </tr>\n",
       "    <tr>\n",
       "      <th>5</th>\n",
       "      <td>SEZ-IN-03-left</td>\n",
       "      <td>18371412</td>\n",
       "      <td>3522</td>\n",
       "      <td>upstream</td>\n",
       "      <td>0</td>\n",
       "      <td>6</td>\n",
       "      <td>16</td>\n",
       "      <td>0</td>\n",
       "      <td>5</td>\n",
       "      <td>0</td>\n",
       "      <td>1</td>\n",
       "      <td>0</td>\n",
       "      <td>28.0</td>\n",
       "    </tr>\n",
       "    <tr>\n",
       "      <th>6</th>\n",
       "      <td>AN-R-Sens-B1-AVa-15</td>\n",
       "      <td>15574328</td>\n",
       "      <td>888</td>\n",
       "      <td>upstream</td>\n",
       "      <td>8</td>\n",
       "      <td>0</td>\n",
       "      <td>0</td>\n",
       "      <td>0</td>\n",
       "      <td>0</td>\n",
       "      <td>3</td>\n",
       "      <td>0</td>\n",
       "      <td>16</td>\n",
       "      <td>27.0</td>\n",
       "    </tr>\n",
       "    <tr>\n",
       "      <th>7</th>\n",
       "      <td>SEZ-IN-A05-left - paired with #18354200</td>\n",
       "      <td>6885133</td>\n",
       "      <td>3244</td>\n",
       "      <td>upstream</td>\n",
       "      <td>8</td>\n",
       "      <td>0</td>\n",
       "      <td>0</td>\n",
       "      <td>0</td>\n",
       "      <td>0</td>\n",
       "      <td>11</td>\n",
       "      <td>0</td>\n",
       "      <td>7</td>\n",
       "      <td>26.0</td>\n",
       "    </tr>\n",
       "    <tr>\n",
       "      <th>8</th>\n",
       "      <td>AN-L-Sens-B1-AVa-17</td>\n",
       "      <td>1375101</td>\n",
       "      <td>746</td>\n",
       "      <td>upstream</td>\n",
       "      <td>0</td>\n",
       "      <td>10</td>\n",
       "      <td>6</td>\n",
       "      <td>0</td>\n",
       "      <td>10</td>\n",
       "      <td>0</td>\n",
       "      <td>0</td>\n",
       "      <td>0</td>\n",
       "      <td>26.0</td>\n",
       "    </tr>\n",
       "    <tr>\n",
       "      <th>9</th>\n",
       "      <td>Pre PMN L</td>\n",
       "      <td>6445994</td>\n",
       "      <td>6206</td>\n",
       "      <td>upstream</td>\n",
       "      <td>5</td>\n",
       "      <td>0</td>\n",
       "      <td>0</td>\n",
       "      <td>0</td>\n",
       "      <td>0</td>\n",
       "      <td>12</td>\n",
       "      <td>1</td>\n",
       "      <td>7</td>\n",
       "      <td>25.0</td>\n",
       "    </tr>\n",
       "    <tr>\n",
       "      <th>10</th>\n",
       "      <td>AX ; SEZ-IN-A03-left</td>\n",
       "      <td>255222</td>\n",
       "      <td>4434</td>\n",
       "      <td>upstream</td>\n",
       "      <td>4</td>\n",
       "      <td>6</td>\n",
       "      <td>5</td>\n",
       "      <td>2</td>\n",
       "      <td>6</td>\n",
       "      <td>2</td>\n",
       "      <td>0</td>\n",
       "      <td>0</td>\n",
       "      <td>25.0</td>\n",
       "    </tr>\n",
       "    <tr>\n",
       "      <th>11</th>\n",
       "      <td>AX ; SEZ-IN-A03-right</td>\n",
       "      <td>17718177</td>\n",
       "      <td>3520</td>\n",
       "      <td>upstream</td>\n",
       "      <td>7</td>\n",
       "      <td>2</td>\n",
       "      <td>0</td>\n",
       "      <td>1</td>\n",
       "      <td>2</td>\n",
       "      <td>3</td>\n",
       "      <td>8</td>\n",
       "      <td>1</td>\n",
       "      <td>24.0</td>\n",
       "    </tr>\n",
       "    <tr>\n",
       "      <th>12</th>\n",
       "      <td>SEZ-X-right</td>\n",
       "      <td>1575789</td>\n",
       "      <td>3905</td>\n",
       "      <td>upstream</td>\n",
       "      <td>4</td>\n",
       "      <td>0</td>\n",
       "      <td>0</td>\n",
       "      <td>1</td>\n",
       "      <td>0</td>\n",
       "      <td>8</td>\n",
       "      <td>1</td>\n",
       "      <td>9</td>\n",
       "      <td>23.0</td>\n",
       "    </tr>\n",
       "    <tr>\n",
       "      <th>13</th>\n",
       "      <td>MN-L-Sens-B2-AVp-01</td>\n",
       "      <td>9808022</td>\n",
       "      <td>1103</td>\n",
       "      <td>upstream</td>\n",
       "      <td>0</td>\n",
       "      <td>2</td>\n",
       "      <td>11</td>\n",
       "      <td>4</td>\n",
       "      <td>4</td>\n",
       "      <td>0</td>\n",
       "      <td>0</td>\n",
       "      <td>0</td>\n",
       "      <td>21.0</td>\n",
       "    </tr>\n",
       "    <tr>\n",
       "      <th>14</th>\n",
       "      <td>AN-L-Sens-B1-AVa-16</td>\n",
       "      <td>1414206</td>\n",
       "      <td>693</td>\n",
       "      <td>upstream</td>\n",
       "      <td>0</td>\n",
       "      <td>8</td>\n",
       "      <td>6</td>\n",
       "      <td>0</td>\n",
       "      <td>6</td>\n",
       "      <td>0</td>\n",
       "      <td>0</td>\n",
       "      <td>0</td>\n",
       "      <td>20.0</td>\n",
       "    </tr>\n",
       "    <tr>\n",
       "      <th>15</th>\n",
       "      <td>SEZ-IN-10-left</td>\n",
       "      <td>616176</td>\n",
       "      <td>4386</td>\n",
       "      <td>upstream</td>\n",
       "      <td>0</td>\n",
       "      <td>5</td>\n",
       "      <td>3</td>\n",
       "      <td>0</td>\n",
       "      <td>7</td>\n",
       "      <td>4</td>\n",
       "      <td>0</td>\n",
       "      <td>0</td>\n",
       "      <td>19.0</td>\n",
       "    </tr>\n",
       "    <tr>\n",
       "      <th>16</th>\n",
       "      <td>SEZ-IN-06-right</td>\n",
       "      <td>17219367</td>\n",
       "      <td>3131</td>\n",
       "      <td>upstream</td>\n",
       "      <td>0</td>\n",
       "      <td>4</td>\n",
       "      <td>8</td>\n",
       "      <td>2</td>\n",
       "      <td>2</td>\n",
       "      <td>0</td>\n",
       "      <td>0</td>\n",
       "      <td>0</td>\n",
       "      <td>16.0</td>\n",
       "    </tr>\n",
       "    <tr>\n",
       "      <th>17</th>\n",
       "      <td>BAmas12 midline 3 left</td>\n",
       "      <td>18440675</td>\n",
       "      <td>2974</td>\n",
       "      <td>upstream</td>\n",
       "      <td>0</td>\n",
       "      <td>4</td>\n",
       "      <td>0</td>\n",
       "      <td>0</td>\n",
       "      <td>12</td>\n",
       "      <td>0</td>\n",
       "      <td>0</td>\n",
       "      <td>0</td>\n",
       "      <td>16.0</td>\n",
       "    </tr>\n",
       "    <tr>\n",
       "      <th>18</th>\n",
       "      <td>AN-R-Sens-B1-AVa-24</td>\n",
       "      <td>15564706</td>\n",
       "      <td>1151</td>\n",
       "      <td>upstream</td>\n",
       "      <td>3</td>\n",
       "      <td>0</td>\n",
       "      <td>0</td>\n",
       "      <td>0</td>\n",
       "      <td>0</td>\n",
       "      <td>1</td>\n",
       "      <td>3</td>\n",
       "      <td>6</td>\n",
       "      <td>13.0</td>\n",
       "    </tr>\n",
       "    <tr>\n",
       "      <th>19</th>\n",
       "      <td>SEZ-IN-A04-right</td>\n",
       "      <td>3454765</td>\n",
       "      <td>3748</td>\n",
       "      <td>upstream</td>\n",
       "      <td>0</td>\n",
       "      <td>7</td>\n",
       "      <td>3</td>\n",
       "      <td>0</td>\n",
       "      <td>3</td>\n",
       "      <td>0</td>\n",
       "      <td>0</td>\n",
       "      <td>0</td>\n",
       "      <td>13.0</td>\n",
       "    </tr>\n",
       "    <tr>\n",
       "      <th>20</th>\n",
       "      <td>Dopey_left</td>\n",
       "      <td>8438283</td>\n",
       "      <td>4180</td>\n",
       "      <td>upstream</td>\n",
       "      <td>0</td>\n",
       "      <td>1</td>\n",
       "      <td>0</td>\n",
       "      <td>11</td>\n",
       "      <td>0</td>\n",
       "      <td>0</td>\n",
       "      <td>0</td>\n",
       "      <td>0</td>\n",
       "      <td>12.0</td>\n",
       "    </tr>\n",
       "    <tr>\n",
       "      <th>21</th>\n",
       "      <td>MN-R-Sens-B3-AVp-03</td>\n",
       "      <td>15640425</td>\n",
       "      <td>1719</td>\n",
       "      <td>upstream</td>\n",
       "      <td>0</td>\n",
       "      <td>0</td>\n",
       "      <td>0</td>\n",
       "      <td>0</td>\n",
       "      <td>0</td>\n",
       "      <td>0</td>\n",
       "      <td>11</td>\n",
       "      <td>0</td>\n",
       "      <td>11.0</td>\n",
       "    </tr>\n",
       "    <tr>\n",
       "      <th>22</th>\n",
       "      <td>SEZ-IN-A04-left</td>\n",
       "      <td>18329062</td>\n",
       "      <td>4108</td>\n",
       "      <td>upstream</td>\n",
       "      <td>6</td>\n",
       "      <td>0</td>\n",
       "      <td>0</td>\n",
       "      <td>0</td>\n",
       "      <td>0</td>\n",
       "      <td>3</td>\n",
       "      <td>0</td>\n",
       "      <td>1</td>\n",
       "      <td>10.0</td>\n",
       "    </tr>\n",
       "    <tr>\n",
       "      <th>23</th>\n",
       "      <td>SEZ-IN-05-right</td>\n",
       "      <td>18347336</td>\n",
       "      <td>1517</td>\n",
       "      <td>upstream</td>\n",
       "      <td>1</td>\n",
       "      <td>0</td>\n",
       "      <td>0</td>\n",
       "      <td>0</td>\n",
       "      <td>0</td>\n",
       "      <td>2</td>\n",
       "      <td>2</td>\n",
       "      <td>5</td>\n",
       "      <td>10.0</td>\n",
       "    </tr>\n",
       "    <tr>\n",
       "      <th>24</th>\n",
       "      <td>SEZ-IN-A07-left</td>\n",
       "      <td>17220054</td>\n",
       "      <td>2855</td>\n",
       "      <td>upstream</td>\n",
       "      <td>0</td>\n",
       "      <td>0</td>\n",
       "      <td>2</td>\n",
       "      <td>4</td>\n",
       "      <td>0</td>\n",
       "      <td>0</td>\n",
       "      <td>3</td>\n",
       "      <td>1</td>\n",
       "      <td>10.0</td>\n",
       "    </tr>\n",
       "    <tr>\n",
       "      <th>25</th>\n",
       "      <td>AN-L-Sens-B1-AVa-21</td>\n",
       "      <td>1435466</td>\n",
       "      <td>848</td>\n",
       "      <td>upstream</td>\n",
       "      <td>0</td>\n",
       "      <td>2</td>\n",
       "      <td>0</td>\n",
       "      <td>2</td>\n",
       "      <td>6</td>\n",
       "      <td>0</td>\n",
       "      <td>0</td>\n",
       "      <td>0</td>\n",
       "      <td>10.0</td>\n",
       "    </tr>\n",
       "    <tr>\n",
       "      <th>26</th>\n",
       "      <td>AN-L-Sens-B2-AVp-03</td>\n",
       "      <td>15996160</td>\n",
       "      <td>1250</td>\n",
       "      <td>upstream</td>\n",
       "      <td>0</td>\n",
       "      <td>0</td>\n",
       "      <td>0</td>\n",
       "      <td>10</td>\n",
       "      <td>0</td>\n",
       "      <td>0</td>\n",
       "      <td>0</td>\n",
       "      <td>0</td>\n",
       "      <td>10.0</td>\n",
       "    </tr>\n",
       "    <tr>\n",
       "      <th>27</th>\n",
       "      <td>SEZ-IN-11-right</td>\n",
       "      <td>16744167</td>\n",
       "      <td>2299</td>\n",
       "      <td>upstream</td>\n",
       "      <td>0</td>\n",
       "      <td>0</td>\n",
       "      <td>0</td>\n",
       "      <td>10</td>\n",
       "      <td>0</td>\n",
       "      <td>0</td>\n",
       "      <td>0</td>\n",
       "      <td>0</td>\n",
       "      <td>10.0</td>\n",
       "    </tr>\n",
       "    <tr>\n",
       "      <th>28</th>\n",
       "      <td>AN-R-Sens-B2-AVp-02</td>\n",
       "      <td>15533421</td>\n",
       "      <td>1418</td>\n",
       "      <td>upstream</td>\n",
       "      <td>0</td>\n",
       "      <td>0</td>\n",
       "      <td>0</td>\n",
       "      <td>0</td>\n",
       "      <td>0</td>\n",
       "      <td>0</td>\n",
       "      <td>9</td>\n",
       "      <td>0</td>\n",
       "      <td>9.0</td>\n",
       "    </tr>\n",
       "    <tr>\n",
       "      <th>29</th>\n",
       "      <td>MN-L-Sens-B3-AVp-01</td>\n",
       "      <td>15724385</td>\n",
       "      <td>1687</td>\n",
       "      <td>upstream</td>\n",
       "      <td>0</td>\n",
       "      <td>0</td>\n",
       "      <td>0</td>\n",
       "      <td>9</td>\n",
       "      <td>0</td>\n",
       "      <td>0</td>\n",
       "      <td>0</td>\n",
       "      <td>0</td>\n",
       "      <td>9.0</td>\n",
       "    </tr>\n",
       "    <tr>\n",
       "      <th>...</th>\n",
       "      <td>...</td>\n",
       "      <td>...</td>\n",
       "      <td>...</td>\n",
       "      <td>...</td>\n",
       "      <td>...</td>\n",
       "      <td>...</td>\n",
       "      <td>...</td>\n",
       "      <td>...</td>\n",
       "      <td>...</td>\n",
       "      <td>...</td>\n",
       "      <td>...</td>\n",
       "      <td>...</td>\n",
       "      <td>...</td>\n",
       "    </tr>\n",
       "    <tr>\n",
       "      <th>97</th>\n",
       "      <td>AN-R-Sens-B1-AVa-34</td>\n",
       "      <td>15574941</td>\n",
       "      <td>1500</td>\n",
       "      <td>upstream</td>\n",
       "      <td>1</td>\n",
       "      <td>0</td>\n",
       "      <td>0</td>\n",
       "      <td>0</td>\n",
       "      <td>0</td>\n",
       "      <td>0</td>\n",
       "      <td>0</td>\n",
       "      <td>1</td>\n",
       "      <td>2.0</td>\n",
       "    </tr>\n",
       "    <tr>\n",
       "      <th>98</th>\n",
       "      <td>hugin-PC right 4</td>\n",
       "      <td>13581830</td>\n",
       "      <td>2294</td>\n",
       "      <td>upstream</td>\n",
       "      <td>1</td>\n",
       "      <td>0</td>\n",
       "      <td>0</td>\n",
       "      <td>0</td>\n",
       "      <td>0</td>\n",
       "      <td>1</td>\n",
       "      <td>0</td>\n",
       "      <td>0</td>\n",
       "      <td>2.0</td>\n",
       "    </tr>\n",
       "    <tr>\n",
       "      <th>99</th>\n",
       "      <td>SEZ-IN-16-right</td>\n",
       "      <td>11941273</td>\n",
       "      <td>2430</td>\n",
       "      <td>upstream</td>\n",
       "      <td>1</td>\n",
       "      <td>0</td>\n",
       "      <td>0</td>\n",
       "      <td>0</td>\n",
       "      <td>0</td>\n",
       "      <td>0</td>\n",
       "      <td>1</td>\n",
       "      <td>0</td>\n",
       "      <td>2.0</td>\n",
       "    </tr>\n",
       "    <tr>\n",
       "      <th>100</th>\n",
       "      <td>AN-R-Sens-B1-AVa-19</td>\n",
       "      <td>9716858</td>\n",
       "      <td>768</td>\n",
       "      <td>upstream</td>\n",
       "      <td>0</td>\n",
       "      <td>0</td>\n",
       "      <td>0</td>\n",
       "      <td>0</td>\n",
       "      <td>0</td>\n",
       "      <td>1</td>\n",
       "      <td>0</td>\n",
       "      <td>1</td>\n",
       "      <td>2.0</td>\n",
       "    </tr>\n",
       "    <tr>\n",
       "      <th>101</th>\n",
       "      <td>Moggy_right</td>\n",
       "      <td>9748981</td>\n",
       "      <td>4983</td>\n",
       "      <td>upstream</td>\n",
       "      <td>0</td>\n",
       "      <td>0</td>\n",
       "      <td>0</td>\n",
       "      <td>0</td>\n",
       "      <td>0</td>\n",
       "      <td>2</td>\n",
       "      <td>0</td>\n",
       "      <td>0</td>\n",
       "      <td>2.0</td>\n",
       "    </tr>\n",
       "    <tr>\n",
       "      <th>102</th>\n",
       "      <td>AN-R-Sens-B1-ACa-10</td>\n",
       "      <td>15548694</td>\n",
       "      <td>1179</td>\n",
       "      <td>upstream</td>\n",
       "      <td>0</td>\n",
       "      <td>0</td>\n",
       "      <td>0</td>\n",
       "      <td>0</td>\n",
       "      <td>0</td>\n",
       "      <td>2</td>\n",
       "      <td>0</td>\n",
       "      <td>0</td>\n",
       "      <td>2.0</td>\n",
       "    </tr>\n",
       "    <tr>\n",
       "      <th>103</th>\n",
       "      <td>AN-R-Sens-B1-ACa-05</td>\n",
       "      <td>15563553</td>\n",
       "      <td>999</td>\n",
       "      <td>upstream</td>\n",
       "      <td>0</td>\n",
       "      <td>0</td>\n",
       "      <td>0</td>\n",
       "      <td>0</td>\n",
       "      <td>0</td>\n",
       "      <td>2</td>\n",
       "      <td>0</td>\n",
       "      <td>0</td>\n",
       "      <td>2.0</td>\n",
       "    </tr>\n",
       "    <tr>\n",
       "      <th>104</th>\n",
       "      <td>AN-R-Sens-B1-ACa-08</td>\n",
       "      <td>15574231</td>\n",
       "      <td>1013</td>\n",
       "      <td>upstream</td>\n",
       "      <td>0</td>\n",
       "      <td>0</td>\n",
       "      <td>0</td>\n",
       "      <td>0</td>\n",
       "      <td>0</td>\n",
       "      <td>2</td>\n",
       "      <td>0</td>\n",
       "      <td>0</td>\n",
       "      <td>2.0</td>\n",
       "    </tr>\n",
       "    <tr>\n",
       "      <th>105</th>\n",
       "      <td>AN-R-Sens-B1-AVa-18</td>\n",
       "      <td>9748269</td>\n",
       "      <td>695</td>\n",
       "      <td>upstream</td>\n",
       "      <td>0</td>\n",
       "      <td>0</td>\n",
       "      <td>0</td>\n",
       "      <td>0</td>\n",
       "      <td>0</td>\n",
       "      <td>0</td>\n",
       "      <td>0</td>\n",
       "      <td>2</td>\n",
       "      <td>2.0</td>\n",
       "    </tr>\n",
       "    <tr>\n",
       "      <th>106</th>\n",
       "      <td>KS LN 1 right</td>\n",
       "      <td>9712223</td>\n",
       "      <td>4671</td>\n",
       "      <td>upstream</td>\n",
       "      <td>0</td>\n",
       "      <td>0</td>\n",
       "      <td>0</td>\n",
       "      <td>0</td>\n",
       "      <td>0</td>\n",
       "      <td>0</td>\n",
       "      <td>0</td>\n",
       "      <td>2</td>\n",
       "      <td>2.0</td>\n",
       "    </tr>\n",
       "    <tr>\n",
       "      <th>107</th>\n",
       "      <td>Y Neuron-right</td>\n",
       "      <td>11637858</td>\n",
       "      <td>2070</td>\n",
       "      <td>upstream</td>\n",
       "      <td>0</td>\n",
       "      <td>0</td>\n",
       "      <td>0</td>\n",
       "      <td>0</td>\n",
       "      <td>0</td>\n",
       "      <td>0</td>\n",
       "      <td>0</td>\n",
       "      <td>2</td>\n",
       "      <td>2.0</td>\n",
       "    </tr>\n",
       "    <tr>\n",
       "      <th>108</th>\n",
       "      <td>Spiral_left</td>\n",
       "      <td>11642944</td>\n",
       "      <td>4145</td>\n",
       "      <td>upstream</td>\n",
       "      <td>0</td>\n",
       "      <td>0</td>\n",
       "      <td>0</td>\n",
       "      <td>0</td>\n",
       "      <td>0</td>\n",
       "      <td>0</td>\n",
       "      <td>1</td>\n",
       "      <td>1</td>\n",
       "      <td>2.0</td>\n",
       "    </tr>\n",
       "    <tr>\n",
       "      <th>109</th>\n",
       "      <td>AN-R-Sens-B1-AVa-38</td>\n",
       "      <td>15574508</td>\n",
       "      <td>1270</td>\n",
       "      <td>upstream</td>\n",
       "      <td>0</td>\n",
       "      <td>0</td>\n",
       "      <td>0</td>\n",
       "      <td>0</td>\n",
       "      <td>0</td>\n",
       "      <td>0</td>\n",
       "      <td>2</td>\n",
       "      <td>0</td>\n",
       "      <td>2.0</td>\n",
       "    </tr>\n",
       "    <tr>\n",
       "      <th>110</th>\n",
       "      <td>SEZ-IN-12-left</td>\n",
       "      <td>14930784</td>\n",
       "      <td>2023</td>\n",
       "      <td>upstream</td>\n",
       "      <td>0</td>\n",
       "      <td>0</td>\n",
       "      <td>0</td>\n",
       "      <td>0</td>\n",
       "      <td>0</td>\n",
       "      <td>0</td>\n",
       "      <td>2</td>\n",
       "      <td>0</td>\n",
       "      <td>2.0</td>\n",
       "    </tr>\n",
       "    <tr>\n",
       "      <th>111</th>\n",
       "      <td>SEZ-IN-A06-right</td>\n",
       "      <td>3356289</td>\n",
       "      <td>3002</td>\n",
       "      <td>upstream</td>\n",
       "      <td>0</td>\n",
       "      <td>0</td>\n",
       "      <td>0</td>\n",
       "      <td>0</td>\n",
       "      <td>0</td>\n",
       "      <td>0</td>\n",
       "      <td>2</td>\n",
       "      <td>0</td>\n",
       "      <td>2.0</td>\n",
       "    </tr>\n",
       "    <tr>\n",
       "      <th>112</th>\n",
       "      <td>SEZ-IN-30-left</td>\n",
       "      <td>16437548</td>\n",
       "      <td>1164</td>\n",
       "      <td>upstream</td>\n",
       "      <td>0</td>\n",
       "      <td>0</td>\n",
       "      <td>0</td>\n",
       "      <td>1</td>\n",
       "      <td>0</td>\n",
       "      <td>0</td>\n",
       "      <td>1</td>\n",
       "      <td>0</td>\n",
       "      <td>2.0</td>\n",
       "    </tr>\n",
       "    <tr>\n",
       "      <th>113</th>\n",
       "      <td>hugin-PC left 4</td>\n",
       "      <td>9813902</td>\n",
       "      <td>2432</td>\n",
       "      <td>upstream</td>\n",
       "      <td>0</td>\n",
       "      <td>0</td>\n",
       "      <td>1</td>\n",
       "      <td>1</td>\n",
       "      <td>0</td>\n",
       "      <td>0</td>\n",
       "      <td>0</td>\n",
       "      <td>0</td>\n",
       "      <td>2.0</td>\n",
       "    </tr>\n",
       "    <tr>\n",
       "      <th>114</th>\n",
       "      <td>Moggy_left</td>\n",
       "      <td>7136254</td>\n",
       "      <td>5204</td>\n",
       "      <td>upstream</td>\n",
       "      <td>0</td>\n",
       "      <td>0</td>\n",
       "      <td>1</td>\n",
       "      <td>0</td>\n",
       "      <td>1</td>\n",
       "      <td>0</td>\n",
       "      <td>0</td>\n",
       "      <td>0</td>\n",
       "      <td>2.0</td>\n",
       "    </tr>\n",
       "    <tr>\n",
       "      <th>115</th>\n",
       "      <td>AN-L-Sens-B1-AVa-26</td>\n",
       "      <td>1415168</td>\n",
       "      <td>785</td>\n",
       "      <td>upstream</td>\n",
       "      <td>0</td>\n",
       "      <td>0</td>\n",
       "      <td>1</td>\n",
       "      <td>0</td>\n",
       "      <td>1</td>\n",
       "      <td>0</td>\n",
       "      <td>0</td>\n",
       "      <td>0</td>\n",
       "      <td>2.0</td>\n",
       "    </tr>\n",
       "    <tr>\n",
       "      <th>116</th>\n",
       "      <td>SEZ local interneuron</td>\n",
       "      <td>2815572</td>\n",
       "      <td>5137</td>\n",
       "      <td>upstream</td>\n",
       "      <td>0</td>\n",
       "      <td>0</td>\n",
       "      <td>1</td>\n",
       "      <td>1</td>\n",
       "      <td>0</td>\n",
       "      <td>0</td>\n",
       "      <td>0</td>\n",
       "      <td>0</td>\n",
       "      <td>2.0</td>\n",
       "    </tr>\n",
       "    <tr>\n",
       "      <th>117</th>\n",
       "      <td>AN-L-Sens-B1-ACa-07</td>\n",
       "      <td>1377586</td>\n",
       "      <td>627</td>\n",
       "      <td>upstream</td>\n",
       "      <td>0</td>\n",
       "      <td>0</td>\n",
       "      <td>0</td>\n",
       "      <td>0</td>\n",
       "      <td>2</td>\n",
       "      <td>0</td>\n",
       "      <td>0</td>\n",
       "      <td>0</td>\n",
       "      <td>2.0</td>\n",
       "    </tr>\n",
       "    <tr>\n",
       "      <th>118</th>\n",
       "      <td>hugin-PC left 1</td>\n",
       "      <td>9789130</td>\n",
       "      <td>2398</td>\n",
       "      <td>upstream</td>\n",
       "      <td>0</td>\n",
       "      <td>0</td>\n",
       "      <td>0</td>\n",
       "      <td>0</td>\n",
       "      <td>2</td>\n",
       "      <td>0</td>\n",
       "      <td>0</td>\n",
       "      <td>0</td>\n",
       "      <td>2.0</td>\n",
       "    </tr>\n",
       "    <tr>\n",
       "      <th>119</th>\n",
       "      <td>clamp left</td>\n",
       "      <td>11105182</td>\n",
       "      <td>4202</td>\n",
       "      <td>upstream</td>\n",
       "      <td>0</td>\n",
       "      <td>0</td>\n",
       "      <td>0</td>\n",
       "      <td>0</td>\n",
       "      <td>2</td>\n",
       "      <td>0</td>\n",
       "      <td>0</td>\n",
       "      <td>0</td>\n",
       "      <td>2.0</td>\n",
       "    </tr>\n",
       "    <tr>\n",
       "      <th>120</th>\n",
       "      <td>AN-L-Sens-B1-ACa-03</td>\n",
       "      <td>15770032</td>\n",
       "      <td>614</td>\n",
       "      <td>upstream</td>\n",
       "      <td>0</td>\n",
       "      <td>0</td>\n",
       "      <td>0</td>\n",
       "      <td>0</td>\n",
       "      <td>2</td>\n",
       "      <td>0</td>\n",
       "      <td>0</td>\n",
       "      <td>0</td>\n",
       "      <td>2.0</td>\n",
       "    </tr>\n",
       "    <tr>\n",
       "      <th>121</th>\n",
       "      <td>hugin-PC left 2</td>\n",
       "      <td>9796597</td>\n",
       "      <td>2149</td>\n",
       "      <td>upstream</td>\n",
       "      <td>0</td>\n",
       "      <td>1</td>\n",
       "      <td>0</td>\n",
       "      <td>0</td>\n",
       "      <td>1</td>\n",
       "      <td>0</td>\n",
       "      <td>0</td>\n",
       "      <td>0</td>\n",
       "      <td>2.0</td>\n",
       "    </tr>\n",
       "    <tr>\n",
       "      <th>122</th>\n",
       "      <td>AN-L-Sens-B1-ACa-11</td>\n",
       "      <td>1395971</td>\n",
       "      <td>731</td>\n",
       "      <td>upstream</td>\n",
       "      <td>0</td>\n",
       "      <td>2</td>\n",
       "      <td>0</td>\n",
       "      <td>0</td>\n",
       "      <td>0</td>\n",
       "      <td>0</td>\n",
       "      <td>0</td>\n",
       "      <td>0</td>\n",
       "      <td>2.0</td>\n",
       "    </tr>\n",
       "    <tr>\n",
       "      <th>123</th>\n",
       "      <td>AN-L-Sens-B1-AVa-36</td>\n",
       "      <td>15994926</td>\n",
       "      <td>473</td>\n",
       "      <td>upstream</td>\n",
       "      <td>0</td>\n",
       "      <td>2</td>\n",
       "      <td>0</td>\n",
       "      <td>0</td>\n",
       "      <td>0</td>\n",
       "      <td>0</td>\n",
       "      <td>0</td>\n",
       "      <td>0</td>\n",
       "      <td>2.0</td>\n",
       "    </tr>\n",
       "    <tr>\n",
       "      <th>124</th>\n",
       "      <td>Holder_left</td>\n",
       "      <td>4284106</td>\n",
       "      <td>4160</td>\n",
       "      <td>upstream</td>\n",
       "      <td>0</td>\n",
       "      <td>2</td>\n",
       "      <td>0</td>\n",
       "      <td>0</td>\n",
       "      <td>0</td>\n",
       "      <td>0</td>\n",
       "      <td>0</td>\n",
       "      <td>0</td>\n",
       "      <td>2.0</td>\n",
       "    </tr>\n",
       "    <tr>\n",
       "      <th>125</th>\n",
       "      <td>Old Fashioned Telephone Left</td>\n",
       "      <td>8213784</td>\n",
       "      <td>6568</td>\n",
       "      <td>upstream</td>\n",
       "      <td>0</td>\n",
       "      <td>0</td>\n",
       "      <td>0</td>\n",
       "      <td>2</td>\n",
       "      <td>0</td>\n",
       "      <td>0</td>\n",
       "      <td>0</td>\n",
       "      <td>0</td>\n",
       "      <td>2.0</td>\n",
       "    </tr>\n",
       "    <tr>\n",
       "      <th>126</th>\n",
       "      <td>BE ;  Right</td>\n",
       "      <td>9801441</td>\n",
       "      <td>3049</td>\n",
       "      <td>upstream</td>\n",
       "      <td>0</td>\n",
       "      <td>0</td>\n",
       "      <td>0</td>\n",
       "      <td>2</td>\n",
       "      <td>0</td>\n",
       "      <td>0</td>\n",
       "      <td>0</td>\n",
       "      <td>0</td>\n",
       "      <td>2.0</td>\n",
       "    </tr>\n",
       "  </tbody>\n",
       "</table>\n",
       "<p>127 rows × 13 columns</p>\n",
       "</div>"
      ],
      "text/plain": [
       "                                 neuron_name skeleton_id num_nodes  relation  \\\n",
       "0    SEZ-IN-A05-right - paired with #6885133    18354200      3581  upstream   \n",
       "1                            SEZ-IN-08-right    14035921      4314  upstream   \n",
       "2                            Pre PMN R right     3436420      5682  upstream   \n",
       "3                                 SEZ-X-left     3477008      3568  upstream   \n",
       "4                        AN-R-Sens-B1-AVa-16     6883831       899  upstream   \n",
       "5                             SEZ-IN-03-left    18371412      3522  upstream   \n",
       "6                        AN-R-Sens-B1-AVa-15    15574328       888  upstream   \n",
       "7    SEZ-IN-A05-left - paired with #18354200     6885133      3244  upstream   \n",
       "8                        AN-L-Sens-B1-AVa-17     1375101       746  upstream   \n",
       "9                                  Pre PMN L     6445994      6206  upstream   \n",
       "10                      AX ; SEZ-IN-A03-left      255222      4434  upstream   \n",
       "11                     AX ; SEZ-IN-A03-right    17718177      3520  upstream   \n",
       "12                               SEZ-X-right     1575789      3905  upstream   \n",
       "13                       MN-L-Sens-B2-AVp-01     9808022      1103  upstream   \n",
       "14                       AN-L-Sens-B1-AVa-16     1414206       693  upstream   \n",
       "15                            SEZ-IN-10-left      616176      4386  upstream   \n",
       "16                           SEZ-IN-06-right    17219367      3131  upstream   \n",
       "17                    BAmas12 midline 3 left    18440675      2974  upstream   \n",
       "18                       AN-R-Sens-B1-AVa-24    15564706      1151  upstream   \n",
       "19                          SEZ-IN-A04-right     3454765      3748  upstream   \n",
       "20                                Dopey_left     8438283      4180  upstream   \n",
       "21                       MN-R-Sens-B3-AVp-03    15640425      1719  upstream   \n",
       "22                           SEZ-IN-A04-left    18329062      4108  upstream   \n",
       "23                           SEZ-IN-05-right    18347336      1517  upstream   \n",
       "24                           SEZ-IN-A07-left    17220054      2855  upstream   \n",
       "25                       AN-L-Sens-B1-AVa-21     1435466       848  upstream   \n",
       "26                       AN-L-Sens-B2-AVp-03    15996160      1250  upstream   \n",
       "27                           SEZ-IN-11-right    16744167      2299  upstream   \n",
       "28                       AN-R-Sens-B2-AVp-02    15533421      1418  upstream   \n",
       "29                       MN-L-Sens-B3-AVp-01    15724385      1687  upstream   \n",
       "..                                       ...         ...       ...       ...   \n",
       "97                       AN-R-Sens-B1-AVa-34    15574941      1500  upstream   \n",
       "98                          hugin-PC right 4    13581830      2294  upstream   \n",
       "99                           SEZ-IN-16-right    11941273      2430  upstream   \n",
       "100                      AN-R-Sens-B1-AVa-19     9716858       768  upstream   \n",
       "101                              Moggy_right     9748981      4983  upstream   \n",
       "102                      AN-R-Sens-B1-ACa-10    15548694      1179  upstream   \n",
       "103                      AN-R-Sens-B1-ACa-05    15563553       999  upstream   \n",
       "104                      AN-R-Sens-B1-ACa-08    15574231      1013  upstream   \n",
       "105                      AN-R-Sens-B1-AVa-18     9748269       695  upstream   \n",
       "106                            KS LN 1 right     9712223      4671  upstream   \n",
       "107                           Y Neuron-right    11637858      2070  upstream   \n",
       "108                              Spiral_left    11642944      4145  upstream   \n",
       "109                      AN-R-Sens-B1-AVa-38    15574508      1270  upstream   \n",
       "110                           SEZ-IN-12-left    14930784      2023  upstream   \n",
       "111                         SEZ-IN-A06-right     3356289      3002  upstream   \n",
       "112                           SEZ-IN-30-left    16437548      1164  upstream   \n",
       "113                          hugin-PC left 4     9813902      2432  upstream   \n",
       "114                               Moggy_left     7136254      5204  upstream   \n",
       "115                      AN-L-Sens-B1-AVa-26     1415168       785  upstream   \n",
       "116                    SEZ local interneuron     2815572      5137  upstream   \n",
       "117                      AN-L-Sens-B1-ACa-07     1377586       627  upstream   \n",
       "118                          hugin-PC left 1     9789130      2398  upstream   \n",
       "119                               clamp left    11105182      4202  upstream   \n",
       "120                      AN-L-Sens-B1-ACa-03    15770032       614  upstream   \n",
       "121                          hugin-PC left 2     9796597      2149  upstream   \n",
       "122                      AN-L-Sens-B1-ACa-11     1395971       731  upstream   \n",
       "123                      AN-L-Sens-B1-AVa-36    15994926       473  upstream   \n",
       "124                              Holder_left     4284106      4160  upstream   \n",
       "125             Old Fashioned Telephone Left     8213784      6568  upstream   \n",
       "126                              BE ;  Right     9801441      3049  upstream   \n",
       "\n",
       "    887905 15995012 15769638 15995309 15983118 896562 15573428 15564695  total  \n",
       "0        0       16       17        1        6      0        0        0   40.0  \n",
       "1        7        0        0        0        0     14        7       10   38.0  \n",
       "2        0       12       11        0       11      0        0        0   34.0  \n",
       "3        0        4        9        1       19      0        0        0   33.0  \n",
       "4       13        0        0        0        0     11        0        6   30.0  \n",
       "5        0        6       16        0        5      0        1        0   28.0  \n",
       "6        8        0        0        0        0      3        0       16   27.0  \n",
       "7        8        0        0        0        0     11        0        7   26.0  \n",
       "8        0       10        6        0       10      0        0        0   26.0  \n",
       "9        5        0        0        0        0     12        1        7   25.0  \n",
       "10       4        6        5        2        6      2        0        0   25.0  \n",
       "11       7        2        0        1        2      3        8        1   24.0  \n",
       "12       4        0        0        1        0      8        1        9   23.0  \n",
       "13       0        2       11        4        4      0        0        0   21.0  \n",
       "14       0        8        6        0        6      0        0        0   20.0  \n",
       "15       0        5        3        0        7      4        0        0   19.0  \n",
       "16       0        4        8        2        2      0        0        0   16.0  \n",
       "17       0        4        0        0       12      0        0        0   16.0  \n",
       "18       3        0        0        0        0      1        3        6   13.0  \n",
       "19       0        7        3        0        3      0        0        0   13.0  \n",
       "20       0        1        0       11        0      0        0        0   12.0  \n",
       "21       0        0        0        0        0      0       11        0   11.0  \n",
       "22       6        0        0        0        0      3        0        1   10.0  \n",
       "23       1        0        0        0        0      2        2        5   10.0  \n",
       "24       0        0        2        4        0      0        3        1   10.0  \n",
       "25       0        2        0        2        6      0        0        0   10.0  \n",
       "26       0        0        0       10        0      0        0        0   10.0  \n",
       "27       0        0        0       10        0      0        0        0   10.0  \n",
       "28       0        0        0        0        0      0        9        0    9.0  \n",
       "29       0        0        0        9        0      0        0        0    9.0  \n",
       "..     ...      ...      ...      ...      ...    ...      ...      ...    ...  \n",
       "97       1        0        0        0        0      0        0        1    2.0  \n",
       "98       1        0        0        0        0      1        0        0    2.0  \n",
       "99       1        0        0        0        0      0        1        0    2.0  \n",
       "100      0        0        0        0        0      1        0        1    2.0  \n",
       "101      0        0        0        0        0      2        0        0    2.0  \n",
       "102      0        0        0        0        0      2        0        0    2.0  \n",
       "103      0        0        0        0        0      2        0        0    2.0  \n",
       "104      0        0        0        0        0      2        0        0    2.0  \n",
       "105      0        0        0        0        0      0        0        2    2.0  \n",
       "106      0        0        0        0        0      0        0        2    2.0  \n",
       "107      0        0        0        0        0      0        0        2    2.0  \n",
       "108      0        0        0        0        0      0        1        1    2.0  \n",
       "109      0        0        0        0        0      0        2        0    2.0  \n",
       "110      0        0        0        0        0      0        2        0    2.0  \n",
       "111      0        0        0        0        0      0        2        0    2.0  \n",
       "112      0        0        0        1        0      0        1        0    2.0  \n",
       "113      0        0        1        1        0      0        0        0    2.0  \n",
       "114      0        0        1        0        1      0        0        0    2.0  \n",
       "115      0        0        1        0        1      0        0        0    2.0  \n",
       "116      0        0        1        1        0      0        0        0    2.0  \n",
       "117      0        0        0        0        2      0        0        0    2.0  \n",
       "118      0        0        0        0        2      0        0        0    2.0  \n",
       "119      0        0        0        0        2      0        0        0    2.0  \n",
       "120      0        0        0        0        2      0        0        0    2.0  \n",
       "121      0        1        0        0        1      0        0        0    2.0  \n",
       "122      0        2        0        0        0      0        0        0    2.0  \n",
       "123      0        2        0        0        0      0        0        0    2.0  \n",
       "124      0        2        0        0        0      0        0        0    2.0  \n",
       "125      0        0        0        2        0      0        0        0    2.0  \n",
       "126      0        0        0        2        0      0        0        0    2.0  \n",
       "\n",
       "[127 rows x 13 columns]"
      ]
     },
     "execution_count": 8,
     "metadata": {},
     "output_type": "execute_result"
    }
   ],
   "source": [
    "ctable = pymaid.get_partners(p,directions=['incoming'], threshold = 2)\n",
    "skids = ctable['skeleton_id'].tolist()\n",
    "type(target)\n",
    "ctable"
   ]
  },
  {
   "cell_type": "code",
   "execution_count": 9,
   "metadata": {},
   "outputs": [
    {
     "data": {
      "text/plain": [
       "['887905',\n",
       " '15995012',\n",
       " '15769638',\n",
       " '15995309',\n",
       " '15983118',\n",
       " '896562',\n",
       " '15573428',\n",
       " '15564695']"
      ]
     },
     "execution_count": 9,
     "metadata": {},
     "output_type": "execute_result"
    }
   ],
   "source": [
    "p.skeleton_id.tolist()"
   ]
  },
  {
   "cell_type": "code",
   "execution_count": 10,
   "metadata": {},
   "outputs": [
    {
     "data": {
      "text/plain": [
       "['15573428']"
      ]
     },
     "execution_count": 10,
     "metadata": {},
     "output_type": "execute_result"
    }
   ],
   "source": [
    "[n for n in ctable['skeleton_id'].tolist() if n in p]\n"
   ]
  },
  {
   "cell_type": "code",
   "execution_count": 11,
   "metadata": {},
   "outputs": [],
   "source": [
    "l = [n for n in ctable if n in p]"
   ]
  },
  {
   "cell_type": "code",
   "execution_count": 12,
   "metadata": {},
   "outputs": [
    {
     "name": "stderr",
     "output_type": "stream",
     "text": [
      "INFO  : Cached data used. Use `pymaid.clear_cache()` to clear. (pymaid)\n"
     ]
    },
    {
     "data": {
      "text/plain": [
       "{'15564695': 'SE0 R3',\n",
       " '15573428': 'SE0 R4',\n",
       " '15769638': 'SE0 L3',\n",
       " '15983118': 'SE0 L2',\n",
       " '15995012': 'SE0 L1',\n",
       " '15995309': 'SE0 L4',\n",
       " '887905': 'SE0 R1',\n",
       " '896562': 'SE0 R2'}"
      ]
     },
     "execution_count": 12,
     "metadata": {},
     "output_type": "execute_result"
    }
   ],
   "source": [
    "pymaid.get_names(l)"
   ]
  },
  {
   "cell_type": "code",
   "execution_count": 3,
   "metadata": {},
   "outputs": [],
   "source": [
    "def all_triples(sources, targets, interns, t,fname):#returns all triangles (no backward edges)\n",
    "    sen = pymaid.find_neurons(annotations = sources)\n",
    "    target = pymaid.find_neurons(annotations = targets)\n",
    "    inter = pymaid.find_neurons(annotations = interns)\n",
    "    sens = sen.skeleton_id.tolist()\n",
    "    all_ = []\n",
    "    for s in sens:\n",
    "        st = single_triple(s,target,inter,t)\n",
    "        if st:\n",
    "            all_.append(st)\n",
    "    final = list(itertools.chain.from_iterable(all_)) #list of the triples by skeleton ids\n",
    "    with open(fname, 'w', newline='') as myfile:\n",
    "        wr = csv.writer(myfile, quoting=csv.QUOTE_ALL)\n",
    "        wr.writerow(['source','interneuron','target'])\n",
    "        for triple in final:\n",
    "            wr.writerow(triple)\n",
    "    return final\n",
    "\n",
    "sen1 = 'sens2-to-hugin-ipc'\n",
    "sen2 = 'sens2-to-hugin-dms'\n",
    "\n",
    "tar1 = 'IPCs'\n",
    "tar2 = 'DMS'\n",
    "intr = 'Hugin PC'\n",
    "# trips1 = all_triples(sen1,tar1,intr,2)\n",
    "# trips2 = all_triples(sen2,tar2,intr,2,'triples_0.csv')"
   ]
  },
  {
   "cell_type": "markdown",
   "metadata": {},
   "source": [
    "The function **all_triples_new()** also returns a list of triples, with the difference that the input is only a list of output neurons and a threshold. This function finds triples by considering all the incoming partners as both interneurons and source neurons."
   ]
  },
  {
   "cell_type": "code",
   "execution_count": 10,
   "metadata": {},
   "outputs": [
    {
     "name": "stderr",
     "output_type": "stream",
     "text": [
      "INFO  : Cached data used. Use `pymaid.clear_cache()` to clear. (pymaid)\n",
      "INFO  : Cached data used. Use `pymaid.clear_cache()` to clear. (pymaid)\n"
     ]
    },
    {
     "data": {
      "application/vnd.jupyter.widget-view+json": {
       "model_id": "91d88df4dff245c4b9b12c0c33a31010",
       "version_major": 2,
       "version_minor": 0
      },
      "text/html": [
       "<p>Failed to display Jupyter Widget of type <code>HBox</code>.</p>\n",
       "<p>\n",
       "  If you're reading this message in the Jupyter Notebook or JupyterLab Notebook, it may mean\n",
       "  that the widgets JavaScript is still loading. If this message persists, it\n",
       "  likely means that the widgets JavaScript library is either not installed or\n",
       "  not enabled. See the <a href=\"https://ipywidgets.readthedocs.io/en/stable/user_install.html\">Jupyter\n",
       "  Widgets Documentation</a> for setup instructions.\n",
       "</p>\n",
       "<p>\n",
       "  If you're reading this message in another frontend (for example, a static\n",
       "  rendering on GitHub or <a href=\"https://nbviewer.jupyter.org/\">NBViewer</a>),\n",
       "  it may mean that your frontend doesn't currently support widgets.\n",
       "</p>\n"
      ],
      "text/plain": [
       "HBox(children=(IntProgress(value=0, description='Make nrn', max=6, style=ProgressStyle(description_width='initial')), HTML(value='')))"
      ]
     },
     "metadata": {},
     "output_type": "display_data"
    },
    {
     "name": "stderr",
     "output_type": "stream",
     "text": [
      "INFO  : Cached data used. Use `pymaid.clear_cache()` to clear. (pymaid)\n",
      "INFO  : Found 6 neurons matching the search parameters (pymaid)\n",
      "INFO  : Cached data used. Use `pymaid.clear_cache()` to clear. (pymaid)\n",
      "INFO  : Cached data used. Use `pymaid.clear_cache()` to clear. (pymaid)\n",
      "INFO  : Found 349 neurons with matching annotation(s) (pymaid)\n"
     ]
    },
    {
     "name": "stdout",
     "output_type": "stream",
     "text": [
      "\r"
     ]
    },
    {
     "data": {
      "application/vnd.jupyter.widget-view+json": {
       "model_id": "ee1df8994e19408b8e1ee38eda8a96b6",
       "version_major": 2,
       "version_minor": 0
      },
      "text/html": [
       "<p>Failed to display Jupyter Widget of type <code>HBox</code>.</p>\n",
       "<p>\n",
       "  If you're reading this message in the Jupyter Notebook or JupyterLab Notebook, it may mean\n",
       "  that the widgets JavaScript is still loading. If this message persists, it\n",
       "  likely means that the widgets JavaScript library is either not installed or\n",
       "  not enabled. See the <a href=\"https://ipywidgets.readthedocs.io/en/stable/user_install.html\">Jupyter\n",
       "  Widgets Documentation</a> for setup instructions.\n",
       "</p>\n",
       "<p>\n",
       "  If you're reading this message in another frontend (for example, a static\n",
       "  rendering on GitHub or <a href=\"https://nbviewer.jupyter.org/\">NBViewer</a>),\n",
       "  it may mean that your frontend doesn't currently support widgets.\n",
       "</p>\n"
      ],
      "text/plain": [
       "HBox(children=(IntProgress(value=0, description='Fetch neurons', max=349, style=ProgressStyle(description_width='initial')), HTML(value='')))"
      ]
     },
     "metadata": {},
     "output_type": "display_data"
    },
    {
     "name": "stdout",
     "output_type": "stream",
     "text": [
      "\r"
     ]
    },
    {
     "name": "stderr",
     "output_type": "stream",
     "text": [
      "INFO  : Cached data used. Use `pymaid.clear_cache()` to clear. (pymaid)\n",
      "INFO  : Cached data used. Use `pymaid.clear_cache()` to clear. (pymaid)\n"
     ]
    },
    {
     "data": {
      "application/vnd.jupyter.widget-view+json": {
       "model_id": "0743ef2c8a54438eb9e2e1d71b67cea4",
       "version_major": 2,
       "version_minor": 0
      },
      "text/html": [
       "<p>Failed to display Jupyter Widget of type <code>HBox</code>.</p>\n",
       "<p>\n",
       "  If you're reading this message in the Jupyter Notebook or JupyterLab Notebook, it may mean\n",
       "  that the widgets JavaScript is still loading. If this message persists, it\n",
       "  likely means that the widgets JavaScript library is either not installed or\n",
       "  not enabled. See the <a href=\"https://ipywidgets.readthedocs.io/en/stable/user_install.html\">Jupyter\n",
       "  Widgets Documentation</a> for setup instructions.\n",
       "</p>\n",
       "<p>\n",
       "  If you're reading this message in another frontend (for example, a static\n",
       "  rendering on GitHub or <a href=\"https://nbviewer.jupyter.org/\">NBViewer</a>),\n",
       "  it may mean that your frontend doesn't currently support widgets.\n",
       "</p>\n"
      ],
      "text/plain": [
       "HBox(children=(IntProgress(value=0, description='Make nrn', max=349, style=ProgressStyle(description_width='initial')), HTML(value='')))"
      ]
     },
     "metadata": {},
     "output_type": "display_data"
    },
    {
     "name": "stdout",
     "output_type": "stream",
     "text": [
      "\r"
     ]
    },
    {
     "name": "stderr",
     "output_type": "stream",
     "text": [
      "INFO  : Fetching connectivity table for 6 neurons (pymaid)\n",
      "INFO  : Cached data used. Use `pymaid.clear_cache()` to clear. (pymaid)\n",
      "INFO  : Cached data used. Use `pymaid.clear_cache()` to clear. (pymaid)\n",
      "INFO  : Done. Found 94 pre-, 0 postsynaptic and 0 gap junction-connected neurons (pymaid)\n",
      "INFO  : Cached data used. Use `pymaid.clear_cache()` to clear. (pymaid)\n"
     ]
    },
    {
     "data": {
      "application/vnd.jupyter.widget-view+json": {
       "model_id": "001c919db22d416bb5380d50f5938b26",
       "version_major": 2,
       "version_minor": 0
      },
      "text/html": [
       "<p>Failed to display Jupyter Widget of type <code>HBox</code>.</p>\n",
       "<p>\n",
       "  If you're reading this message in the Jupyter Notebook or JupyterLab Notebook, it may mean\n",
       "  that the widgets JavaScript is still loading. If this message persists, it\n",
       "  likely means that the widgets JavaScript library is either not installed or\n",
       "  not enabled. See the <a href=\"https://ipywidgets.readthedocs.io/en/stable/user_install.html\">Jupyter\n",
       "  Widgets Documentation</a> for setup instructions.\n",
       "</p>\n",
       "<p>\n",
       "  If you're reading this message in another frontend (for example, a static\n",
       "  rendering on GitHub or <a href=\"https://nbviewer.jupyter.org/\">NBViewer</a>),\n",
       "  it may mean that your frontend doesn't currently support widgets.\n",
       "</p>\n"
      ],
      "text/plain": [
       "HBox(children=(IntProgress(value=0, description='Fetch neurons', max=49, style=ProgressStyle(description_width='initial')), HTML(value='')))"
      ]
     },
     "metadata": {},
     "output_type": "display_data"
    },
    {
     "name": "stderr",
     "output_type": "stream",
     "text": [
      "INFO  : Cached data used. Use `pymaid.clear_cache()` to clear. (pymaid)\n"
     ]
    },
    {
     "name": "stdout",
     "output_type": "stream",
     "text": [
      "\r"
     ]
    },
    {
     "name": "stderr",
     "output_type": "stream",
     "text": [
      "INFO  : Cached data used. Use `pymaid.clear_cache()` to clear. (pymaid)\n"
     ]
    },
    {
     "data": {
      "application/vnd.jupyter.widget-view+json": {
       "model_id": "aa9cb248390049ab8e549287c02dd69a",
       "version_major": 2,
       "version_minor": 0
      },
      "text/html": [
       "<p>Failed to display Jupyter Widget of type <code>HBox</code>.</p>\n",
       "<p>\n",
       "  If you're reading this message in the Jupyter Notebook or JupyterLab Notebook, it may mean\n",
       "  that the widgets JavaScript is still loading. If this message persists, it\n",
       "  likely means that the widgets JavaScript library is either not installed or\n",
       "  not enabled. See the <a href=\"https://ipywidgets.readthedocs.io/en/stable/user_install.html\">Jupyter\n",
       "  Widgets Documentation</a> for setup instructions.\n",
       "</p>\n",
       "<p>\n",
       "  If you're reading this message in another frontend (for example, a static\n",
       "  rendering on GitHub or <a href=\"https://nbviewer.jupyter.org/\">NBViewer</a>),\n",
       "  it may mean that your frontend doesn't currently support widgets.\n",
       "</p>\n"
      ],
      "text/plain": [
       "HBox(children=(IntProgress(value=0, description='Make nrn', max=49, style=ProgressStyle(description_width='initial')), HTML(value='')))"
      ]
     },
     "metadata": {},
     "output_type": "display_data"
    },
    {
     "name": "stdout",
     "output_type": "stream",
     "text": [
      "\r"
     ]
    },
    {
     "data": {
      "application/vnd.jupyter.widget-view+json": {
       "model_id": "4b78770e9c64473fa8f8e5b52ac668c3",
       "version_major": 2,
       "version_minor": 0
      },
      "text/html": [
       "<p>Failed to display Jupyter Widget of type <code>HBox</code>.</p>\n",
       "<p>\n",
       "  If you're reading this message in the Jupyter Notebook or JupyterLab Notebook, it may mean\n",
       "  that the widgets JavaScript is still loading. If this message persists, it\n",
       "  likely means that the widgets JavaScript library is either not installed or\n",
       "  not enabled. See the <a href=\"https://ipywidgets.readthedocs.io/en/stable/user_install.html\">Jupyter\n",
       "  Widgets Documentation</a> for setup instructions.\n",
       "</p>\n",
       "<p>\n",
       "  If you're reading this message in another frontend (for example, a static\n",
       "  rendering on GitHub or <a href=\"https://nbviewer.jupyter.org/\">NBViewer</a>),\n",
       "  it may mean that your frontend doesn't currently support widgets.\n",
       "</p>\n"
      ],
      "text/plain": [
       "HBox(children=(IntProgress(value=0, description='Fetch neurons', max=48, style=ProgressStyle(description_width='initial')), HTML(value='')))"
      ]
     },
     "metadata": {},
     "output_type": "display_data"
    },
    {
     "name": "stderr",
     "output_type": "stream",
     "text": [
      "INFO  : Cached data used. Use `pymaid.clear_cache()` to clear. (pymaid)\n"
     ]
    },
    {
     "name": "stdout",
     "output_type": "stream",
     "text": [
      "\r"
     ]
    },
    {
     "name": "stderr",
     "output_type": "stream",
     "text": [
      "INFO  : Cached data used. Use `pymaid.clear_cache()` to clear. (pymaid)\n"
     ]
    },
    {
     "data": {
      "application/vnd.jupyter.widget-view+json": {
       "model_id": "80316635ae0440a49faa4714f6a95f4f",
       "version_major": 2,
       "version_minor": 0
      },
      "text/html": [
       "<p>Failed to display Jupyter Widget of type <code>HBox</code>.</p>\n",
       "<p>\n",
       "  If you're reading this message in the Jupyter Notebook or JupyterLab Notebook, it may mean\n",
       "  that the widgets JavaScript is still loading. If this message persists, it\n",
       "  likely means that the widgets JavaScript library is either not installed or\n",
       "  not enabled. See the <a href=\"https://ipywidgets.readthedocs.io/en/stable/user_install.html\">Jupyter\n",
       "  Widgets Documentation</a> for setup instructions.\n",
       "</p>\n",
       "<p>\n",
       "  If you're reading this message in another frontend (for example, a static\n",
       "  rendering on GitHub or <a href=\"https://nbviewer.jupyter.org/\">NBViewer</a>),\n",
       "  it may mean that your frontend doesn't currently support widgets.\n",
       "</p>\n"
      ],
      "text/plain": [
       "HBox(children=(IntProgress(value=0, description='Make nrn', max=48, style=ProgressStyle(description_width='initial')), HTML(value='')))"
      ]
     },
     "metadata": {},
     "output_type": "display_data"
    },
    {
     "name": "stdout",
     "output_type": "stream",
     "text": [
      "\r"
     ]
    },
    {
     "name": "stderr",
     "output_type": "stream",
     "text": [
      "INFO  : Fetching connectivity table for 1 neurons (pymaid)\n",
      "INFO  : Done. Found 0 pre-, 4 postsynaptic and 0 gap junction-connected neurons (pymaid)\n",
      "INFO  : Fetching connectivity table for 1 neurons (pymaid)\n",
      "INFO  : Cached data used. Use `pymaid.clear_cache()` to clear. (pymaid)\n",
      "INFO  : Cached data used. Use `pymaid.clear_cache()` to clear. (pymaid)\n",
      "INFO  : Done. Found 0 pre-, 4 postsynaptic and 0 gap junction-connected neurons (pymaid)\n",
      "INFO  : Fetching connectivity table for 1 neurons (pymaid)\n",
      "INFO  : Done. Found 0 pre-, 19 postsynaptic and 0 gap junction-connected neurons (pymaid)\n",
      "INFO  : Fetching connectivity table for 1 neurons (pymaid)\n",
      "INFO  : Cached data used. Use `pymaid.clear_cache()` to clear. (pymaid)\n",
      "INFO  : Cached data used. Use `pymaid.clear_cache()` to clear. (pymaid)\n",
      "INFO  : Done. Found 0 pre-, 19 postsynaptic and 0 gap junction-connected neurons (pymaid)\n",
      "INFO  : Fetching connectivity table for 1 neurons (pymaid)\n",
      "INFO  : Done. Found 0 pre-, 15 postsynaptic and 0 gap junction-connected neurons (pymaid)\n",
      "INFO  : Fetching connectivity table for 1 neurons (pymaid)\n",
      "INFO  : Cached data used. Use `pymaid.clear_cache()` to clear. (pymaid)\n",
      "INFO  : Cached data used. Use `pymaid.clear_cache()` to clear. (pymaid)\n",
      "INFO  : Done. Found 0 pre-, 15 postsynaptic and 0 gap junction-connected neurons (pymaid)\n",
      "INFO  : Fetching connectivity table for 1 neurons (pymaid)\n",
      "INFO  : Done. Found 19 pre-, 0 postsynaptic and 0 gap junction-connected neurons (pymaid)\n",
      "INFO  : Cached data used. Use `pymaid.clear_cache()` to clear. (pymaid)\n",
      "INFO  : Cached data used. Use `pymaid.clear_cache()` to clear. (pymaid)\n",
      "INFO  : Fetching connectivity table for 1 neurons (pymaid)\n",
      "INFO  : Cached data used. Use `pymaid.clear_cache()` to clear. (pymaid)\n",
      "INFO  : Cached data used. Use `pymaid.clear_cache()` to clear. (pymaid)\n",
      "INFO  : Done. Found 0 pre-, 15 postsynaptic and 0 gap junction-connected neurons (pymaid)\n",
      "INFO  : Fetching connectivity table for 1 neurons (pymaid)\n",
      "INFO  : Cached data used. Use `pymaid.clear_cache()` to clear. (pymaid)\n",
      "INFO  : Cached data used. Use `pymaid.clear_cache()` to clear. (pymaid)\n",
      "INFO  : Done. Found 0 pre-, 15 postsynaptic and 0 gap junction-connected neurons (pymaid)\n",
      "INFO  : Fetching connectivity table for 1 neurons (pymaid)\n",
      "INFO  : Cached data used. Use `pymaid.clear_cache()` to clear. (pymaid)\n",
      "INFO  : Cached data used. Use `pymaid.clear_cache()` to clear. (pymaid)\n",
      "INFO  : Done. Found 19 pre-, 0 postsynaptic and 0 gap junction-connected neurons (pymaid)\n",
      "INFO  : Cached data used. Use `pymaid.clear_cache()` to clear. (pymaid)\n",
      "INFO  : Cached data used. Use `pymaid.clear_cache()` to clear. (pymaid)\n",
      "INFO  : Cached data used. Use `pymaid.clear_cache()` to clear. (pymaid)\n",
      "INFO  : Cached data used. Use `pymaid.clear_cache()` to clear. (pymaid)\n",
      "INFO  : Cached data used. Use `pymaid.clear_cache()` to clear. (pymaid)\n",
      "INFO  : Cached data used. Use `pymaid.clear_cache()` to clear. (pymaid)\n",
      "INFO  : Fetching connectivity table for 1 neurons (pymaid)\n",
      "INFO  : Done. Found 0 pre-, 22 postsynaptic and 0 gap junction-connected neurons (pymaid)\n",
      "INFO  : Fetching connectivity table for 1 neurons (pymaid)\n",
      "INFO  : Cached data used. Use `pymaid.clear_cache()` to clear. (pymaid)\n",
      "INFO  : Cached data used. Use `pymaid.clear_cache()` to clear. (pymaid)\n",
      "INFO  : Done. Found 0 pre-, 22 postsynaptic and 0 gap junction-connected neurons (pymaid)\n",
      "INFO  : Fetching connectivity table for 1 neurons (pymaid)\n",
      "INFO  : Done. Found 0 pre-, 11 postsynaptic and 0 gap junction-connected neurons (pymaid)\n",
      "INFO  : Fetching connectivity table for 1 neurons (pymaid)\n",
      "INFO  : Cached data used. Use `pymaid.clear_cache()` to clear. (pymaid)\n",
      "INFO  : Cached data used. Use `pymaid.clear_cache()` to clear. (pymaid)\n",
      "INFO  : Done. Found 0 pre-, 11 postsynaptic and 0 gap junction-connected neurons (pymaid)\n",
      "INFO  : Fetching connectivity table for 1 neurons (pymaid)\n",
      "INFO  : Done. Found 0 pre-, 10 postsynaptic and 0 gap junction-connected neurons (pymaid)\n",
      "INFO  : Fetching connectivity table for 1 neurons (pymaid)\n",
      "INFO  : Cached data used. Use `pymaid.clear_cache()` to clear. (pymaid)\n",
      "INFO  : Cached data used. Use `pymaid.clear_cache()` to clear. (pymaid)\n",
      "INFO  : Done. Found 0 pre-, 10 postsynaptic and 0 gap junction-connected neurons (pymaid)\n",
      "INFO  : Fetching connectivity table for 1 neurons (pymaid)\n",
      "INFO  : Done. Found 0 pre-, 5 postsynaptic and 0 gap junction-connected neurons (pymaid)\n",
      "INFO  : Fetching connectivity table for 1 neurons (pymaid)\n",
      "INFO  : Cached data used. Use `pymaid.clear_cache()` to clear. (pymaid)\n",
      "INFO  : Cached data used. Use `pymaid.clear_cache()` to clear. (pymaid)\n",
      "INFO  : Done. Found 0 pre-, 5 postsynaptic and 0 gap junction-connected neurons (pymaid)\n",
      "INFO  : Fetching connectivity table for 1 neurons (pymaid)\n",
      "INFO  : Done. Found 0 pre-, 38 postsynaptic and 0 gap junction-connected neurons (pymaid)\n",
      "INFO  : Fetching connectivity table for 1 neurons (pymaid)\n",
      "INFO  : Cached data used. Use `pymaid.clear_cache()` to clear. (pymaid)\n",
      "INFO  : Cached data used. Use `pymaid.clear_cache()` to clear. (pymaid)\n",
      "INFO  : Done. Found 0 pre-, 38 postsynaptic and 0 gap junction-connected neurons (pymaid)\n",
      "INFO  : Fetching connectivity table for 1 neurons (pymaid)\n",
      "INFO  : Done. Found 0 pre-, 32 postsynaptic and 0 gap junction-connected neurons (pymaid)\n",
      "INFO  : Fetching connectivity table for 1 neurons (pymaid)\n",
      "INFO  : Cached data used. Use `pymaid.clear_cache()` to clear. (pymaid)\n",
      "INFO  : Cached data used. Use `pymaid.clear_cache()` to clear. (pymaid)\n",
      "INFO  : Done. Found 0 pre-, 32 postsynaptic and 0 gap junction-connected neurons (pymaid)\n",
      "INFO  : Fetching connectivity table for 1 neurons (pymaid)\n",
      "INFO  : Done. Found 0 pre-, 8 postsynaptic and 0 gap junction-connected neurons (pymaid)\n",
      "INFO  : Fetching connectivity table for 1 neurons (pymaid)\n",
      "INFO  : Cached data used. Use `pymaid.clear_cache()` to clear. (pymaid)\n",
      "INFO  : Cached data used. Use `pymaid.clear_cache()` to clear. (pymaid)\n",
      "INFO  : Done. Found 0 pre-, 8 postsynaptic and 0 gap junction-connected neurons (pymaid)\n",
      "INFO  : Fetching connectivity table for 1 neurons (pymaid)\n",
      "INFO  : Done. Found 31 pre-, 0 postsynaptic and 0 gap junction-connected neurons (pymaid)\n",
      "INFO  : Fetching connectivity table for 1 neurons (pymaid)\n",
      "INFO  : Cached data used. Use `pymaid.clear_cache()` to clear. (pymaid)\n",
      "INFO  : Cached data used. Use `pymaid.clear_cache()` to clear. (pymaid)\n",
      "INFO  : Done. Found 0 pre-, 8 postsynaptic and 0 gap junction-connected neurons (pymaid)\n",
      "INFO  : Fetching connectivity table for 1 neurons (pymaid)\n",
      "INFO  : Cached data used. Use `pymaid.clear_cache()` to clear. (pymaid)\n",
      "INFO  : Cached data used. Use `pymaid.clear_cache()` to clear. (pymaid)\n",
      "INFO  : Done. Found 0 pre-, 8 postsynaptic and 0 gap junction-connected neurons (pymaid)\n",
      "INFO  : Fetching connectivity table for 1 neurons (pymaid)\n",
      "INFO  : Cached data used. Use `pymaid.clear_cache()` to clear. (pymaid)\n",
      "INFO  : Cached data used. Use `pymaid.clear_cache()` to clear. (pymaid)\n",
      "INFO  : Done. Found 31 pre-, 0 postsynaptic and 0 gap junction-connected neurons (pymaid)\n",
      "INFO  : Cached data used. Use `pymaid.clear_cache()` to clear. (pymaid)\n",
      "INFO  : Cached data used. Use `pymaid.clear_cache()` to clear. (pymaid)\n",
      "INFO  : Cached data used. Use `pymaid.clear_cache()` to clear. (pymaid)\n",
      "INFO  : Fetching connectivity table for 1 neurons (pymaid)\n",
      "INFO  : Done. Found 0 pre-, 17 postsynaptic and 0 gap junction-connected neurons (pymaid)\n",
      "INFO  : Fetching connectivity table for 1 neurons (pymaid)\n",
      "INFO  : Cached data used. Use `pymaid.clear_cache()` to clear. (pymaid)\n",
      "INFO  : Cached data used. Use `pymaid.clear_cache()` to clear. (pymaid)\n",
      "INFO  : Done. Found 0 pre-, 17 postsynaptic and 0 gap junction-connected neurons (pymaid)\n",
      "INFO  : Fetching connectivity table for 1 neurons (pymaid)\n",
      "INFO  : Done. Found 0 pre-, 9 postsynaptic and 0 gap junction-connected neurons (pymaid)\n",
      "INFO  : Fetching connectivity table for 1 neurons (pymaid)\n",
      "INFO  : Cached data used. Use `pymaid.clear_cache()` to clear. (pymaid)\n",
      "INFO  : Cached data used. Use `pymaid.clear_cache()` to clear. (pymaid)\n",
      "INFO  : Done. Found 0 pre-, 9 postsynaptic and 0 gap junction-connected neurons (pymaid)\n",
      "INFO  : Fetching connectivity table for 1 neurons (pymaid)\n"
     ]
    },
    {
     "name": "stderr",
     "output_type": "stream",
     "text": [
      "INFO  : Done. Found 0 pre-, 5 postsynaptic and 0 gap junction-connected neurons (pymaid)\n",
      "INFO  : Fetching connectivity table for 1 neurons (pymaid)\n",
      "INFO  : Cached data used. Use `pymaid.clear_cache()` to clear. (pymaid)\n",
      "INFO  : Cached data used. Use `pymaid.clear_cache()` to clear. (pymaid)\n",
      "INFO  : Done. Found 0 pre-, 5 postsynaptic and 0 gap junction-connected neurons (pymaid)\n",
      "INFO  : Fetching connectivity table for 1 neurons (pymaid)\n",
      "INFO  : Done. Found 0 pre-, 8 postsynaptic and 0 gap junction-connected neurons (pymaid)\n",
      "INFO  : Fetching connectivity table for 1 neurons (pymaid)\n",
      "INFO  : Cached data used. Use `pymaid.clear_cache()` to clear. (pymaid)\n",
      "INFO  : Cached data used. Use `pymaid.clear_cache()` to clear. (pymaid)\n",
      "INFO  : Done. Found 0 pre-, 8 postsynaptic and 0 gap junction-connected neurons (pymaid)\n",
      "INFO  : Fetching connectivity table for 1 neurons (pymaid)\n",
      "INFO  : Done. Found 0 pre-, 0 postsynaptic and 0 gap junction-connected neurons (pymaid)\n",
      "INFO  : Fetching connectivity table for 1 neurons (pymaid)\n",
      "INFO  : Cached data used. Use `pymaid.clear_cache()` to clear. (pymaid)\n",
      "INFO  : Cached data used. Use `pymaid.clear_cache()` to clear. (pymaid)\n",
      "INFO  : Done. Found 0 pre-, 0 postsynaptic and 0 gap junction-connected neurons (pymaid)\n",
      "INFO  : Fetching connectivity table for 1 neurons (pymaid)\n",
      "INFO  : Done. Found 0 pre-, 13 postsynaptic and 0 gap junction-connected neurons (pymaid)\n",
      "INFO  : Fetching connectivity table for 1 neurons (pymaid)\n",
      "INFO  : Cached data used. Use `pymaid.clear_cache()` to clear. (pymaid)\n",
      "INFO  : Cached data used. Use `pymaid.clear_cache()` to clear. (pymaid)\n",
      "INFO  : Done. Found 0 pre-, 13 postsynaptic and 0 gap junction-connected neurons (pymaid)\n",
      "INFO  : Fetching connectivity table for 1 neurons (pymaid)\n",
      "INFO  : Done. Found 16 pre-, 0 postsynaptic and 0 gap junction-connected neurons (pymaid)\n",
      "INFO  : Fetching connectivity table for 1 neurons (pymaid)\n",
      "INFO  : Done. Found 32 pre-, 0 postsynaptic and 0 gap junction-connected neurons (pymaid)\n",
      "INFO  : Cached data used. Use `pymaid.clear_cache()` to clear. (pymaid)\n",
      "INFO  : Cached data used. Use `pymaid.clear_cache()` to clear. (pymaid)\n",
      "INFO  : Cached data used. Use `pymaid.clear_cache()` to clear. (pymaid)\n",
      "INFO  : Cached data used. Use `pymaid.clear_cache()` to clear. (pymaid)\n",
      "INFO  : Cached data used. Use `pymaid.clear_cache()` to clear. (pymaid)\n",
      "INFO  : Cached data used. Use `pymaid.clear_cache()` to clear. (pymaid)\n",
      "INFO  : Cached data used. Use `pymaid.clear_cache()` to clear. (pymaid)\n",
      "INFO  : Cached data used. Use `pymaid.clear_cache()` to clear. (pymaid)\n",
      "INFO  : Cached data used. Use `pymaid.clear_cache()` to clear. (pymaid)\n",
      "INFO  : Fetching connectivity table for 1 neurons (pymaid)\n",
      "INFO  : Cached data used. Use `pymaid.clear_cache()` to clear. (pymaid)\n",
      "INFO  : Cached data used. Use `pymaid.clear_cache()` to clear. (pymaid)\n",
      "INFO  : Done. Found 0 pre-, 13 postsynaptic and 0 gap junction-connected neurons (pymaid)\n",
      "INFO  : Fetching connectivity table for 1 neurons (pymaid)\n",
      "INFO  : Cached data used. Use `pymaid.clear_cache()` to clear. (pymaid)\n",
      "INFO  : Cached data used. Use `pymaid.clear_cache()` to clear. (pymaid)\n",
      "INFO  : Done. Found 0 pre-, 13 postsynaptic and 0 gap junction-connected neurons (pymaid)\n",
      "INFO  : Fetching connectivity table for 1 neurons (pymaid)\n",
      "INFO  : Cached data used. Use `pymaid.clear_cache()` to clear. (pymaid)\n",
      "INFO  : Cached data used. Use `pymaid.clear_cache()` to clear. (pymaid)\n",
      "INFO  : Done. Found 16 pre-, 0 postsynaptic and 0 gap junction-connected neurons (pymaid)\n",
      "INFO  : Fetching connectivity table for 1 neurons (pymaid)\n",
      "INFO  : Cached data used. Use `pymaid.clear_cache()` to clear. (pymaid)\n",
      "INFO  : Cached data used. Use `pymaid.clear_cache()` to clear. (pymaid)\n",
      "INFO  : Done. Found 32 pre-, 0 postsynaptic and 0 gap junction-connected neurons (pymaid)\n",
      "INFO  : Cached data used. Use `pymaid.clear_cache()` to clear. (pymaid)\n",
      "INFO  : Cached data used. Use `pymaid.clear_cache()` to clear. (pymaid)\n",
      "INFO  : Cached data used. Use `pymaid.clear_cache()` to clear. (pymaid)\n",
      "INFO  : Cached data used. Use `pymaid.clear_cache()` to clear. (pymaid)\n",
      "INFO  : Cached data used. Use `pymaid.clear_cache()` to clear. (pymaid)\n",
      "INFO  : Cached data used. Use `pymaid.clear_cache()` to clear. (pymaid)\n",
      "INFO  : Cached data used. Use `pymaid.clear_cache()` to clear. (pymaid)\n",
      "INFO  : Cached data used. Use `pymaid.clear_cache()` to clear. (pymaid)\n",
      "INFO  : Cached data used. Use `pymaid.clear_cache()` to clear. (pymaid)\n",
      "INFO  : Cached data used. Use `pymaid.clear_cache()` to clear. (pymaid)\n",
      "INFO  : Cached data used. Use `pymaid.clear_cache()` to clear. (pymaid)\n",
      "INFO  : Cached data used. Use `pymaid.clear_cache()` to clear. (pymaid)\n",
      "INFO  : Cached data used. Use `pymaid.clear_cache()` to clear. (pymaid)\n",
      "INFO  : Cached data used. Use `pymaid.clear_cache()` to clear. (pymaid)\n",
      "INFO  : Cached data used. Use `pymaid.clear_cache()` to clear. (pymaid)\n",
      "INFO  : Fetching connectivity table for 1 neurons (pymaid)\n",
      "INFO  : Done. Found 0 pre-, 4 postsynaptic and 0 gap junction-connected neurons (pymaid)\n",
      "INFO  : Fetching connectivity table for 1 neurons (pymaid)\n",
      "INFO  : Cached data used. Use `pymaid.clear_cache()` to clear. (pymaid)\n",
      "INFO  : Cached data used. Use `pymaid.clear_cache()` to clear. (pymaid)\n",
      "INFO  : Done. Found 0 pre-, 4 postsynaptic and 0 gap junction-connected neurons (pymaid)\n",
      "INFO  : Fetching connectivity table for 1 neurons (pymaid)\n",
      "INFO  : Done. Found 0 pre-, 12 postsynaptic and 0 gap junction-connected neurons (pymaid)\n",
      "INFO  : Fetching connectivity table for 1 neurons (pymaid)\n",
      "INFO  : Cached data used. Use `pymaid.clear_cache()` to clear. (pymaid)\n",
      "INFO  : Cached data used. Use `pymaid.clear_cache()` to clear. (pymaid)\n",
      "INFO  : Done. Found 0 pre-, 12 postsynaptic and 0 gap junction-connected neurons (pymaid)\n",
      "INFO  : Fetching connectivity table for 1 neurons (pymaid)\n",
      "INFO  : Done. Found 0 pre-, 7 postsynaptic and 0 gap junction-connected neurons (pymaid)\n",
      "INFO  : Fetching connectivity table for 1 neurons (pymaid)\n",
      "INFO  : Cached data used. Use `pymaid.clear_cache()` to clear. (pymaid)\n",
      "INFO  : Cached data used. Use `pymaid.clear_cache()` to clear. (pymaid)\n",
      "INFO  : Done. Found 0 pre-, 7 postsynaptic and 0 gap junction-connected neurons (pymaid)\n",
      "INFO  : Fetching connectivity table for 1 neurons (pymaid)\n",
      "INFO  : Done. Found 0 pre-, 22 postsynaptic and 0 gap junction-connected neurons (pymaid)\n",
      "INFO  : Fetching connectivity table for 1 neurons (pymaid)\n",
      "INFO  : Cached data used. Use `pymaid.clear_cache()` to clear. (pymaid)\n",
      "INFO  : Cached data used. Use `pymaid.clear_cache()` to clear. (pymaid)\n",
      "INFO  : Done. Found 0 pre-, 22 postsynaptic and 0 gap junction-connected neurons (pymaid)\n",
      "INFO  : Fetching connectivity table for 1 neurons (pymaid)\n",
      "INFO  : Done. Found 0 pre-, 34 postsynaptic and 0 gap junction-connected neurons (pymaid)\n",
      "INFO  : Fetching connectivity table for 1 neurons (pymaid)\n",
      "INFO  : Cached data used. Use `pymaid.clear_cache()` to clear. (pymaid)\n",
      "INFO  : Cached data used. Use `pymaid.clear_cache()` to clear. (pymaid)\n",
      "INFO  : Done. Found 0 pre-, 34 postsynaptic and 0 gap junction-connected neurons (pymaid)\n",
      "INFO  : Fetching connectivity table for 1 neurons (pymaid)\n",
      "INFO  : Done. Found 0 pre-, 10 postsynaptic and 0 gap junction-connected neurons (pymaid)\n",
      "INFO  : Fetching connectivity table for 1 neurons (pymaid)\n",
      "INFO  : Cached data used. Use `pymaid.clear_cache()` to clear. (pymaid)\n",
      "INFO  : Cached data used. Use `pymaid.clear_cache()` to clear. (pymaid)\n",
      "INFO  : Done. Found 0 pre-, 10 postsynaptic and 0 gap junction-connected neurons (pymaid)\n",
      "INFO  : Fetching connectivity table for 1 neurons (pymaid)\n",
      "INFO  : Done. Found 0 pre-, 0 postsynaptic and 0 gap junction-connected neurons (pymaid)\n",
      "INFO  : Fetching connectivity table for 1 neurons (pymaid)\n",
      "INFO  : Cached data used. Use `pymaid.clear_cache()` to clear. (pymaid)\n",
      "INFO  : Cached data used. Use `pymaid.clear_cache()` to clear. (pymaid)\n",
      "INFO  : Done. Found 0 pre-, 0 postsynaptic and 0 gap junction-connected neurons (pymaid)\n",
      "INFO  : Fetching connectivity table for 1 neurons (pymaid)\n",
      "INFO  : Done. Found 0 pre-, 24 postsynaptic and 0 gap junction-connected neurons (pymaid)\n",
      "INFO  : Fetching connectivity table for 1 neurons (pymaid)\n"
     ]
    },
    {
     "name": "stderr",
     "output_type": "stream",
     "text": [
      "INFO  : Cached data used. Use `pymaid.clear_cache()` to clear. (pymaid)\n",
      "INFO  : Cached data used. Use `pymaid.clear_cache()` to clear. (pymaid)\n",
      "INFO  : Done. Found 0 pre-, 24 postsynaptic and 0 gap junction-connected neurons (pymaid)\n",
      "INFO  : Fetching connectivity table for 1 neurons (pymaid)\n",
      "INFO  : Done. Found 0 pre-, 9 postsynaptic and 0 gap junction-connected neurons (pymaid)\n",
      "INFO  : Fetching connectivity table for 1 neurons (pymaid)\n",
      "INFO  : Cached data used. Use `pymaid.clear_cache()` to clear. (pymaid)\n",
      "INFO  : Cached data used. Use `pymaid.clear_cache()` to clear. (pymaid)\n",
      "INFO  : Done. Found 0 pre-, 9 postsynaptic and 0 gap junction-connected neurons (pymaid)\n",
      "INFO  : Fetching connectivity table for 1 neurons (pymaid)\n",
      "INFO  : Done. Found 0 pre-, 12 postsynaptic and 0 gap junction-connected neurons (pymaid)\n",
      "INFO  : Fetching connectivity table for 1 neurons (pymaid)\n",
      "INFO  : Cached data used. Use `pymaid.clear_cache()` to clear. (pymaid)\n",
      "INFO  : Cached data used. Use `pymaid.clear_cache()` to clear. (pymaid)\n",
      "INFO  : Done. Found 0 pre-, 12 postsynaptic and 0 gap junction-connected neurons (pymaid)\n",
      "INFO  : Fetching connectivity table for 1 neurons (pymaid)\n",
      "INFO  : Cached data used. Use `pymaid.clear_cache()` to clear. (pymaid)\n",
      "INFO  : Cached data used. Use `pymaid.clear_cache()` to clear. (pymaid)\n",
      "INFO  : Done. Found 19 pre-, 0 postsynaptic and 0 gap junction-connected neurons (pymaid)\n",
      "INFO  : Fetching connectivity table for 1 neurons (pymaid)\n",
      "INFO  : Cached data used. Use `pymaid.clear_cache()` to clear. (pymaid)\n",
      "INFO  : Cached data used. Use `pymaid.clear_cache()` to clear. (pymaid)\n",
      "INFO  : Done. Found 32 pre-, 0 postsynaptic and 0 gap junction-connected neurons (pymaid)\n",
      "INFO  : Cached data used. Use `pymaid.clear_cache()` to clear. (pymaid)\n",
      "INFO  : Cached data used. Use `pymaid.clear_cache()` to clear. (pymaid)\n",
      "INFO  : Cached data used. Use `pymaid.clear_cache()` to clear. (pymaid)\n",
      "INFO  : Cached data used. Use `pymaid.clear_cache()` to clear. (pymaid)\n",
      "INFO  : Fetching connectivity table for 1 neurons (pymaid)\n",
      "INFO  : Cached data used. Use `pymaid.clear_cache()` to clear. (pymaid)\n",
      "INFO  : Cached data used. Use `pymaid.clear_cache()` to clear. (pymaid)\n",
      "INFO  : Done. Found 0 pre-, 12 postsynaptic and 0 gap junction-connected neurons (pymaid)\n",
      "INFO  : Fetching connectivity table for 1 neurons (pymaid)\n",
      "INFO  : Cached data used. Use `pymaid.clear_cache()` to clear. (pymaid)\n",
      "INFO  : Cached data used. Use `pymaid.clear_cache()` to clear. (pymaid)\n",
      "INFO  : Done. Found 0 pre-, 12 postsynaptic and 0 gap junction-connected neurons (pymaid)\n",
      "INFO  : Fetching connectivity table for 1 neurons (pymaid)\n",
      "INFO  : Cached data used. Use `pymaid.clear_cache()` to clear. (pymaid)\n",
      "INFO  : Cached data used. Use `pymaid.clear_cache()` to clear. (pymaid)\n",
      "INFO  : Done. Found 19 pre-, 0 postsynaptic and 0 gap junction-connected neurons (pymaid)\n",
      "INFO  : Fetching connectivity table for 1 neurons (pymaid)\n",
      "INFO  : Cached data used. Use `pymaid.clear_cache()` to clear. (pymaid)\n",
      "INFO  : Cached data used. Use `pymaid.clear_cache()` to clear. (pymaid)\n",
      "INFO  : Done. Found 32 pre-, 0 postsynaptic and 0 gap junction-connected neurons (pymaid)\n",
      "INFO  : Cached data used. Use `pymaid.clear_cache()` to clear. (pymaid)\n",
      "INFO  : Cached data used. Use `pymaid.clear_cache()` to clear. (pymaid)\n",
      "INFO  : Cached data used. Use `pymaid.clear_cache()` to clear. (pymaid)\n",
      "INFO  : Cached data used. Use `pymaid.clear_cache()` to clear. (pymaid)\n",
      "INFO  : Cached data used. Use `pymaid.clear_cache()` to clear. (pymaid)\n",
      "INFO  : Cached data used. Use `pymaid.clear_cache()` to clear. (pymaid)\n",
      "INFO  : Fetching connectivity table for 1 neurons (pymaid)\n",
      "INFO  : Done. Found 0 pre-, 6 postsynaptic and 0 gap junction-connected neurons (pymaid)\n",
      "INFO  : Fetching connectivity table for 1 neurons (pymaid)\n",
      "INFO  : Cached data used. Use `pymaid.clear_cache()` to clear. (pymaid)\n",
      "INFO  : Cached data used. Use `pymaid.clear_cache()` to clear. (pymaid)\n",
      "INFO  : Done. Found 0 pre-, 6 postsynaptic and 0 gap junction-connected neurons (pymaid)\n",
      "INFO  : Fetching connectivity table for 1 neurons (pymaid)\n",
      "INFO  : Done. Found 0 pre-, 14 postsynaptic and 0 gap junction-connected neurons (pymaid)\n",
      "INFO  : Fetching connectivity table for 1 neurons (pymaid)\n",
      "INFO  : Cached data used. Use `pymaid.clear_cache()` to clear. (pymaid)\n",
      "INFO  : Cached data used. Use `pymaid.clear_cache()` to clear. (pymaid)\n",
      "INFO  : Done. Found 0 pre-, 14 postsynaptic and 0 gap junction-connected neurons (pymaid)\n",
      "INFO  : Fetching connectivity table for 1 neurons (pymaid)\n",
      "INFO  : Done. Found 0 pre-, 15 postsynaptic and 0 gap junction-connected neurons (pymaid)\n",
      "INFO  : Fetching connectivity table for 1 neurons (pymaid)\n",
      "INFO  : Cached data used. Use `pymaid.clear_cache()` to clear. (pymaid)\n",
      "INFO  : Cached data used. Use `pymaid.clear_cache()` to clear. (pymaid)\n",
      "INFO  : Done. Found 0 pre-, 15 postsynaptic and 0 gap junction-connected neurons (pymaid)\n",
      "INFO  : Fetching connectivity table for 1 neurons (pymaid)\n",
      "INFO  : Done. Found 0 pre-, 16 postsynaptic and 0 gap junction-connected neurons (pymaid)\n",
      "INFO  : Fetching connectivity table for 1 neurons (pymaid)\n",
      "INFO  : Cached data used. Use `pymaid.clear_cache()` to clear. (pymaid)\n",
      "INFO  : Cached data used. Use `pymaid.clear_cache()` to clear. (pymaid)\n",
      "INFO  : Done. Found 0 pre-, 16 postsynaptic and 0 gap junction-connected neurons (pymaid)\n",
      "INFO  : Fetching connectivity table for 1 neurons (pymaid)\n",
      "INFO  : Done. Found 0 pre-, 11 postsynaptic and 0 gap junction-connected neurons (pymaid)\n",
      "INFO  : Fetching connectivity table for 1 neurons (pymaid)\n",
      "INFO  : Cached data used. Use `pymaid.clear_cache()` to clear. (pymaid)\n",
      "INFO  : Cached data used. Use `pymaid.clear_cache()` to clear. (pymaid)\n",
      "INFO  : Done. Found 0 pre-, 11 postsynaptic and 0 gap junction-connected neurons (pymaid)\n",
      "INFO  : Fetching connectivity table for 1 neurons (pymaid)\n",
      "INFO  : Done. Found 0 pre-, 24 postsynaptic and 0 gap junction-connected neurons (pymaid)\n",
      "INFO  : Fetching connectivity table for 1 neurons (pymaid)\n",
      "INFO  : Cached data used. Use `pymaid.clear_cache()` to clear. (pymaid)\n",
      "INFO  : Cached data used. Use `pymaid.clear_cache()` to clear. (pymaid)\n",
      "INFO  : Done. Found 0 pre-, 24 postsynaptic and 0 gap junction-connected neurons (pymaid)\n",
      "INFO  : Fetching connectivity table for 1 neurons (pymaid)\n",
      "INFO  : Cached data used. Use `pymaid.clear_cache()` to clear. (pymaid)\n",
      "INFO  : Cached data used. Use `pymaid.clear_cache()` to clear. (pymaid)\n",
      "INFO  : Done. Found 31 pre-, 0 postsynaptic and 0 gap junction-connected neurons (pymaid)\n",
      "INFO  : Fetching connectivity table for 1 neurons (pymaid)\n",
      "INFO  : Cached data used. Use `pymaid.clear_cache()` to clear. (pymaid)\n",
      "INFO  : Cached data used. Use `pymaid.clear_cache()` to clear. (pymaid)\n",
      "INFO  : Done. Found 16 pre-, 0 postsynaptic and 0 gap junction-connected neurons (pymaid)\n",
      "INFO  : Fetching connectivity table for 1 neurons (pymaid)\n",
      "INFO  : Cached data used. Use `pymaid.clear_cache()` to clear. (pymaid)\n",
      "INFO  : Cached data used. Use `pymaid.clear_cache()` to clear. (pymaid)\n",
      "INFO  : Done. Found 32 pre-, 0 postsynaptic and 0 gap junction-connected neurons (pymaid)\n",
      "INFO  : Cached data used. Use `pymaid.clear_cache()` to clear. (pymaid)\n",
      "INFO  : Cached data used. Use `pymaid.clear_cache()` to clear. (pymaid)\n",
      "INFO  : Cached data used. Use `pymaid.clear_cache()` to clear. (pymaid)\n",
      "INFO  : Cached data used. Use `pymaid.clear_cache()` to clear. (pymaid)\n",
      "INFO  : Cached data used. Use `pymaid.clear_cache()` to clear. (pymaid)\n",
      "INFO  : Cached data used. Use `pymaid.clear_cache()` to clear. (pymaid)\n",
      "INFO  : Cached data used. Use `pymaid.clear_cache()` to clear. (pymaid)\n",
      "INFO  : Cached data used. Use `pymaid.clear_cache()` to clear. (pymaid)\n",
      "INFO  : Cached data used. Use `pymaid.clear_cache()` to clear. (pymaid)\n",
      "INFO  : Cached data used. Use `pymaid.clear_cache()` to clear. (pymaid)\n",
      "INFO  : Cached data used. Use `pymaid.clear_cache()` to clear. (pymaid)\n",
      "INFO  : Cached data used. Use `pymaid.clear_cache()` to clear. (pymaid)\n",
      "INFO  : Cached data used. Use `pymaid.clear_cache()` to clear. (pymaid)\n",
      "INFO  : Cached data used. Use `pymaid.clear_cache()` to clear. (pymaid)\n",
      "INFO  : Cached data used. Use `pymaid.clear_cache()` to clear. (pymaid)\n"
     ]
    },
    {
     "name": "stderr",
     "output_type": "stream",
     "text": [
      "INFO  : Cached data used. Use `pymaid.clear_cache()` to clear. (pymaid)\n",
      "INFO  : Cached data used. Use `pymaid.clear_cache()` to clear. (pymaid)\n",
      "INFO  : Cached data used. Use `pymaid.clear_cache()` to clear. (pymaid)\n",
      "INFO  : Cached data used. Use `pymaid.clear_cache()` to clear. (pymaid)\n",
      "INFO  : Cached data used. Use `pymaid.clear_cache()` to clear. (pymaid)\n",
      "INFO  : Cached data used. Use `pymaid.clear_cache()` to clear. (pymaid)\n",
      "INFO  : Cached data used. Use `pymaid.clear_cache()` to clear. (pymaid)\n",
      "INFO  : Cached data used. Use `pymaid.clear_cache()` to clear. (pymaid)\n",
      "INFO  : Cached data used. Use `pymaid.clear_cache()` to clear. (pymaid)\n",
      "INFO  : Cached data used. Use `pymaid.clear_cache()` to clear. (pymaid)\n",
      "INFO  : Cached data used. Use `pymaid.clear_cache()` to clear. (pymaid)\n",
      "INFO  : Cached data used. Use `pymaid.clear_cache()` to clear. (pymaid)\n",
      "INFO  : Cached data used. Use `pymaid.clear_cache()` to clear. (pymaid)\n",
      "INFO  : Cached data used. Use `pymaid.clear_cache()` to clear. (pymaid)\n",
      "INFO  : Cached data used. Use `pymaid.clear_cache()` to clear. (pymaid)\n",
      "INFO  : Cached data used. Use `pymaid.clear_cache()` to clear. (pymaid)\n",
      "INFO  : Cached data used. Use `pymaid.clear_cache()` to clear. (pymaid)\n",
      "INFO  : Cached data used. Use `pymaid.clear_cache()` to clear. (pymaid)\n",
      "INFO  : Fetching connectivity table for 1 neurons (pymaid)\n",
      "INFO  : Cached data used. Use `pymaid.clear_cache()` to clear. (pymaid)\n",
      "INFO  : Cached data used. Use `pymaid.clear_cache()` to clear. (pymaid)\n",
      "INFO  : Done. Found 0 pre-, 24 postsynaptic and 0 gap junction-connected neurons (pymaid)\n",
      "INFO  : Fetching connectivity table for 1 neurons (pymaid)\n",
      "INFO  : Cached data used. Use `pymaid.clear_cache()` to clear. (pymaid)\n",
      "INFO  : Cached data used. Use `pymaid.clear_cache()` to clear. (pymaid)\n",
      "INFO  : Done. Found 0 pre-, 24 postsynaptic and 0 gap junction-connected neurons (pymaid)\n",
      "INFO  : Fetching connectivity table for 1 neurons (pymaid)\n",
      "INFO  : Cached data used. Use `pymaid.clear_cache()` to clear. (pymaid)\n",
      "INFO  : Cached data used. Use `pymaid.clear_cache()` to clear. (pymaid)\n",
      "INFO  : Done. Found 31 pre-, 0 postsynaptic and 0 gap junction-connected neurons (pymaid)\n",
      "INFO  : Fetching connectivity table for 1 neurons (pymaid)\n",
      "INFO  : Cached data used. Use `pymaid.clear_cache()` to clear. (pymaid)\n",
      "INFO  : Cached data used. Use `pymaid.clear_cache()` to clear. (pymaid)\n",
      "INFO  : Done. Found 16 pre-, 0 postsynaptic and 0 gap junction-connected neurons (pymaid)\n",
      "INFO  : Fetching connectivity table for 1 neurons (pymaid)\n",
      "INFO  : Cached data used. Use `pymaid.clear_cache()` to clear. (pymaid)\n",
      "INFO  : Cached data used. Use `pymaid.clear_cache()` to clear. (pymaid)\n",
      "INFO  : Done. Found 32 pre-, 0 postsynaptic and 0 gap junction-connected neurons (pymaid)\n",
      "INFO  : Cached data used. Use `pymaid.clear_cache()` to clear. (pymaid)\n",
      "INFO  : Cached data used. Use `pymaid.clear_cache()` to clear. (pymaid)\n",
      "INFO  : Cached data used. Use `pymaid.clear_cache()` to clear. (pymaid)\n",
      "INFO  : Cached data used. Use `pymaid.clear_cache()` to clear. (pymaid)\n",
      "INFO  : Cached data used. Use `pymaid.clear_cache()` to clear. (pymaid)\n",
      "INFO  : Cached data used. Use `pymaid.clear_cache()` to clear. (pymaid)\n",
      "INFO  : Cached data used. Use `pymaid.clear_cache()` to clear. (pymaid)\n",
      "INFO  : Cached data used. Use `pymaid.clear_cache()` to clear. (pymaid)\n",
      "INFO  : Cached data used. Use `pymaid.clear_cache()` to clear. (pymaid)\n",
      "INFO  : Cached data used. Use `pymaid.clear_cache()` to clear. (pymaid)\n",
      "INFO  : Cached data used. Use `pymaid.clear_cache()` to clear. (pymaid)\n",
      "INFO  : Cached data used. Use `pymaid.clear_cache()` to clear. (pymaid)\n",
      "INFO  : Cached data used. Use `pymaid.clear_cache()` to clear. (pymaid)\n",
      "INFO  : Cached data used. Use `pymaid.clear_cache()` to clear. (pymaid)\n",
      "INFO  : Cached data used. Use `pymaid.clear_cache()` to clear. (pymaid)\n",
      "INFO  : Cached data used. Use `pymaid.clear_cache()` to clear. (pymaid)\n",
      "INFO  : Cached data used. Use `pymaid.clear_cache()` to clear. (pymaid)\n",
      "INFO  : Cached data used. Use `pymaid.clear_cache()` to clear. (pymaid)\n",
      "INFO  : Cached data used. Use `pymaid.clear_cache()` to clear. (pymaid)\n",
      "INFO  : Cached data used. Use `pymaid.clear_cache()` to clear. (pymaid)\n",
      "INFO  : Cached data used. Use `pymaid.clear_cache()` to clear. (pymaid)\n",
      "INFO  : Cached data used. Use `pymaid.clear_cache()` to clear. (pymaid)\n",
      "INFO  : Cached data used. Use `pymaid.clear_cache()` to clear. (pymaid)\n",
      "INFO  : Cached data used. Use `pymaid.clear_cache()` to clear. (pymaid)\n",
      "INFO  : Cached data used. Use `pymaid.clear_cache()` to clear. (pymaid)\n",
      "INFO  : Cached data used. Use `pymaid.clear_cache()` to clear. (pymaid)\n",
      "INFO  : Cached data used. Use `pymaid.clear_cache()` to clear. (pymaid)\n",
      "INFO  : Cached data used. Use `pymaid.clear_cache()` to clear. (pymaid)\n",
      "INFO  : Cached data used. Use `pymaid.clear_cache()` to clear. (pymaid)\n",
      "INFO  : Cached data used. Use `pymaid.clear_cache()` to clear. (pymaid)\n",
      "INFO  : Cached data used. Use `pymaid.clear_cache()` to clear. (pymaid)\n",
      "INFO  : Cached data used. Use `pymaid.clear_cache()` to clear. (pymaid)\n",
      "INFO  : Cached data used. Use `pymaid.clear_cache()` to clear. (pymaid)\n",
      "INFO  : Cached data used. Use `pymaid.clear_cache()` to clear. (pymaid)\n",
      "INFO  : Cached data used. Use `pymaid.clear_cache()` to clear. (pymaid)\n",
      "INFO  : Cached data used. Use `pymaid.clear_cache()` to clear. (pymaid)\n",
      "INFO  : Fetching connectivity table for 1 neurons (pymaid)\n",
      "INFO  : Done. Found 0 pre-, 12 postsynaptic and 0 gap junction-connected neurons (pymaid)\n",
      "INFO  : Fetching connectivity table for 1 neurons (pymaid)\n",
      "INFO  : Cached data used. Use `pymaid.clear_cache()` to clear. (pymaid)\n",
      "INFO  : Cached data used. Use `pymaid.clear_cache()` to clear. (pymaid)\n",
      "INFO  : Done. Found 0 pre-, 12 postsynaptic and 0 gap junction-connected neurons (pymaid)\n",
      "INFO  : Fetching connectivity table for 1 neurons (pymaid)\n",
      "INFO  : Done. Found 0 pre-, 21 postsynaptic and 0 gap junction-connected neurons (pymaid)\n",
      "INFO  : Fetching connectivity table for 1 neurons (pymaid)\n",
      "INFO  : Cached data used. Use `pymaid.clear_cache()` to clear. (pymaid)\n",
      "INFO  : Cached data used. Use `pymaid.clear_cache()` to clear. (pymaid)\n",
      "INFO  : Done. Found 0 pre-, 21 postsynaptic and 0 gap junction-connected neurons (pymaid)\n",
      "INFO  : Fetching connectivity table for 1 neurons (pymaid)\n",
      "INFO  : Done. Found 0 pre-, 1 postsynaptic and 0 gap junction-connected neurons (pymaid)\n",
      "INFO  : Fetching connectivity table for 1 neurons (pymaid)\n",
      "INFO  : Cached data used. Use `pymaid.clear_cache()` to clear. (pymaid)\n",
      "INFO  : Cached data used. Use `pymaid.clear_cache()` to clear. (pymaid)\n",
      "INFO  : Done. Found 0 pre-, 1 postsynaptic and 0 gap junction-connected neurons (pymaid)\n",
      "INFO  : Fetching connectivity table for 1 neurons (pymaid)\n",
      "INFO  : Done. Found 0 pre-, 20 postsynaptic and 0 gap junction-connected neurons (pymaid)\n",
      "INFO  : Fetching connectivity table for 1 neurons (pymaid)\n",
      "INFO  : Cached data used. Use `pymaid.clear_cache()` to clear. (pymaid)\n",
      "INFO  : Cached data used. Use `pymaid.clear_cache()` to clear. (pymaid)\n",
      "INFO  : Done. Found 0 pre-, 20 postsynaptic and 0 gap junction-connected neurons (pymaid)\n",
      "INFO  : Fetching connectivity table for 1 neurons (pymaid)\n",
      "INFO  : Done. Found 0 pre-, 12 postsynaptic and 0 gap junction-connected neurons (pymaid)\n",
      "INFO  : Fetching connectivity table for 1 neurons (pymaid)\n",
      "INFO  : Cached data used. Use `pymaid.clear_cache()` to clear. (pymaid)\n",
      "INFO  : Cached data used. Use `pymaid.clear_cache()` to clear. (pymaid)\n",
      "INFO  : Done. Found 0 pre-, 12 postsynaptic and 0 gap junction-connected neurons (pymaid)\n",
      "INFO  : Fetching connectivity table for 1 neurons (pymaid)\n",
      "INFO  : Done. Found 0 pre-, 7 postsynaptic and 0 gap junction-connected neurons (pymaid)\n",
      "INFO  : Fetching connectivity table for 1 neurons (pymaid)\n",
      "INFO  : Cached data used. Use `pymaid.clear_cache()` to clear. (pymaid)\n",
      "INFO  : Cached data used. Use `pymaid.clear_cache()` to clear. (pymaid)\n",
      "INFO  : Done. Found 0 pre-, 7 postsynaptic and 0 gap junction-connected neurons (pymaid)\n",
      "INFO  : Fetching connectivity table for 1 neurons (pymaid)\n",
      "INFO  : Done. Found 0 pre-, 0 postsynaptic and 0 gap junction-connected neurons (pymaid)\n",
      "INFO  : Fetching connectivity table for 1 neurons (pymaid)\n"
     ]
    },
    {
     "name": "stderr",
     "output_type": "stream",
     "text": [
      "INFO  : Cached data used. Use `pymaid.clear_cache()` to clear. (pymaid)\n",
      "INFO  : Cached data used. Use `pymaid.clear_cache()` to clear. (pymaid)\n",
      "INFO  : Done. Found 0 pre-, 0 postsynaptic and 0 gap junction-connected neurons (pymaid)\n",
      "INFO  : Fetching connectivity table for 1 neurons (pymaid)\n",
      "INFO  : Done. Found 0 pre-, 10 postsynaptic and 0 gap junction-connected neurons (pymaid)\n",
      "INFO  : Fetching connectivity table for 1 neurons (pymaid)\n",
      "INFO  : Cached data used. Use `pymaid.clear_cache()` to clear. (pymaid)\n",
      "INFO  : Cached data used. Use `pymaid.clear_cache()` to clear. (pymaid)\n",
      "INFO  : Done. Found 0 pre-, 10 postsynaptic and 0 gap junction-connected neurons (pymaid)\n",
      "INFO  : Fetching connectivity table for 1 neurons (pymaid)\n",
      "INFO  : Done. Found 0 pre-, 10 postsynaptic and 0 gap junction-connected neurons (pymaid)\n",
      "INFO  : Fetching connectivity table for 1 neurons (pymaid)\n",
      "INFO  : Cached data used. Use `pymaid.clear_cache()` to clear. (pymaid)\n",
      "INFO  : Cached data used. Use `pymaid.clear_cache()` to clear. (pymaid)\n",
      "INFO  : Done. Found 0 pre-, 10 postsynaptic and 0 gap junction-connected neurons (pymaid)\n",
      "INFO  : Fetching connectivity table for 1 neurons (pymaid)\n",
      "INFO  : Done. Found 0 pre-, 23 postsynaptic and 0 gap junction-connected neurons (pymaid)\n",
      "INFO  : Fetching connectivity table for 1 neurons (pymaid)\n",
      "INFO  : Cached data used. Use `pymaid.clear_cache()` to clear. (pymaid)\n",
      "INFO  : Cached data used. Use `pymaid.clear_cache()` to clear. (pymaid)\n",
      "INFO  : Done. Found 0 pre-, 23 postsynaptic and 0 gap junction-connected neurons (pymaid)\n",
      "INFO  : Fetching connectivity table for 1 neurons (pymaid)\n",
      "INFO  : Done. Found 0 pre-, 7 postsynaptic and 0 gap junction-connected neurons (pymaid)\n",
      "INFO  : Fetching connectivity table for 1 neurons (pymaid)\n",
      "INFO  : Cached data used. Use `pymaid.clear_cache()` to clear. (pymaid)\n",
      "INFO  : Cached data used. Use `pymaid.clear_cache()` to clear. (pymaid)\n",
      "INFO  : Done. Found 0 pre-, 7 postsynaptic and 0 gap junction-connected neurons (pymaid)\n",
      "INFO  : Fetching connectivity table for 1 neurons (pymaid)\n",
      "INFO  : Done. Found 0 pre-, 3 postsynaptic and 0 gap junction-connected neurons (pymaid)\n",
      "INFO  : Fetching connectivity table for 1 neurons (pymaid)\n",
      "INFO  : Cached data used. Use `pymaid.clear_cache()` to clear. (pymaid)\n",
      "INFO  : Cached data used. Use `pymaid.clear_cache()` to clear. (pymaid)\n",
      "INFO  : Done. Found 0 pre-, 3 postsynaptic and 0 gap junction-connected neurons (pymaid)\n",
      "INFO  : Fetching connectivity table for 1 neurons (pymaid)\n",
      "INFO  : Done. Found 0 pre-, 10 postsynaptic and 0 gap junction-connected neurons (pymaid)\n",
      "INFO  : Fetching connectivity table for 1 neurons (pymaid)\n",
      "INFO  : Cached data used. Use `pymaid.clear_cache()` to clear. (pymaid)\n",
      "INFO  : Cached data used. Use `pymaid.clear_cache()` to clear. (pymaid)\n",
      "INFO  : Done. Found 0 pre-, 10 postsynaptic and 0 gap junction-connected neurons (pymaid)\n",
      "INFO  : Fetching connectivity table for 1 neurons (pymaid)\n",
      "INFO  : Done. Found 0 pre-, 29 postsynaptic and 0 gap junction-connected neurons (pymaid)\n",
      "INFO  : Fetching connectivity table for 1 neurons (pymaid)\n",
      "INFO  : Cached data used. Use `pymaid.clear_cache()` to clear. (pymaid)\n",
      "INFO  : Cached data used. Use `pymaid.clear_cache()` to clear. (pymaid)\n",
      "INFO  : Done. Found 0 pre-, 29 postsynaptic and 0 gap junction-connected neurons (pymaid)\n",
      "INFO  : Fetching connectivity table for 1 neurons (pymaid)\n",
      "INFO  : Done. Found 0 pre-, 27 postsynaptic and 0 gap junction-connected neurons (pymaid)\n",
      "INFO  : Fetching connectivity table for 1 neurons (pymaid)\n",
      "INFO  : Cached data used. Use `pymaid.clear_cache()` to clear. (pymaid)\n",
      "INFO  : Cached data used. Use `pymaid.clear_cache()` to clear. (pymaid)\n",
      "INFO  : Done. Found 0 pre-, 27 postsynaptic and 0 gap junction-connected neurons (pymaid)\n",
      "INFO  : Fetching connectivity table for 1 neurons (pymaid)\n",
      "INFO  : Done. Found 0 pre-, 12 postsynaptic and 0 gap junction-connected neurons (pymaid)\n",
      "INFO  : Fetching connectivity table for 1 neurons (pymaid)\n",
      "INFO  : Cached data used. Use `pymaid.clear_cache()` to clear. (pymaid)\n",
      "INFO  : Cached data used. Use `pymaid.clear_cache()` to clear. (pymaid)\n",
      "INFO  : Done. Found 0 pre-, 12 postsynaptic and 0 gap junction-connected neurons (pymaid)\n",
      "INFO  : Fetching connectivity table for 1 neurons (pymaid)\n",
      "INFO  : Done. Found 26 pre-, 0 postsynaptic and 0 gap junction-connected neurons (pymaid)\n",
      "INFO  : Cached data used. Use `pymaid.clear_cache()` to clear. (pymaid)\n",
      "INFO  : Cached data used. Use `pymaid.clear_cache()` to clear. (pymaid)\n",
      "INFO  : Cached data used. Use `pymaid.clear_cache()` to clear. (pymaid)\n",
      "INFO  : Cached data used. Use `pymaid.clear_cache()` to clear. (pymaid)\n",
      "INFO  : Cached data used. Use `pymaid.clear_cache()` to clear. (pymaid)\n",
      "INFO  : Fetching connectivity table for 1 neurons (pymaid)\n",
      "INFO  : Cached data used. Use `pymaid.clear_cache()` to clear. (pymaid)\n",
      "INFO  : Cached data used. Use `pymaid.clear_cache()` to clear. (pymaid)\n",
      "INFO  : Done. Found 0 pre-, 12 postsynaptic and 0 gap junction-connected neurons (pymaid)\n",
      "INFO  : Fetching connectivity table for 1 neurons (pymaid)\n",
      "INFO  : Cached data used. Use `pymaid.clear_cache()` to clear. (pymaid)\n",
      "INFO  : Cached data used. Use `pymaid.clear_cache()` to clear. (pymaid)\n",
      "INFO  : Done. Found 0 pre-, 12 postsynaptic and 0 gap junction-connected neurons (pymaid)\n",
      "INFO  : Fetching connectivity table for 1 neurons (pymaid)\n",
      "INFO  : Cached data used. Use `pymaid.clear_cache()` to clear. (pymaid)\n",
      "INFO  : Cached data used. Use `pymaid.clear_cache()` to clear. (pymaid)\n",
      "INFO  : Done. Found 26 pre-, 0 postsynaptic and 0 gap junction-connected neurons (pymaid)\n",
      "INFO  : Cached data used. Use `pymaid.clear_cache()` to clear. (pymaid)\n",
      "INFO  : Cached data used. Use `pymaid.clear_cache()` to clear. (pymaid)\n",
      "INFO  : Cached data used. Use `pymaid.clear_cache()` to clear. (pymaid)\n",
      "INFO  : Cached data used. Use `pymaid.clear_cache()` to clear. (pymaid)\n",
      "INFO  : Cached data used. Use `pymaid.clear_cache()` to clear. (pymaid)\n",
      "INFO  : Cached data used. Use `pymaid.clear_cache()` to clear. (pymaid)\n",
      "INFO  : Cached data used. Use `pymaid.clear_cache()` to clear. (pymaid)\n",
      "INFO  : Cached data used. Use `pymaid.clear_cache()` to clear. (pymaid)\n",
      "INFO  : Cached data used. Use `pymaid.clear_cache()` to clear. (pymaid)\n",
      "INFO  : Fetching connectivity table for 1 neurons (pymaid)\n",
      "INFO  : Done. Found 0 pre-, 15 postsynaptic and 0 gap junction-connected neurons (pymaid)\n",
      "INFO  : Fetching connectivity table for 1 neurons (pymaid)\n",
      "INFO  : Cached data used. Use `pymaid.clear_cache()` to clear. (pymaid)\n",
      "INFO  : Cached data used. Use `pymaid.clear_cache()` to clear. (pymaid)\n",
      "INFO  : Done. Found 0 pre-, 15 postsynaptic and 0 gap junction-connected neurons (pymaid)\n",
      "INFO  : Fetching connectivity table for 1 neurons (pymaid)\n",
      "INFO  : Done. Found 16 pre-, 0 postsynaptic and 0 gap junction-connected neurons (pymaid)\n",
      "INFO  : Fetching connectivity table for 1 neurons (pymaid)\n",
      "INFO  : Cached data used. Use `pymaid.clear_cache()` to clear. (pymaid)\n",
      "INFO  : Cached data used. Use `pymaid.clear_cache()` to clear. (pymaid)\n",
      "INFO  : Done. Found 19 pre-, 0 postsynaptic and 0 gap junction-connected neurons (pymaid)\n",
      "INFO  : Cached data used. Use `pymaid.clear_cache()` to clear. (pymaid)\n",
      "INFO  : Cached data used. Use `pymaid.clear_cache()` to clear. (pymaid)\n",
      "INFO  : Cached data used. Use `pymaid.clear_cache()` to clear. (pymaid)\n",
      "INFO  : Cached data used. Use `pymaid.clear_cache()` to clear. (pymaid)\n",
      "INFO  : Cached data used. Use `pymaid.clear_cache()` to clear. (pymaid)\n",
      "INFO  : Cached data used. Use `pymaid.clear_cache()` to clear. (pymaid)\n",
      "INFO  : Cached data used. Use `pymaid.clear_cache()` to clear. (pymaid)\n",
      "INFO  : Cached data used. Use `pymaid.clear_cache()` to clear. (pymaid)\n",
      "INFO  : Cached data used. Use `pymaid.clear_cache()` to clear. (pymaid)\n",
      "INFO  : Cached data used. Use `pymaid.clear_cache()` to clear. (pymaid)\n",
      "INFO  : Fetching connectivity table for 1 neurons (pymaid)\n",
      "INFO  : Cached data used. Use `pymaid.clear_cache()` to clear. (pymaid)\n",
      "INFO  : Cached data used. Use `pymaid.clear_cache()` to clear. (pymaid)\n",
      "INFO  : Done. Found 0 pre-, 15 postsynaptic and 0 gap junction-connected neurons (pymaid)\n",
      "INFO  : Fetching connectivity table for 1 neurons (pymaid)\n"
     ]
    },
    {
     "name": "stderr",
     "output_type": "stream",
     "text": [
      "INFO  : Cached data used. Use `pymaid.clear_cache()` to clear. (pymaid)\n",
      "INFO  : Cached data used. Use `pymaid.clear_cache()` to clear. (pymaid)\n",
      "INFO  : Done. Found 0 pre-, 15 postsynaptic and 0 gap junction-connected neurons (pymaid)\n",
      "INFO  : Fetching connectivity table for 1 neurons (pymaid)\n",
      "INFO  : Cached data used. Use `pymaid.clear_cache()` to clear. (pymaid)\n",
      "INFO  : Cached data used. Use `pymaid.clear_cache()` to clear. (pymaid)\n",
      "INFO  : Done. Found 16 pre-, 0 postsynaptic and 0 gap junction-connected neurons (pymaid)\n",
      "INFO  : Fetching connectivity table for 1 neurons (pymaid)\n",
      "INFO  : Cached data used. Use `pymaid.clear_cache()` to clear. (pymaid)\n",
      "INFO  : Cached data used. Use `pymaid.clear_cache()` to clear. (pymaid)\n",
      "INFO  : Done. Found 19 pre-, 0 postsynaptic and 0 gap junction-connected neurons (pymaid)\n",
      "INFO  : Cached data used. Use `pymaid.clear_cache()` to clear. (pymaid)\n",
      "INFO  : Cached data used. Use `pymaid.clear_cache()` to clear. (pymaid)\n",
      "INFO  : Cached data used. Use `pymaid.clear_cache()` to clear. (pymaid)\n",
      "INFO  : Cached data used. Use `pymaid.clear_cache()` to clear. (pymaid)\n",
      "INFO  : Cached data used. Use `pymaid.clear_cache()` to clear. (pymaid)\n",
      "INFO  : Cached data used. Use `pymaid.clear_cache()` to clear. (pymaid)\n",
      "INFO  : Cached data used. Use `pymaid.clear_cache()` to clear. (pymaid)\n",
      "INFO  : Cached data used. Use `pymaid.clear_cache()` to clear. (pymaid)\n",
      "INFO  : Cached data used. Use `pymaid.clear_cache()` to clear. (pymaid)\n",
      "INFO  : Cached data used. Use `pymaid.clear_cache()` to clear. (pymaid)\n",
      "INFO  : Cached data used. Use `pymaid.clear_cache()` to clear. (pymaid)\n",
      "INFO  : Cached data used. Use `pymaid.clear_cache()` to clear. (pymaid)\n",
      "INFO  : Fetching connectivity table for 1 neurons (pymaid)\n",
      "INFO  : Done. Found 0 pre-, 13 postsynaptic and 0 gap junction-connected neurons (pymaid)\n",
      "INFO  : Fetching connectivity table for 1 neurons (pymaid)\n",
      "INFO  : Cached data used. Use `pymaid.clear_cache()` to clear. (pymaid)\n",
      "INFO  : Cached data used. Use `pymaid.clear_cache()` to clear. (pymaid)\n",
      "INFO  : Done. Found 0 pre-, 13 postsynaptic and 0 gap junction-connected neurons (pymaid)\n",
      "INFO  : Fetching connectivity table for 1 neurons (pymaid)\n",
      "INFO  : Cached data used. Use `pymaid.clear_cache()` to clear. (pymaid)\n",
      "INFO  : Cached data used. Use `pymaid.clear_cache()` to clear. (pymaid)\n",
      "INFO  : Done. Found 0 pre-, 50 postsynaptic and 0 gap junction-connected neurons (pymaid)\n",
      "INFO  : Fetching connectivity table for 1 neurons (pymaid)\n",
      "INFO  : Cached data used. Use `pymaid.clear_cache()` to clear. (pymaid)\n",
      "INFO  : Cached data used. Use `pymaid.clear_cache()` to clear. (pymaid)\n",
      "INFO  : Done. Found 0 pre-, 50 postsynaptic and 0 gap junction-connected neurons (pymaid)\n",
      "INFO  : Fetching connectivity table for 1 neurons (pymaid)\n",
      "INFO  : Done. Found 0 pre-, 41 postsynaptic and 0 gap junction-connected neurons (pymaid)\n",
      "INFO  : Fetching connectivity table for 1 neurons (pymaid)\n",
      "INFO  : Cached data used. Use `pymaid.clear_cache()` to clear. (pymaid)\n",
      "INFO  : Cached data used. Use `pymaid.clear_cache()` to clear. (pymaid)\n",
      "INFO  : Done. Found 0 pre-, 41 postsynaptic and 0 gap junction-connected neurons (pymaid)\n",
      "INFO  : Fetching connectivity table for 1 neurons (pymaid)\n",
      "INFO  : Done. Found 0 pre-, 36 postsynaptic and 0 gap junction-connected neurons (pymaid)\n",
      "INFO  : Fetching connectivity table for 1 neurons (pymaid)\n",
      "INFO  : Cached data used. Use `pymaid.clear_cache()` to clear. (pymaid)\n",
      "INFO  : Cached data used. Use `pymaid.clear_cache()` to clear. (pymaid)\n",
      "INFO  : Done. Found 0 pre-, 36 postsynaptic and 0 gap junction-connected neurons (pymaid)\n",
      "INFO  : Fetching connectivity table for 1 neurons (pymaid)\n",
      "INFO  : Done. Found 0 pre-, 15 postsynaptic and 0 gap junction-connected neurons (pymaid)\n",
      "INFO  : Fetching connectivity table for 1 neurons (pymaid)\n",
      "INFO  : Cached data used. Use `pymaid.clear_cache()` to clear. (pymaid)\n",
      "INFO  : Cached data used. Use `pymaid.clear_cache()` to clear. (pymaid)\n",
      "INFO  : Done. Found 0 pre-, 15 postsynaptic and 0 gap junction-connected neurons (pymaid)\n",
      "INFO  : Fetching connectivity table for 1 neurons (pymaid)\n",
      "INFO  : Done. Found 0 pre-, 32 postsynaptic and 0 gap junction-connected neurons (pymaid)\n",
      "INFO  : Fetching connectivity table for 1 neurons (pymaid)\n",
      "INFO  : Cached data used. Use `pymaid.clear_cache()` to clear. (pymaid)\n",
      "INFO  : Cached data used. Use `pymaid.clear_cache()` to clear. (pymaid)\n",
      "INFO  : Done. Found 0 pre-, 32 postsynaptic and 0 gap junction-connected neurons (pymaid)\n",
      "INFO  : Fetching connectivity table for 1 neurons (pymaid)\n",
      "INFO  : Done. Found 0 pre-, 1 postsynaptic and 0 gap junction-connected neurons (pymaid)\n",
      "INFO  : Fetching connectivity table for 1 neurons (pymaid)\n",
      "INFO  : Cached data used. Use `pymaid.clear_cache()` to clear. (pymaid)\n",
      "INFO  : Cached data used. Use `pymaid.clear_cache()` to clear. (pymaid)\n",
      "INFO  : Done. Found 0 pre-, 1 postsynaptic and 0 gap junction-connected neurons (pymaid)\n",
      "INFO  : Fetching connectivity table for 1 neurons (pymaid)\n",
      "INFO  : Done. Found 0 pre-, 16 postsynaptic and 0 gap junction-connected neurons (pymaid)\n",
      "INFO  : Fetching connectivity table for 1 neurons (pymaid)\n",
      "INFO  : Cached data used. Use `pymaid.clear_cache()` to clear. (pymaid)\n",
      "INFO  : Cached data used. Use `pymaid.clear_cache()` to clear. (pymaid)\n",
      "INFO  : Done. Found 0 pre-, 16 postsynaptic and 0 gap junction-connected neurons (pymaid)\n",
      "INFO  : Fetching connectivity table for 1 neurons (pymaid)\n",
      "INFO  : Done. Found 0 pre-, 13 postsynaptic and 0 gap junction-connected neurons (pymaid)\n",
      "INFO  : Fetching connectivity table for 1 neurons (pymaid)\n",
      "INFO  : Cached data used. Use `pymaid.clear_cache()` to clear. (pymaid)\n",
      "INFO  : Cached data used. Use `pymaid.clear_cache()` to clear. (pymaid)\n",
      "INFO  : Done. Found 0 pre-, 13 postsynaptic and 0 gap junction-connected neurons (pymaid)\n",
      "INFO  : Fetching connectivity table for 1 neurons (pymaid)\n",
      "INFO  : Done. Found 0 pre-, 28 postsynaptic and 0 gap junction-connected neurons (pymaid)\n",
      "INFO  : Fetching connectivity table for 1 neurons (pymaid)\n",
      "INFO  : Cached data used. Use `pymaid.clear_cache()` to clear. (pymaid)\n",
      "INFO  : Cached data used. Use `pymaid.clear_cache()` to clear. (pymaid)\n",
      "INFO  : Done. Found 0 pre-, 28 postsynaptic and 0 gap junction-connected neurons (pymaid)\n",
      "INFO  : Fetching connectivity table for 1 neurons (pymaid)\n",
      "INFO  : Done. Found 0 pre-, 43 postsynaptic and 0 gap junction-connected neurons (pymaid)\n",
      "INFO  : Fetching connectivity table for 1 neurons (pymaid)\n",
      "INFO  : Cached data used. Use `pymaid.clear_cache()` to clear. (pymaid)\n",
      "INFO  : Cached data used. Use `pymaid.clear_cache()` to clear. (pymaid)\n",
      "INFO  : Done. Found 0 pre-, 43 postsynaptic and 0 gap junction-connected neurons (pymaid)\n",
      "INFO  : Fetching connectivity table for 1 neurons (pymaid)\n",
      "INFO  : Done. Found 0 pre-, 31 postsynaptic and 0 gap junction-connected neurons (pymaid)\n",
      "INFO  : Fetching connectivity table for 1 neurons (pymaid)\n",
      "INFO  : Cached data used. Use `pymaid.clear_cache()` to clear. (pymaid)\n",
      "INFO  : Cached data used. Use `pymaid.clear_cache()` to clear. (pymaid)\n",
      "INFO  : Done. Found 0 pre-, 31 postsynaptic and 0 gap junction-connected neurons (pymaid)\n",
      "INFO  : Fetching connectivity table for 1 neurons (pymaid)\n",
      "INFO  : Done. Found 0 pre-, 6 postsynaptic and 0 gap junction-connected neurons (pymaid)\n",
      "INFO  : Fetching connectivity table for 1 neurons (pymaid)\n",
      "INFO  : Cached data used. Use `pymaid.clear_cache()` to clear. (pymaid)\n",
      "INFO  : Cached data used. Use `pymaid.clear_cache()` to clear. (pymaid)\n",
      "INFO  : Done. Found 0 pre-, 6 postsynaptic and 0 gap junction-connected neurons (pymaid)\n",
      "INFO  : Fetching connectivity table for 1 neurons (pymaid)\n",
      "INFO  : Done. Found 0 pre-, 22 postsynaptic and 0 gap junction-connected neurons (pymaid)\n",
      "INFO  : Fetching connectivity table for 1 neurons (pymaid)\n",
      "INFO  : Cached data used. Use `pymaid.clear_cache()` to clear. (pymaid)\n",
      "INFO  : Cached data used. Use `pymaid.clear_cache()` to clear. (pymaid)\n",
      "INFO  : Done. Found 0 pre-, 22 postsynaptic and 0 gap junction-connected neurons (pymaid)\n",
      "INFO  : Fetching connectivity table for 1 neurons (pymaid)\n",
      "INFO  : Done. Found 0 pre-, 19 postsynaptic and 0 gap junction-connected neurons (pymaid)\n",
      "INFO  : Fetching connectivity table for 1 neurons (pymaid)\n"
     ]
    },
    {
     "name": "stderr",
     "output_type": "stream",
     "text": [
      "INFO  : Cached data used. Use `pymaid.clear_cache()` to clear. (pymaid)\n",
      "INFO  : Cached data used. Use `pymaid.clear_cache()` to clear. (pymaid)\n",
      "INFO  : Done. Found 0 pre-, 19 postsynaptic and 0 gap junction-connected neurons (pymaid)\n",
      "INFO  : Fetching connectivity table for 1 neurons (pymaid)\n",
      "INFO  : Done. Found 0 pre-, 15 postsynaptic and 0 gap junction-connected neurons (pymaid)\n",
      "INFO  : Fetching connectivity table for 1 neurons (pymaid)\n",
      "INFO  : Cached data used. Use `pymaid.clear_cache()` to clear. (pymaid)\n",
      "INFO  : Cached data used. Use `pymaid.clear_cache()` to clear. (pymaid)\n",
      "INFO  : Done. Found 0 pre-, 15 postsynaptic and 0 gap junction-connected neurons (pymaid)\n",
      "INFO  : Fetching connectivity table for 1 neurons (pymaid)\n",
      "INFO  : Done. Found 0 pre-, 27 postsynaptic and 0 gap junction-connected neurons (pymaid)\n",
      "INFO  : Fetching connectivity table for 1 neurons (pymaid)\n",
      "INFO  : Cached data used. Use `pymaid.clear_cache()` to clear. (pymaid)\n",
      "INFO  : Cached data used. Use `pymaid.clear_cache()` to clear. (pymaid)\n",
      "INFO  : Done. Found 0 pre-, 27 postsynaptic and 0 gap junction-connected neurons (pymaid)\n",
      "INFO  : Fetching connectivity table for 1 neurons (pymaid)\n",
      "INFO  : Done. Found 0 pre-, 3 postsynaptic and 0 gap junction-connected neurons (pymaid)\n",
      "INFO  : Fetching connectivity table for 1 neurons (pymaid)\n",
      "INFO  : Cached data used. Use `pymaid.clear_cache()` to clear. (pymaid)\n",
      "INFO  : Cached data used. Use `pymaid.clear_cache()` to clear. (pymaid)\n",
      "INFO  : Done. Found 0 pre-, 3 postsynaptic and 0 gap junction-connected neurons (pymaid)\n",
      "INFO  : Fetching connectivity table for 1 neurons (pymaid)\n",
      "INFO  : Done. Found 0 pre-, 33 postsynaptic and 0 gap junction-connected neurons (pymaid)\n",
      "INFO  : Fetching connectivity table for 1 neurons (pymaid)\n",
      "INFO  : Cached data used. Use `pymaid.clear_cache()` to clear. (pymaid)\n",
      "INFO  : Cached data used. Use `pymaid.clear_cache()` to clear. (pymaid)\n",
      "INFO  : Done. Found 0 pre-, 33 postsynaptic and 0 gap junction-connected neurons (pymaid)\n",
      "INFO  : Fetching connectivity table for 1 neurons (pymaid)\n",
      "INFO  : Done. Found 0 pre-, 18 postsynaptic and 0 gap junction-connected neurons (pymaid)\n",
      "INFO  : Fetching connectivity table for 1 neurons (pymaid)\n",
      "INFO  : Cached data used. Use `pymaid.clear_cache()` to clear. (pymaid)\n",
      "INFO  : Cached data used. Use `pymaid.clear_cache()` to clear. (pymaid)\n",
      "INFO  : Done. Found 0 pre-, 18 postsynaptic and 0 gap junction-connected neurons (pymaid)\n",
      "INFO  : Fetching connectivity table for 1 neurons (pymaid)\n",
      "INFO  : Done. Found 0 pre-, 18 postsynaptic and 0 gap junction-connected neurons (pymaid)\n",
      "INFO  : Fetching connectivity table for 1 neurons (pymaid)\n",
      "INFO  : Cached data used. Use `pymaid.clear_cache()` to clear. (pymaid)\n",
      "INFO  : Cached data used. Use `pymaid.clear_cache()` to clear. (pymaid)\n",
      "INFO  : Done. Found 0 pre-, 18 postsynaptic and 0 gap junction-connected neurons (pymaid)\n",
      "INFO  : Fetching connectivity table for 1 neurons (pymaid)\n",
      "INFO  : Cached data used. Use `pymaid.clear_cache()` to clear. (pymaid)\n",
      "INFO  : Cached data used. Use `pymaid.clear_cache()` to clear. (pymaid)\n",
      "INFO  : Done. Found 32 pre-, 0 postsynaptic and 0 gap junction-connected neurons (pymaid)\n",
      "INFO  : Cached data used. Use `pymaid.clear_cache()` to clear. (pymaid)\n",
      "INFO  : Cached data used. Use `pymaid.clear_cache()` to clear. (pymaid)\n",
      "INFO  : Cached data used. Use `pymaid.clear_cache()` to clear. (pymaid)\n",
      "INFO  : Cached data used. Use `pymaid.clear_cache()` to clear. (pymaid)\n",
      "INFO  : Fetching connectivity table for 1 neurons (pymaid)\n",
      "INFO  : Cached data used. Use `pymaid.clear_cache()` to clear. (pymaid)\n",
      "INFO  : Cached data used. Use `pymaid.clear_cache()` to clear. (pymaid)\n",
      "INFO  : Done. Found 0 pre-, 18 postsynaptic and 0 gap junction-connected neurons (pymaid)\n",
      "INFO  : Fetching connectivity table for 1 neurons (pymaid)\n",
      "INFO  : Cached data used. Use `pymaid.clear_cache()` to clear. (pymaid)\n",
      "INFO  : Cached data used. Use `pymaid.clear_cache()` to clear. (pymaid)\n",
      "INFO  : Done. Found 0 pre-, 18 postsynaptic and 0 gap junction-connected neurons (pymaid)\n",
      "INFO  : Fetching connectivity table for 1 neurons (pymaid)\n",
      "INFO  : Cached data used. Use `pymaid.clear_cache()` to clear. (pymaid)\n",
      "INFO  : Cached data used. Use `pymaid.clear_cache()` to clear. (pymaid)\n",
      "INFO  : Done. Found 32 pre-, 0 postsynaptic and 0 gap junction-connected neurons (pymaid)\n",
      "INFO  : Cached data used. Use `pymaid.clear_cache()` to clear. (pymaid)\n",
      "INFO  : Cached data used. Use `pymaid.clear_cache()` to clear. (pymaid)\n",
      "INFO  : Cached data used. Use `pymaid.clear_cache()` to clear. (pymaid)\n",
      "INFO  : Cached data used. Use `pymaid.clear_cache()` to clear. (pymaid)\n",
      "INFO  : Cached data used. Use `pymaid.clear_cache()` to clear. (pymaid)\n",
      "INFO  : Cached data used. Use `pymaid.clear_cache()` to clear. (pymaid)\n",
      "INFO  : Fetching connectivity table for 1 neurons (pymaid)\n",
      "INFO  : Done. Found 0 pre-, 2 postsynaptic and 0 gap junction-connected neurons (pymaid)\n",
      "INFO  : Fetching connectivity table for 1 neurons (pymaid)\n",
      "INFO  : Cached data used. Use `pymaid.clear_cache()` to clear. (pymaid)\n",
      "INFO  : Cached data used. Use `pymaid.clear_cache()` to clear. (pymaid)\n",
      "INFO  : Done. Found 0 pre-, 2 postsynaptic and 0 gap junction-connected neurons (pymaid)\n",
      "INFO  : Fetching connectivity table for 1 neurons (pymaid)\n",
      "INFO  : Done. Found 0 pre-, 44 postsynaptic and 0 gap junction-connected neurons (pymaid)\n",
      "INFO  : Fetching connectivity table for 1 neurons (pymaid)\n",
      "INFO  : Cached data used. Use `pymaid.clear_cache()` to clear. (pymaid)\n",
      "INFO  : Cached data used. Use `pymaid.clear_cache()` to clear. (pymaid)\n",
      "INFO  : Done. Found 0 pre-, 44 postsynaptic and 0 gap junction-connected neurons (pymaid)\n",
      "INFO  : Fetching connectivity table for 1 neurons (pymaid)\n",
      "INFO  : Done. Found 0 pre-, 21 postsynaptic and 0 gap junction-connected neurons (pymaid)\n",
      "INFO  : Fetching connectivity table for 1 neurons (pymaid)\n",
      "INFO  : Cached data used. Use `pymaid.clear_cache()` to clear. (pymaid)\n",
      "INFO  : Cached data used. Use `pymaid.clear_cache()` to clear. (pymaid)\n",
      "INFO  : Done. Found 0 pre-, 21 postsynaptic and 0 gap junction-connected neurons (pymaid)\n",
      "INFO  : Fetching connectivity table for 1 neurons (pymaid)\n",
      "INFO  : Done. Found 0 pre-, 8 postsynaptic and 0 gap junction-connected neurons (pymaid)\n",
      "INFO  : Fetching connectivity table for 1 neurons (pymaid)\n",
      "INFO  : Cached data used. Use `pymaid.clear_cache()` to clear. (pymaid)\n",
      "INFO  : Cached data used. Use `pymaid.clear_cache()` to clear. (pymaid)\n",
      "INFO  : Done. Found 0 pre-, 8 postsynaptic and 0 gap junction-connected neurons (pymaid)\n",
      "INFO  : Fetching connectivity table for 1 neurons (pymaid)\n",
      "INFO  : Done. Found 0 pre-, 8 postsynaptic and 0 gap junction-connected neurons (pymaid)\n",
      "INFO  : Fetching connectivity table for 1 neurons (pymaid)\n",
      "INFO  : Cached data used. Use `pymaid.clear_cache()` to clear. (pymaid)\n",
      "INFO  : Cached data used. Use `pymaid.clear_cache()` to clear. (pymaid)\n",
      "INFO  : Done. Found 0 pre-, 8 postsynaptic and 0 gap junction-connected neurons (pymaid)\n",
      "INFO  : Fetching connectivity table for 1 neurons (pymaid)\n",
      "INFO  : Done. Found 0 pre-, 9 postsynaptic and 0 gap junction-connected neurons (pymaid)\n",
      "INFO  : Fetching connectivity table for 1 neurons (pymaid)\n",
      "INFO  : Cached data used. Use `pymaid.clear_cache()` to clear. (pymaid)\n",
      "INFO  : Cached data used. Use `pymaid.clear_cache()` to clear. (pymaid)\n",
      "INFO  : Done. Found 0 pre-, 9 postsynaptic and 0 gap junction-connected neurons (pymaid)\n",
      "INFO  : Fetching connectivity table for 1 neurons (pymaid)\n",
      "INFO  : Cached data used. Use `pymaid.clear_cache()` to clear. (pymaid)\n",
      "INFO  : Cached data used. Use `pymaid.clear_cache()` to clear. (pymaid)\n",
      "INFO  : Done. Found 32 pre-, 0 postsynaptic and 0 gap junction-connected neurons (pymaid)\n",
      "INFO  : Cached data used. Use `pymaid.clear_cache()` to clear. (pymaid)\n",
      "INFO  : Cached data used. Use `pymaid.clear_cache()` to clear. (pymaid)\n",
      "INFO  : Fetching connectivity table for 1 neurons (pymaid)\n",
      "INFO  : Cached data used. Use `pymaid.clear_cache()` to clear. (pymaid)\n",
      "INFO  : Cached data used. Use `pymaid.clear_cache()` to clear. (pymaid)\n",
      "INFO  : Done. Found 0 pre-, 9 postsynaptic and 0 gap junction-connected neurons (pymaid)\n",
      "INFO  : Fetching connectivity table for 1 neurons (pymaid)\n"
     ]
    },
    {
     "name": "stderr",
     "output_type": "stream",
     "text": [
      "INFO  : Cached data used. Use `pymaid.clear_cache()` to clear. (pymaid)\n",
      "INFO  : Cached data used. Use `pymaid.clear_cache()` to clear. (pymaid)\n",
      "INFO  : Done. Found 0 pre-, 9 postsynaptic and 0 gap junction-connected neurons (pymaid)\n",
      "INFO  : Fetching connectivity table for 1 neurons (pymaid)\n",
      "INFO  : Cached data used. Use `pymaid.clear_cache()` to clear. (pymaid)\n",
      "INFO  : Cached data used. Use `pymaid.clear_cache()` to clear. (pymaid)\n",
      "INFO  : Done. Found 32 pre-, 0 postsynaptic and 0 gap junction-connected neurons (pymaid)\n",
      "INFO  : Cached data used. Use `pymaid.clear_cache()` to clear. (pymaid)\n",
      "INFO  : Cached data used. Use `pymaid.clear_cache()` to clear. (pymaid)\n",
      "INFO  : Cached data used. Use `pymaid.clear_cache()` to clear. (pymaid)\n",
      "INFO  : Fetching connectivity table for 1 neurons (pymaid)\n",
      "INFO  : Done. Found 0 pre-, 23 postsynaptic and 0 gap junction-connected neurons (pymaid)\n",
      "INFO  : Fetching connectivity table for 1 neurons (pymaid)\n",
      "INFO  : Cached data used. Use `pymaid.clear_cache()` to clear. (pymaid)\n",
      "INFO  : Cached data used. Use `pymaid.clear_cache()` to clear. (pymaid)\n",
      "INFO  : Done. Found 0 pre-, 23 postsynaptic and 0 gap junction-connected neurons (pymaid)\n",
      "INFO  : Fetching connectivity table for 1 neurons (pymaid)\n",
      "INFO  : Done. Found 0 pre-, 14 postsynaptic and 0 gap junction-connected neurons (pymaid)\n",
      "INFO  : Fetching connectivity table for 1 neurons (pymaid)\n",
      "INFO  : Cached data used. Use `pymaid.clear_cache()` to clear. (pymaid)\n",
      "INFO  : Cached data used. Use `pymaid.clear_cache()` to clear. (pymaid)\n",
      "INFO  : Done. Found 0 pre-, 14 postsynaptic and 0 gap junction-connected neurons (pymaid)\n",
      "INFO  : Fetching connectivity table for 1 neurons (pymaid)\n",
      "INFO  : Done. Found 0 pre-, 31 postsynaptic and 0 gap junction-connected neurons (pymaid)\n",
      "INFO  : Fetching connectivity table for 1 neurons (pymaid)\n",
      "INFO  : Cached data used. Use `pymaid.clear_cache()` to clear. (pymaid)\n",
      "INFO  : Cached data used. Use `pymaid.clear_cache()` to clear. (pymaid)\n",
      "INFO  : Done. Found 0 pre-, 31 postsynaptic and 0 gap junction-connected neurons (pymaid)\n",
      "INFO  : Fetching connectivity table for 1 neurons (pymaid)\n",
      "INFO  : Done. Found 0 pre-, 19 postsynaptic and 0 gap junction-connected neurons (pymaid)\n",
      "INFO  : Fetching connectivity table for 1 neurons (pymaid)\n",
      "INFO  : Cached data used. Use `pymaid.clear_cache()` to clear. (pymaid)\n",
      "INFO  : Cached data used. Use `pymaid.clear_cache()` to clear. (pymaid)\n",
      "INFO  : Done. Found 0 pre-, 19 postsynaptic and 0 gap junction-connected neurons (pymaid)\n",
      "INFO  : Fetching connectivity table for 1 neurons (pymaid)\n",
      "INFO  : Done. Found 0 pre-, 71 postsynaptic and 0 gap junction-connected neurons (pymaid)\n",
      "INFO  : Fetching connectivity table for 1 neurons (pymaid)\n",
      "INFO  : Cached data used. Use `pymaid.clear_cache()` to clear. (pymaid)\n",
      "INFO  : Cached data used. Use `pymaid.clear_cache()` to clear. (pymaid)\n",
      "INFO  : Done. Found 0 pre-, 71 postsynaptic and 0 gap junction-connected neurons (pymaid)\n",
      "INFO  : Fetching connectivity table for 1 neurons (pymaid)\n",
      "INFO  : Done. Found 0 pre-, 42 postsynaptic and 0 gap junction-connected neurons (pymaid)\n",
      "INFO  : Fetching connectivity table for 1 neurons (pymaid)\n",
      "INFO  : Cached data used. Use `pymaid.clear_cache()` to clear. (pymaid)\n",
      "INFO  : Cached data used. Use `pymaid.clear_cache()` to clear. (pymaid)\n",
      "INFO  : Done. Found 0 pre-, 42 postsynaptic and 0 gap junction-connected neurons (pymaid)\n",
      "INFO  : Fetching connectivity table for 1 neurons (pymaid)\n",
      "INFO  : Cached data used. Use `pymaid.clear_cache()` to clear. (pymaid)\n",
      "INFO  : Cached data used. Use `pymaid.clear_cache()` to clear. (pymaid)\n",
      "INFO  : Done. Found 16 pre-, 0 postsynaptic and 0 gap junction-connected neurons (pymaid)\n",
      "INFO  : Cached data used. Use `pymaid.clear_cache()` to clear. (pymaid)\n",
      "INFO  : Cached data used. Use `pymaid.clear_cache()` to clear. (pymaid)\n",
      "INFO  : Cached data used. Use `pymaid.clear_cache()` to clear. (pymaid)\n",
      "INFO  : Cached data used. Use `pymaid.clear_cache()` to clear. (pymaid)\n",
      "INFO  : Cached data used. Use `pymaid.clear_cache()` to clear. (pymaid)\n",
      "INFO  : Cached data used. Use `pymaid.clear_cache()` to clear. (pymaid)\n",
      "INFO  : Fetching connectivity table for 1 neurons (pymaid)\n",
      "INFO  : Cached data used. Use `pymaid.clear_cache()` to clear. (pymaid)\n",
      "INFO  : Cached data used. Use `pymaid.clear_cache()` to clear. (pymaid)\n",
      "INFO  : Done. Found 0 pre-, 42 postsynaptic and 0 gap junction-connected neurons (pymaid)\n",
      "INFO  : Fetching connectivity table for 1 neurons (pymaid)\n",
      "INFO  : Cached data used. Use `pymaid.clear_cache()` to clear. (pymaid)\n",
      "INFO  : Cached data used. Use `pymaid.clear_cache()` to clear. (pymaid)\n",
      "INFO  : Done. Found 0 pre-, 42 postsynaptic and 0 gap junction-connected neurons (pymaid)\n",
      "INFO  : Fetching connectivity table for 1 neurons (pymaid)\n",
      "INFO  : Cached data used. Use `pymaid.clear_cache()` to clear. (pymaid)\n",
      "INFO  : Cached data used. Use `pymaid.clear_cache()` to clear. (pymaid)\n",
      "INFO  : Done. Found 16 pre-, 0 postsynaptic and 0 gap junction-connected neurons (pymaid)\n",
      "INFO  : Cached data used. Use `pymaid.clear_cache()` to clear. (pymaid)\n",
      "INFO  : Cached data used. Use `pymaid.clear_cache()` to clear. (pymaid)\n",
      "INFO  : Cached data used. Use `pymaid.clear_cache()` to clear. (pymaid)\n",
      "INFO  : Cached data used. Use `pymaid.clear_cache()` to clear. (pymaid)\n",
      "INFO  : Cached data used. Use `pymaid.clear_cache()` to clear. (pymaid)\n",
      "INFO  : Cached data used. Use `pymaid.clear_cache()` to clear. (pymaid)\n",
      "INFO  : Cached data used. Use `pymaid.clear_cache()` to clear. (pymaid)\n",
      "INFO  : Cached data used. Use `pymaid.clear_cache()` to clear. (pymaid)\n",
      "INFO  : Cached data used. Use `pymaid.clear_cache()` to clear. (pymaid)\n",
      "INFO  : Fetching connectivity table for 1 neurons (pymaid)\n",
      "INFO  : Done. Found 0 pre-, 22 postsynaptic and 0 gap junction-connected neurons (pymaid)\n",
      "INFO  : Fetching connectivity table for 1 neurons (pymaid)\n",
      "INFO  : Cached data used. Use `pymaid.clear_cache()` to clear. (pymaid)\n",
      "INFO  : Cached data used. Use `pymaid.clear_cache()` to clear. (pymaid)\n",
      "INFO  : Done. Found 0 pre-, 22 postsynaptic and 0 gap junction-connected neurons (pymaid)\n",
      "INFO  : Fetching connectivity table for 1 neurons (pymaid)\n",
      "INFO  : Cached data used. Use `pymaid.clear_cache()` to clear. (pymaid)\n",
      "INFO  : Cached data used. Use `pymaid.clear_cache()` to clear. (pymaid)\n",
      "INFO  : Done. Found 16 pre-, 0 postsynaptic and 0 gap junction-connected neurons (pymaid)\n",
      "INFO  : Fetching connectivity table for 1 neurons (pymaid)\n",
      "INFO  : Cached data used. Use `pymaid.clear_cache()` to clear. (pymaid)\n",
      "INFO  : Cached data used. Use `pymaid.clear_cache()` to clear. (pymaid)\n",
      "INFO  : Done. Found 26 pre-, 0 postsynaptic and 0 gap junction-connected neurons (pymaid)\n",
      "INFO  : Fetching connectivity table for 1 neurons (pymaid)\n",
      "INFO  : Cached data used. Use `pymaid.clear_cache()` to clear. (pymaid)\n",
      "INFO  : Cached data used. Use `pymaid.clear_cache()` to clear. (pymaid)\n",
      "INFO  : Done. Found 19 pre-, 0 postsynaptic and 0 gap junction-connected neurons (pymaid)\n",
      "INFO  : Cached data used. Use `pymaid.clear_cache()` to clear. (pymaid)\n",
      "INFO  : Cached data used. Use `pymaid.clear_cache()` to clear. (pymaid)\n",
      "INFO  : Cached data used. Use `pymaid.clear_cache()` to clear. (pymaid)\n",
      "INFO  : Cached data used. Use `pymaid.clear_cache()` to clear. (pymaid)\n",
      "INFO  : Cached data used. Use `pymaid.clear_cache()` to clear. (pymaid)\n",
      "INFO  : Cached data used. Use `pymaid.clear_cache()` to clear. (pymaid)\n",
      "INFO  : Cached data used. Use `pymaid.clear_cache()` to clear. (pymaid)\n",
      "INFO  : Cached data used. Use `pymaid.clear_cache()` to clear. (pymaid)\n",
      "INFO  : Cached data used. Use `pymaid.clear_cache()` to clear. (pymaid)\n",
      "INFO  : Cached data used. Use `pymaid.clear_cache()` to clear. (pymaid)\n",
      "INFO  : Cached data used. Use `pymaid.clear_cache()` to clear. (pymaid)\n",
      "INFO  : Cached data used. Use `pymaid.clear_cache()` to clear. (pymaid)\n",
      "INFO  : Cached data used. Use `pymaid.clear_cache()` to clear. (pymaid)\n",
      "INFO  : Cached data used. Use `pymaid.clear_cache()` to clear. (pymaid)\n",
      "INFO  : Cached data used. Use `pymaid.clear_cache()` to clear. (pymaid)\n",
      "INFO  : Cached data used. Use `pymaid.clear_cache()` to clear. (pymaid)\n",
      "INFO  : Cached data used. Use `pymaid.clear_cache()` to clear. (pymaid)\n",
      "INFO  : Cached data used. Use `pymaid.clear_cache()` to clear. (pymaid)\n"
     ]
    },
    {
     "name": "stderr",
     "output_type": "stream",
     "text": [
      "INFO  : Cached data used. Use `pymaid.clear_cache()` to clear. (pymaid)\n",
      "INFO  : Cached data used. Use `pymaid.clear_cache()` to clear. (pymaid)\n",
      "INFO  : Fetching connectivity table for 1 neurons (pymaid)\n",
      "INFO  : Cached data used. Use `pymaid.clear_cache()` to clear. (pymaid)\n",
      "INFO  : Cached data used. Use `pymaid.clear_cache()` to clear. (pymaid)\n",
      "INFO  : Done. Found 0 pre-, 22 postsynaptic and 0 gap junction-connected neurons (pymaid)\n",
      "INFO  : Fetching connectivity table for 1 neurons (pymaid)\n",
      "INFO  : Cached data used. Use `pymaid.clear_cache()` to clear. (pymaid)\n",
      "INFO  : Cached data used. Use `pymaid.clear_cache()` to clear. (pymaid)\n",
      "INFO  : Done. Found 0 pre-, 22 postsynaptic and 0 gap junction-connected neurons (pymaid)\n",
      "INFO  : Fetching connectivity table for 1 neurons (pymaid)\n",
      "INFO  : Cached data used. Use `pymaid.clear_cache()` to clear. (pymaid)\n",
      "INFO  : Cached data used. Use `pymaid.clear_cache()` to clear. (pymaid)\n",
      "INFO  : Done. Found 16 pre-, 0 postsynaptic and 0 gap junction-connected neurons (pymaid)\n",
      "INFO  : Fetching connectivity table for 1 neurons (pymaid)\n",
      "INFO  : Cached data used. Use `pymaid.clear_cache()` to clear. (pymaid)\n",
      "INFO  : Cached data used. Use `pymaid.clear_cache()` to clear. (pymaid)\n",
      "INFO  : Done. Found 26 pre-, 0 postsynaptic and 0 gap junction-connected neurons (pymaid)\n",
      "INFO  : Fetching connectivity table for 1 neurons (pymaid)\n",
      "INFO  : Cached data used. Use `pymaid.clear_cache()` to clear. (pymaid)\n",
      "INFO  : Cached data used. Use `pymaid.clear_cache()` to clear. (pymaid)\n",
      "INFO  : Done. Found 19 pre-, 0 postsynaptic and 0 gap junction-connected neurons (pymaid)\n",
      "INFO  : Cached data used. Use `pymaid.clear_cache()` to clear. (pymaid)\n",
      "INFO  : Cached data used. Use `pymaid.clear_cache()` to clear. (pymaid)\n",
      "INFO  : Cached data used. Use `pymaid.clear_cache()` to clear. (pymaid)\n",
      "INFO  : Cached data used. Use `pymaid.clear_cache()` to clear. (pymaid)\n",
      "INFO  : Cached data used. Use `pymaid.clear_cache()` to clear. (pymaid)\n",
      "INFO  : Cached data used. Use `pymaid.clear_cache()` to clear. (pymaid)\n",
      "INFO  : Cached data used. Use `pymaid.clear_cache()` to clear. (pymaid)\n",
      "INFO  : Cached data used. Use `pymaid.clear_cache()` to clear. (pymaid)\n",
      "INFO  : Cached data used. Use `pymaid.clear_cache()` to clear. (pymaid)\n",
      "INFO  : Cached data used. Use `pymaid.clear_cache()` to clear. (pymaid)\n",
      "INFO  : Cached data used. Use `pymaid.clear_cache()` to clear. (pymaid)\n",
      "INFO  : Cached data used. Use `pymaid.clear_cache()` to clear. (pymaid)\n",
      "INFO  : Cached data used. Use `pymaid.clear_cache()` to clear. (pymaid)\n",
      "INFO  : Cached data used. Use `pymaid.clear_cache()` to clear. (pymaid)\n",
      "INFO  : Cached data used. Use `pymaid.clear_cache()` to clear. (pymaid)\n",
      "INFO  : Cached data used. Use `pymaid.clear_cache()` to clear. (pymaid)\n",
      "INFO  : Cached data used. Use `pymaid.clear_cache()` to clear. (pymaid)\n",
      "INFO  : Cached data used. Use `pymaid.clear_cache()` to clear. (pymaid)\n",
      "INFO  : Cached data used. Use `pymaid.clear_cache()` to clear. (pymaid)\n",
      "INFO  : Cached data used. Use `pymaid.clear_cache()` to clear. (pymaid)\n",
      "INFO  : Cached data used. Use `pymaid.clear_cache()` to clear. (pymaid)\n",
      "INFO  : Cached data used. Use `pymaid.clear_cache()` to clear. (pymaid)\n",
      "INFO  : Cached data used. Use `pymaid.clear_cache()` to clear. (pymaid)\n",
      "INFO  : Cached data used. Use `pymaid.clear_cache()` to clear. (pymaid)\n",
      "INFO  : Fetching connectivity table for 1 neurons (pymaid)\n",
      "INFO  : Done. Found 0 pre-, 4 postsynaptic and 0 gap junction-connected neurons (pymaid)\n",
      "INFO  : Fetching connectivity table for 1 neurons (pymaid)\n",
      "INFO  : Cached data used. Use `pymaid.clear_cache()` to clear. (pymaid)\n",
      "INFO  : Cached data used. Use `pymaid.clear_cache()` to clear. (pymaid)\n",
      "INFO  : Done. Found 0 pre-, 4 postsynaptic and 0 gap junction-connected neurons (pymaid)\n",
      "INFO  : Fetching connectivity table for 1 neurons (pymaid)\n",
      "INFO  : Done. Found 0 pre-, 8 postsynaptic and 0 gap junction-connected neurons (pymaid)\n",
      "INFO  : Fetching connectivity table for 1 neurons (pymaid)\n",
      "INFO  : Cached data used. Use `pymaid.clear_cache()` to clear. (pymaid)\n",
      "INFO  : Cached data used. Use `pymaid.clear_cache()` to clear. (pymaid)\n",
      "INFO  : Done. Found 0 pre-, 8 postsynaptic and 0 gap junction-connected neurons (pymaid)\n",
      "INFO  : Fetching connectivity table for 1 neurons (pymaid)\n",
      "INFO  : Done. Found 0 pre-, 15 postsynaptic and 0 gap junction-connected neurons (pymaid)\n",
      "INFO  : Fetching connectivity table for 1 neurons (pymaid)\n",
      "INFO  : Cached data used. Use `pymaid.clear_cache()` to clear. (pymaid)\n",
      "INFO  : Cached data used. Use `pymaid.clear_cache()` to clear. (pymaid)\n",
      "INFO  : Done. Found 0 pre-, 15 postsynaptic and 0 gap junction-connected neurons (pymaid)\n",
      "INFO  : Fetching connectivity table for 1 neurons (pymaid)\n",
      "INFO  : Done. Found 0 pre-, 21 postsynaptic and 0 gap junction-connected neurons (pymaid)\n",
      "INFO  : Fetching connectivity table for 1 neurons (pymaid)\n",
      "INFO  : Cached data used. Use `pymaid.clear_cache()` to clear. (pymaid)\n",
      "INFO  : Cached data used. Use `pymaid.clear_cache()` to clear. (pymaid)\n",
      "INFO  : Done. Found 0 pre-, 21 postsynaptic and 0 gap junction-connected neurons (pymaid)\n",
      "INFO  : Fetching connectivity table for 1 neurons (pymaid)\n",
      "INFO  : Done. Found 0 pre-, 25 postsynaptic and 0 gap junction-connected neurons (pymaid)\n",
      "INFO  : Fetching connectivity table for 1 neurons (pymaid)\n",
      "INFO  : Cached data used. Use `pymaid.clear_cache()` to clear. (pymaid)\n",
      "INFO  : Cached data used. Use `pymaid.clear_cache()` to clear. (pymaid)\n",
      "INFO  : Done. Found 0 pre-, 25 postsynaptic and 0 gap junction-connected neurons (pymaid)\n",
      "INFO  : Fetching connectivity table for 1 neurons (pymaid)\n",
      "INFO  : Done. Found 0 pre-, 10 postsynaptic and 0 gap junction-connected neurons (pymaid)\n",
      "INFO  : Fetching connectivity table for 1 neurons (pymaid)\n",
      "INFO  : Cached data used. Use `pymaid.clear_cache()` to clear. (pymaid)\n",
      "INFO  : Cached data used. Use `pymaid.clear_cache()` to clear. (pymaid)\n",
      "INFO  : Done. Found 0 pre-, 10 postsynaptic and 0 gap junction-connected neurons (pymaid)\n",
      "INFO  : Fetching connectivity table for 1 neurons (pymaid)\n",
      "INFO  : Done. Found 0 pre-, 28 postsynaptic and 0 gap junction-connected neurons (pymaid)\n",
      "INFO  : Fetching connectivity table for 1 neurons (pymaid)\n",
      "INFO  : Cached data used. Use `pymaid.clear_cache()` to clear. (pymaid)\n",
      "INFO  : Cached data used. Use `pymaid.clear_cache()` to clear. (pymaid)\n",
      "INFO  : Done. Found 0 pre-, 28 postsynaptic and 0 gap junction-connected neurons (pymaid)\n",
      "INFO  : Fetching connectivity table for 1 neurons (pymaid)\n",
      "INFO  : Done. Found 0 pre-, 9 postsynaptic and 0 gap junction-connected neurons (pymaid)\n",
      "INFO  : Fetching connectivity table for 1 neurons (pymaid)\n",
      "INFO  : Cached data used. Use `pymaid.clear_cache()` to clear. (pymaid)\n",
      "INFO  : Cached data used. Use `pymaid.clear_cache()` to clear. (pymaid)\n",
      "INFO  : Done. Found 0 pre-, 9 postsynaptic and 0 gap junction-connected neurons (pymaid)\n",
      "INFO  : Fetching connectivity table for 1 neurons (pymaid)\n",
      "INFO  : Done. Found 0 pre-, 2 postsynaptic and 0 gap junction-connected neurons (pymaid)\n",
      "INFO  : Fetching connectivity table for 1 neurons (pymaid)\n",
      "INFO  : Cached data used. Use `pymaid.clear_cache()` to clear. (pymaid)\n",
      "INFO  : Cached data used. Use `pymaid.clear_cache()` to clear. (pymaid)\n",
      "INFO  : Done. Found 0 pre-, 2 postsynaptic and 0 gap junction-connected neurons (pymaid)\n",
      "INFO  : Fetching connectivity table for 1 neurons (pymaid)\n",
      "INFO  : Done. Found 0 pre-, 10 postsynaptic and 0 gap junction-connected neurons (pymaid)\n",
      "INFO  : Fetching connectivity table for 1 neurons (pymaid)\n",
      "INFO  : Cached data used. Use `pymaid.clear_cache()` to clear. (pymaid)\n",
      "INFO  : Cached data used. Use `pymaid.clear_cache()` to clear. (pymaid)\n",
      "INFO  : Done. Found 0 pre-, 10 postsynaptic and 0 gap junction-connected neurons (pymaid)\n",
      "INFO  : Fetching connectivity table for 1 neurons (pymaid)\n",
      "INFO  : Done. Found 0 pre-, 20 postsynaptic and 0 gap junction-connected neurons (pymaid)\n",
      "INFO  : Fetching connectivity table for 1 neurons (pymaid)\n",
      "INFO  : Cached data used. Use `pymaid.clear_cache()` to clear. (pymaid)\n",
      "INFO  : Cached data used. Use `pymaid.clear_cache()` to clear. (pymaid)\n",
      "INFO  : Done. Found 0 pre-, 20 postsynaptic and 0 gap junction-connected neurons (pymaid)\n",
      "INFO  : Fetching connectivity table for 1 neurons (pymaid)\n"
     ]
    },
    {
     "name": "stderr",
     "output_type": "stream",
     "text": [
      "INFO  : Done. Found 0 pre-, 6 postsynaptic and 0 gap junction-connected neurons (pymaid)\n",
      "INFO  : Fetching connectivity table for 1 neurons (pymaid)\n",
      "INFO  : Cached data used. Use `pymaid.clear_cache()` to clear. (pymaid)\n",
      "INFO  : Cached data used. Use `pymaid.clear_cache()` to clear. (pymaid)\n",
      "INFO  : Done. Found 0 pre-, 6 postsynaptic and 0 gap junction-connected neurons (pymaid)\n",
      "INFO  : Fetching connectivity table for 1 neurons (pymaid)\n",
      "INFO  : Done. Found 0 pre-, 17 postsynaptic and 0 gap junction-connected neurons (pymaid)\n",
      "INFO  : Fetching connectivity table for 1 neurons (pymaid)\n",
      "INFO  : Cached data used. Use `pymaid.clear_cache()` to clear. (pymaid)\n",
      "INFO  : Cached data used. Use `pymaid.clear_cache()` to clear. (pymaid)\n",
      "INFO  : Done. Found 0 pre-, 17 postsynaptic and 0 gap junction-connected neurons (pymaid)\n",
      "INFO  : Fetching connectivity table for 1 neurons (pymaid)\n",
      "INFO  : Done. Found 0 pre-, 19 postsynaptic and 0 gap junction-connected neurons (pymaid)\n",
      "INFO  : Fetching connectivity table for 1 neurons (pymaid)\n",
      "INFO  : Cached data used. Use `pymaid.clear_cache()` to clear. (pymaid)\n",
      "INFO  : Cached data used. Use `pymaid.clear_cache()` to clear. (pymaid)\n",
      "INFO  : Done. Found 0 pre-, 19 postsynaptic and 0 gap junction-connected neurons (pymaid)\n",
      "INFO  : Fetching connectivity table for 1 neurons (pymaid)\n",
      "INFO  : Cached data used. Use `pymaid.clear_cache()` to clear. (pymaid)\n",
      "INFO  : Cached data used. Use `pymaid.clear_cache()` to clear. (pymaid)\n",
      "INFO  : Done. Found 31 pre-, 0 postsynaptic and 0 gap junction-connected neurons (pymaid)\n",
      "INFO  : Cached data used. Use `pymaid.clear_cache()` to clear. (pymaid)\n",
      "INFO  : Cached data used. Use `pymaid.clear_cache()` to clear. (pymaid)\n",
      "INFO  : Cached data used. Use `pymaid.clear_cache()` to clear. (pymaid)\n",
      "INFO  : Cached data used. Use `pymaid.clear_cache()` to clear. (pymaid)\n",
      "INFO  : Cached data used. Use `pymaid.clear_cache()` to clear. (pymaid)\n",
      "INFO  : Cached data used. Use `pymaid.clear_cache()` to clear. (pymaid)\n",
      "INFO  : Cached data used. Use `pymaid.clear_cache()` to clear. (pymaid)\n",
      "INFO  : Fetching connectivity table for 1 neurons (pymaid)\n",
      "INFO  : Cached data used. Use `pymaid.clear_cache()` to clear. (pymaid)\n",
      "INFO  : Cached data used. Use `pymaid.clear_cache()` to clear. (pymaid)\n",
      "INFO  : Done. Found 0 pre-, 19 postsynaptic and 0 gap junction-connected neurons (pymaid)\n",
      "INFO  : Fetching connectivity table for 1 neurons (pymaid)\n",
      "INFO  : Cached data used. Use `pymaid.clear_cache()` to clear. (pymaid)\n",
      "INFO  : Cached data used. Use `pymaid.clear_cache()` to clear. (pymaid)\n",
      "INFO  : Done. Found 0 pre-, 19 postsynaptic and 0 gap junction-connected neurons (pymaid)\n",
      "INFO  : Fetching connectivity table for 1 neurons (pymaid)\n",
      "INFO  : Cached data used. Use `pymaid.clear_cache()` to clear. (pymaid)\n",
      "INFO  : Cached data used. Use `pymaid.clear_cache()` to clear. (pymaid)\n",
      "INFO  : Done. Found 31 pre-, 0 postsynaptic and 0 gap junction-connected neurons (pymaid)\n",
      "INFO  : Cached data used. Use `pymaid.clear_cache()` to clear. (pymaid)\n",
      "INFO  : Cached data used. Use `pymaid.clear_cache()` to clear. (pymaid)\n",
      "INFO  : Cached data used. Use `pymaid.clear_cache()` to clear. (pymaid)\n",
      "INFO  : Cached data used. Use `pymaid.clear_cache()` to clear. (pymaid)\n",
      "INFO  : Cached data used. Use `pymaid.clear_cache()` to clear. (pymaid)\n",
      "INFO  : Cached data used. Use `pymaid.clear_cache()` to clear. (pymaid)\n",
      "INFO  : Cached data used. Use `pymaid.clear_cache()` to clear. (pymaid)\n",
      "INFO  : Cached data used. Use `pymaid.clear_cache()` to clear. (pymaid)\n",
      "INFO  : Cached data used. Use `pymaid.clear_cache()` to clear. (pymaid)\n",
      "INFO  : Fetching connectivity table for 1 neurons (pymaid)\n",
      "INFO  : Done. Found 0 pre-, 4 postsynaptic and 0 gap junction-connected neurons (pymaid)\n",
      "INFO  : Fetching connectivity table for 1 neurons (pymaid)\n",
      "INFO  : Cached data used. Use `pymaid.clear_cache()` to clear. (pymaid)\n",
      "INFO  : Cached data used. Use `pymaid.clear_cache()` to clear. (pymaid)\n",
      "INFO  : Done. Found 0 pre-, 4 postsynaptic and 0 gap junction-connected neurons (pymaid)\n",
      "INFO  : Fetching connectivity table for 1 neurons (pymaid)\n",
      "INFO  : Done. Found 0 pre-, 14 postsynaptic and 0 gap junction-connected neurons (pymaid)\n",
      "INFO  : Fetching connectivity table for 1 neurons (pymaid)\n",
      "INFO  : Cached data used. Use `pymaid.clear_cache()` to clear. (pymaid)\n",
      "INFO  : Cached data used. Use `pymaid.clear_cache()` to clear. (pymaid)\n",
      "INFO  : Done. Found 0 pre-, 14 postsynaptic and 0 gap junction-connected neurons (pymaid)\n",
      "INFO  : Fetching connectivity table for 1 neurons (pymaid)\n",
      "INFO  : Done. Found 0 pre-, 11 postsynaptic and 0 gap junction-connected neurons (pymaid)\n",
      "INFO  : Fetching connectivity table for 1 neurons (pymaid)\n",
      "INFO  : Cached data used. Use `pymaid.clear_cache()` to clear. (pymaid)\n",
      "INFO  : Cached data used. Use `pymaid.clear_cache()` to clear. (pymaid)\n",
      "INFO  : Done. Found 0 pre-, 11 postsynaptic and 0 gap junction-connected neurons (pymaid)\n",
      "INFO  : Fetching connectivity table for 1 neurons (pymaid)\n",
      "INFO  : Done. Found 0 pre-, 30 postsynaptic and 0 gap junction-connected neurons (pymaid)\n",
      "INFO  : Fetching connectivity table for 1 neurons (pymaid)\n",
      "INFO  : Cached data used. Use `pymaid.clear_cache()` to clear. (pymaid)\n",
      "INFO  : Cached data used. Use `pymaid.clear_cache()` to clear. (pymaid)\n",
      "INFO  : Done. Found 0 pre-, 30 postsynaptic and 0 gap junction-connected neurons (pymaid)\n",
      "INFO  : Fetching connectivity table for 1 neurons (pymaid)\n",
      "INFO  : Done. Found 0 pre-, 8 postsynaptic and 0 gap junction-connected neurons (pymaid)\n",
      "INFO  : Fetching connectivity table for 1 neurons (pymaid)\n",
      "INFO  : Cached data used. Use `pymaid.clear_cache()` to clear. (pymaid)\n",
      "INFO  : Cached data used. Use `pymaid.clear_cache()` to clear. (pymaid)\n",
      "INFO  : Done. Found 0 pre-, 8 postsynaptic and 0 gap junction-connected neurons (pymaid)\n",
      "INFO  : Fetching connectivity table for 1 neurons (pymaid)\n",
      "INFO  : Done. Found 0 pre-, 11 postsynaptic and 0 gap junction-connected neurons (pymaid)\n",
      "INFO  : Fetching connectivity table for 1 neurons (pymaid)\n",
      "INFO  : Cached data used. Use `pymaid.clear_cache()` to clear. (pymaid)\n",
      "INFO  : Cached data used. Use `pymaid.clear_cache()` to clear. (pymaid)\n",
      "INFO  : Done. Found 0 pre-, 11 postsynaptic and 0 gap junction-connected neurons (pymaid)\n",
      "INFO  : Fetching connectivity table for 1 neurons (pymaid)\n",
      "INFO  : Done. Found 0 pre-, 21 postsynaptic and 0 gap junction-connected neurons (pymaid)\n",
      "INFO  : Fetching connectivity table for 1 neurons (pymaid)\n",
      "INFO  : Cached data used. Use `pymaid.clear_cache()` to clear. (pymaid)\n",
      "INFO  : Cached data used. Use `pymaid.clear_cache()` to clear. (pymaid)\n",
      "INFO  : Done. Found 0 pre-, 21 postsynaptic and 0 gap junction-connected neurons (pymaid)\n",
      "INFO  : Fetching connectivity table for 1 neurons (pymaid)\n",
      "INFO  : Done. Found 0 pre-, 8 postsynaptic and 0 gap junction-connected neurons (pymaid)\n",
      "INFO  : Fetching connectivity table for 1 neurons (pymaid)\n",
      "INFO  : Cached data used. Use `pymaid.clear_cache()` to clear. (pymaid)\n",
      "INFO  : Cached data used. Use `pymaid.clear_cache()` to clear. (pymaid)\n",
      "INFO  : Done. Found 0 pre-, 8 postsynaptic and 0 gap junction-connected neurons (pymaid)\n",
      "INFO  : Fetching connectivity table for 1 neurons (pymaid)\n",
      "INFO  : Done. Found 0 pre-, 7 postsynaptic and 0 gap junction-connected neurons (pymaid)\n",
      "INFO  : Fetching connectivity table for 1 neurons (pymaid)\n",
      "INFO  : Cached data used. Use `pymaid.clear_cache()` to clear. (pymaid)\n",
      "INFO  : Cached data used. Use `pymaid.clear_cache()` to clear. (pymaid)\n",
      "INFO  : Done. Found 0 pre-, 7 postsynaptic and 0 gap junction-connected neurons (pymaid)\n",
      "INFO  : Fetching connectivity table for 1 neurons (pymaid)\n",
      "INFO  : Done. Found 0 pre-, 28 postsynaptic and 0 gap junction-connected neurons (pymaid)\n",
      "INFO  : Fetching connectivity table for 1 neurons (pymaid)\n",
      "INFO  : Cached data used. Use `pymaid.clear_cache()` to clear. (pymaid)\n",
      "INFO  : Cached data used. Use `pymaid.clear_cache()` to clear. (pymaid)\n",
      "INFO  : Done. Found 0 pre-, 28 postsynaptic and 0 gap junction-connected neurons (pymaid)\n",
      "INFO  : Fetching connectivity table for 1 neurons (pymaid)\n",
      "INFO  : Done. Found 0 pre-, 7 postsynaptic and 0 gap junction-connected neurons (pymaid)\n",
      "INFO  : Fetching connectivity table for 1 neurons (pymaid)\n"
     ]
    },
    {
     "name": "stderr",
     "output_type": "stream",
     "text": [
      "INFO  : Cached data used. Use `pymaid.clear_cache()` to clear. (pymaid)\n",
      "INFO  : Cached data used. Use `pymaid.clear_cache()` to clear. (pymaid)\n",
      "INFO  : Done. Found 0 pre-, 7 postsynaptic and 0 gap junction-connected neurons (pymaid)\n",
      "INFO  : Fetching connectivity table for 1 neurons (pymaid)\n",
      "INFO  : Done. Found 0 pre-, 14 postsynaptic and 0 gap junction-connected neurons (pymaid)\n",
      "INFO  : Fetching connectivity table for 1 neurons (pymaid)\n",
      "INFO  : Cached data used. Use `pymaid.clear_cache()` to clear. (pymaid)\n",
      "INFO  : Cached data used. Use `pymaid.clear_cache()` to clear. (pymaid)\n",
      "INFO  : Done. Found 0 pre-, 14 postsynaptic and 0 gap junction-connected neurons (pymaid)\n",
      "INFO  : Fetching connectivity table for 1 neurons (pymaid)\n",
      "INFO  : Cached data used. Use `pymaid.clear_cache()` to clear. (pymaid)\n",
      "INFO  : Cached data used. Use `pymaid.clear_cache()` to clear. (pymaid)\n",
      "INFO  : Done. Found 31 pre-, 0 postsynaptic and 0 gap junction-connected neurons (pymaid)\n",
      "INFO  : Cached data used. Use `pymaid.clear_cache()` to clear. (pymaid)\n",
      "INFO  : Cached data used. Use `pymaid.clear_cache()` to clear. (pymaid)\n",
      "INFO  : Cached data used. Use `pymaid.clear_cache()` to clear. (pymaid)\n",
      "INFO  : Cached data used. Use `pymaid.clear_cache()` to clear. (pymaid)\n",
      "INFO  : Fetching connectivity table for 1 neurons (pymaid)\n",
      "INFO  : Cached data used. Use `pymaid.clear_cache()` to clear. (pymaid)\n",
      "INFO  : Cached data used. Use `pymaid.clear_cache()` to clear. (pymaid)\n",
      "INFO  : Done. Found 0 pre-, 14 postsynaptic and 0 gap junction-connected neurons (pymaid)\n",
      "INFO  : Fetching connectivity table for 1 neurons (pymaid)\n",
      "INFO  : Cached data used. Use `pymaid.clear_cache()` to clear. (pymaid)\n",
      "INFO  : Cached data used. Use `pymaid.clear_cache()` to clear. (pymaid)\n",
      "INFO  : Done. Found 0 pre-, 14 postsynaptic and 0 gap junction-connected neurons (pymaid)\n",
      "INFO  : Fetching connectivity table for 1 neurons (pymaid)\n",
      "INFO  : Cached data used. Use `pymaid.clear_cache()` to clear. (pymaid)\n",
      "INFO  : Cached data used. Use `pymaid.clear_cache()` to clear. (pymaid)\n",
      "INFO  : Done. Found 31 pre-, 0 postsynaptic and 0 gap junction-connected neurons (pymaid)\n",
      "INFO  : Cached data used. Use `pymaid.clear_cache()` to clear. (pymaid)\n",
      "INFO  : Cached data used. Use `pymaid.clear_cache()` to clear. (pymaid)\n",
      "INFO  : Cached data used. Use `pymaid.clear_cache()` to clear. (pymaid)\n",
      "INFO  : Cached data used. Use `pymaid.clear_cache()` to clear. (pymaid)\n",
      "INFO  : Cached data used. Use `pymaid.clear_cache()` to clear. (pymaid)\n",
      "INFO  : Cached data used. Use `pymaid.clear_cache()` to clear. (pymaid)\n",
      "INFO  : Fetching connectivity table for 1 neurons (pymaid)\n",
      "INFO  : Done. Found 0 pre-, 6 postsynaptic and 0 gap junction-connected neurons (pymaid)\n",
      "INFO  : Fetching connectivity table for 1 neurons (pymaid)\n",
      "INFO  : Cached data used. Use `pymaid.clear_cache()` to clear. (pymaid)\n",
      "INFO  : Cached data used. Use `pymaid.clear_cache()` to clear. (pymaid)\n",
      "INFO  : Done. Found 0 pre-, 6 postsynaptic and 0 gap junction-connected neurons (pymaid)\n",
      "INFO  : Fetching connectivity table for 1 neurons (pymaid)\n",
      "INFO  : Done. Found 0 pre-, 9 postsynaptic and 0 gap junction-connected neurons (pymaid)\n",
      "INFO  : Fetching connectivity table for 1 neurons (pymaid)\n",
      "INFO  : Cached data used. Use `pymaid.clear_cache()` to clear. (pymaid)\n",
      "INFO  : Cached data used. Use `pymaid.clear_cache()` to clear. (pymaid)\n",
      "INFO  : Done. Found 0 pre-, 9 postsynaptic and 0 gap junction-connected neurons (pymaid)\n",
      "INFO  : Fetching connectivity table for 1 neurons (pymaid)\n",
      "INFO  : Done. Found 0 pre-, 8 postsynaptic and 0 gap junction-connected neurons (pymaid)\n",
      "INFO  : Fetching connectivity table for 1 neurons (pymaid)\n",
      "INFO  : Cached data used. Use `pymaid.clear_cache()` to clear. (pymaid)\n",
      "INFO  : Cached data used. Use `pymaid.clear_cache()` to clear. (pymaid)\n",
      "INFO  : Done. Found 0 pre-, 8 postsynaptic and 0 gap junction-connected neurons (pymaid)\n",
      "INFO  : Fetching connectivity table for 1 neurons (pymaid)\n",
      "INFO  : Done. Found 0 pre-, 9 postsynaptic and 0 gap junction-connected neurons (pymaid)\n",
      "INFO  : Fetching connectivity table for 1 neurons (pymaid)\n",
      "INFO  : Cached data used. Use `pymaid.clear_cache()` to clear. (pymaid)\n",
      "INFO  : Cached data used. Use `pymaid.clear_cache()` to clear. (pymaid)\n",
      "INFO  : Done. Found 0 pre-, 9 postsynaptic and 0 gap junction-connected neurons (pymaid)\n",
      "INFO  : Fetching connectivity table for 1 neurons (pymaid)\n",
      "INFO  : Cached data used. Use `pymaid.clear_cache()` to clear. (pymaid)\n",
      "INFO  : Cached data used. Use `pymaid.clear_cache()` to clear. (pymaid)\n",
      "INFO  : Done. Found 19 pre-, 0 postsynaptic and 0 gap junction-connected neurons (pymaid)\n",
      "INFO  : Cached data used. Use `pymaid.clear_cache()` to clear. (pymaid)\n",
      "INFO  : Cached data used. Use `pymaid.clear_cache()` to clear. (pymaid)\n",
      "INFO  : Fetching connectivity table for 1 neurons (pymaid)\n",
      "INFO  : Cached data used. Use `pymaid.clear_cache()` to clear. (pymaid)\n",
      "INFO  : Cached data used. Use `pymaid.clear_cache()` to clear. (pymaid)\n",
      "INFO  : Done. Found 0 pre-, 9 postsynaptic and 0 gap junction-connected neurons (pymaid)\n",
      "INFO  : Fetching connectivity table for 1 neurons (pymaid)\n",
      "INFO  : Cached data used. Use `pymaid.clear_cache()` to clear. (pymaid)\n",
      "INFO  : Cached data used. Use `pymaid.clear_cache()` to clear. (pymaid)\n",
      "INFO  : Done. Found 0 pre-, 9 postsynaptic and 0 gap junction-connected neurons (pymaid)\n",
      "INFO  : Fetching connectivity table for 1 neurons (pymaid)\n",
      "INFO  : Cached data used. Use `pymaid.clear_cache()` to clear. (pymaid)\n",
      "INFO  : Cached data used. Use `pymaid.clear_cache()` to clear. (pymaid)\n",
      "INFO  : Done. Found 19 pre-, 0 postsynaptic and 0 gap junction-connected neurons (pymaid)\n",
      "INFO  : Cached data used. Use `pymaid.clear_cache()` to clear. (pymaid)\n",
      "INFO  : Cached data used. Use `pymaid.clear_cache()` to clear. (pymaid)\n",
      "INFO  : Cached data used. Use `pymaid.clear_cache()` to clear. (pymaid)\n",
      "INFO  : Fetching connectivity table for 1 neurons (pymaid)\n",
      "INFO  : Done. Found 0 pre-, 9 postsynaptic and 0 gap junction-connected neurons (pymaid)\n",
      "INFO  : Fetching connectivity table for 1 neurons (pymaid)\n",
      "INFO  : Cached data used. Use `pymaid.clear_cache()` to clear. (pymaid)\n",
      "INFO  : Cached data used. Use `pymaid.clear_cache()` to clear. (pymaid)\n",
      "INFO  : Done. Found 0 pre-, 9 postsynaptic and 0 gap junction-connected neurons (pymaid)\n",
      "INFO  : Fetching connectivity table for 1 neurons (pymaid)\n",
      "INFO  : Done. Found 0 pre-, 26 postsynaptic and 0 gap junction-connected neurons (pymaid)\n",
      "INFO  : Fetching connectivity table for 1 neurons (pymaid)\n",
      "INFO  : Cached data used. Use `pymaid.clear_cache()` to clear. (pymaid)\n",
      "INFO  : Cached data used. Use `pymaid.clear_cache()` to clear. (pymaid)\n",
      "INFO  : Done. Found 0 pre-, 26 postsynaptic and 0 gap junction-connected neurons (pymaid)\n",
      "INFO  : Fetching connectivity table for 1 neurons (pymaid)\n",
      "INFO  : Done. Found 0 pre-, 13 postsynaptic and 0 gap junction-connected neurons (pymaid)\n",
      "INFO  : Fetching connectivity table for 1 neurons (pymaid)\n",
      "INFO  : Cached data used. Use `pymaid.clear_cache()` to clear. (pymaid)\n",
      "INFO  : Cached data used. Use `pymaid.clear_cache()` to clear. (pymaid)\n",
      "INFO  : Done. Found 0 pre-, 13 postsynaptic and 0 gap junction-connected neurons (pymaid)\n",
      "INFO  : Fetching connectivity table for 1 neurons (pymaid)\n",
      "INFO  : Done. Found 0 pre-, 4 postsynaptic and 0 gap junction-connected neurons (pymaid)\n",
      "INFO  : Fetching connectivity table for 1 neurons (pymaid)\n",
      "INFO  : Cached data used. Use `pymaid.clear_cache()` to clear. (pymaid)\n",
      "INFO  : Cached data used. Use `pymaid.clear_cache()` to clear. (pymaid)\n",
      "INFO  : Done. Found 0 pre-, 4 postsynaptic and 0 gap junction-connected neurons (pymaid)\n",
      "INFO  : Fetching connectivity table for 1 neurons (pymaid)\n",
      "INFO  : Done. Found 0 pre-, 10 postsynaptic and 0 gap junction-connected neurons (pymaid)\n",
      "INFO  : Fetching connectivity table for 1 neurons (pymaid)\n",
      "INFO  : Cached data used. Use `pymaid.clear_cache()` to clear. (pymaid)\n",
      "INFO  : Cached data used. Use `pymaid.clear_cache()` to clear. (pymaid)\n",
      "INFO  : Done. Found 0 pre-, 10 postsynaptic and 0 gap junction-connected neurons (pymaid)\n",
      "INFO  : Fetching connectivity table for 1 neurons (pymaid)\n",
      "INFO  : Done. Found 0 pre-, 6 postsynaptic and 0 gap junction-connected neurons (pymaid)\n"
     ]
    },
    {
     "name": "stderr",
     "output_type": "stream",
     "text": [
      "INFO  : Fetching connectivity table for 1 neurons (pymaid)\n",
      "INFO  : Cached data used. Use `pymaid.clear_cache()` to clear. (pymaid)\n",
      "INFO  : Cached data used. Use `pymaid.clear_cache()` to clear. (pymaid)\n",
      "INFO  : Done. Found 0 pre-, 6 postsynaptic and 0 gap junction-connected neurons (pymaid)\n",
      "INFO  : Fetching connectivity table for 1 neurons (pymaid)\n",
      "INFO  : Done. Found 0 pre-, 21 postsynaptic and 0 gap junction-connected neurons (pymaid)\n",
      "INFO  : Fetching connectivity table for 1 neurons (pymaid)\n",
      "INFO  : Cached data used. Use `pymaid.clear_cache()` to clear. (pymaid)\n",
      "INFO  : Cached data used. Use `pymaid.clear_cache()` to clear. (pymaid)\n",
      "INFO  : Done. Found 0 pre-, 21 postsynaptic and 0 gap junction-connected neurons (pymaid)\n",
      "INFO  : Fetching connectivity table for 1 neurons (pymaid)\n",
      "INFO  : Done. Found 0 pre-, 4 postsynaptic and 0 gap junction-connected neurons (pymaid)\n",
      "INFO  : Fetching connectivity table for 1 neurons (pymaid)\n",
      "INFO  : Cached data used. Use `pymaid.clear_cache()` to clear. (pymaid)\n",
      "INFO  : Cached data used. Use `pymaid.clear_cache()` to clear. (pymaid)\n",
      "INFO  : Done. Found 0 pre-, 4 postsynaptic and 0 gap junction-connected neurons (pymaid)\n",
      "INFO  : Fetching connectivity table for 1 neurons (pymaid)\n",
      "INFO  : Done. Found 0 pre-, 9 postsynaptic and 0 gap junction-connected neurons (pymaid)\n",
      "INFO  : Fetching connectivity table for 1 neurons (pymaid)\n",
      "INFO  : Cached data used. Use `pymaid.clear_cache()` to clear. (pymaid)\n",
      "INFO  : Cached data used. Use `pymaid.clear_cache()` to clear. (pymaid)\n",
      "INFO  : Done. Found 0 pre-, 9 postsynaptic and 0 gap junction-connected neurons (pymaid)\n",
      "INFO  : Fetching connectivity table for 1 neurons (pymaid)\n",
      "INFO  : Done. Found 0 pre-, 1 postsynaptic and 0 gap junction-connected neurons (pymaid)\n",
      "INFO  : Fetching connectivity table for 1 neurons (pymaid)\n",
      "INFO  : Cached data used. Use `pymaid.clear_cache()` to clear. (pymaid)\n",
      "INFO  : Cached data used. Use `pymaid.clear_cache()` to clear. (pymaid)\n",
      "INFO  : Done. Found 0 pre-, 1 postsynaptic and 0 gap junction-connected neurons (pymaid)\n",
      "INFO  : Fetching connectivity table for 1 neurons (pymaid)\n",
      "INFO  : Done. Found 0 pre-, 21 postsynaptic and 0 gap junction-connected neurons (pymaid)\n",
      "INFO  : Fetching connectivity table for 1 neurons (pymaid)\n",
      "INFO  : Cached data used. Use `pymaid.clear_cache()` to clear. (pymaid)\n",
      "INFO  : Cached data used. Use `pymaid.clear_cache()` to clear. (pymaid)\n",
      "INFO  : Done. Found 0 pre-, 21 postsynaptic and 0 gap junction-connected neurons (pymaid)\n",
      "INFO  : Fetching connectivity table for 1 neurons (pymaid)\n",
      "INFO  : Done. Found 0 pre-, 15 postsynaptic and 0 gap junction-connected neurons (pymaid)\n",
      "INFO  : Fetching connectivity table for 1 neurons (pymaid)\n",
      "INFO  : Cached data used. Use `pymaid.clear_cache()` to clear. (pymaid)\n",
      "INFO  : Cached data used. Use `pymaid.clear_cache()` to clear. (pymaid)\n",
      "INFO  : Done. Found 0 pre-, 15 postsynaptic and 0 gap junction-connected neurons (pymaid)\n",
      "INFO  : Fetching connectivity table for 1 neurons (pymaid)\n",
      "INFO  : Done. Found 0 pre-, 15 postsynaptic and 0 gap junction-connected neurons (pymaid)\n",
      "INFO  : Fetching connectivity table for 1 neurons (pymaid)\n",
      "INFO  : Cached data used. Use `pymaid.clear_cache()` to clear. (pymaid)\n",
      "INFO  : Cached data used. Use `pymaid.clear_cache()` to clear. (pymaid)\n",
      "INFO  : Done. Found 0 pre-, 15 postsynaptic and 0 gap junction-connected neurons (pymaid)\n",
      "INFO  : Fetching connectivity table for 1 neurons (pymaid)\n",
      "INFO  : Done. Found 0 pre-, 8 postsynaptic and 0 gap junction-connected neurons (pymaid)\n",
      "INFO  : Fetching connectivity table for 1 neurons (pymaid)\n",
      "INFO  : Cached data used. Use `pymaid.clear_cache()` to clear. (pymaid)\n",
      "INFO  : Cached data used. Use `pymaid.clear_cache()` to clear. (pymaid)\n",
      "INFO  : Done. Found 0 pre-, 8 postsynaptic and 0 gap junction-connected neurons (pymaid)\n",
      "INFO  : Fetching connectivity table for 1 neurons (pymaid)\n",
      "INFO  : Done. Found 0 pre-, 11 postsynaptic and 0 gap junction-connected neurons (pymaid)\n",
      "INFO  : Fetching connectivity table for 1 neurons (pymaid)\n",
      "INFO  : Cached data used. Use `pymaid.clear_cache()` to clear. (pymaid)\n",
      "INFO  : Cached data used. Use `pymaid.clear_cache()` to clear. (pymaid)\n",
      "INFO  : Done. Found 0 pre-, 11 postsynaptic and 0 gap junction-connected neurons (pymaid)\n",
      "INFO  : Fetching connectivity table for 1 neurons (pymaid)\n",
      "INFO  : Done. Found 0 pre-, 15 postsynaptic and 0 gap junction-connected neurons (pymaid)\n",
      "INFO  : Fetching connectivity table for 1 neurons (pymaid)\n",
      "INFO  : Cached data used. Use `pymaid.clear_cache()` to clear. (pymaid)\n",
      "INFO  : Cached data used. Use `pymaid.clear_cache()` to clear. (pymaid)\n",
      "INFO  : Done. Found 0 pre-, 15 postsynaptic and 0 gap junction-connected neurons (pymaid)\n",
      "INFO  : Fetching connectivity table for 1 neurons (pymaid)\n",
      "INFO  : Done. Found 0 pre-, 18 postsynaptic and 0 gap junction-connected neurons (pymaid)\n",
      "INFO  : Fetching connectivity table for 1 neurons (pymaid)\n",
      "INFO  : Cached data used. Use `pymaid.clear_cache()` to clear. (pymaid)\n",
      "INFO  : Cached data used. Use `pymaid.clear_cache()` to clear. (pymaid)\n",
      "INFO  : Done. Found 0 pre-, 18 postsynaptic and 0 gap junction-connected neurons (pymaid)\n",
      "INFO  : Fetching connectivity table for 1 neurons (pymaid)\n",
      "INFO  : Done. Found 0 pre-, 10 postsynaptic and 0 gap junction-connected neurons (pymaid)\n",
      "INFO  : Fetching connectivity table for 1 neurons (pymaid)\n",
      "INFO  : Cached data used. Use `pymaid.clear_cache()` to clear. (pymaid)\n",
      "INFO  : Cached data used. Use `pymaid.clear_cache()` to clear. (pymaid)\n",
      "INFO  : Done. Found 0 pre-, 10 postsynaptic and 0 gap junction-connected neurons (pymaid)\n",
      "INFO  : Fetching connectivity table for 1 neurons (pymaid)\n",
      "INFO  : Cached data used. Use `pymaid.clear_cache()` to clear. (pymaid)\n",
      "INFO  : Cached data used. Use `pymaid.clear_cache()` to clear. (pymaid)\n",
      "INFO  : Done. Found 16 pre-, 0 postsynaptic and 0 gap junction-connected neurons (pymaid)\n",
      "INFO  : Fetching connectivity table for 1 neurons (pymaid)\n",
      "INFO  : Cached data used. Use `pymaid.clear_cache()` to clear. (pymaid)\n",
      "INFO  : Cached data used. Use `pymaid.clear_cache()` to clear. (pymaid)\n",
      "INFO  : Done. Found 26 pre-, 0 postsynaptic and 0 gap junction-connected neurons (pymaid)\n",
      "INFO  : Cached data used. Use `pymaid.clear_cache()` to clear. (pymaid)\n",
      "INFO  : Cached data used. Use `pymaid.clear_cache()` to clear. (pymaid)\n",
      "INFO  : Cached data used. Use `pymaid.clear_cache()` to clear. (pymaid)\n",
      "INFO  : Cached data used. Use `pymaid.clear_cache()` to clear. (pymaid)\n",
      "INFO  : Cached data used. Use `pymaid.clear_cache()` to clear. (pymaid)\n",
      "INFO  : Cached data used. Use `pymaid.clear_cache()` to clear. (pymaid)\n",
      "INFO  : Cached data used. Use `pymaid.clear_cache()` to clear. (pymaid)\n",
      "INFO  : Cached data used. Use `pymaid.clear_cache()` to clear. (pymaid)\n",
      "INFO  : Fetching connectivity table for 1 neurons (pymaid)\n",
      "INFO  : Cached data used. Use `pymaid.clear_cache()` to clear. (pymaid)\n",
      "INFO  : Cached data used. Use `pymaid.clear_cache()` to clear. (pymaid)\n",
      "INFO  : Done. Found 0 pre-, 10 postsynaptic and 0 gap junction-connected neurons (pymaid)\n",
      "INFO  : Fetching connectivity table for 1 neurons (pymaid)\n",
      "INFO  : Cached data used. Use `pymaid.clear_cache()` to clear. (pymaid)\n",
      "INFO  : Cached data used. Use `pymaid.clear_cache()` to clear. (pymaid)\n",
      "INFO  : Done. Found 0 pre-, 10 postsynaptic and 0 gap junction-connected neurons (pymaid)\n",
      "INFO  : Fetching connectivity table for 1 neurons (pymaid)\n",
      "INFO  : Cached data used. Use `pymaid.clear_cache()` to clear. (pymaid)\n",
      "INFO  : Cached data used. Use `pymaid.clear_cache()` to clear. (pymaid)\n",
      "INFO  : Done. Found 16 pre-, 0 postsynaptic and 0 gap junction-connected neurons (pymaid)\n",
      "INFO  : Fetching connectivity table for 1 neurons (pymaid)\n",
      "INFO  : Cached data used. Use `pymaid.clear_cache()` to clear. (pymaid)\n",
      "INFO  : Cached data used. Use `pymaid.clear_cache()` to clear. (pymaid)\n",
      "INFO  : Done. Found 26 pre-, 0 postsynaptic and 0 gap junction-connected neurons (pymaid)\n",
      "INFO  : Cached data used. Use `pymaid.clear_cache()` to clear. (pymaid)\n",
      "INFO  : Cached data used. Use `pymaid.clear_cache()` to clear. (pymaid)\n",
      "INFO  : Cached data used. Use `pymaid.clear_cache()` to clear. (pymaid)\n",
      "INFO  : Cached data used. Use `pymaid.clear_cache()` to clear. (pymaid)\n"
     ]
    },
    {
     "name": "stderr",
     "output_type": "stream",
     "text": [
      "INFO  : Cached data used. Use `pymaid.clear_cache()` to clear. (pymaid)\n",
      "INFO  : Cached data used. Use `pymaid.clear_cache()` to clear. (pymaid)\n",
      "INFO  : Cached data used. Use `pymaid.clear_cache()` to clear. (pymaid)\n",
      "INFO  : Cached data used. Use `pymaid.clear_cache()` to clear. (pymaid)\n",
      "INFO  : Cached data used. Use `pymaid.clear_cache()` to clear. (pymaid)\n",
      "INFO  : Fetching connectivity table for 1 neurons (pymaid)\n",
      "INFO  : Done. Found 0 pre-, 10 postsynaptic and 0 gap junction-connected neurons (pymaid)\n",
      "INFO  : Fetching connectivity table for 1 neurons (pymaid)\n",
      "INFO  : Cached data used. Use `pymaid.clear_cache()` to clear. (pymaid)\n",
      "INFO  : Cached data used. Use `pymaid.clear_cache()` to clear. (pymaid)\n",
      "INFO  : Done. Found 0 pre-, 10 postsynaptic and 0 gap junction-connected neurons (pymaid)\n",
      "INFO  : Fetching connectivity table for 1 neurons (pymaid)\n",
      "INFO  : Cached data used. Use `pymaid.clear_cache()` to clear. (pymaid)\n",
      "INFO  : Cached data used. Use `pymaid.clear_cache()` to clear. (pymaid)\n",
      "INFO  : Done. Found 26 pre-, 0 postsynaptic and 0 gap junction-connected neurons (pymaid)\n",
      "INFO  : Cached data used. Use `pymaid.clear_cache()` to clear. (pymaid)\n",
      "INFO  : Cached data used. Use `pymaid.clear_cache()` to clear. (pymaid)\n",
      "INFO  : Fetching connectivity table for 1 neurons (pymaid)\n",
      "INFO  : Cached data used. Use `pymaid.clear_cache()` to clear. (pymaid)\n",
      "INFO  : Cached data used. Use `pymaid.clear_cache()` to clear. (pymaid)\n",
      "INFO  : Done. Found 0 pre-, 10 postsynaptic and 0 gap junction-connected neurons (pymaid)\n",
      "INFO  : Fetching connectivity table for 1 neurons (pymaid)\n",
      "INFO  : Cached data used. Use `pymaid.clear_cache()` to clear. (pymaid)\n",
      "INFO  : Cached data used. Use `pymaid.clear_cache()` to clear. (pymaid)\n",
      "INFO  : Done. Found 0 pre-, 10 postsynaptic and 0 gap junction-connected neurons (pymaid)\n",
      "INFO  : Fetching connectivity table for 1 neurons (pymaid)\n",
      "INFO  : Cached data used. Use `pymaid.clear_cache()` to clear. (pymaid)\n",
      "INFO  : Cached data used. Use `pymaid.clear_cache()` to clear. (pymaid)\n",
      "INFO  : Done. Found 26 pre-, 0 postsynaptic and 0 gap junction-connected neurons (pymaid)\n",
      "INFO  : Cached data used. Use `pymaid.clear_cache()` to clear. (pymaid)\n",
      "INFO  : Cached data used. Use `pymaid.clear_cache()` to clear. (pymaid)\n",
      "INFO  : Cached data used. Use `pymaid.clear_cache()` to clear. (pymaid)\n",
      "INFO  : Fetching connectivity table for 1 neurons (pymaid)\n",
      "INFO  : Done. Found 0 pre-, 23 postsynaptic and 0 gap junction-connected neurons (pymaid)\n",
      "INFO  : Fetching connectivity table for 1 neurons (pymaid)\n",
      "INFO  : Cached data used. Use `pymaid.clear_cache()` to clear. (pymaid)\n",
      "INFO  : Cached data used. Use `pymaid.clear_cache()` to clear. (pymaid)\n",
      "INFO  : Done. Found 0 pre-, 23 postsynaptic and 0 gap junction-connected neurons (pymaid)\n",
      "INFO  : Fetching connectivity table for 1 neurons (pymaid)\n",
      "INFO  : Done. Found 0 pre-, 13 postsynaptic and 0 gap junction-connected neurons (pymaid)\n",
      "INFO  : Fetching connectivity table for 1 neurons (pymaid)\n",
      "INFO  : Cached data used. Use `pymaid.clear_cache()` to clear. (pymaid)\n",
      "INFO  : Cached data used. Use `pymaid.clear_cache()` to clear. (pymaid)\n",
      "INFO  : Done. Found 0 pre-, 13 postsynaptic and 0 gap junction-connected neurons (pymaid)\n",
      "INFO  : Fetching connectivity table for 1 neurons (pymaid)\n",
      "INFO  : Cached data used. Use `pymaid.clear_cache()` to clear. (pymaid)\n",
      "INFO  : Cached data used. Use `pymaid.clear_cache()` to clear. (pymaid)\n",
      "INFO  : Done. Found 32 pre-, 0 postsynaptic and 0 gap junction-connected neurons (pymaid)\n",
      "INFO  : Cached data used. Use `pymaid.clear_cache()` to clear. (pymaid)\n",
      "INFO  : Cached data used. Use `pymaid.clear_cache()` to clear. (pymaid)\n",
      "INFO  : Cached data used. Use `pymaid.clear_cache()` to clear. (pymaid)\n",
      "INFO  : Fetching connectivity table for 1 neurons (pymaid)\n",
      "INFO  : Cached data used. Use `pymaid.clear_cache()` to clear. (pymaid)\n",
      "INFO  : Cached data used. Use `pymaid.clear_cache()` to clear. (pymaid)\n",
      "INFO  : Done. Found 0 pre-, 13 postsynaptic and 0 gap junction-connected neurons (pymaid)\n",
      "INFO  : Fetching connectivity table for 1 neurons (pymaid)\n",
      "INFO  : Cached data used. Use `pymaid.clear_cache()` to clear. (pymaid)\n",
      "INFO  : Cached data used. Use `pymaid.clear_cache()` to clear. (pymaid)\n",
      "INFO  : Done. Found 0 pre-, 13 postsynaptic and 0 gap junction-connected neurons (pymaid)\n",
      "INFO  : Fetching connectivity table for 1 neurons (pymaid)\n",
      "INFO  : Cached data used. Use `pymaid.clear_cache()` to clear. (pymaid)\n",
      "INFO  : Cached data used. Use `pymaid.clear_cache()` to clear. (pymaid)\n",
      "INFO  : Done. Found 32 pre-, 0 postsynaptic and 0 gap junction-connected neurons (pymaid)\n",
      "INFO  : Cached data used. Use `pymaid.clear_cache()` to clear. (pymaid)\n",
      "INFO  : Cached data used. Use `pymaid.clear_cache()` to clear. (pymaid)\n",
      "INFO  : Cached data used. Use `pymaid.clear_cache()` to clear. (pymaid)\n",
      "INFO  : Cached data used. Use `pymaid.clear_cache()` to clear. (pymaid)\n",
      "INFO  : Cached data used. Use `pymaid.clear_cache()` to clear. (pymaid)\n",
      "INFO  : Cached data used. Use `pymaid.clear_cache()` to clear. (pymaid)\n",
      "INFO  : Fetching connectivity table for 1 neurons (pymaid)\n",
      "INFO  : Done. Found 0 pre-, 4 postsynaptic and 0 gap junction-connected neurons (pymaid)\n",
      "INFO  : Fetching connectivity table for 1 neurons (pymaid)\n",
      "INFO  : Cached data used. Use `pymaid.clear_cache()` to clear. (pymaid)\n",
      "INFO  : Cached data used. Use `pymaid.clear_cache()` to clear. (pymaid)\n",
      "INFO  : Done. Found 0 pre-, 4 postsynaptic and 0 gap junction-connected neurons (pymaid)\n",
      "INFO  : Fetching connectivity table for 1 neurons (pymaid)\n",
      "INFO  : Done. Found 0 pre-, 10 postsynaptic and 0 gap junction-connected neurons (pymaid)\n",
      "INFO  : Fetching connectivity table for 1 neurons (pymaid)\n",
      "INFO  : Cached data used. Use `pymaid.clear_cache()` to clear. (pymaid)\n",
      "INFO  : Cached data used. Use `pymaid.clear_cache()` to clear. (pymaid)\n",
      "INFO  : Done. Found 0 pre-, 10 postsynaptic and 0 gap junction-connected neurons (pymaid)\n",
      "INFO  : Fetching connectivity table for 1 neurons (pymaid)\n",
      "INFO  : Done. Found 0 pre-, 4 postsynaptic and 0 gap junction-connected neurons (pymaid)\n",
      "INFO  : Fetching connectivity table for 1 neurons (pymaid)\n",
      "INFO  : Cached data used. Use `pymaid.clear_cache()` to clear. (pymaid)\n",
      "INFO  : Cached data used. Use `pymaid.clear_cache()` to clear. (pymaid)\n",
      "INFO  : Done. Found 0 pre-, 4 postsynaptic and 0 gap junction-connected neurons (pymaid)\n",
      "INFO  : Fetching connectivity table for 1 neurons (pymaid)\n",
      "INFO  : Done. Found 0 pre-, 12 postsynaptic and 0 gap junction-connected neurons (pymaid)\n",
      "INFO  : Fetching connectivity table for 1 neurons (pymaid)\n",
      "INFO  : Cached data used. Use `pymaid.clear_cache()` to clear. (pymaid)\n",
      "INFO  : Cached data used. Use `pymaid.clear_cache()` to clear. (pymaid)\n",
      "INFO  : Done. Found 0 pre-, 12 postsynaptic and 0 gap junction-connected neurons (pymaid)\n",
      "INFO  : Fetching connectivity table for 1 neurons (pymaid)\n",
      "INFO  : Done. Found 0 pre-, 0 postsynaptic and 0 gap junction-connected neurons (pymaid)\n",
      "INFO  : Fetching connectivity table for 1 neurons (pymaid)\n",
      "INFO  : Cached data used. Use `pymaid.clear_cache()` to clear. (pymaid)\n",
      "INFO  : Cached data used. Use `pymaid.clear_cache()` to clear. (pymaid)\n",
      "INFO  : Done. Found 0 pre-, 0 postsynaptic and 0 gap junction-connected neurons (pymaid)\n",
      "INFO  : Fetching connectivity table for 1 neurons (pymaid)\n",
      "INFO  : Done. Found 0 pre-, 0 postsynaptic and 0 gap junction-connected neurons (pymaid)\n",
      "INFO  : Fetching connectivity table for 1 neurons (pymaid)\n",
      "INFO  : Cached data used. Use `pymaid.clear_cache()` to clear. (pymaid)\n",
      "INFO  : Cached data used. Use `pymaid.clear_cache()` to clear. (pymaid)\n",
      "INFO  : Done. Found 0 pre-, 0 postsynaptic and 0 gap junction-connected neurons (pymaid)\n",
      "INFO  : Fetching connectivity table for 1 neurons (pymaid)\n",
      "INFO  : Done. Found 0 pre-, 4 postsynaptic and 0 gap junction-connected neurons (pymaid)\n",
      "INFO  : Fetching connectivity table for 1 neurons (pymaid)\n",
      "INFO  : Cached data used. Use `pymaid.clear_cache()` to clear. (pymaid)\n",
      "INFO  : Cached data used. Use `pymaid.clear_cache()` to clear. (pymaid)\n",
      "INFO  : Done. Found 0 pre-, 4 postsynaptic and 0 gap junction-connected neurons (pymaid)\n",
      "INFO  : Fetching connectivity table for 1 neurons (pymaid)\n",
      "INFO  : Done. Found 0 pre-, 7 postsynaptic and 0 gap junction-connected neurons (pymaid)\n"
     ]
    },
    {
     "name": "stderr",
     "output_type": "stream",
     "text": [
      "INFO  : Fetching connectivity table for 1 neurons (pymaid)\n",
      "INFO  : Cached data used. Use `pymaid.clear_cache()` to clear. (pymaid)\n",
      "INFO  : Cached data used. Use `pymaid.clear_cache()` to clear. (pymaid)\n",
      "INFO  : Done. Found 0 pre-, 7 postsynaptic and 0 gap junction-connected neurons (pymaid)\n",
      "INFO  : Fetching connectivity table for 1 neurons (pymaid)\n",
      "INFO  : Done. Found 0 pre-, 7 postsynaptic and 0 gap junction-connected neurons (pymaid)\n",
      "INFO  : Fetching connectivity table for 1 neurons (pymaid)\n",
      "INFO  : Cached data used. Use `pymaid.clear_cache()` to clear. (pymaid)\n",
      "INFO  : Cached data used. Use `pymaid.clear_cache()` to clear. (pymaid)\n",
      "INFO  : Done. Found 0 pre-, 7 postsynaptic and 0 gap junction-connected neurons (pymaid)\n",
      "INFO  : Fetching connectivity table for 1 neurons (pymaid)\n",
      "INFO  : Done. Found 0 pre-, 20 postsynaptic and 0 gap junction-connected neurons (pymaid)\n",
      "INFO  : Fetching connectivity table for 1 neurons (pymaid)\n",
      "INFO  : Cached data used. Use `pymaid.clear_cache()` to clear. (pymaid)\n",
      "INFO  : Cached data used. Use `pymaid.clear_cache()` to clear. (pymaid)\n",
      "INFO  : Done. Found 0 pre-, 20 postsynaptic and 0 gap junction-connected neurons (pymaid)\n",
      "INFO  : Fetching connectivity table for 1 neurons (pymaid)\n",
      "INFO  : Done. Found 0 pre-, 14 postsynaptic and 0 gap junction-connected neurons (pymaid)\n",
      "INFO  : Fetching connectivity table for 1 neurons (pymaid)\n",
      "INFO  : Cached data used. Use `pymaid.clear_cache()` to clear. (pymaid)\n",
      "INFO  : Cached data used. Use `pymaid.clear_cache()` to clear. (pymaid)\n",
      "INFO  : Done. Found 0 pre-, 14 postsynaptic and 0 gap junction-connected neurons (pymaid)\n",
      "INFO  : Fetching connectivity table for 1 neurons (pymaid)\n",
      "INFO  : Done. Found 0 pre-, 10 postsynaptic and 0 gap junction-connected neurons (pymaid)\n",
      "INFO  : Fetching connectivity table for 1 neurons (pymaid)\n",
      "INFO  : Cached data used. Use `pymaid.clear_cache()` to clear. (pymaid)\n",
      "INFO  : Cached data used. Use `pymaid.clear_cache()` to clear. (pymaid)\n",
      "INFO  : Done. Found 0 pre-, 10 postsynaptic and 0 gap junction-connected neurons (pymaid)\n",
      "INFO  : Fetching connectivity table for 1 neurons (pymaid)\n",
      "INFO  : Done. Found 0 pre-, 23 postsynaptic and 0 gap junction-connected neurons (pymaid)\n",
      "INFO  : Fetching connectivity table for 1 neurons (pymaid)\n",
      "INFO  : Cached data used. Use `pymaid.clear_cache()` to clear. (pymaid)\n",
      "INFO  : Cached data used. Use `pymaid.clear_cache()` to clear. (pymaid)\n",
      "INFO  : Done. Found 0 pre-, 23 postsynaptic and 0 gap junction-connected neurons (pymaid)\n",
      "INFO  : Fetching connectivity table for 1 neurons (pymaid)\n",
      "INFO  : Cached data used. Use `pymaid.clear_cache()` to clear. (pymaid)\n",
      "INFO  : Cached data used. Use `pymaid.clear_cache()` to clear. (pymaid)\n",
      "INFO  : Done. Found 31 pre-, 0 postsynaptic and 0 gap junction-connected neurons (pymaid)\n",
      "INFO  : Fetching connectivity table for 1 neurons (pymaid)\n",
      "INFO  : Cached data used. Use `pymaid.clear_cache()` to clear. (pymaid)\n",
      "INFO  : Cached data used. Use `pymaid.clear_cache()` to clear. (pymaid)\n",
      "INFO  : Done. Found 16 pre-, 0 postsynaptic and 0 gap junction-connected neurons (pymaid)\n",
      "INFO  : Fetching connectivity table for 1 neurons (pymaid)\n",
      "INFO  : Cached data used. Use `pymaid.clear_cache()` to clear. (pymaid)\n",
      "INFO  : Cached data used. Use `pymaid.clear_cache()` to clear. (pymaid)\n",
      "INFO  : Done. Found 32 pre-, 0 postsynaptic and 0 gap junction-connected neurons (pymaid)\n",
      "INFO  : Cached data used. Use `pymaid.clear_cache()` to clear. (pymaid)\n",
      "INFO  : Cached data used. Use `pymaid.clear_cache()` to clear. (pymaid)\n",
      "INFO  : Cached data used. Use `pymaid.clear_cache()` to clear. (pymaid)\n",
      "INFO  : Cached data used. Use `pymaid.clear_cache()` to clear. (pymaid)\n",
      "INFO  : Cached data used. Use `pymaid.clear_cache()` to clear. (pymaid)\n",
      "INFO  : Cached data used. Use `pymaid.clear_cache()` to clear. (pymaid)\n",
      "INFO  : Cached data used. Use `pymaid.clear_cache()` to clear. (pymaid)\n",
      "INFO  : Cached data used. Use `pymaid.clear_cache()` to clear. (pymaid)\n",
      "INFO  : Cached data used. Use `pymaid.clear_cache()` to clear. (pymaid)\n",
      "INFO  : Cached data used. Use `pymaid.clear_cache()` to clear. (pymaid)\n",
      "INFO  : Cached data used. Use `pymaid.clear_cache()` to clear. (pymaid)\n",
      "INFO  : Cached data used. Use `pymaid.clear_cache()` to clear. (pymaid)\n",
      "INFO  : Cached data used. Use `pymaid.clear_cache()` to clear. (pymaid)\n",
      "INFO  : Cached data used. Use `pymaid.clear_cache()` to clear. (pymaid)\n",
      "INFO  : Cached data used. Use `pymaid.clear_cache()` to clear. (pymaid)\n",
      "INFO  : Cached data used. Use `pymaid.clear_cache()` to clear. (pymaid)\n",
      "INFO  : Cached data used. Use `pymaid.clear_cache()` to clear. (pymaid)\n",
      "INFO  : Cached data used. Use `pymaid.clear_cache()` to clear. (pymaid)\n",
      "INFO  : Cached data used. Use `pymaid.clear_cache()` to clear. (pymaid)\n",
      "INFO  : Cached data used. Use `pymaid.clear_cache()` to clear. (pymaid)\n",
      "INFO  : Cached data used. Use `pymaid.clear_cache()` to clear. (pymaid)\n",
      "INFO  : Cached data used. Use `pymaid.clear_cache()` to clear. (pymaid)\n",
      "INFO  : Cached data used. Use `pymaid.clear_cache()` to clear. (pymaid)\n",
      "INFO  : Cached data used. Use `pymaid.clear_cache()` to clear. (pymaid)\n",
      "INFO  : Cached data used. Use `pymaid.clear_cache()` to clear. (pymaid)\n",
      "INFO  : Cached data used. Use `pymaid.clear_cache()` to clear. (pymaid)\n",
      "INFO  : Cached data used. Use `pymaid.clear_cache()` to clear. (pymaid)\n",
      "INFO  : Cached data used. Use `pymaid.clear_cache()` to clear. (pymaid)\n",
      "INFO  : Cached data used. Use `pymaid.clear_cache()` to clear. (pymaid)\n",
      "INFO  : Cached data used. Use `pymaid.clear_cache()` to clear. (pymaid)\n",
      "INFO  : Cached data used. Use `pymaid.clear_cache()` to clear. (pymaid)\n",
      "INFO  : Cached data used. Use `pymaid.clear_cache()` to clear. (pymaid)\n",
      "INFO  : Cached data used. Use `pymaid.clear_cache()` to clear. (pymaid)\n",
      "INFO  : Cached data used. Use `pymaid.clear_cache()` to clear. (pymaid)\n",
      "INFO  : Cached data used. Use `pymaid.clear_cache()` to clear. (pymaid)\n",
      "INFO  : Cached data used. Use `pymaid.clear_cache()` to clear. (pymaid)\n",
      "INFO  : Fetching connectivity table for 1 neurons (pymaid)\n",
      "INFO  : Cached data used. Use `pymaid.clear_cache()` to clear. (pymaid)\n",
      "INFO  : Cached data used. Use `pymaid.clear_cache()` to clear. (pymaid)\n",
      "INFO  : Done. Found 0 pre-, 23 postsynaptic and 0 gap junction-connected neurons (pymaid)\n",
      "INFO  : Fetching connectivity table for 1 neurons (pymaid)\n",
      "INFO  : Cached data used. Use `pymaid.clear_cache()` to clear. (pymaid)\n",
      "INFO  : Cached data used. Use `pymaid.clear_cache()` to clear. (pymaid)\n",
      "INFO  : Done. Found 0 pre-, 23 postsynaptic and 0 gap junction-connected neurons (pymaid)\n",
      "INFO  : Fetching connectivity table for 1 neurons (pymaid)\n",
      "INFO  : Cached data used. Use `pymaid.clear_cache()` to clear. (pymaid)\n",
      "INFO  : Cached data used. Use `pymaid.clear_cache()` to clear. (pymaid)\n",
      "INFO  : Done. Found 31 pre-, 0 postsynaptic and 0 gap junction-connected neurons (pymaid)\n",
      "INFO  : Fetching connectivity table for 1 neurons (pymaid)\n",
      "INFO  : Cached data used. Use `pymaid.clear_cache()` to clear. (pymaid)\n",
      "INFO  : Cached data used. Use `pymaid.clear_cache()` to clear. (pymaid)\n",
      "INFO  : Done. Found 16 pre-, 0 postsynaptic and 0 gap junction-connected neurons (pymaid)\n",
      "INFO  : Fetching connectivity table for 1 neurons (pymaid)\n",
      "INFO  : Cached data used. Use `pymaid.clear_cache()` to clear. (pymaid)\n",
      "INFO  : Cached data used. Use `pymaid.clear_cache()` to clear. (pymaid)\n",
      "INFO  : Done. Found 32 pre-, 0 postsynaptic and 0 gap junction-connected neurons (pymaid)\n",
      "INFO  : Cached data used. Use `pymaid.clear_cache()` to clear. (pymaid)\n",
      "INFO  : Cached data used. Use `pymaid.clear_cache()` to clear. (pymaid)\n",
      "INFO  : Cached data used. Use `pymaid.clear_cache()` to clear. (pymaid)\n",
      "INFO  : Cached data used. Use `pymaid.clear_cache()` to clear. (pymaid)\n",
      "INFO  : Cached data used. Use `pymaid.clear_cache()` to clear. (pymaid)\n",
      "INFO  : Cached data used. Use `pymaid.clear_cache()` to clear. (pymaid)\n",
      "INFO  : Cached data used. Use `pymaid.clear_cache()` to clear. (pymaid)\n",
      "INFO  : Cached data used. Use `pymaid.clear_cache()` to clear. (pymaid)\n",
      "INFO  : Cached data used. Use `pymaid.clear_cache()` to clear. (pymaid)\n",
      "INFO  : Cached data used. Use `pymaid.clear_cache()` to clear. (pymaid)\n",
      "INFO  : Cached data used. Use `pymaid.clear_cache()` to clear. (pymaid)\n"
     ]
    },
    {
     "name": "stderr",
     "output_type": "stream",
     "text": [
      "INFO  : Cached data used. Use `pymaid.clear_cache()` to clear. (pymaid)\n",
      "INFO  : Cached data used. Use `pymaid.clear_cache()` to clear. (pymaid)\n",
      "INFO  : Cached data used. Use `pymaid.clear_cache()` to clear. (pymaid)\n",
      "INFO  : Cached data used. Use `pymaid.clear_cache()` to clear. (pymaid)\n",
      "INFO  : Cached data used. Use `pymaid.clear_cache()` to clear. (pymaid)\n",
      "INFO  : Cached data used. Use `pymaid.clear_cache()` to clear. (pymaid)\n",
      "INFO  : Cached data used. Use `pymaid.clear_cache()` to clear. (pymaid)\n",
      "INFO  : Cached data used. Use `pymaid.clear_cache()` to clear. (pymaid)\n",
      "INFO  : Cached data used. Use `pymaid.clear_cache()` to clear. (pymaid)\n",
      "INFO  : Cached data used. Use `pymaid.clear_cache()` to clear. (pymaid)\n",
      "INFO  : Cached data used. Use `pymaid.clear_cache()` to clear. (pymaid)\n",
      "INFO  : Cached data used. Use `pymaid.clear_cache()` to clear. (pymaid)\n",
      "INFO  : Cached data used. Use `pymaid.clear_cache()` to clear. (pymaid)\n",
      "INFO  : Cached data used. Use `pymaid.clear_cache()` to clear. (pymaid)\n",
      "INFO  : Cached data used. Use `pymaid.clear_cache()` to clear. (pymaid)\n",
      "INFO  : Cached data used. Use `pymaid.clear_cache()` to clear. (pymaid)\n",
      "INFO  : Cached data used. Use `pymaid.clear_cache()` to clear. (pymaid)\n",
      "INFO  : Cached data used. Use `pymaid.clear_cache()` to clear. (pymaid)\n",
      "INFO  : Cached data used. Use `pymaid.clear_cache()` to clear. (pymaid)\n",
      "INFO  : Cached data used. Use `pymaid.clear_cache()` to clear. (pymaid)\n",
      "INFO  : Cached data used. Use `pymaid.clear_cache()` to clear. (pymaid)\n",
      "INFO  : Cached data used. Use `pymaid.clear_cache()` to clear. (pymaid)\n",
      "INFO  : Cached data used. Use `pymaid.clear_cache()` to clear. (pymaid)\n",
      "INFO  : Cached data used. Use `pymaid.clear_cache()` to clear. (pymaid)\n",
      "INFO  : Cached data used. Use `pymaid.clear_cache()` to clear. (pymaid)\n",
      "INFO  : Cached data used. Use `pymaid.clear_cache()` to clear. (pymaid)\n",
      "INFO  : Cached data used. Use `pymaid.clear_cache()` to clear. (pymaid)\n",
      "INFO  : Cached data used. Use `pymaid.clear_cache()` to clear. (pymaid)\n",
      "INFO  : Fetching connectivity table for 1 neurons (pymaid)\n",
      "INFO  : Done. Found 0 pre-, 9 postsynaptic and 0 gap junction-connected neurons (pymaid)\n",
      "INFO  : Fetching connectivity table for 1 neurons (pymaid)\n",
      "INFO  : Cached data used. Use `pymaid.clear_cache()` to clear. (pymaid)\n",
      "INFO  : Cached data used. Use `pymaid.clear_cache()` to clear. (pymaid)\n",
      "INFO  : Done. Found 0 pre-, 9 postsynaptic and 0 gap junction-connected neurons (pymaid)\n",
      "INFO  : Fetching connectivity table for 1 neurons (pymaid)\n",
      "INFO  : Done. Found 0 pre-, 6 postsynaptic and 0 gap junction-connected neurons (pymaid)\n",
      "INFO  : Fetching connectivity table for 1 neurons (pymaid)\n",
      "INFO  : Cached data used. Use `pymaid.clear_cache()` to clear. (pymaid)\n",
      "INFO  : Cached data used. Use `pymaid.clear_cache()` to clear. (pymaid)\n",
      "INFO  : Done. Found 0 pre-, 6 postsynaptic and 0 gap junction-connected neurons (pymaid)\n",
      "INFO  : Fetching connectivity table for 1 neurons (pymaid)\n",
      "INFO  : Done. Found 0 pre-, 36 postsynaptic and 0 gap junction-connected neurons (pymaid)\n",
      "INFO  : Fetching connectivity table for 1 neurons (pymaid)\n",
      "INFO  : Cached data used. Use `pymaid.clear_cache()` to clear. (pymaid)\n",
      "INFO  : Cached data used. Use `pymaid.clear_cache()` to clear. (pymaid)\n",
      "INFO  : Done. Found 0 pre-, 36 postsynaptic and 0 gap junction-connected neurons (pymaid)\n",
      "INFO  : Fetching connectivity table for 1 neurons (pymaid)\n",
      "INFO  : Done. Found 0 pre-, 35 postsynaptic and 0 gap junction-connected neurons (pymaid)\n",
      "INFO  : Fetching connectivity table for 1 neurons (pymaid)\n",
      "INFO  : Cached data used. Use `pymaid.clear_cache()` to clear. (pymaid)\n",
      "INFO  : Cached data used. Use `pymaid.clear_cache()` to clear. (pymaid)\n",
      "INFO  : Done. Found 0 pre-, 35 postsynaptic and 0 gap junction-connected neurons (pymaid)\n",
      "INFO  : Fetching connectivity table for 1 neurons (pymaid)\n",
      "INFO  : Done. Found 0 pre-, 50 postsynaptic and 0 gap junction-connected neurons (pymaid)\n",
      "INFO  : Fetching connectivity table for 1 neurons (pymaid)\n",
      "INFO  : Cached data used. Use `pymaid.clear_cache()` to clear. (pymaid)\n",
      "INFO  : Cached data used. Use `pymaid.clear_cache()` to clear. (pymaid)\n",
      "INFO  : Done. Found 0 pre-, 50 postsynaptic and 0 gap junction-connected neurons (pymaid)\n",
      "INFO  : Fetching connectivity table for 1 neurons (pymaid)\n",
      "INFO  : Done. Found 0 pre-, 5 postsynaptic and 0 gap junction-connected neurons (pymaid)\n",
      "INFO  : Fetching connectivity table for 1 neurons (pymaid)\n",
      "INFO  : Cached data used. Use `pymaid.clear_cache()` to clear. (pymaid)\n",
      "INFO  : Cached data used. Use `pymaid.clear_cache()` to clear. (pymaid)\n",
      "INFO  : Done. Found 0 pre-, 5 postsynaptic and 0 gap junction-connected neurons (pymaid)\n",
      "INFO  : Fetching connectivity table for 1 neurons (pymaid)\n",
      "INFO  : Done. Found 0 pre-, 5 postsynaptic and 0 gap junction-connected neurons (pymaid)\n",
      "INFO  : Fetching connectivity table for 1 neurons (pymaid)\n",
      "INFO  : Cached data used. Use `pymaid.clear_cache()` to clear. (pymaid)\n",
      "INFO  : Cached data used. Use `pymaid.clear_cache()` to clear. (pymaid)\n",
      "INFO  : Done. Found 0 pre-, 5 postsynaptic and 0 gap junction-connected neurons (pymaid)\n",
      "INFO  : Fetching connectivity table for 1 neurons (pymaid)\n",
      "INFO  : Done. Found 0 pre-, 30 postsynaptic and 0 gap junction-connected neurons (pymaid)\n",
      "INFO  : Fetching connectivity table for 1 neurons (pymaid)\n",
      "INFO  : Cached data used. Use `pymaid.clear_cache()` to clear. (pymaid)\n",
      "INFO  : Cached data used. Use `pymaid.clear_cache()` to clear. (pymaid)\n",
      "INFO  : Done. Found 0 pre-, 30 postsynaptic and 0 gap junction-connected neurons (pymaid)\n",
      "INFO  : Fetching connectivity table for 1 neurons (pymaid)\n",
      "INFO  : Done. Found 0 pre-, 26 postsynaptic and 0 gap junction-connected neurons (pymaid)\n",
      "INFO  : Fetching connectivity table for 1 neurons (pymaid)\n",
      "INFO  : Cached data used. Use `pymaid.clear_cache()` to clear. (pymaid)\n",
      "INFO  : Cached data used. Use `pymaid.clear_cache()` to clear. (pymaid)\n",
      "INFO  : Done. Found 0 pre-, 26 postsynaptic and 0 gap junction-connected neurons (pymaid)\n",
      "INFO  : Fetching connectivity table for 1 neurons (pymaid)\n",
      "INFO  : Done. Found 0 pre-, 24 postsynaptic and 0 gap junction-connected neurons (pymaid)\n",
      "INFO  : Fetching connectivity table for 1 neurons (pymaid)\n",
      "INFO  : Cached data used. Use `pymaid.clear_cache()` to clear. (pymaid)\n",
      "INFO  : Cached data used. Use `pymaid.clear_cache()` to clear. (pymaid)\n",
      "INFO  : Done. Found 0 pre-, 24 postsynaptic and 0 gap junction-connected neurons (pymaid)\n",
      "INFO  : Fetching connectivity table for 1 neurons (pymaid)\n",
      "INFO  : Done. Found 0 pre-, 13 postsynaptic and 0 gap junction-connected neurons (pymaid)\n",
      "INFO  : Fetching connectivity table for 1 neurons (pymaid)\n",
      "INFO  : Cached data used. Use `pymaid.clear_cache()` to clear. (pymaid)\n",
      "INFO  : Cached data used. Use `pymaid.clear_cache()` to clear. (pymaid)\n",
      "INFO  : Done. Found 0 pre-, 13 postsynaptic and 0 gap junction-connected neurons (pymaid)\n",
      "INFO  : Fetching connectivity table for 1 neurons (pymaid)\n",
      "INFO  : Done. Found 0 pre-, 3 postsynaptic and 0 gap junction-connected neurons (pymaid)\n",
      "INFO  : Fetching connectivity table for 1 neurons (pymaid)\n",
      "INFO  : Cached data used. Use `pymaid.clear_cache()` to clear. (pymaid)\n",
      "INFO  : Cached data used. Use `pymaid.clear_cache()` to clear. (pymaid)\n",
      "INFO  : Done. Found 0 pre-, 3 postsynaptic and 0 gap junction-connected neurons (pymaid)\n",
      "INFO  : Fetching connectivity table for 1 neurons (pymaid)\n",
      "INFO  : Done. Found 0 pre-, 11 postsynaptic and 0 gap junction-connected neurons (pymaid)\n",
      "INFO  : Fetching connectivity table for 1 neurons (pymaid)\n",
      "INFO  : Cached data used. Use `pymaid.clear_cache()` to clear. (pymaid)\n",
      "INFO  : Cached data used. Use `pymaid.clear_cache()` to clear. (pymaid)\n",
      "INFO  : Done. Found 0 pre-, 11 postsynaptic and 0 gap junction-connected neurons (pymaid)\n",
      "INFO  : Fetching connectivity table for 1 neurons (pymaid)\n",
      "INFO  : Done. Found 0 pre-, 25 postsynaptic and 0 gap junction-connected neurons (pymaid)\n",
      "INFO  : Fetching connectivity table for 1 neurons (pymaid)\n",
      "INFO  : Cached data used. Use `pymaid.clear_cache()` to clear. (pymaid)\n",
      "INFO  : Cached data used. Use `pymaid.clear_cache()` to clear. (pymaid)\n",
      "INFO  : Done. Found 0 pre-, 25 postsynaptic and 0 gap junction-connected neurons (pymaid)\n",
      "INFO  : Fetching connectivity table for 1 neurons (pymaid)\n",
      "INFO  : Done. Found 0 pre-, 4 postsynaptic and 0 gap junction-connected neurons (pymaid)\n",
      "INFO  : Fetching connectivity table for 1 neurons (pymaid)\n",
      "INFO  : Cached data used. Use `pymaid.clear_cache()` to clear. (pymaid)\n",
      "INFO  : Cached data used. Use `pymaid.clear_cache()` to clear. (pymaid)\n",
      "INFO  : Done. Found 0 pre-, 4 postsynaptic and 0 gap junction-connected neurons (pymaid)\n",
      "INFO  : Fetching connectivity table for 1 neurons (pymaid)\n",
      "INFO  : Done. Found 0 pre-, 2 postsynaptic and 0 gap junction-connected neurons (pymaid)\n",
      "INFO  : Fetching connectivity table for 1 neurons (pymaid)\n",
      "INFO  : Cached data used. Use `pymaid.clear_cache()` to clear. (pymaid)\n",
      "INFO  : Cached data used. Use `pymaid.clear_cache()` to clear. (pymaid)\n",
      "INFO  : Done. Found 0 pre-, 2 postsynaptic and 0 gap junction-connected neurons (pymaid)\n",
      "INFO  : Fetching connectivity table for 1 neurons (pymaid)\n",
      "INFO  : Done. Found 0 pre-, 12 postsynaptic and 0 gap junction-connected neurons (pymaid)\n",
      "INFO  : Fetching connectivity table for 1 neurons (pymaid)\n",
      "INFO  : Cached data used. Use `pymaid.clear_cache()` to clear. (pymaid)\n",
      "INFO  : Cached data used. Use `pymaid.clear_cache()` to clear. (pymaid)\n",
      "INFO  : Done. Found 0 pre-, 12 postsynaptic and 0 gap junction-connected neurons (pymaid)\n",
      "INFO  : Fetching connectivity table for 1 neurons (pymaid)\n",
      "INFO  : Done. Found 0 pre-, 15 postsynaptic and 0 gap junction-connected neurons (pymaid)\n",
      "INFO  : Fetching connectivity table for 1 neurons (pymaid)\n",
      "INFO  : Cached data used. Use `pymaid.clear_cache()` to clear. (pymaid)\n",
      "INFO  : Cached data used. Use `pymaid.clear_cache()` to clear. (pymaid)\n",
      "INFO  : Done. Found 0 pre-, 15 postsynaptic and 0 gap junction-connected neurons (pymaid)\n",
      "INFO  : Fetching connectivity table for 1 neurons (pymaid)\n",
      "INFO  : Done. Found 0 pre-, 13 postsynaptic and 0 gap junction-connected neurons (pymaid)\n",
      "INFO  : Fetching connectivity table for 1 neurons (pymaid)\n",
      "INFO  : Cached data used. Use `pymaid.clear_cache()` to clear. (pymaid)\n",
      "INFO  : Cached data used. Use `pymaid.clear_cache()` to clear. (pymaid)\n",
      "INFO  : Done. Found 0 pre-, 13 postsynaptic and 0 gap junction-connected neurons (pymaid)\n",
      "INFO  : Fetching connectivity table for 1 neurons (pymaid)\n",
      "INFO  : Done. Found 0 pre-, 12 postsynaptic and 0 gap junction-connected neurons (pymaid)\n",
      "INFO  : Fetching connectivity table for 1 neurons (pymaid)\n",
      "INFO  : Cached data used. Use `pymaid.clear_cache()` to clear. (pymaid)\n",
      "INFO  : Cached data used. Use `pymaid.clear_cache()` to clear. (pymaid)\n",
      "INFO  : Done. Found 0 pre-, 12 postsynaptic and 0 gap junction-connected neurons (pymaid)\n",
      "INFO  : Fetching connectivity table for 1 neurons (pymaid)\n",
      "INFO  : Done. Found 0 pre-, 0 postsynaptic and 0 gap junction-connected neurons (pymaid)\n",
      "INFO  : Fetching connectivity table for 1 neurons (pymaid)\n",
      "INFO  : Cached data used. Use `pymaid.clear_cache()` to clear. (pymaid)\n",
      "INFO  : Cached data used. Use `pymaid.clear_cache()` to clear. (pymaid)\n",
      "INFO  : Done. Found 0 pre-, 0 postsynaptic and 0 gap junction-connected neurons (pymaid)\n",
      "INFO  : Fetching connectivity table for 1 neurons (pymaid)\n",
      "INFO  : Done. Found 0 pre-, 22 postsynaptic and 0 gap junction-connected neurons (pymaid)\n",
      "INFO  : Fetching connectivity table for 1 neurons (pymaid)\n",
      "INFO  : Cached data used. Use `pymaid.clear_cache()` to clear. (pymaid)\n",
      "INFO  : Cached data used. Use `pymaid.clear_cache()` to clear. (pymaid)\n",
      "INFO  : Done. Found 0 pre-, 22 postsynaptic and 0 gap junction-connected neurons (pymaid)\n",
      "INFO  : Fetching connectivity table for 1 neurons (pymaid)\n",
      "INFO  : Done. Found 0 pre-, 18 postsynaptic and 0 gap junction-connected neurons (pymaid)\n",
      "INFO  : Fetching connectivity table for 1 neurons (pymaid)\n",
      "INFO  : Cached data used. Use `pymaid.clear_cache()` to clear. (pymaid)\n",
      "INFO  : Cached data used. Use `pymaid.clear_cache()` to clear. (pymaid)\n",
      "INFO  : Done. Found 0 pre-, 18 postsynaptic and 0 gap junction-connected neurons (pymaid)\n",
      "INFO  : Fetching connectivity table for 1 neurons (pymaid)\n",
      "INFO  : Done. Found 0 pre-, 5 postsynaptic and 0 gap junction-connected neurons (pymaid)\n",
      "INFO  : Fetching connectivity table for 1 neurons (pymaid)\n",
      "INFO  : Cached data used. Use `pymaid.clear_cache()` to clear. (pymaid)\n",
      "INFO  : Cached data used. Use `pymaid.clear_cache()` to clear. (pymaid)\n",
      "INFO  : Done. Found 0 pre-, 5 postsynaptic and 0 gap junction-connected neurons (pymaid)\n",
      "INFO  : Fetching connectivity table for 1 neurons (pymaid)\n",
      "INFO  : Done. Found 0 pre-, 2 postsynaptic and 0 gap junction-connected neurons (pymaid)\n",
      "INFO  : Fetching connectivity table for 1 neurons (pymaid)\n",
      "INFO  : Cached data used. Use `pymaid.clear_cache()` to clear. (pymaid)\n",
      "INFO  : Cached data used. Use `pymaid.clear_cache()` to clear. (pymaid)\n",
      "INFO  : Done. Found 0 pre-, 2 postsynaptic and 0 gap junction-connected neurons (pymaid)\n",
      "INFO  : Fetching connectivity table for 1 neurons (pymaid)\n",
      "INFO  : Done. Found 0 pre-, 21 postsynaptic and 0 gap junction-connected neurons (pymaid)\n",
      "INFO  : Fetching connectivity table for 1 neurons (pymaid)\n",
      "INFO  : Cached data used. Use `pymaid.clear_cache()` to clear. (pymaid)\n",
      "INFO  : Cached data used. Use `pymaid.clear_cache()` to clear. (pymaid)\n",
      "INFO  : Done. Found 0 pre-, 21 postsynaptic and 0 gap junction-connected neurons (pymaid)\n",
      "INFO  : Fetching connectivity table for 1 neurons (pymaid)\n",
      "INFO  : Done. Found 0 pre-, 8 postsynaptic and 0 gap junction-connected neurons (pymaid)\n",
      "INFO  : Fetching connectivity table for 1 neurons (pymaid)\n",
      "INFO  : Cached data used. Use `pymaid.clear_cache()` to clear. (pymaid)\n",
      "INFO  : Cached data used. Use `pymaid.clear_cache()` to clear. (pymaid)\n",
      "INFO  : Done. Found 0 pre-, 8 postsynaptic and 0 gap junction-connected neurons (pymaid)\n",
      "INFO  : Fetching connectivity table for 1 neurons (pymaid)\n",
      "INFO  : Done. Found 0 pre-, 11 postsynaptic and 0 gap junction-connected neurons (pymaid)\n",
      "INFO  : Fetching connectivity table for 1 neurons (pymaid)\n",
      "INFO  : Cached data used. Use `pymaid.clear_cache()` to clear. (pymaid)\n",
      "INFO  : Cached data used. Use `pymaid.clear_cache()` to clear. (pymaid)\n",
      "INFO  : Done. Found 0 pre-, 11 postsynaptic and 0 gap junction-connected neurons (pymaid)\n",
      "INFO  : Fetching connectivity table for 1 neurons (pymaid)\n",
      "INFO  : Done. Found 0 pre-, 17 postsynaptic and 0 gap junction-connected neurons (pymaid)\n",
      "INFO  : Fetching connectivity table for 1 neurons (pymaid)\n",
      "INFO  : Cached data used. Use `pymaid.clear_cache()` to clear. (pymaid)\n",
      "INFO  : Cached data used. Use `pymaid.clear_cache()` to clear. (pymaid)\n",
      "INFO  : Done. Found 0 pre-, 17 postsynaptic and 0 gap junction-connected neurons (pymaid)\n",
      "INFO  : Fetching connectivity table for 1 neurons (pymaid)\n",
      "INFO  : Done. Found 0 pre-, 5 postsynaptic and 0 gap junction-connected neurons (pymaid)\n",
      "INFO  : Fetching connectivity table for 1 neurons (pymaid)\n",
      "INFO  : Cached data used. Use `pymaid.clear_cache()` to clear. (pymaid)\n",
      "INFO  : Cached data used. Use `pymaid.clear_cache()` to clear. (pymaid)\n",
      "INFO  : Done. Found 0 pre-, 5 postsynaptic and 0 gap junction-connected neurons (pymaid)\n",
      "INFO  : Fetching connectivity table for 1 neurons (pymaid)\n",
      "INFO  : Done. Found 0 pre-, 5 postsynaptic and 0 gap junction-connected neurons (pymaid)\n",
      "INFO  : Fetching connectivity table for 1 neurons (pymaid)\n",
      "INFO  : Cached data used. Use `pymaid.clear_cache()` to clear. (pymaid)\n",
      "INFO  : Cached data used. Use `pymaid.clear_cache()` to clear. (pymaid)\n",
      "INFO  : Done. Found 0 pre-, 5 postsynaptic and 0 gap junction-connected neurons (pymaid)\n",
      "INFO  : Fetching connectivity table for 1 neurons (pymaid)\n",
      "INFO  : Done. Found 0 pre-, 11 postsynaptic and 0 gap junction-connected neurons (pymaid)\n",
      "INFO  : Fetching connectivity table for 1 neurons (pymaid)\n",
      "INFO  : Cached data used. Use `pymaid.clear_cache()` to clear. (pymaid)\n",
      "INFO  : Cached data used. Use `pymaid.clear_cache()` to clear. (pymaid)\n",
      "INFO  : Done. Found 0 pre-, 11 postsynaptic and 0 gap junction-connected neurons (pymaid)\n",
      "INFO  : Fetching connectivity table for 1 neurons (pymaid)\n",
      "INFO  : Done. Found 0 pre-, 6 postsynaptic and 0 gap junction-connected neurons (pymaid)\n",
      "INFO  : Fetching connectivity table for 1 neurons (pymaid)\n"
     ]
    },
    {
     "name": "stderr",
     "output_type": "stream",
     "text": [
      "INFO  : Cached data used. Use `pymaid.clear_cache()` to clear. (pymaid)\n",
      "INFO  : Cached data used. Use `pymaid.clear_cache()` to clear. (pymaid)\n",
      "INFO  : Done. Found 0 pre-, 6 postsynaptic and 0 gap junction-connected neurons (pymaid)\n",
      "INFO  : Fetching connectivity table for 1 neurons (pymaid)\n",
      "INFO  : Done. Found 0 pre-, 19 postsynaptic and 0 gap junction-connected neurons (pymaid)\n",
      "INFO  : Fetching connectivity table for 1 neurons (pymaid)\n",
      "INFO  : Cached data used. Use `pymaid.clear_cache()` to clear. (pymaid)\n",
      "INFO  : Cached data used. Use `pymaid.clear_cache()` to clear. (pymaid)\n",
      "INFO  : Done. Found 0 pre-, 19 postsynaptic and 0 gap junction-connected neurons (pymaid)\n",
      "INFO  : Fetching connectivity table for 1 neurons (pymaid)\n",
      "INFO  : Done. Found 0 pre-, 17 postsynaptic and 0 gap junction-connected neurons (pymaid)\n",
      "INFO  : Fetching connectivity table for 1 neurons (pymaid)\n",
      "INFO  : Cached data used. Use `pymaid.clear_cache()` to clear. (pymaid)\n",
      "INFO  : Cached data used. Use `pymaid.clear_cache()` to clear. (pymaid)\n",
      "INFO  : Done. Found 0 pre-, 17 postsynaptic and 0 gap junction-connected neurons (pymaid)\n",
      "INFO  : Fetching connectivity table for 1 neurons (pymaid)\n",
      "INFO  : Cached data used. Use `pymaid.clear_cache()` to clear. (pymaid)\n",
      "INFO  : Cached data used. Use `pymaid.clear_cache()` to clear. (pymaid)\n",
      "INFO  : Done. Found 16 pre-, 0 postsynaptic and 0 gap junction-connected neurons (pymaid)\n",
      "INFO  : Cached data used. Use `pymaid.clear_cache()` to clear. (pymaid)\n",
      "INFO  : Fetching connectivity table for 1 neurons (pymaid)\n",
      "INFO  : Cached data used. Use `pymaid.clear_cache()` to clear. (pymaid)\n",
      "INFO  : Cached data used. Use `pymaid.clear_cache()` to clear. (pymaid)\n",
      "INFO  : Done. Found 0 pre-, 17 postsynaptic and 0 gap junction-connected neurons (pymaid)\n",
      "INFO  : Fetching connectivity table for 1 neurons (pymaid)\n",
      "INFO  : Cached data used. Use `pymaid.clear_cache()` to clear. (pymaid)\n",
      "INFO  : Cached data used. Use `pymaid.clear_cache()` to clear. (pymaid)\n",
      "INFO  : Done. Found 0 pre-, 17 postsynaptic and 0 gap junction-connected neurons (pymaid)\n",
      "INFO  : Fetching connectivity table for 1 neurons (pymaid)\n",
      "INFO  : Cached data used. Use `pymaid.clear_cache()` to clear. (pymaid)\n",
      "INFO  : Cached data used. Use `pymaid.clear_cache()` to clear. (pymaid)\n",
      "INFO  : Done. Found 16 pre-, 0 postsynaptic and 0 gap junction-connected neurons (pymaid)\n",
      "INFO  : Cached data used. Use `pymaid.clear_cache()` to clear. (pymaid)\n",
      "INFO  : Cached data used. Use `pymaid.clear_cache()` to clear. (pymaid)\n",
      "INFO  : Cached data used. Use `pymaid.clear_cache()` to clear. (pymaid)\n",
      "INFO  : Fetching connectivity table for 1 neurons (pymaid)\n",
      "INFO  : Done. Found 0 pre-, 17 postsynaptic and 0 gap junction-connected neurons (pymaid)\n",
      "INFO  : Fetching connectivity table for 1 neurons (pymaid)\n",
      "INFO  : Cached data used. Use `pymaid.clear_cache()` to clear. (pymaid)\n",
      "INFO  : Cached data used. Use `pymaid.clear_cache()` to clear. (pymaid)\n",
      "INFO  : Done. Found 0 pre-, 17 postsynaptic and 0 gap junction-connected neurons (pymaid)\n",
      "INFO  : Fetching connectivity table for 1 neurons (pymaid)\n",
      "INFO  : Done. Found 0 pre-, 15 postsynaptic and 0 gap junction-connected neurons (pymaid)\n",
      "INFO  : Fetching connectivity table for 1 neurons (pymaid)\n",
      "INFO  : Cached data used. Use `pymaid.clear_cache()` to clear. (pymaid)\n",
      "INFO  : Cached data used. Use `pymaid.clear_cache()` to clear. (pymaid)\n",
      "INFO  : Done. Found 0 pre-, 15 postsynaptic and 0 gap junction-connected neurons (pymaid)\n",
      "INFO  : Fetching connectivity table for 1 neurons (pymaid)\n",
      "INFO  : Done. Found 0 pre-, 8 postsynaptic and 0 gap junction-connected neurons (pymaid)\n",
      "INFO  : Fetching connectivity table for 1 neurons (pymaid)\n",
      "INFO  : Cached data used. Use `pymaid.clear_cache()` to clear. (pymaid)\n",
      "INFO  : Cached data used. Use `pymaid.clear_cache()` to clear. (pymaid)\n",
      "INFO  : Done. Found 0 pre-, 8 postsynaptic and 0 gap junction-connected neurons (pymaid)\n",
      "INFO  : Fetching connectivity table for 1 neurons (pymaid)\n",
      "INFO  : Done. Found 0 pre-, 7 postsynaptic and 0 gap junction-connected neurons (pymaid)\n",
      "INFO  : Fetching connectivity table for 1 neurons (pymaid)\n",
      "INFO  : Cached data used. Use `pymaid.clear_cache()` to clear. (pymaid)\n",
      "INFO  : Cached data used. Use `pymaid.clear_cache()` to clear. (pymaid)\n",
      "INFO  : Done. Found 0 pre-, 7 postsynaptic and 0 gap junction-connected neurons (pymaid)\n",
      "INFO  : Fetching connectivity table for 1 neurons (pymaid)\n",
      "INFO  : Done. Found 0 pre-, 0 postsynaptic and 0 gap junction-connected neurons (pymaid)\n",
      "INFO  : Fetching connectivity table for 1 neurons (pymaid)\n",
      "INFO  : Cached data used. Use `pymaid.clear_cache()` to clear. (pymaid)\n",
      "INFO  : Cached data used. Use `pymaid.clear_cache()` to clear. (pymaid)\n",
      "INFO  : Done. Found 0 pre-, 0 postsynaptic and 0 gap junction-connected neurons (pymaid)\n",
      "INFO  : Fetching connectivity table for 1 neurons (pymaid)\n",
      "INFO  : Done. Found 0 pre-, 8 postsynaptic and 0 gap junction-connected neurons (pymaid)\n",
      "INFO  : Fetching connectivity table for 1 neurons (pymaid)\n",
      "INFO  : Cached data used. Use `pymaid.clear_cache()` to clear. (pymaid)\n",
      "INFO  : Cached data used. Use `pymaid.clear_cache()` to clear. (pymaid)\n",
      "INFO  : Done. Found 0 pre-, 8 postsynaptic and 0 gap junction-connected neurons (pymaid)\n",
      "INFO  : Fetching connectivity table for 1 neurons (pymaid)\n",
      "INFO  : Done. Found 0 pre-, 6 postsynaptic and 0 gap junction-connected neurons (pymaid)\n",
      "INFO  : Fetching connectivity table for 1 neurons (pymaid)\n",
      "INFO  : Cached data used. Use `pymaid.clear_cache()` to clear. (pymaid)\n",
      "INFO  : Cached data used. Use `pymaid.clear_cache()` to clear. (pymaid)\n",
      "INFO  : Done. Found 0 pre-, 6 postsynaptic and 0 gap junction-connected neurons (pymaid)\n",
      "INFO  : Fetching connectivity table for 1 neurons (pymaid)\n",
      "INFO  : Done. Found 0 pre-, 20 postsynaptic and 0 gap junction-connected neurons (pymaid)\n",
      "INFO  : Fetching connectivity table for 1 neurons (pymaid)\n",
      "INFO  : Cached data used. Use `pymaid.clear_cache()` to clear. (pymaid)\n",
      "INFO  : Cached data used. Use `pymaid.clear_cache()` to clear. (pymaid)\n",
      "INFO  : Done. Found 0 pre-, 20 postsynaptic and 0 gap junction-connected neurons (pymaid)\n",
      "INFO  : Fetching connectivity table for 1 neurons (pymaid)\n",
      "INFO  : Cached data used. Use `pymaid.clear_cache()` to clear. (pymaid)\n",
      "INFO  : Cached data used. Use `pymaid.clear_cache()` to clear. (pymaid)\n",
      "INFO  : Done. Found 31 pre-, 0 postsynaptic and 0 gap junction-connected neurons (pymaid)\n",
      "INFO  : Fetching connectivity table for 1 neurons (pymaid)\n",
      "INFO  : Cached data used. Use `pymaid.clear_cache()` to clear. (pymaid)\n",
      "INFO  : Cached data used. Use `pymaid.clear_cache()` to clear. (pymaid)\n",
      "INFO  : Done. Found 16 pre-, 0 postsynaptic and 0 gap junction-connected neurons (pymaid)\n",
      "INFO  : Fetching connectivity table for 1 neurons (pymaid)\n",
      "INFO  : Cached data used. Use `pymaid.clear_cache()` to clear. (pymaid)\n",
      "INFO  : Cached data used. Use `pymaid.clear_cache()` to clear. (pymaid)\n",
      "INFO  : Done. Found 32 pre-, 0 postsynaptic and 0 gap junction-connected neurons (pymaid)\n",
      "INFO  : Cached data used. Use `pymaid.clear_cache()` to clear. (pymaid)\n",
      "INFO  : Cached data used. Use `pymaid.clear_cache()` to clear. (pymaid)\n",
      "INFO  : Cached data used. Use `pymaid.clear_cache()` to clear. (pymaid)\n",
      "INFO  : Cached data used. Use `pymaid.clear_cache()` to clear. (pymaid)\n",
      "INFO  : Cached data used. Use `pymaid.clear_cache()` to clear. (pymaid)\n",
      "INFO  : Cached data used. Use `pymaid.clear_cache()` to clear. (pymaid)\n",
      "INFO  : Cached data used. Use `pymaid.clear_cache()` to clear. (pymaid)\n",
      "INFO  : Cached data used. Use `pymaid.clear_cache()` to clear. (pymaid)\n",
      "INFO  : Cached data used. Use `pymaid.clear_cache()` to clear. (pymaid)\n",
      "INFO  : Cached data used. Use `pymaid.clear_cache()` to clear. (pymaid)\n",
      "INFO  : Cached data used. Use `pymaid.clear_cache()` to clear. (pymaid)\n",
      "INFO  : Cached data used. Use `pymaid.clear_cache()` to clear. (pymaid)\n",
      "INFO  : Cached data used. Use `pymaid.clear_cache()` to clear. (pymaid)\n",
      "INFO  : Cached data used. Use `pymaid.clear_cache()` to clear. (pymaid)\n",
      "INFO  : Cached data used. Use `pymaid.clear_cache()` to clear. (pymaid)\n",
      "INFO  : Cached data used. Use `pymaid.clear_cache()` to clear. (pymaid)\n",
      "INFO  : Cached data used. Use `pymaid.clear_cache()` to clear. (pymaid)\n"
     ]
    },
    {
     "name": "stderr",
     "output_type": "stream",
     "text": [
      "INFO  : Cached data used. Use `pymaid.clear_cache()` to clear. (pymaid)\n",
      "INFO  : Cached data used. Use `pymaid.clear_cache()` to clear. (pymaid)\n",
      "INFO  : Cached data used. Use `pymaid.clear_cache()` to clear. (pymaid)\n",
      "INFO  : Cached data used. Use `pymaid.clear_cache()` to clear. (pymaid)\n",
      "INFO  : Cached data used. Use `pymaid.clear_cache()` to clear. (pymaid)\n",
      "INFO  : Cached data used. Use `pymaid.clear_cache()` to clear. (pymaid)\n",
      "INFO  : Cached data used. Use `pymaid.clear_cache()` to clear. (pymaid)\n",
      "INFO  : Cached data used. Use `pymaid.clear_cache()` to clear. (pymaid)\n",
      "INFO  : Cached data used. Use `pymaid.clear_cache()` to clear. (pymaid)\n",
      "INFO  : Cached data used. Use `pymaid.clear_cache()` to clear. (pymaid)\n",
      "INFO  : Cached data used. Use `pymaid.clear_cache()` to clear. (pymaid)\n",
      "INFO  : Cached data used. Use `pymaid.clear_cache()` to clear. (pymaid)\n",
      "INFO  : Cached data used. Use `pymaid.clear_cache()` to clear. (pymaid)\n",
      "INFO  : Cached data used. Use `pymaid.clear_cache()` to clear. (pymaid)\n",
      "INFO  : Fetching connectivity table for 1 neurons (pymaid)\n",
      "INFO  : Cached data used. Use `pymaid.clear_cache()` to clear. (pymaid)\n",
      "INFO  : Cached data used. Use `pymaid.clear_cache()` to clear. (pymaid)\n",
      "INFO  : Done. Found 0 pre-, 20 postsynaptic and 0 gap junction-connected neurons (pymaid)\n",
      "INFO  : Fetching connectivity table for 1 neurons (pymaid)\n",
      "INFO  : Cached data used. Use `pymaid.clear_cache()` to clear. (pymaid)\n",
      "INFO  : Cached data used. Use `pymaid.clear_cache()` to clear. (pymaid)\n",
      "INFO  : Done. Found 0 pre-, 20 postsynaptic and 0 gap junction-connected neurons (pymaid)\n",
      "INFO  : Fetching connectivity table for 1 neurons (pymaid)\n",
      "INFO  : Cached data used. Use `pymaid.clear_cache()` to clear. (pymaid)\n",
      "INFO  : Cached data used. Use `pymaid.clear_cache()` to clear. (pymaid)\n",
      "INFO  : Done. Found 31 pre-, 0 postsynaptic and 0 gap junction-connected neurons (pymaid)\n",
      "INFO  : Fetching connectivity table for 1 neurons (pymaid)\n",
      "INFO  : Cached data used. Use `pymaid.clear_cache()` to clear. (pymaid)\n",
      "INFO  : Cached data used. Use `pymaid.clear_cache()` to clear. (pymaid)\n",
      "INFO  : Done. Found 16 pre-, 0 postsynaptic and 0 gap junction-connected neurons (pymaid)\n",
      "INFO  : Fetching connectivity table for 1 neurons (pymaid)\n",
      "INFO  : Cached data used. Use `pymaid.clear_cache()` to clear. (pymaid)\n",
      "INFO  : Cached data used. Use `pymaid.clear_cache()` to clear. (pymaid)\n",
      "INFO  : Done. Found 32 pre-, 0 postsynaptic and 0 gap junction-connected neurons (pymaid)\n",
      "INFO  : Cached data used. Use `pymaid.clear_cache()` to clear. (pymaid)\n",
      "INFO  : Cached data used. Use `pymaid.clear_cache()` to clear. (pymaid)\n",
      "INFO  : Cached data used. Use `pymaid.clear_cache()` to clear. (pymaid)\n",
      "INFO  : Cached data used. Use `pymaid.clear_cache()` to clear. (pymaid)\n",
      "INFO  : Cached data used. Use `pymaid.clear_cache()` to clear. (pymaid)\n",
      "INFO  : Cached data used. Use `pymaid.clear_cache()` to clear. (pymaid)\n",
      "INFO  : Cached data used. Use `pymaid.clear_cache()` to clear. (pymaid)\n",
      "INFO  : Cached data used. Use `pymaid.clear_cache()` to clear. (pymaid)\n",
      "INFO  : Cached data used. Use `pymaid.clear_cache()` to clear. (pymaid)\n",
      "INFO  : Cached data used. Use `pymaid.clear_cache()` to clear. (pymaid)\n",
      "INFO  : Cached data used. Use `pymaid.clear_cache()` to clear. (pymaid)\n",
      "INFO  : Cached data used. Use `pymaid.clear_cache()` to clear. (pymaid)\n",
      "INFO  : Cached data used. Use `pymaid.clear_cache()` to clear. (pymaid)\n",
      "INFO  : Cached data used. Use `pymaid.clear_cache()` to clear. (pymaid)\n",
      "INFO  : Cached data used. Use `pymaid.clear_cache()` to clear. (pymaid)\n",
      "INFO  : Cached data used. Use `pymaid.clear_cache()` to clear. (pymaid)\n",
      "INFO  : Cached data used. Use `pymaid.clear_cache()` to clear. (pymaid)\n",
      "INFO  : Cached data used. Use `pymaid.clear_cache()` to clear. (pymaid)\n",
      "INFO  : Cached data used. Use `pymaid.clear_cache()` to clear. (pymaid)\n",
      "INFO  : Cached data used. Use `pymaid.clear_cache()` to clear. (pymaid)\n",
      "INFO  : Cached data used. Use `pymaid.clear_cache()` to clear. (pymaid)\n",
      "INFO  : Cached data used. Use `pymaid.clear_cache()` to clear. (pymaid)\n",
      "INFO  : Cached data used. Use `pymaid.clear_cache()` to clear. (pymaid)\n",
      "INFO  : Cached data used. Use `pymaid.clear_cache()` to clear. (pymaid)\n",
      "INFO  : Cached data used. Use `pymaid.clear_cache()` to clear. (pymaid)\n",
      "INFO  : Cached data used. Use `pymaid.clear_cache()` to clear. (pymaid)\n",
      "INFO  : Cached data used. Use `pymaid.clear_cache()` to clear. (pymaid)\n",
      "INFO  : Cached data used. Use `pymaid.clear_cache()` to clear. (pymaid)\n",
      "INFO  : Cached data used. Use `pymaid.clear_cache()` to clear. (pymaid)\n",
      "INFO  : Cached data used. Use `pymaid.clear_cache()` to clear. (pymaid)\n",
      "INFO  : Cached data used. Use `pymaid.clear_cache()` to clear. (pymaid)\n",
      "INFO  : Cached data used. Use `pymaid.clear_cache()` to clear. (pymaid)\n",
      "INFO  : Cached data used. Use `pymaid.clear_cache()` to clear. (pymaid)\n",
      "INFO  : Fetching connectivity table for 1 neurons (pymaid)\n",
      "INFO  : Done. Found 0 pre-, 34 postsynaptic and 0 gap junction-connected neurons (pymaid)\n",
      "INFO  : Fetching connectivity table for 1 neurons (pymaid)\n",
      "INFO  : Cached data used. Use `pymaid.clear_cache()` to clear. (pymaid)\n",
      "INFO  : Cached data used. Use `pymaid.clear_cache()` to clear. (pymaid)\n",
      "INFO  : Done. Found 0 pre-, 34 postsynaptic and 0 gap junction-connected neurons (pymaid)\n",
      "INFO  : Fetching connectivity table for 1 neurons (pymaid)\n",
      "INFO  : Done. Found 0 pre-, 3 postsynaptic and 0 gap junction-connected neurons (pymaid)\n",
      "INFO  : Fetching connectivity table for 1 neurons (pymaid)\n",
      "INFO  : Cached data used. Use `pymaid.clear_cache()` to clear. (pymaid)\n",
      "INFO  : Cached data used. Use `pymaid.clear_cache()` to clear. (pymaid)\n",
      "INFO  : Done. Found 0 pre-, 3 postsynaptic and 0 gap junction-connected neurons (pymaid)\n",
      "INFO  : Fetching connectivity table for 1 neurons (pymaid)\n",
      "INFO  : Done. Found 0 pre-, 3 postsynaptic and 0 gap junction-connected neurons (pymaid)\n",
      "INFO  : Fetching connectivity table for 1 neurons (pymaid)\n",
      "INFO  : Cached data used. Use `pymaid.clear_cache()` to clear. (pymaid)\n",
      "INFO  : Cached data used. Use `pymaid.clear_cache()` to clear. (pymaid)\n",
      "INFO  : Done. Found 0 pre-, 3 postsynaptic and 0 gap junction-connected neurons (pymaid)\n",
      "INFO  : Fetching connectivity table for 1 neurons (pymaid)\n",
      "INFO  : Done. Found 0 pre-, 6 postsynaptic and 0 gap junction-connected neurons (pymaid)\n",
      "INFO  : Fetching connectivity table for 1 neurons (pymaid)\n",
      "INFO  : Cached data used. Use `pymaid.clear_cache()` to clear. (pymaid)\n",
      "INFO  : Cached data used. Use `pymaid.clear_cache()` to clear. (pymaid)\n",
      "INFO  : Done. Found 0 pre-, 6 postsynaptic and 0 gap junction-connected neurons (pymaid)\n",
      "INFO  : Fetching connectivity table for 1 neurons (pymaid)\n",
      "INFO  : Done. Found 0 pre-, 9 postsynaptic and 0 gap junction-connected neurons (pymaid)\n",
      "INFO  : Fetching connectivity table for 1 neurons (pymaid)\n",
      "INFO  : Cached data used. Use `pymaid.clear_cache()` to clear. (pymaid)\n",
      "INFO  : Cached data used. Use `pymaid.clear_cache()` to clear. (pymaid)\n",
      "INFO  : Done. Found 0 pre-, 9 postsynaptic and 0 gap junction-connected neurons (pymaid)\n",
      "INFO  : Fetching connectivity table for 1 neurons (pymaid)\n",
      "INFO  : Done. Found 0 pre-, 12 postsynaptic and 0 gap junction-connected neurons (pymaid)\n",
      "INFO  : Fetching connectivity table for 1 neurons (pymaid)\n",
      "INFO  : Cached data used. Use `pymaid.clear_cache()` to clear. (pymaid)\n",
      "INFO  : Cached data used. Use `pymaid.clear_cache()` to clear. (pymaid)\n",
      "INFO  : Done. Found 0 pre-, 12 postsynaptic and 0 gap junction-connected neurons (pymaid)\n",
      "INFO  : Fetching connectivity table for 1 neurons (pymaid)\n",
      "INFO  : Done. Found 0 pre-, 8 postsynaptic and 0 gap junction-connected neurons (pymaid)\n",
      "INFO  : Fetching connectivity table for 1 neurons (pymaid)\n",
      "INFO  : Cached data used. Use `pymaid.clear_cache()` to clear. (pymaid)\n",
      "INFO  : Cached data used. Use `pymaid.clear_cache()` to clear. (pymaid)\n",
      "INFO  : Done. Found 0 pre-, 8 postsynaptic and 0 gap junction-connected neurons (pymaid)\n",
      "INFO  : Fetching connectivity table for 1 neurons (pymaid)\n",
      "INFO  : Done. Found 0 pre-, 7 postsynaptic and 0 gap junction-connected neurons (pymaid)\n",
      "INFO  : Fetching connectivity table for 1 neurons (pymaid)\n",
      "INFO  : Cached data used. Use `pymaid.clear_cache()` to clear. (pymaid)\n"
     ]
    },
    {
     "name": "stderr",
     "output_type": "stream",
     "text": [
      "INFO  : Cached data used. Use `pymaid.clear_cache()` to clear. (pymaid)\n",
      "INFO  : Done. Found 0 pre-, 7 postsynaptic and 0 gap junction-connected neurons (pymaid)\n",
      "INFO  : Fetching connectivity table for 1 neurons (pymaid)\n",
      "INFO  : Done. Found 0 pre-, 9 postsynaptic and 0 gap junction-connected neurons (pymaid)\n",
      "INFO  : Fetching connectivity table for 1 neurons (pymaid)\n",
      "INFO  : Cached data used. Use `pymaid.clear_cache()` to clear. (pymaid)\n",
      "INFO  : Cached data used. Use `pymaid.clear_cache()` to clear. (pymaid)\n",
      "INFO  : Done. Found 0 pre-, 9 postsynaptic and 0 gap junction-connected neurons (pymaid)\n",
      "INFO  : Fetching connectivity table for 1 neurons (pymaid)\n",
      "INFO  : Done. Found 0 pre-, 11 postsynaptic and 0 gap junction-connected neurons (pymaid)\n",
      "INFO  : Fetching connectivity table for 1 neurons (pymaid)\n",
      "INFO  : Cached data used. Use `pymaid.clear_cache()` to clear. (pymaid)\n",
      "INFO  : Cached data used. Use `pymaid.clear_cache()` to clear. (pymaid)\n",
      "INFO  : Done. Found 0 pre-, 11 postsynaptic and 0 gap junction-connected neurons (pymaid)\n",
      "INFO  : Fetching connectivity table for 1 neurons (pymaid)\n",
      "INFO  : Done. Found 0 pre-, 13 postsynaptic and 0 gap junction-connected neurons (pymaid)\n",
      "INFO  : Fetching connectivity table for 1 neurons (pymaid)\n",
      "INFO  : Cached data used. Use `pymaid.clear_cache()` to clear. (pymaid)\n",
      "INFO  : Cached data used. Use `pymaid.clear_cache()` to clear. (pymaid)\n",
      "INFO  : Done. Found 0 pre-, 13 postsynaptic and 0 gap junction-connected neurons (pymaid)\n",
      "INFO  : Fetching connectivity table for 1 neurons (pymaid)\n",
      "INFO  : Done. Found 0 pre-, 17 postsynaptic and 0 gap junction-connected neurons (pymaid)\n",
      "INFO  : Fetching connectivity table for 1 neurons (pymaid)\n",
      "INFO  : Cached data used. Use `pymaid.clear_cache()` to clear. (pymaid)\n",
      "INFO  : Cached data used. Use `pymaid.clear_cache()` to clear. (pymaid)\n",
      "INFO  : Done. Found 0 pre-, 17 postsynaptic and 0 gap junction-connected neurons (pymaid)\n",
      "INFO  : Fetching connectivity table for 1 neurons (pymaid)\n",
      "INFO  : Cached data used. Use `pymaid.clear_cache()` to clear. (pymaid)\n",
      "INFO  : Cached data used. Use `pymaid.clear_cache()` to clear. (pymaid)\n",
      "INFO  : Done. Found 31 pre-, 0 postsynaptic and 0 gap junction-connected neurons (pymaid)\n",
      "INFO  : Cached data used. Use `pymaid.clear_cache()` to clear. (pymaid)\n",
      "INFO  : Cached data used. Use `pymaid.clear_cache()` to clear. (pymaid)\n",
      "INFO  : Fetching connectivity table for 1 neurons (pymaid)\n",
      "INFO  : Cached data used. Use `pymaid.clear_cache()` to clear. (pymaid)\n",
      "INFO  : Cached data used. Use `pymaid.clear_cache()` to clear. (pymaid)\n",
      "INFO  : Done. Found 0 pre-, 17 postsynaptic and 0 gap junction-connected neurons (pymaid)\n",
      "INFO  : Fetching connectivity table for 1 neurons (pymaid)\n",
      "INFO  : Cached data used. Use `pymaid.clear_cache()` to clear. (pymaid)\n",
      "INFO  : Cached data used. Use `pymaid.clear_cache()` to clear. (pymaid)\n",
      "INFO  : Done. Found 0 pre-, 17 postsynaptic and 0 gap junction-connected neurons (pymaid)\n",
      "INFO  : Fetching connectivity table for 1 neurons (pymaid)\n",
      "INFO  : Cached data used. Use `pymaid.clear_cache()` to clear. (pymaid)\n",
      "INFO  : Cached data used. Use `pymaid.clear_cache()` to clear. (pymaid)\n",
      "INFO  : Done. Found 31 pre-, 0 postsynaptic and 0 gap junction-connected neurons (pymaid)\n",
      "INFO  : Cached data used. Use `pymaid.clear_cache()` to clear. (pymaid)\n",
      "INFO  : Cached data used. Use `pymaid.clear_cache()` to clear. (pymaid)\n",
      "INFO  : Cached data used. Use `pymaid.clear_cache()` to clear. (pymaid)\n",
      "INFO  : Fetching connectivity table for 1 neurons (pymaid)\n",
      "INFO  : Done. Found 0 pre-, 11 postsynaptic and 0 gap junction-connected neurons (pymaid)\n",
      "INFO  : Fetching connectivity table for 1 neurons (pymaid)\n",
      "INFO  : Cached data used. Use `pymaid.clear_cache()` to clear. (pymaid)\n",
      "INFO  : Cached data used. Use `pymaid.clear_cache()` to clear. (pymaid)\n",
      "INFO  : Done. Found 0 pre-, 11 postsynaptic and 0 gap junction-connected neurons (pymaid)\n",
      "INFO  : Fetching connectivity table for 1 neurons (pymaid)\n",
      "INFO  : Done. Found 0 pre-, 7 postsynaptic and 0 gap junction-connected neurons (pymaid)\n",
      "INFO  : Fetching connectivity table for 1 neurons (pymaid)\n",
      "INFO  : Cached data used. Use `pymaid.clear_cache()` to clear. (pymaid)\n",
      "INFO  : Cached data used. Use `pymaid.clear_cache()` to clear. (pymaid)\n",
      "INFO  : Done. Found 0 pre-, 7 postsynaptic and 0 gap junction-connected neurons (pymaid)\n",
      "INFO  : Fetching connectivity table for 1 neurons (pymaid)\n",
      "INFO  : Done. Found 0 pre-, 11 postsynaptic and 0 gap junction-connected neurons (pymaid)\n",
      "INFO  : Fetching connectivity table for 1 neurons (pymaid)\n",
      "INFO  : Cached data used. Use `pymaid.clear_cache()` to clear. (pymaid)\n",
      "INFO  : Cached data used. Use `pymaid.clear_cache()` to clear. (pymaid)\n",
      "INFO  : Done. Found 0 pre-, 11 postsynaptic and 0 gap junction-connected neurons (pymaid)\n",
      "INFO  : Fetching connectivity table for 1 neurons (pymaid)\n",
      "INFO  : Done. Found 0 pre-, 13 postsynaptic and 0 gap junction-connected neurons (pymaid)\n",
      "INFO  : Fetching connectivity table for 1 neurons (pymaid)\n",
      "INFO  : Cached data used. Use `pymaid.clear_cache()` to clear. (pymaid)\n",
      "INFO  : Cached data used. Use `pymaid.clear_cache()` to clear. (pymaid)\n",
      "INFO  : Done. Found 0 pre-, 13 postsynaptic and 0 gap junction-connected neurons (pymaid)\n",
      "INFO  : Fetching connectivity table for 1 neurons (pymaid)\n",
      "INFO  : Done. Found 0 pre-, 7 postsynaptic and 0 gap junction-connected neurons (pymaid)\n",
      "INFO  : Fetching connectivity table for 1 neurons (pymaid)\n",
      "INFO  : Cached data used. Use `pymaid.clear_cache()` to clear. (pymaid)\n",
      "INFO  : Cached data used. Use `pymaid.clear_cache()` to clear. (pymaid)\n",
      "INFO  : Done. Found 0 pre-, 7 postsynaptic and 0 gap junction-connected neurons (pymaid)\n",
      "INFO  : Fetching connectivity table for 1 neurons (pymaid)\n",
      "INFO  : Done. Found 0 pre-, 10 postsynaptic and 0 gap junction-connected neurons (pymaid)\n",
      "INFO  : Fetching connectivity table for 1 neurons (pymaid)\n",
      "INFO  : Cached data used. Use `pymaid.clear_cache()` to clear. (pymaid)\n",
      "INFO  : Cached data used. Use `pymaid.clear_cache()` to clear. (pymaid)\n",
      "INFO  : Done. Found 0 pre-, 10 postsynaptic and 0 gap junction-connected neurons (pymaid)\n",
      "INFO  : Fetching connectivity table for 1 neurons (pymaid)\n",
      "INFO  : Done. Found 0 pre-, 7 postsynaptic and 0 gap junction-connected neurons (pymaid)\n",
      "INFO  : Fetching connectivity table for 1 neurons (pymaid)\n",
      "INFO  : Cached data used. Use `pymaid.clear_cache()` to clear. (pymaid)\n",
      "INFO  : Cached data used. Use `pymaid.clear_cache()` to clear. (pymaid)\n",
      "INFO  : Done. Found 0 pre-, 7 postsynaptic and 0 gap junction-connected neurons (pymaid)\n",
      "INFO  : Fetching connectivity table for 1 neurons (pymaid)\n",
      "INFO  : Done. Found 0 pre-, 6 postsynaptic and 0 gap junction-connected neurons (pymaid)\n",
      "INFO  : Fetching connectivity table for 1 neurons (pymaid)\n",
      "INFO  : Cached data used. Use `pymaid.clear_cache()` to clear. (pymaid)\n",
      "INFO  : Cached data used. Use `pymaid.clear_cache()` to clear. (pymaid)\n",
      "INFO  : Done. Found 0 pre-, 6 postsynaptic and 0 gap junction-connected neurons (pymaid)\n",
      "INFO  : Fetching connectivity table for 1 neurons (pymaid)\n",
      "INFO  : Done. Found 0 pre-, 4 postsynaptic and 0 gap junction-connected neurons (pymaid)\n",
      "INFO  : Fetching connectivity table for 1 neurons (pymaid)\n",
      "INFO  : Cached data used. Use `pymaid.clear_cache()` to clear. (pymaid)\n",
      "INFO  : Cached data used. Use `pymaid.clear_cache()` to clear. (pymaid)\n",
      "INFO  : Done. Found 0 pre-, 4 postsynaptic and 0 gap junction-connected neurons (pymaid)\n",
      "INFO  : Fetching connectivity table for 1 neurons (pymaid)\n",
      "INFO  : Done. Found 0 pre-, 9 postsynaptic and 0 gap junction-connected neurons (pymaid)\n",
      "INFO  : Fetching connectivity table for 1 neurons (pymaid)\n",
      "INFO  : Cached data used. Use `pymaid.clear_cache()` to clear. (pymaid)\n",
      "INFO  : Cached data used. Use `pymaid.clear_cache()` to clear. (pymaid)\n",
      "INFO  : Done. Found 0 pre-, 9 postsynaptic and 0 gap junction-connected neurons (pymaid)\n",
      "INFO  : Fetching connectivity table for 1 neurons (pymaid)\n",
      "INFO  : Done. Found 0 pre-, 16 postsynaptic and 0 gap junction-connected neurons (pymaid)\n",
      "INFO  : Fetching connectivity table for 1 neurons (pymaid)\n",
      "INFO  : Cached data used. Use `pymaid.clear_cache()` to clear. (pymaid)\n",
      "INFO  : Cached data used. Use `pymaid.clear_cache()` to clear. (pymaid)\n"
     ]
    },
    {
     "name": "stderr",
     "output_type": "stream",
     "text": [
      "INFO  : Done. Found 0 pre-, 16 postsynaptic and 0 gap junction-connected neurons (pymaid)\n",
      "INFO  : Fetching connectivity table for 1 neurons (pymaid)\n",
      "INFO  : Done. Found 0 pre-, 20 postsynaptic and 0 gap junction-connected neurons (pymaid)\n",
      "INFO  : Fetching connectivity table for 1 neurons (pymaid)\n",
      "INFO  : Cached data used. Use `pymaid.clear_cache()` to clear. (pymaid)\n",
      "INFO  : Cached data used. Use `pymaid.clear_cache()` to clear. (pymaid)\n",
      "INFO  : Done. Found 0 pre-, 20 postsynaptic and 0 gap junction-connected neurons (pymaid)\n",
      "INFO  : Fetching connectivity table for 1 neurons (pymaid)\n",
      "INFO  : Cached data used. Use `pymaid.clear_cache()` to clear. (pymaid)\n",
      "INFO  : Cached data used. Use `pymaid.clear_cache()` to clear. (pymaid)\n",
      "INFO  : Done. Found 26 pre-, 0 postsynaptic and 0 gap junction-connected neurons (pymaid)\n",
      "INFO  : Cached data used. Use `pymaid.clear_cache()` to clear. (pymaid)\n",
      "INFO  : Cached data used. Use `pymaid.clear_cache()` to clear. (pymaid)\n",
      "INFO  : Cached data used. Use `pymaid.clear_cache()` to clear. (pymaid)\n",
      "INFO  : Cached data used. Use `pymaid.clear_cache()` to clear. (pymaid)\n",
      "INFO  : Cached data used. Use `pymaid.clear_cache()` to clear. (pymaid)\n",
      "INFO  : Cached data used. Use `pymaid.clear_cache()` to clear. (pymaid)\n",
      "INFO  : Cached data used. Use `pymaid.clear_cache()` to clear. (pymaid)\n",
      "INFO  : Cached data used. Use `pymaid.clear_cache()` to clear. (pymaid)\n",
      "INFO  : Cached data used. Use `pymaid.clear_cache()` to clear. (pymaid)\n",
      "INFO  : Cached data used. Use `pymaid.clear_cache()` to clear. (pymaid)\n",
      "INFO  : Cached data used. Use `pymaid.clear_cache()` to clear. (pymaid)\n",
      "INFO  : Fetching connectivity table for 1 neurons (pymaid)\n",
      "INFO  : Cached data used. Use `pymaid.clear_cache()` to clear. (pymaid)\n",
      "INFO  : Cached data used. Use `pymaid.clear_cache()` to clear. (pymaid)\n",
      "INFO  : Done. Found 0 pre-, 20 postsynaptic and 0 gap junction-connected neurons (pymaid)\n",
      "INFO  : Fetching connectivity table for 1 neurons (pymaid)\n",
      "INFO  : Cached data used. Use `pymaid.clear_cache()` to clear. (pymaid)\n",
      "INFO  : Cached data used. Use `pymaid.clear_cache()` to clear. (pymaid)\n",
      "INFO  : Done. Found 0 pre-, 20 postsynaptic and 0 gap junction-connected neurons (pymaid)\n",
      "INFO  : Fetching connectivity table for 1 neurons (pymaid)\n",
      "INFO  : Cached data used. Use `pymaid.clear_cache()` to clear. (pymaid)\n",
      "INFO  : Cached data used. Use `pymaid.clear_cache()` to clear. (pymaid)\n",
      "INFO  : Done. Found 26 pre-, 0 postsynaptic and 0 gap junction-connected neurons (pymaid)\n",
      "INFO  : Cached data used. Use `pymaid.clear_cache()` to clear. (pymaid)\n",
      "INFO  : Cached data used. Use `pymaid.clear_cache()` to clear. (pymaid)\n",
      "INFO  : Cached data used. Use `pymaid.clear_cache()` to clear. (pymaid)\n",
      "INFO  : Cached data used. Use `pymaid.clear_cache()` to clear. (pymaid)\n",
      "INFO  : Cached data used. Use `pymaid.clear_cache()` to clear. (pymaid)\n",
      "INFO  : Cached data used. Use `pymaid.clear_cache()` to clear. (pymaid)\n",
      "INFO  : Cached data used. Use `pymaid.clear_cache()` to clear. (pymaid)\n",
      "INFO  : Cached data used. Use `pymaid.clear_cache()` to clear. (pymaid)\n",
      "INFO  : Cached data used. Use `pymaid.clear_cache()` to clear. (pymaid)\n",
      "INFO  : Cached data used. Use `pymaid.clear_cache()` to clear. (pymaid)\n",
      "INFO  : Cached data used. Use `pymaid.clear_cache()` to clear. (pymaid)\n",
      "INFO  : Cached data used. Use `pymaid.clear_cache()` to clear. (pymaid)\n",
      "INFO  : Fetching connectivity table for 1 neurons (pymaid)\n",
      "INFO  : Done. Found 0 pre-, 22 postsynaptic and 0 gap junction-connected neurons (pymaid)\n",
      "INFO  : Fetching connectivity table for 1 neurons (pymaid)\n",
      "INFO  : Cached data used. Use `pymaid.clear_cache()` to clear. (pymaid)\n",
      "INFO  : Cached data used. Use `pymaid.clear_cache()` to clear. (pymaid)\n",
      "INFO  : Done. Found 0 pre-, 22 postsynaptic and 0 gap junction-connected neurons (pymaid)\n",
      "INFO  : Fetching connectivity table for 1 neurons (pymaid)\n",
      "INFO  : Done. Found 0 pre-, 5 postsynaptic and 0 gap junction-connected neurons (pymaid)\n",
      "INFO  : Fetching connectivity table for 1 neurons (pymaid)\n",
      "INFO  : Cached data used. Use `pymaid.clear_cache()` to clear. (pymaid)\n",
      "INFO  : Cached data used. Use `pymaid.clear_cache()` to clear. (pymaid)\n",
      "INFO  : Done. Found 0 pre-, 5 postsynaptic and 0 gap junction-connected neurons (pymaid)\n",
      "INFO  : Fetching connectivity table for 1 neurons (pymaid)\n",
      "INFO  : Done. Found 0 pre-, 8 postsynaptic and 0 gap junction-connected neurons (pymaid)\n",
      "INFO  : Fetching connectivity table for 1 neurons (pymaid)\n",
      "INFO  : Cached data used. Use `pymaid.clear_cache()` to clear. (pymaid)\n",
      "INFO  : Cached data used. Use `pymaid.clear_cache()` to clear. (pymaid)\n",
      "INFO  : Done. Found 0 pre-, 8 postsynaptic and 0 gap junction-connected neurons (pymaid)\n",
      "INFO  : Fetching connectivity table for 1 neurons (pymaid)\n",
      "INFO  : Done. Found 0 pre-, 22 postsynaptic and 0 gap junction-connected neurons (pymaid)\n",
      "INFO  : Fetching connectivity table for 1 neurons (pymaid)\n",
      "INFO  : Cached data used. Use `pymaid.clear_cache()` to clear. (pymaid)\n",
      "INFO  : Cached data used. Use `pymaid.clear_cache()` to clear. (pymaid)\n",
      "INFO  : Done. Found 0 pre-, 22 postsynaptic and 0 gap junction-connected neurons (pymaid)\n",
      "INFO  : Fetching connectivity table for 1 neurons (pymaid)\n",
      "INFO  : Done. Found 0 pre-, 32 postsynaptic and 0 gap junction-connected neurons (pymaid)\n",
      "INFO  : Fetching connectivity table for 1 neurons (pymaid)\n",
      "INFO  : Cached data used. Use `pymaid.clear_cache()` to clear. (pymaid)\n",
      "INFO  : Cached data used. Use `pymaid.clear_cache()` to clear. (pymaid)\n",
      "INFO  : Done. Found 0 pre-, 32 postsynaptic and 0 gap junction-connected neurons (pymaid)\n",
      "INFO  : Fetching connectivity table for 1 neurons (pymaid)\n",
      "INFO  : Done. Found 0 pre-, 16 postsynaptic and 0 gap junction-connected neurons (pymaid)\n",
      "INFO  : Fetching connectivity table for 1 neurons (pymaid)\n",
      "INFO  : Cached data used. Use `pymaid.clear_cache()` to clear. (pymaid)\n",
      "INFO  : Cached data used. Use `pymaid.clear_cache()` to clear. (pymaid)\n",
      "INFO  : Done. Found 0 pre-, 16 postsynaptic and 0 gap junction-connected neurons (pymaid)\n",
      "INFO  : Fetching connectivity table for 1 neurons (pymaid)\n",
      "INFO  : Done. Found 0 pre-, 35 postsynaptic and 0 gap junction-connected neurons (pymaid)\n",
      "INFO  : Fetching connectivity table for 1 neurons (pymaid)\n",
      "INFO  : Cached data used. Use `pymaid.clear_cache()` to clear. (pymaid)\n",
      "INFO  : Cached data used. Use `pymaid.clear_cache()` to clear. (pymaid)\n",
      "INFO  : Done. Found 0 pre-, 35 postsynaptic and 0 gap junction-connected neurons (pymaid)\n",
      "INFO  : Fetching connectivity table for 1 neurons (pymaid)\n",
      "INFO  : Done. Found 0 pre-, 20 postsynaptic and 0 gap junction-connected neurons (pymaid)\n",
      "INFO  : Fetching connectivity table for 1 neurons (pymaid)\n",
      "INFO  : Cached data used. Use `pymaid.clear_cache()` to clear. (pymaid)\n",
      "INFO  : Cached data used. Use `pymaid.clear_cache()` to clear. (pymaid)\n",
      "INFO  : Done. Found 0 pre-, 20 postsynaptic and 0 gap junction-connected neurons (pymaid)\n",
      "INFO  : Fetching connectivity table for 1 neurons (pymaid)\n",
      "INFO  : Cached data used. Use `pymaid.clear_cache()` to clear. (pymaid)\n",
      "INFO  : Cached data used. Use `pymaid.clear_cache()` to clear. (pymaid)\n",
      "INFO  : Done. Found 31 pre-, 0 postsynaptic and 0 gap junction-connected neurons (pymaid)\n",
      "INFO  : Cached data used. Use `pymaid.clear_cache()` to clear. (pymaid)\n",
      "INFO  : Cached data used. Use `pymaid.clear_cache()` to clear. (pymaid)\n",
      "INFO  : Cached data used. Use `pymaid.clear_cache()` to clear. (pymaid)\n",
      "INFO  : Cached data used. Use `pymaid.clear_cache()` to clear. (pymaid)\n",
      "INFO  : Cached data used. Use `pymaid.clear_cache()` to clear. (pymaid)\n",
      "INFO  : Cached data used. Use `pymaid.clear_cache()` to clear. (pymaid)\n",
      "INFO  : Cached data used. Use `pymaid.clear_cache()` to clear. (pymaid)\n",
      "INFO  : Cached data used. Use `pymaid.clear_cache()` to clear. (pymaid)\n",
      "INFO  : Cached data used. Use `pymaid.clear_cache()` to clear. (pymaid)\n",
      "INFO  : Cached data used. Use `pymaid.clear_cache()` to clear. (pymaid)\n",
      "INFO  : Cached data used. Use `pymaid.clear_cache()` to clear. (pymaid)\n",
      "INFO  : Fetching connectivity table for 1 neurons (pymaid)\n",
      "INFO  : Cached data used. Use `pymaid.clear_cache()` to clear. (pymaid)\n",
      "INFO  : Cached data used. Use `pymaid.clear_cache()` to clear. (pymaid)\n",
      "INFO  : Done. Found 0 pre-, 20 postsynaptic and 0 gap junction-connected neurons (pymaid)\n"
     ]
    },
    {
     "name": "stderr",
     "output_type": "stream",
     "text": [
      "INFO  : Fetching connectivity table for 1 neurons (pymaid)\n",
      "INFO  : Cached data used. Use `pymaid.clear_cache()` to clear. (pymaid)\n",
      "INFO  : Cached data used. Use `pymaid.clear_cache()` to clear. (pymaid)\n",
      "INFO  : Done. Found 0 pre-, 20 postsynaptic and 0 gap junction-connected neurons (pymaid)\n",
      "INFO  : Fetching connectivity table for 1 neurons (pymaid)\n",
      "INFO  : Cached data used. Use `pymaid.clear_cache()` to clear. (pymaid)\n",
      "INFO  : Cached data used. Use `pymaid.clear_cache()` to clear. (pymaid)\n",
      "INFO  : Done. Found 31 pre-, 0 postsynaptic and 0 gap junction-connected neurons (pymaid)\n",
      "INFO  : Cached data used. Use `pymaid.clear_cache()` to clear. (pymaid)\n",
      "INFO  : Cached data used. Use `pymaid.clear_cache()` to clear. (pymaid)\n",
      "INFO  : Cached data used. Use `pymaid.clear_cache()` to clear. (pymaid)\n",
      "INFO  : Cached data used. Use `pymaid.clear_cache()` to clear. (pymaid)\n",
      "INFO  : Cached data used. Use `pymaid.clear_cache()` to clear. (pymaid)\n",
      "INFO  : Cached data used. Use `pymaid.clear_cache()` to clear. (pymaid)\n",
      "INFO  : Cached data used. Use `pymaid.clear_cache()` to clear. (pymaid)\n",
      "INFO  : Cached data used. Use `pymaid.clear_cache()` to clear. (pymaid)\n",
      "INFO  : Cached data used. Use `pymaid.clear_cache()` to clear. (pymaid)\n",
      "INFO  : Cached data used. Use `pymaid.clear_cache()` to clear. (pymaid)\n",
      "INFO  : Cached data used. Use `pymaid.clear_cache()` to clear. (pymaid)\n",
      "INFO  : Cached data used. Use `pymaid.clear_cache()` to clear. (pymaid)\n",
      "INFO  : Fetching connectivity table for 1 neurons (pymaid)\n",
      "INFO  : Done. Found 0 pre-, 8 postsynaptic and 0 gap junction-connected neurons (pymaid)\n",
      "INFO  : Fetching connectivity table for 1 neurons (pymaid)\n",
      "INFO  : Cached data used. Use `pymaid.clear_cache()` to clear. (pymaid)\n",
      "INFO  : Cached data used. Use `pymaid.clear_cache()` to clear. (pymaid)\n",
      "INFO  : Done. Found 0 pre-, 8 postsynaptic and 0 gap junction-connected neurons (pymaid)\n",
      "INFO  : Fetching connectivity table for 1 neurons (pymaid)\n",
      "INFO  : Cached data used. Use `pymaid.clear_cache()` to clear. (pymaid)\n",
      "INFO  : Cached data used. Use `pymaid.clear_cache()` to clear. (pymaid)\n",
      "INFO  : Done. Found 31 pre-, 0 postsynaptic and 0 gap junction-connected neurons (pymaid)\n",
      "INFO  : Fetching connectivity table for 1 neurons (pymaid)\n",
      "INFO  : Cached data used. Use `pymaid.clear_cache()` to clear. (pymaid)\n",
      "INFO  : Cached data used. Use `pymaid.clear_cache()` to clear. (pymaid)\n",
      "INFO  : Done. Found 16 pre-, 0 postsynaptic and 0 gap junction-connected neurons (pymaid)\n",
      "INFO  : Cached data used. Use `pymaid.clear_cache()` to clear. (pymaid)\n",
      "INFO  : Cached data used. Use `pymaid.clear_cache()` to clear. (pymaid)\n",
      "INFO  : Cached data used. Use `pymaid.clear_cache()` to clear. (pymaid)\n",
      "INFO  : Cached data used. Use `pymaid.clear_cache()` to clear. (pymaid)\n",
      "INFO  : Cached data used. Use `pymaid.clear_cache()` to clear. (pymaid)\n",
      "INFO  : Fetching connectivity table for 1 neurons (pymaid)\n",
      "INFO  : Cached data used. Use `pymaid.clear_cache()` to clear. (pymaid)\n",
      "INFO  : Cached data used. Use `pymaid.clear_cache()` to clear. (pymaid)\n",
      "INFO  : Done. Found 0 pre-, 8 postsynaptic and 0 gap junction-connected neurons (pymaid)\n",
      "INFO  : Fetching connectivity table for 1 neurons (pymaid)\n",
      "INFO  : Cached data used. Use `pymaid.clear_cache()` to clear. (pymaid)\n",
      "INFO  : Cached data used. Use `pymaid.clear_cache()` to clear. (pymaid)\n",
      "INFO  : Done. Found 0 pre-, 8 postsynaptic and 0 gap junction-connected neurons (pymaid)\n",
      "INFO  : Fetching connectivity table for 1 neurons (pymaid)\n",
      "INFO  : Cached data used. Use `pymaid.clear_cache()` to clear. (pymaid)\n",
      "INFO  : Cached data used. Use `pymaid.clear_cache()` to clear. (pymaid)\n",
      "INFO  : Done. Found 31 pre-, 0 postsynaptic and 0 gap junction-connected neurons (pymaid)\n",
      "INFO  : Fetching connectivity table for 1 neurons (pymaid)\n",
      "INFO  : Cached data used. Use `pymaid.clear_cache()` to clear. (pymaid)\n",
      "INFO  : Cached data used. Use `pymaid.clear_cache()` to clear. (pymaid)\n",
      "INFO  : Done. Found 16 pre-, 0 postsynaptic and 0 gap junction-connected neurons (pymaid)\n",
      "INFO  : Cached data used. Use `pymaid.clear_cache()` to clear. (pymaid)\n",
      "INFO  : Cached data used. Use `pymaid.clear_cache()` to clear. (pymaid)\n",
      "INFO  : Cached data used. Use `pymaid.clear_cache()` to clear. (pymaid)\n",
      "INFO  : Cached data used. Use `pymaid.clear_cache()` to clear. (pymaid)\n",
      "INFO  : Cached data used. Use `pymaid.clear_cache()` to clear. (pymaid)\n",
      "INFO  : Cached data used. Use `pymaid.clear_cache()` to clear. (pymaid)\n",
      "INFO  : Fetching connectivity table for 1 neurons (pymaid)\n",
      "INFO  : Done. Found 0 pre-, 1 postsynaptic and 0 gap junction-connected neurons (pymaid)\n",
      "INFO  : Fetching connectivity table for 1 neurons (pymaid)\n",
      "INFO  : Cached data used. Use `pymaid.clear_cache()` to clear. (pymaid)\n",
      "INFO  : Cached data used. Use `pymaid.clear_cache()` to clear. (pymaid)\n",
      "INFO  : Done. Found 0 pre-, 1 postsynaptic and 0 gap junction-connected neurons (pymaid)\n",
      "INFO  : Fetching connectivity table for 1 neurons (pymaid)\n",
      "INFO  : Done. Found 0 pre-, 7 postsynaptic and 0 gap junction-connected neurons (pymaid)\n",
      "INFO  : Fetching connectivity table for 1 neurons (pymaid)\n",
      "INFO  : Cached data used. Use `pymaid.clear_cache()` to clear. (pymaid)\n",
      "INFO  : Cached data used. Use `pymaid.clear_cache()` to clear. (pymaid)\n",
      "INFO  : Done. Found 0 pre-, 7 postsynaptic and 0 gap junction-connected neurons (pymaid)\n",
      "INFO  : Fetching connectivity table for 1 neurons (pymaid)\n",
      "INFO  : Done. Found 0 pre-, 16 postsynaptic and 0 gap junction-connected neurons (pymaid)\n",
      "INFO  : Fetching connectivity table for 1 neurons (pymaid)\n",
      "INFO  : Cached data used. Use `pymaid.clear_cache()` to clear. (pymaid)\n",
      "INFO  : Cached data used. Use `pymaid.clear_cache()` to clear. (pymaid)\n",
      "INFO  : Done. Found 0 pre-, 16 postsynaptic and 0 gap junction-connected neurons (pymaid)\n",
      "INFO  : Fetching connectivity table for 1 neurons (pymaid)\n",
      "INFO  : Cached data used. Use `pymaid.clear_cache()` to clear. (pymaid)\n",
      "INFO  : Cached data used. Use `pymaid.clear_cache()` to clear. (pymaid)\n",
      "INFO  : Done. Found 32 pre-, 0 postsynaptic and 0 gap junction-connected neurons (pymaid)\n",
      "INFO  : Cached data used. Use `pymaid.clear_cache()` to clear. (pymaid)\n",
      "INFO  : Cached data used. Use `pymaid.clear_cache()` to clear. (pymaid)\n",
      "INFO  : Cached data used. Use `pymaid.clear_cache()` to clear. (pymaid)\n",
      "INFO  : Cached data used. Use `pymaid.clear_cache()` to clear. (pymaid)\n",
      "INFO  : Cached data used. Use `pymaid.clear_cache()` to clear. (pymaid)\n",
      "INFO  : Fetching connectivity table for 1 neurons (pymaid)\n",
      "INFO  : Cached data used. Use `pymaid.clear_cache()` to clear. (pymaid)\n",
      "INFO  : Cached data used. Use `pymaid.clear_cache()` to clear. (pymaid)\n",
      "INFO  : Done. Found 0 pre-, 16 postsynaptic and 0 gap junction-connected neurons (pymaid)\n",
      "INFO  : Fetching connectivity table for 1 neurons (pymaid)\n",
      "INFO  : Cached data used. Use `pymaid.clear_cache()` to clear. (pymaid)\n",
      "INFO  : Cached data used. Use `pymaid.clear_cache()` to clear. (pymaid)\n",
      "INFO  : Done. Found 0 pre-, 16 postsynaptic and 0 gap junction-connected neurons (pymaid)\n",
      "INFO  : Fetching connectivity table for 1 neurons (pymaid)\n",
      "INFO  : Cached data used. Use `pymaid.clear_cache()` to clear. (pymaid)\n",
      "INFO  : Cached data used. Use `pymaid.clear_cache()` to clear. (pymaid)\n",
      "INFO  : Done. Found 32 pre-, 0 postsynaptic and 0 gap junction-connected neurons (pymaid)\n",
      "INFO  : Cached data used. Use `pymaid.clear_cache()` to clear. (pymaid)\n",
      "INFO  : Cached data used. Use `pymaid.clear_cache()` to clear. (pymaid)\n",
      "INFO  : Cached data used. Use `pymaid.clear_cache()` to clear. (pymaid)\n",
      "INFO  : Cached data used. Use `pymaid.clear_cache()` to clear. (pymaid)\n",
      "INFO  : Cached data used. Use `pymaid.clear_cache()` to clear. (pymaid)\n",
      "INFO  : Cached data used. Use `pymaid.clear_cache()` to clear. (pymaid)\n",
      "INFO  : Fetching connectivity table for 1 neurons (pymaid)\n",
      "INFO  : Done. Found 0 pre-, 9 postsynaptic and 0 gap junction-connected neurons (pymaid)\n",
      "INFO  : Fetching connectivity table for 1 neurons (pymaid)\n",
      "INFO  : Cached data used. Use `pymaid.clear_cache()` to clear. (pymaid)\n",
      "INFO  : Cached data used. Use `pymaid.clear_cache()` to clear. (pymaid)\n",
      "INFO  : Done. Found 0 pre-, 9 postsynaptic and 0 gap junction-connected neurons (pymaid)\n",
      "INFO  : Fetching connectivity table for 1 neurons (pymaid)\n"
     ]
    },
    {
     "name": "stderr",
     "output_type": "stream",
     "text": [
      "INFO  : Cached data used. Use `pymaid.clear_cache()` to clear. (pymaid)\n",
      "INFO  : Cached data used. Use `pymaid.clear_cache()` to clear. (pymaid)\n",
      "INFO  : Done. Found 32 pre-, 0 postsynaptic and 0 gap junction-connected neurons (pymaid)\n",
      "INFO  : Fetching connectivity table for 1 neurons (pymaid)\n",
      "INFO  : Done. Found 0 pre-, 13 postsynaptic and 0 gap junction-connected neurons (pymaid)\n",
      "INFO  : Fetching connectivity table for 1 neurons (pymaid)\n",
      "INFO  : Cached data used. Use `pymaid.clear_cache()` to clear. (pymaid)\n",
      "INFO  : Cached data used. Use `pymaid.clear_cache()` to clear. (pymaid)\n",
      "INFO  : Done. Found 0 pre-, 13 postsynaptic and 0 gap junction-connected neurons (pymaid)\n",
      "INFO  : Fetching connectivity table for 1 neurons (pymaid)\n",
      "INFO  : Done. Found 0 pre-, 24 postsynaptic and 0 gap junction-connected neurons (pymaid)\n",
      "INFO  : Fetching connectivity table for 1 neurons (pymaid)\n",
      "INFO  : Cached data used. Use `pymaid.clear_cache()` to clear. (pymaid)\n",
      "INFO  : Cached data used. Use `pymaid.clear_cache()` to clear. (pymaid)\n",
      "INFO  : Done. Found 0 pre-, 24 postsynaptic and 0 gap junction-connected neurons (pymaid)\n",
      "INFO  : Fetching connectivity table for 1 neurons (pymaid)\n",
      "INFO  : Cached data used. Use `pymaid.clear_cache()` to clear. (pymaid)\n",
      "INFO  : Cached data used. Use `pymaid.clear_cache()` to clear. (pymaid)\n",
      "INFO  : Done. Found 16 pre-, 0 postsynaptic and 0 gap junction-connected neurons (pymaid)\n",
      "INFO  : Fetching connectivity table for 1 neurons (pymaid)\n",
      "INFO  : Cached data used. Use `pymaid.clear_cache()` to clear. (pymaid)\n",
      "INFO  : Cached data used. Use `pymaid.clear_cache()` to clear. (pymaid)\n",
      "INFO  : Done. Found 26 pre-, 0 postsynaptic and 0 gap junction-connected neurons (pymaid)\n",
      "INFO  : Fetching connectivity table for 1 neurons (pymaid)\n",
      "INFO  : Cached data used. Use `pymaid.clear_cache()` to clear. (pymaid)\n",
      "INFO  : Cached data used. Use `pymaid.clear_cache()` to clear. (pymaid)\n",
      "INFO  : Done. Found 19 pre-, 0 postsynaptic and 0 gap junction-connected neurons (pymaid)\n",
      "INFO  : Cached data used. Use `pymaid.clear_cache()` to clear. (pymaid)\n",
      "INFO  : Cached data used. Use `pymaid.clear_cache()` to clear. (pymaid)\n",
      "INFO  : Cached data used. Use `pymaid.clear_cache()` to clear. (pymaid)\n",
      "INFO  : Cached data used. Use `pymaid.clear_cache()` to clear. (pymaid)\n",
      "INFO  : Cached data used. Use `pymaid.clear_cache()` to clear. (pymaid)\n",
      "INFO  : Cached data used. Use `pymaid.clear_cache()` to clear. (pymaid)\n",
      "INFO  : Cached data used. Use `pymaid.clear_cache()` to clear. (pymaid)\n",
      "INFO  : Cached data used. Use `pymaid.clear_cache()` to clear. (pymaid)\n",
      "INFO  : Cached data used. Use `pymaid.clear_cache()` to clear. (pymaid)\n",
      "INFO  : Cached data used. Use `pymaid.clear_cache()` to clear. (pymaid)\n",
      "INFO  : Cached data used. Use `pymaid.clear_cache()` to clear. (pymaid)\n",
      "INFO  : Cached data used. Use `pymaid.clear_cache()` to clear. (pymaid)\n",
      "INFO  : Cached data used. Use `pymaid.clear_cache()` to clear. (pymaid)\n",
      "INFO  : Cached data used. Use `pymaid.clear_cache()` to clear. (pymaid)\n",
      "INFO  : Cached data used. Use `pymaid.clear_cache()` to clear. (pymaid)\n",
      "INFO  : Cached data used. Use `pymaid.clear_cache()` to clear. (pymaid)\n",
      "INFO  : Cached data used. Use `pymaid.clear_cache()` to clear. (pymaid)\n",
      "INFO  : Cached data used. Use `pymaid.clear_cache()` to clear. (pymaid)\n",
      "INFO  : Cached data used. Use `pymaid.clear_cache()` to clear. (pymaid)\n",
      "INFO  : Cached data used. Use `pymaid.clear_cache()` to clear. (pymaid)\n",
      "INFO  : Cached data used. Use `pymaid.clear_cache()` to clear. (pymaid)\n",
      "INFO  : Cached data used. Use `pymaid.clear_cache()` to clear. (pymaid)\n",
      "INFO  : Cached data used. Use `pymaid.clear_cache()` to clear. (pymaid)\n",
      "INFO  : Cached data used. Use `pymaid.clear_cache()` to clear. (pymaid)\n",
      "INFO  : Cached data used. Use `pymaid.clear_cache()` to clear. (pymaid)\n",
      "INFO  : Fetching connectivity table for 1 neurons (pymaid)\n",
      "INFO  : Cached data used. Use `pymaid.clear_cache()` to clear. (pymaid)\n",
      "INFO  : Cached data used. Use `pymaid.clear_cache()` to clear. (pymaid)\n",
      "INFO  : Done. Found 0 pre-, 24 postsynaptic and 0 gap junction-connected neurons (pymaid)\n",
      "INFO  : Fetching connectivity table for 1 neurons (pymaid)\n",
      "INFO  : Cached data used. Use `pymaid.clear_cache()` to clear. (pymaid)\n",
      "INFO  : Cached data used. Use `pymaid.clear_cache()` to clear. (pymaid)\n",
      "INFO  : Done. Found 0 pre-, 24 postsynaptic and 0 gap junction-connected neurons (pymaid)\n",
      "INFO  : Fetching connectivity table for 1 neurons (pymaid)\n",
      "INFO  : Cached data used. Use `pymaid.clear_cache()` to clear. (pymaid)\n",
      "INFO  : Cached data used. Use `pymaid.clear_cache()` to clear. (pymaid)\n",
      "INFO  : Done. Found 16 pre-, 0 postsynaptic and 0 gap junction-connected neurons (pymaid)\n",
      "INFO  : Fetching connectivity table for 1 neurons (pymaid)\n",
      "INFO  : Cached data used. Use `pymaid.clear_cache()` to clear. (pymaid)\n",
      "INFO  : Cached data used. Use `pymaid.clear_cache()` to clear. (pymaid)\n",
      "INFO  : Done. Found 26 pre-, 0 postsynaptic and 0 gap junction-connected neurons (pymaid)\n",
      "INFO  : Fetching connectivity table for 1 neurons (pymaid)\n",
      "INFO  : Cached data used. Use `pymaid.clear_cache()` to clear. (pymaid)\n",
      "INFO  : Cached data used. Use `pymaid.clear_cache()` to clear. (pymaid)\n",
      "INFO  : Done. Found 19 pre-, 0 postsynaptic and 0 gap junction-connected neurons (pymaid)\n",
      "INFO  : Cached data used. Use `pymaid.clear_cache()` to clear. (pymaid)\n",
      "INFO  : Cached data used. Use `pymaid.clear_cache()` to clear. (pymaid)\n",
      "INFO  : Cached data used. Use `pymaid.clear_cache()` to clear. (pymaid)\n",
      "INFO  : Cached data used. Use `pymaid.clear_cache()` to clear. (pymaid)\n",
      "INFO  : Cached data used. Use `pymaid.clear_cache()` to clear. (pymaid)\n",
      "INFO  : Cached data used. Use `pymaid.clear_cache()` to clear. (pymaid)\n",
      "INFO  : Cached data used. Use `pymaid.clear_cache()` to clear. (pymaid)\n",
      "INFO  : Cached data used. Use `pymaid.clear_cache()` to clear. (pymaid)\n",
      "INFO  : Cached data used. Use `pymaid.clear_cache()` to clear. (pymaid)\n",
      "INFO  : Cached data used. Use `pymaid.clear_cache()` to clear. (pymaid)\n",
      "INFO  : Cached data used. Use `pymaid.clear_cache()` to clear. (pymaid)\n",
      "INFO  : Cached data used. Use `pymaid.clear_cache()` to clear. (pymaid)\n",
      "INFO  : Cached data used. Use `pymaid.clear_cache()` to clear. (pymaid)\n",
      "INFO  : Cached data used. Use `pymaid.clear_cache()` to clear. (pymaid)\n",
      "INFO  : Cached data used. Use `pymaid.clear_cache()` to clear. (pymaid)\n",
      "INFO  : Cached data used. Use `pymaid.clear_cache()` to clear. (pymaid)\n",
      "INFO  : Cached data used. Use `pymaid.clear_cache()` to clear. (pymaid)\n",
      "INFO  : Cached data used. Use `pymaid.clear_cache()` to clear. (pymaid)\n",
      "INFO  : Cached data used. Use `pymaid.clear_cache()` to clear. (pymaid)\n",
      "INFO  : Cached data used. Use `pymaid.clear_cache()` to clear. (pymaid)\n",
      "INFO  : Cached data used. Use `pymaid.clear_cache()` to clear. (pymaid)\n",
      "INFO  : Cached data used. Use `pymaid.clear_cache()` to clear. (pymaid)\n",
      "INFO  : Cached data used. Use `pymaid.clear_cache()` to clear. (pymaid)\n",
      "INFO  : Cached data used. Use `pymaid.clear_cache()` to clear. (pymaid)\n",
      "INFO  : Cached data used. Use `pymaid.clear_cache()` to clear. (pymaid)\n",
      "INFO  : Cached data used. Use `pymaid.clear_cache()` to clear. (pymaid)\n",
      "INFO  : Cached data used. Use `pymaid.clear_cache()` to clear. (pymaid)\n",
      "INFO  : Fetching connectivity table for 1 neurons (pymaid)\n",
      "INFO  : Done. Found 0 pre-, 19 postsynaptic and 0 gap junction-connected neurons (pymaid)\n",
      "INFO  : Fetching connectivity table for 1 neurons (pymaid)\n",
      "INFO  : Cached data used. Use `pymaid.clear_cache()` to clear. (pymaid)\n",
      "INFO  : Cached data used. Use `pymaid.clear_cache()` to clear. (pymaid)\n",
      "INFO  : Done. Found 0 pre-, 19 postsynaptic and 0 gap junction-connected neurons (pymaid)\n",
      "INFO  : Fetching connectivity table for 1 neurons (pymaid)\n",
      "INFO  : Done. Found 0 pre-, 3 postsynaptic and 0 gap junction-connected neurons (pymaid)\n",
      "INFO  : Fetching connectivity table for 1 neurons (pymaid)\n",
      "INFO  : Cached data used. Use `pymaid.clear_cache()` to clear. (pymaid)\n",
      "INFO  : Cached data used. Use `pymaid.clear_cache()` to clear. (pymaid)\n",
      "INFO  : Done. Found 0 pre-, 3 postsynaptic and 0 gap junction-connected neurons (pymaid)\n",
      "INFO  : Fetching connectivity table for 1 neurons (pymaid)\n",
      "INFO  : Cached data used. Use `pymaid.clear_cache()` to clear. (pymaid)\n"
     ]
    },
    {
     "name": "stderr",
     "output_type": "stream",
     "text": [
      "INFO  : Cached data used. Use `pymaid.clear_cache()` to clear. (pymaid)\n",
      "INFO  : Done. Found 32 pre-, 0 postsynaptic and 0 gap junction-connected neurons (pymaid)\n",
      "INFO  : Cached data used. Use `pymaid.clear_cache()` to clear. (pymaid)\n",
      "INFO  : Cached data used. Use `pymaid.clear_cache()` to clear. (pymaid)\n",
      "INFO  : Fetching connectivity table for 1 neurons (pymaid)\n",
      "INFO  : Cached data used. Use `pymaid.clear_cache()` to clear. (pymaid)\n",
      "INFO  : Cached data used. Use `pymaid.clear_cache()` to clear. (pymaid)\n",
      "INFO  : Done. Found 0 pre-, 3 postsynaptic and 0 gap junction-connected neurons (pymaid)\n",
      "INFO  : Fetching connectivity table for 1 neurons (pymaid)\n",
      "INFO  : Cached data used. Use `pymaid.clear_cache()` to clear. (pymaid)\n",
      "INFO  : Cached data used. Use `pymaid.clear_cache()` to clear. (pymaid)\n",
      "INFO  : Done. Found 0 pre-, 3 postsynaptic and 0 gap junction-connected neurons (pymaid)\n",
      "INFO  : Fetching connectivity table for 1 neurons (pymaid)\n",
      "INFO  : Cached data used. Use `pymaid.clear_cache()` to clear. (pymaid)\n",
      "INFO  : Cached data used. Use `pymaid.clear_cache()` to clear. (pymaid)\n",
      "INFO  : Done. Found 32 pre-, 0 postsynaptic and 0 gap junction-connected neurons (pymaid)\n",
      "INFO  : Cached data used. Use `pymaid.clear_cache()` to clear. (pymaid)\n",
      "INFO  : Cached data used. Use `pymaid.clear_cache()` to clear. (pymaid)\n",
      "INFO  : Cached data used. Use `pymaid.clear_cache()` to clear. (pymaid)\n",
      "INFO  : Fetching connectivity table for 1 neurons (pymaid)\n",
      "INFO  : Done. Found 0 pre-, 24 postsynaptic and 0 gap junction-connected neurons (pymaid)\n",
      "INFO  : Fetching connectivity table for 1 neurons (pymaid)\n",
      "INFO  : Cached data used. Use `pymaid.clear_cache()` to clear. (pymaid)\n",
      "INFO  : Cached data used. Use `pymaid.clear_cache()` to clear. (pymaid)\n",
      "INFO  : Done. Found 0 pre-, 24 postsynaptic and 0 gap junction-connected neurons (pymaid)\n",
      "INFO  : Fetching connectivity table for 1 neurons (pymaid)\n",
      "INFO  : Done. Found 0 pre-, 3 postsynaptic and 0 gap junction-connected neurons (pymaid)\n",
      "INFO  : Fetching connectivity table for 1 neurons (pymaid)\n",
      "INFO  : Cached data used. Use `pymaid.clear_cache()` to clear. (pymaid)\n",
      "INFO  : Cached data used. Use `pymaid.clear_cache()` to clear. (pymaid)\n",
      "INFO  : Done. Found 0 pre-, 3 postsynaptic and 0 gap junction-connected neurons (pymaid)\n",
      "INFO  : Fetching connectivity table for 1 neurons (pymaid)\n",
      "INFO  : Done. Found 0 pre-, 3 postsynaptic and 0 gap junction-connected neurons (pymaid)\n",
      "INFO  : Fetching connectivity table for 1 neurons (pymaid)\n",
      "INFO  : Cached data used. Use `pymaid.clear_cache()` to clear. (pymaid)\n",
      "INFO  : Cached data used. Use `pymaid.clear_cache()` to clear. (pymaid)\n",
      "INFO  : Done. Found 0 pre-, 3 postsynaptic and 0 gap junction-connected neurons (pymaid)\n",
      "INFO  : Fetching connectivity table for 1 neurons (pymaid)\n",
      "INFO  : Done. Found 0 pre-, 31 postsynaptic and 0 gap junction-connected neurons (pymaid)\n",
      "INFO  : Fetching connectivity table for 1 neurons (pymaid)\n",
      "INFO  : Cached data used. Use `pymaid.clear_cache()` to clear. (pymaid)\n",
      "INFO  : Cached data used. Use `pymaid.clear_cache()` to clear. (pymaid)\n",
      "INFO  : Done. Found 0 pre-, 31 postsynaptic and 0 gap junction-connected neurons (pymaid)\n",
      "INFO  : Fetching connectivity table for 1 neurons (pymaid)\n",
      "INFO  : Done. Found 0 pre-, 6 postsynaptic and 0 gap junction-connected neurons (pymaid)\n",
      "INFO  : Fetching connectivity table for 1 neurons (pymaid)\n",
      "INFO  : Cached data used. Use `pymaid.clear_cache()` to clear. (pymaid)\n",
      "INFO  : Cached data used. Use `pymaid.clear_cache()` to clear. (pymaid)\n",
      "INFO  : Done. Found 0 pre-, 6 postsynaptic and 0 gap junction-connected neurons (pymaid)\n",
      "INFO  : Fetching connectivity table for 1 neurons (pymaid)\n",
      "INFO  : Cached data used. Use `pymaid.clear_cache()` to clear. (pymaid)\n",
      "INFO  : Cached data used. Use `pymaid.clear_cache()` to clear. (pymaid)\n",
      "INFO  : Done. Found 26 pre-, 0 postsynaptic and 0 gap junction-connected neurons (pymaid)\n",
      "INFO  : Cached data used. Use `pymaid.clear_cache()` to clear. (pymaid)\n",
      "INFO  : Cached data used. Use `pymaid.clear_cache()` to clear. (pymaid)\n",
      "INFO  : Fetching connectivity table for 1 neurons (pymaid)\n",
      "INFO  : Cached data used. Use `pymaid.clear_cache()` to clear. (pymaid)\n",
      "INFO  : Cached data used. Use `pymaid.clear_cache()` to clear. (pymaid)\n",
      "INFO  : Done. Found 0 pre-, 6 postsynaptic and 0 gap junction-connected neurons (pymaid)\n",
      "INFO  : Fetching connectivity table for 1 neurons (pymaid)\n",
      "INFO  : Cached data used. Use `pymaid.clear_cache()` to clear. (pymaid)\n",
      "INFO  : Cached data used. Use `pymaid.clear_cache()` to clear. (pymaid)\n",
      "INFO  : Done. Found 0 pre-, 6 postsynaptic and 0 gap junction-connected neurons (pymaid)\n",
      "INFO  : Fetching connectivity table for 1 neurons (pymaid)\n",
      "INFO  : Cached data used. Use `pymaid.clear_cache()` to clear. (pymaid)\n",
      "INFO  : Cached data used. Use `pymaid.clear_cache()` to clear. (pymaid)\n",
      "INFO  : Done. Found 26 pre-, 0 postsynaptic and 0 gap junction-connected neurons (pymaid)\n",
      "INFO  : Cached data used. Use `pymaid.clear_cache()` to clear. (pymaid)\n",
      "INFO  : Cached data used. Use `pymaid.clear_cache()` to clear. (pymaid)\n",
      "INFO  : Cached data used. Use `pymaid.clear_cache()` to clear. (pymaid)\n",
      "INFO  : Fetching connectivity table for 1 neurons (pymaid)\n",
      "INFO  : Done. Found 0 pre-, 9 postsynaptic and 0 gap junction-connected neurons (pymaid)\n",
      "INFO  : Fetching connectivity table for 1 neurons (pymaid)\n",
      "INFO  : Cached data used. Use `pymaid.clear_cache()` to clear. (pymaid)\n",
      "INFO  : Cached data used. Use `pymaid.clear_cache()` to clear. (pymaid)\n",
      "INFO  : Done. Found 0 pre-, 9 postsynaptic and 0 gap junction-connected neurons (pymaid)\n",
      "INFO  : Fetching connectivity table for 1 neurons (pymaid)\n",
      "INFO  : Done. Found 0 pre-, 21 postsynaptic and 0 gap junction-connected neurons (pymaid)\n",
      "INFO  : Fetching connectivity table for 1 neurons (pymaid)\n",
      "INFO  : Cached data used. Use `pymaid.clear_cache()` to clear. (pymaid)\n",
      "INFO  : Cached data used. Use `pymaid.clear_cache()` to clear. (pymaid)\n",
      "INFO  : Done. Found 0 pre-, 21 postsynaptic and 0 gap junction-connected neurons (pymaid)\n",
      "INFO  : Fetching connectivity table for 1 neurons (pymaid)\n",
      "INFO  : Done. Found 0 pre-, 9 postsynaptic and 0 gap junction-connected neurons (pymaid)\n",
      "INFO  : Fetching connectivity table for 1 neurons (pymaid)\n",
      "INFO  : Cached data used. Use `pymaid.clear_cache()` to clear. (pymaid)\n",
      "INFO  : Cached data used. Use `pymaid.clear_cache()` to clear. (pymaid)\n",
      "INFO  : Done. Found 0 pre-, 9 postsynaptic and 0 gap junction-connected neurons (pymaid)\n",
      "INFO  : Fetching connectivity table for 1 neurons (pymaid)\n",
      "INFO  : Done. Found 0 pre-, 14 postsynaptic and 0 gap junction-connected neurons (pymaid)\n",
      "INFO  : Fetching connectivity table for 1 neurons (pymaid)\n",
      "INFO  : Cached data used. Use `pymaid.clear_cache()` to clear. (pymaid)\n",
      "INFO  : Cached data used. Use `pymaid.clear_cache()` to clear. (pymaid)\n",
      "INFO  : Done. Found 0 pre-, 14 postsynaptic and 0 gap junction-connected neurons (pymaid)\n",
      "INFO  : Fetching connectivity table for 1 neurons (pymaid)\n",
      "INFO  : Done. Found 0 pre-, 12 postsynaptic and 0 gap junction-connected neurons (pymaid)\n",
      "INFO  : Fetching connectivity table for 1 neurons (pymaid)\n",
      "INFO  : Cached data used. Use `pymaid.clear_cache()` to clear. (pymaid)\n",
      "INFO  : Cached data used. Use `pymaid.clear_cache()` to clear. (pymaid)\n",
      "INFO  : Done. Found 0 pre-, 12 postsynaptic and 0 gap junction-connected neurons (pymaid)\n",
      "INFO  : Fetching connectivity table for 1 neurons (pymaid)\n",
      "INFO  : Done. Found 0 pre-, 36 postsynaptic and 0 gap junction-connected neurons (pymaid)\n",
      "INFO  : Fetching connectivity table for 1 neurons (pymaid)\n",
      "INFO  : Cached data used. Use `pymaid.clear_cache()` to clear. (pymaid)\n",
      "INFO  : Cached data used. Use `pymaid.clear_cache()` to clear. (pymaid)\n",
      "INFO  : Done. Found 0 pre-, 36 postsynaptic and 0 gap junction-connected neurons (pymaid)\n",
      "INFO  : Fetching connectivity table for 1 neurons (pymaid)\n",
      "INFO  : Done. Found 0 pre-, 4 postsynaptic and 0 gap junction-connected neurons (pymaid)\n",
      "INFO  : Fetching connectivity table for 1 neurons (pymaid)\n",
      "INFO  : Cached data used. Use `pymaid.clear_cache()` to clear. (pymaid)\n",
      "INFO  : Cached data used. Use `pymaid.clear_cache()` to clear. (pymaid)\n",
      "INFO  : Done. Found 0 pre-, 4 postsynaptic and 0 gap junction-connected neurons (pymaid)\n"
     ]
    },
    {
     "name": "stderr",
     "output_type": "stream",
     "text": [
      "INFO  : Fetching connectivity table for 1 neurons (pymaid)\n",
      "INFO  : Done. Found 0 pre-, 4 postsynaptic and 0 gap junction-connected neurons (pymaid)\n",
      "INFO  : Fetching connectivity table for 1 neurons (pymaid)\n",
      "INFO  : Cached data used. Use `pymaid.clear_cache()` to clear. (pymaid)\n",
      "INFO  : Cached data used. Use `pymaid.clear_cache()` to clear. (pymaid)\n",
      "INFO  : Done. Found 0 pre-, 4 postsynaptic and 0 gap junction-connected neurons (pymaid)\n",
      "INFO  : Fetching connectivity table for 1 neurons (pymaid)\n",
      "INFO  : Done. Found 0 pre-, 17 postsynaptic and 0 gap junction-connected neurons (pymaid)\n",
      "INFO  : Fetching connectivity table for 1 neurons (pymaid)\n",
      "INFO  : Cached data used. Use `pymaid.clear_cache()` to clear. (pymaid)\n",
      "INFO  : Cached data used. Use `pymaid.clear_cache()` to clear. (pymaid)\n",
      "INFO  : Done. Found 0 pre-, 17 postsynaptic and 0 gap junction-connected neurons (pymaid)\n",
      "INFO  : Fetching connectivity table for 1 neurons (pymaid)\n",
      "INFO  : Done. Found 0 pre-, 33 postsynaptic and 0 gap junction-connected neurons (pymaid)\n",
      "INFO  : Fetching connectivity table for 1 neurons (pymaid)\n",
      "INFO  : Cached data used. Use `pymaid.clear_cache()` to clear. (pymaid)\n",
      "INFO  : Cached data used. Use `pymaid.clear_cache()` to clear. (pymaid)\n",
      "INFO  : Done. Found 0 pre-, 33 postsynaptic and 0 gap junction-connected neurons (pymaid)\n",
      "INFO  : Fetching connectivity table for 1 neurons (pymaid)\n",
      "INFO  : Done. Found 0 pre-, 9 postsynaptic and 0 gap junction-connected neurons (pymaid)\n",
      "INFO  : Fetching connectivity table for 1 neurons (pymaid)\n",
      "INFO  : Cached data used. Use `pymaid.clear_cache()` to clear. (pymaid)\n",
      "INFO  : Cached data used. Use `pymaid.clear_cache()` to clear. (pymaid)\n",
      "INFO  : Done. Found 0 pre-, 9 postsynaptic and 0 gap junction-connected neurons (pymaid)\n",
      "INFO  : Fetching connectivity table for 1 neurons (pymaid)\n",
      "INFO  : Done. Found 0 pre-, 12 postsynaptic and 0 gap junction-connected neurons (pymaid)\n",
      "INFO  : Fetching connectivity table for 1 neurons (pymaid)\n",
      "INFO  : Cached data used. Use `pymaid.clear_cache()` to clear. (pymaid)\n",
      "INFO  : Cached data used. Use `pymaid.clear_cache()` to clear. (pymaid)\n",
      "INFO  : Done. Found 0 pre-, 12 postsynaptic and 0 gap junction-connected neurons (pymaid)\n",
      "INFO  : Fetching connectivity table for 1 neurons (pymaid)\n",
      "INFO  : Done. Found 0 pre-, 8 postsynaptic and 0 gap junction-connected neurons (pymaid)\n",
      "INFO  : Fetching connectivity table for 1 neurons (pymaid)\n",
      "INFO  : Cached data used. Use `pymaid.clear_cache()` to clear. (pymaid)\n",
      "INFO  : Cached data used. Use `pymaid.clear_cache()` to clear. (pymaid)\n",
      "INFO  : Done. Found 0 pre-, 8 postsynaptic and 0 gap junction-connected neurons (pymaid)\n",
      "INFO  : Fetching connectivity table for 1 neurons (pymaid)\n",
      "INFO  : Done. Found 0 pre-, 23 postsynaptic and 0 gap junction-connected neurons (pymaid)\n",
      "INFO  : Fetching connectivity table for 1 neurons (pymaid)\n",
      "INFO  : Cached data used. Use `pymaid.clear_cache()` to clear. (pymaid)\n",
      "INFO  : Cached data used. Use `pymaid.clear_cache()` to clear. (pymaid)\n",
      "INFO  : Done. Found 0 pre-, 23 postsynaptic and 0 gap junction-connected neurons (pymaid)\n",
      "INFO  : Fetching connectivity table for 1 neurons (pymaid)\n",
      "INFO  : Done. Found 0 pre-, 9 postsynaptic and 0 gap junction-connected neurons (pymaid)\n",
      "INFO  : Fetching connectivity table for 1 neurons (pymaid)\n",
      "INFO  : Cached data used. Use `pymaid.clear_cache()` to clear. (pymaid)\n",
      "INFO  : Cached data used. Use `pymaid.clear_cache()` to clear. (pymaid)\n",
      "INFO  : Done. Found 0 pre-, 9 postsynaptic and 0 gap junction-connected neurons (pymaid)\n",
      "INFO  : Fetching connectivity table for 1 neurons (pymaid)\n",
      "INFO  : Done. Found 0 pre-, 7 postsynaptic and 0 gap junction-connected neurons (pymaid)\n",
      "INFO  : Fetching connectivity table for 1 neurons (pymaid)\n",
      "INFO  : Cached data used. Use `pymaid.clear_cache()` to clear. (pymaid)\n",
      "INFO  : Cached data used. Use `pymaid.clear_cache()` to clear. (pymaid)\n",
      "INFO  : Done. Found 0 pre-, 7 postsynaptic and 0 gap junction-connected neurons (pymaid)\n",
      "INFO  : Fetching connectivity table for 1 neurons (pymaid)\n",
      "INFO  : Done. Found 0 pre-, 10 postsynaptic and 0 gap junction-connected neurons (pymaid)\n",
      "INFO  : Fetching connectivity table for 1 neurons (pymaid)\n",
      "INFO  : Cached data used. Use `pymaid.clear_cache()` to clear. (pymaid)\n",
      "INFO  : Cached data used. Use `pymaid.clear_cache()` to clear. (pymaid)\n",
      "INFO  : Done. Found 0 pre-, 10 postsynaptic and 0 gap junction-connected neurons (pymaid)\n",
      "INFO  : Fetching connectivity table for 1 neurons (pymaid)\n",
      "INFO  : Done. Found 0 pre-, 5 postsynaptic and 0 gap junction-connected neurons (pymaid)\n",
      "INFO  : Fetching connectivity table for 1 neurons (pymaid)\n",
      "INFO  : Cached data used. Use `pymaid.clear_cache()` to clear. (pymaid)\n",
      "INFO  : Cached data used. Use `pymaid.clear_cache()` to clear. (pymaid)\n",
      "INFO  : Done. Found 0 pre-, 5 postsynaptic and 0 gap junction-connected neurons (pymaid)\n",
      "INFO  : Fetching connectivity table for 1 neurons (pymaid)\n",
      "INFO  : Done. Found 0 pre-, 9 postsynaptic and 0 gap junction-connected neurons (pymaid)\n",
      "INFO  : Fetching connectivity table for 1 neurons (pymaid)\n",
      "INFO  : Cached data used. Use `pymaid.clear_cache()` to clear. (pymaid)\n",
      "INFO  : Cached data used. Use `pymaid.clear_cache()` to clear. (pymaid)\n",
      "INFO  : Done. Found 0 pre-, 9 postsynaptic and 0 gap junction-connected neurons (pymaid)\n",
      "INFO  : Fetching connectivity table for 1 neurons (pymaid)\n",
      "INFO  : Cached data used. Use `pymaid.clear_cache()` to clear. (pymaid)\n",
      "INFO  : Cached data used. Use `pymaid.clear_cache()` to clear. (pymaid)\n",
      "INFO  : Done. Found 19 pre-, 0 postsynaptic and 0 gap junction-connected neurons (pymaid)\n",
      "INFO  : Cached data used. Use `pymaid.clear_cache()` to clear. (pymaid)\n",
      "INFO  : Cached data used. Use `pymaid.clear_cache()` to clear. (pymaid)\n",
      "INFO  : Fetching connectivity table for 1 neurons (pymaid)\n",
      "INFO  : Cached data used. Use `pymaid.clear_cache()` to clear. (pymaid)\n",
      "INFO  : Cached data used. Use `pymaid.clear_cache()` to clear. (pymaid)\n",
      "INFO  : Done. Found 0 pre-, 9 postsynaptic and 0 gap junction-connected neurons (pymaid)\n",
      "INFO  : Fetching connectivity table for 1 neurons (pymaid)\n",
      "INFO  : Cached data used. Use `pymaid.clear_cache()` to clear. (pymaid)\n",
      "INFO  : Cached data used. Use `pymaid.clear_cache()` to clear. (pymaid)\n",
      "INFO  : Done. Found 0 pre-, 9 postsynaptic and 0 gap junction-connected neurons (pymaid)\n",
      "INFO  : Fetching connectivity table for 1 neurons (pymaid)\n",
      "INFO  : Cached data used. Use `pymaid.clear_cache()` to clear. (pymaid)\n",
      "INFO  : Cached data used. Use `pymaid.clear_cache()` to clear. (pymaid)\n",
      "INFO  : Done. Found 19 pre-, 0 postsynaptic and 0 gap junction-connected neurons (pymaid)\n",
      "INFO  : Cached data used. Use `pymaid.clear_cache()` to clear. (pymaid)\n",
      "INFO  : Cached data used. Use `pymaid.clear_cache()` to clear. (pymaid)\n",
      "INFO  : Cached data used. Use `pymaid.clear_cache()` to clear. (pymaid)\n",
      "INFO  : Fetching connectivity table for 1 neurons (pymaid)\n",
      "INFO  : Done. Found 0 pre-, 34 postsynaptic and 0 gap junction-connected neurons (pymaid)\n",
      "INFO  : Fetching connectivity table for 1 neurons (pymaid)\n",
      "INFO  : Cached data used. Use `pymaid.clear_cache()` to clear. (pymaid)\n",
      "INFO  : Cached data used. Use `pymaid.clear_cache()` to clear. (pymaid)\n",
      "INFO  : Done. Found 0 pre-, 34 postsynaptic and 0 gap junction-connected neurons (pymaid)\n",
      "INFO  : Fetching connectivity table for 1 neurons (pymaid)\n",
      "INFO  : Done. Found 0 pre-, 27 postsynaptic and 0 gap junction-connected neurons (pymaid)\n",
      "INFO  : Fetching connectivity table for 1 neurons (pymaid)\n",
      "INFO  : Cached data used. Use `pymaid.clear_cache()` to clear. (pymaid)\n",
      "INFO  : Cached data used. Use `pymaid.clear_cache()` to clear. (pymaid)\n",
      "INFO  : Done. Found 0 pre-, 27 postsynaptic and 0 gap junction-connected neurons (pymaid)\n",
      "INFO  : Fetching connectivity table for 1 neurons (pymaid)\n",
      "INFO  : Done. Found 0 pre-, 16 postsynaptic and 0 gap junction-connected neurons (pymaid)\n",
      "INFO  : Fetching connectivity table for 1 neurons (pymaid)\n",
      "INFO  : Cached data used. Use `pymaid.clear_cache()` to clear. (pymaid)\n",
      "INFO  : Cached data used. Use `pymaid.clear_cache()` to clear. (pymaid)\n",
      "INFO  : Done. Found 0 pre-, 16 postsynaptic and 0 gap junction-connected neurons (pymaid)\n",
      "INFO  : Fetching connectivity table for 1 neurons (pymaid)\n"
     ]
    },
    {
     "name": "stderr",
     "output_type": "stream",
     "text": [
      "INFO  : Done. Found 0 pre-, 18 postsynaptic and 0 gap junction-connected neurons (pymaid)\n",
      "INFO  : Fetching connectivity table for 1 neurons (pymaid)\n",
      "INFO  : Cached data used. Use `pymaid.clear_cache()` to clear. (pymaid)\n",
      "INFO  : Cached data used. Use `pymaid.clear_cache()` to clear. (pymaid)\n",
      "INFO  : Done. Found 0 pre-, 18 postsynaptic and 0 gap junction-connected neurons (pymaid)\n",
      "INFO  : Fetching connectivity table for 1 neurons (pymaid)\n",
      "INFO  : Done. Found 0 pre-, 10 postsynaptic and 0 gap junction-connected neurons (pymaid)\n",
      "INFO  : Fetching connectivity table for 1 neurons (pymaid)\n",
      "INFO  : Cached data used. Use `pymaid.clear_cache()` to clear. (pymaid)\n",
      "INFO  : Cached data used. Use `pymaid.clear_cache()` to clear. (pymaid)\n",
      "INFO  : Done. Found 0 pre-, 10 postsynaptic and 0 gap junction-connected neurons (pymaid)\n",
      "INFO  : Fetching connectivity table for 1 neurons (pymaid)\n",
      "INFO  : Done. Found 0 pre-, 8 postsynaptic and 0 gap junction-connected neurons (pymaid)\n",
      "INFO  : Fetching connectivity table for 1 neurons (pymaid)\n",
      "INFO  : Cached data used. Use `pymaid.clear_cache()` to clear. (pymaid)\n",
      "INFO  : Cached data used. Use `pymaid.clear_cache()` to clear. (pymaid)\n",
      "INFO  : Done. Found 0 pre-, 8 postsynaptic and 0 gap junction-connected neurons (pymaid)\n",
      "INFO  : Fetching connectivity table for 1 neurons (pymaid)\n",
      "INFO  : Done. Found 0 pre-, 9 postsynaptic and 0 gap junction-connected neurons (pymaid)\n",
      "INFO  : Fetching connectivity table for 1 neurons (pymaid)\n",
      "INFO  : Cached data used. Use `pymaid.clear_cache()` to clear. (pymaid)\n",
      "INFO  : Cached data used. Use `pymaid.clear_cache()` to clear. (pymaid)\n",
      "INFO  : Done. Found 0 pre-, 9 postsynaptic and 0 gap junction-connected neurons (pymaid)\n",
      "INFO  : Fetching connectivity table for 1 neurons (pymaid)\n",
      "INFO  : Done. Found 0 pre-, 11 postsynaptic and 0 gap junction-connected neurons (pymaid)\n",
      "INFO  : Fetching connectivity table for 1 neurons (pymaid)\n",
      "INFO  : Cached data used. Use `pymaid.clear_cache()` to clear. (pymaid)\n",
      "INFO  : Cached data used. Use `pymaid.clear_cache()` to clear. (pymaid)\n",
      "INFO  : Done. Found 0 pre-, 11 postsynaptic and 0 gap junction-connected neurons (pymaid)\n",
      "INFO  : Fetching connectivity table for 1 neurons (pymaid)\n",
      "INFO  : Done. Found 0 pre-, 14 postsynaptic and 0 gap junction-connected neurons (pymaid)\n",
      "INFO  : Fetching connectivity table for 1 neurons (pymaid)\n",
      "INFO  : Cached data used. Use `pymaid.clear_cache()` to clear. (pymaid)\n",
      "INFO  : Cached data used. Use `pymaid.clear_cache()` to clear. (pymaid)\n",
      "INFO  : Done. Found 0 pre-, 14 postsynaptic and 0 gap junction-connected neurons (pymaid)\n",
      "INFO  : Fetching connectivity table for 1 neurons (pymaid)\n",
      "INFO  : Done. Found 0 pre-, 38 postsynaptic and 0 gap junction-connected neurons (pymaid)\n",
      "INFO  : Fetching connectivity table for 1 neurons (pymaid)\n",
      "INFO  : Cached data used. Use `pymaid.clear_cache()` to clear. (pymaid)\n",
      "INFO  : Cached data used. Use `pymaid.clear_cache()` to clear. (pymaid)\n",
      "INFO  : Done. Found 0 pre-, 38 postsynaptic and 0 gap junction-connected neurons (pymaid)\n",
      "INFO  : Fetching connectivity table for 1 neurons (pymaid)\n",
      "INFO  : Done. Found 0 pre-, 32 postsynaptic and 0 gap junction-connected neurons (pymaid)\n",
      "INFO  : Fetching connectivity table for 1 neurons (pymaid)\n",
      "INFO  : Cached data used. Use `pymaid.clear_cache()` to clear. (pymaid)\n",
      "INFO  : Cached data used. Use `pymaid.clear_cache()` to clear. (pymaid)\n",
      "INFO  : Done. Found 0 pre-, 32 postsynaptic and 0 gap junction-connected neurons (pymaid)\n",
      "INFO  : Fetching connectivity table for 1 neurons (pymaid)\n",
      "INFO  : Done. Found 0 pre-, 1 postsynaptic and 0 gap junction-connected neurons (pymaid)\n",
      "INFO  : Fetching connectivity table for 1 neurons (pymaid)\n",
      "INFO  : Cached data used. Use `pymaid.clear_cache()` to clear. (pymaid)\n",
      "INFO  : Cached data used. Use `pymaid.clear_cache()` to clear. (pymaid)\n",
      "INFO  : Done. Found 0 pre-, 1 postsynaptic and 0 gap junction-connected neurons (pymaid)\n",
      "INFO  : Fetching connectivity table for 1 neurons (pymaid)\n",
      "INFO  : Done. Found 0 pre-, 11 postsynaptic and 0 gap junction-connected neurons (pymaid)\n",
      "INFO  : Fetching connectivity table for 1 neurons (pymaid)\n",
      "INFO  : Cached data used. Use `pymaid.clear_cache()` to clear. (pymaid)\n",
      "INFO  : Cached data used. Use `pymaid.clear_cache()` to clear. (pymaid)\n",
      "INFO  : Done. Found 0 pre-, 11 postsynaptic and 0 gap junction-connected neurons (pymaid)\n",
      "INFO  : Fetching connectivity table for 1 neurons (pymaid)\n",
      "INFO  : Done. Found 0 pre-, 8 postsynaptic and 0 gap junction-connected neurons (pymaid)\n",
      "INFO  : Fetching connectivity table for 1 neurons (pymaid)\n",
      "INFO  : Cached data used. Use `pymaid.clear_cache()` to clear. (pymaid)\n",
      "INFO  : Cached data used. Use `pymaid.clear_cache()` to clear. (pymaid)\n",
      "INFO  : Done. Found 0 pre-, 8 postsynaptic and 0 gap junction-connected neurons (pymaid)\n",
      "INFO  : Fetching connectivity table for 1 neurons (pymaid)\n",
      "INFO  : Done. Found 0 pre-, 8 postsynaptic and 0 gap junction-connected neurons (pymaid)\n",
      "INFO  : Fetching connectivity table for 1 neurons (pymaid)\n",
      "INFO  : Cached data used. Use `pymaid.clear_cache()` to clear. (pymaid)\n",
      "INFO  : Cached data used. Use `pymaid.clear_cache()` to clear. (pymaid)\n",
      "INFO  : Done. Found 0 pre-, 8 postsynaptic and 0 gap junction-connected neurons (pymaid)\n",
      "INFO  : Fetching connectivity table for 1 neurons (pymaid)\n",
      "INFO  : Done. Found 0 pre-, 8 postsynaptic and 0 gap junction-connected neurons (pymaid)\n",
      "INFO  : Fetching connectivity table for 1 neurons (pymaid)\n",
      "INFO  : Cached data used. Use `pymaid.clear_cache()` to clear. (pymaid)\n",
      "INFO  : Cached data used. Use `pymaid.clear_cache()` to clear. (pymaid)\n",
      "INFO  : Done. Found 0 pre-, 8 postsynaptic and 0 gap junction-connected neurons (pymaid)\n",
      "INFO  : Fetching connectivity table for 1 neurons (pymaid)\n",
      "INFO  : Done. Found 0 pre-, 13 postsynaptic and 0 gap junction-connected neurons (pymaid)\n",
      "INFO  : Fetching connectivity table for 1 neurons (pymaid)\n",
      "INFO  : Cached data used. Use `pymaid.clear_cache()` to clear. (pymaid)\n",
      "INFO  : Cached data used. Use `pymaid.clear_cache()` to clear. (pymaid)\n",
      "INFO  : Done. Found 0 pre-, 13 postsynaptic and 0 gap junction-connected neurons (pymaid)\n",
      "INFO  : Fetching connectivity table for 1 neurons (pymaid)\n",
      "INFO  : Done. Found 0 pre-, 4 postsynaptic and 0 gap junction-connected neurons (pymaid)\n",
      "INFO  : Fetching connectivity table for 1 neurons (pymaid)\n",
      "INFO  : Cached data used. Use `pymaid.clear_cache()` to clear. (pymaid)\n",
      "INFO  : Cached data used. Use `pymaid.clear_cache()` to clear. (pymaid)\n",
      "INFO  : Done. Found 0 pre-, 4 postsynaptic and 0 gap junction-connected neurons (pymaid)\n",
      "INFO  : Fetching connectivity table for 1 neurons (pymaid)\n",
      "INFO  : Done. Found 0 pre-, 8 postsynaptic and 0 gap junction-connected neurons (pymaid)\n",
      "INFO  : Fetching connectivity table for 1 neurons (pymaid)\n",
      "INFO  : Cached data used. Use `pymaid.clear_cache()` to clear. (pymaid)\n",
      "INFO  : Cached data used. Use `pymaid.clear_cache()` to clear. (pymaid)\n",
      "INFO  : Done. Found 0 pre-, 8 postsynaptic and 0 gap junction-connected neurons (pymaid)\n",
      "INFO  : Fetching connectivity table for 1 neurons (pymaid)\n",
      "INFO  : Done. Found 0 pre-, 14 postsynaptic and 0 gap junction-connected neurons (pymaid)\n",
      "INFO  : Fetching connectivity table for 1 neurons (pymaid)\n",
      "INFO  : Cached data used. Use `pymaid.clear_cache()` to clear. (pymaid)\n",
      "INFO  : Cached data used. Use `pymaid.clear_cache()` to clear. (pymaid)\n",
      "INFO  : Done. Found 0 pre-, 14 postsynaptic and 0 gap junction-connected neurons (pymaid)\n",
      "INFO  : Fetching connectivity table for 1 neurons (pymaid)\n",
      "INFO  : Done. Found 0 pre-, 1 postsynaptic and 0 gap junction-connected neurons (pymaid)\n",
      "INFO  : Fetching connectivity table for 1 neurons (pymaid)\n",
      "INFO  : Cached data used. Use `pymaid.clear_cache()` to clear. (pymaid)\n",
      "INFO  : Cached data used. Use `pymaid.clear_cache()` to clear. (pymaid)\n",
      "INFO  : Done. Found 0 pre-, 1 postsynaptic and 0 gap junction-connected neurons (pymaid)\n",
      "INFO  : Fetching connectivity table for 1 neurons (pymaid)\n",
      "INFO  : Done. Found 0 pre-, 4 postsynaptic and 0 gap junction-connected neurons (pymaid)\n",
      "INFO  : Fetching connectivity table for 1 neurons (pymaid)\n",
      "INFO  : Cached data used. Use `pymaid.clear_cache()` to clear. (pymaid)\n",
      "INFO  : Cached data used. Use `pymaid.clear_cache()` to clear. (pymaid)\n"
     ]
    },
    {
     "name": "stderr",
     "output_type": "stream",
     "text": [
      "INFO  : Done. Found 0 pre-, 4 postsynaptic and 0 gap junction-connected neurons (pymaid)\n",
      "INFO  : Fetching connectivity table for 1 neurons (pymaid)\n",
      "INFO  : Done. Found 0 pre-, 15 postsynaptic and 0 gap junction-connected neurons (pymaid)\n",
      "INFO  : Fetching connectivity table for 1 neurons (pymaid)\n",
      "INFO  : Cached data used. Use `pymaid.clear_cache()` to clear. (pymaid)\n",
      "INFO  : Cached data used. Use `pymaid.clear_cache()` to clear. (pymaid)\n",
      "INFO  : Done. Found 0 pre-, 15 postsynaptic and 0 gap junction-connected neurons (pymaid)\n",
      "INFO  : Fetching connectivity table for 1 neurons (pymaid)\n",
      "INFO  : Cached data used. Use `pymaid.clear_cache()` to clear. (pymaid)\n",
      "INFO  : Cached data used. Use `pymaid.clear_cache()` to clear. (pymaid)\n",
      "INFO  : Done. Found 31 pre-, 0 postsynaptic and 0 gap junction-connected neurons (pymaid)\n",
      "INFO  : Cached data used. Use `pymaid.clear_cache()` to clear. (pymaid)\n",
      "INFO  : Cached data used. Use `pymaid.clear_cache()` to clear. (pymaid)\n",
      "INFO  : Cached data used. Use `pymaid.clear_cache()` to clear. (pymaid)\n",
      "INFO  : Cached data used. Use `pymaid.clear_cache()` to clear. (pymaid)\n",
      "INFO  : Cached data used. Use `pymaid.clear_cache()` to clear. (pymaid)\n",
      "INFO  : Cached data used. Use `pymaid.clear_cache()` to clear. (pymaid)\n",
      "INFO  : Cached data used. Use `pymaid.clear_cache()` to clear. (pymaid)\n",
      "INFO  : Cached data used. Use `pymaid.clear_cache()` to clear. (pymaid)\n",
      "INFO  : Fetching connectivity table for 1 neurons (pymaid)\n",
      "INFO  : Cached data used. Use `pymaid.clear_cache()` to clear. (pymaid)\n",
      "INFO  : Cached data used. Use `pymaid.clear_cache()` to clear. (pymaid)\n",
      "INFO  : Done. Found 0 pre-, 15 postsynaptic and 0 gap junction-connected neurons (pymaid)\n",
      "INFO  : Fetching connectivity table for 1 neurons (pymaid)\n",
      "INFO  : Cached data used. Use `pymaid.clear_cache()` to clear. (pymaid)\n",
      "INFO  : Cached data used. Use `pymaid.clear_cache()` to clear. (pymaid)\n",
      "INFO  : Done. Found 0 pre-, 15 postsynaptic and 0 gap junction-connected neurons (pymaid)\n",
      "INFO  : Fetching connectivity table for 1 neurons (pymaid)\n",
      "INFO  : Cached data used. Use `pymaid.clear_cache()` to clear. (pymaid)\n",
      "INFO  : Cached data used. Use `pymaid.clear_cache()` to clear. (pymaid)\n",
      "INFO  : Done. Found 31 pre-, 0 postsynaptic and 0 gap junction-connected neurons (pymaid)\n",
      "INFO  : Cached data used. Use `pymaid.clear_cache()` to clear. (pymaid)\n",
      "INFO  : Cached data used. Use `pymaid.clear_cache()` to clear. (pymaid)\n",
      "INFO  : Cached data used. Use `pymaid.clear_cache()` to clear. (pymaid)\n",
      "INFO  : Cached data used. Use `pymaid.clear_cache()` to clear. (pymaid)\n",
      "INFO  : Cached data used. Use `pymaid.clear_cache()` to clear. (pymaid)\n",
      "INFO  : Cached data used. Use `pymaid.clear_cache()` to clear. (pymaid)\n",
      "INFO  : Cached data used. Use `pymaid.clear_cache()` to clear. (pymaid)\n",
      "INFO  : Cached data used. Use `pymaid.clear_cache()` to clear. (pymaid)\n",
      "INFO  : Cached data used. Use `pymaid.clear_cache()` to clear. (pymaid)\n",
      "INFO  : Fetching connectivity table for 1 neurons (pymaid)\n",
      "INFO  : Done. Found 0 pre-, 13 postsynaptic and 0 gap junction-connected neurons (pymaid)\n",
      "INFO  : Fetching connectivity table for 1 neurons (pymaid)\n",
      "INFO  : Cached data used. Use `pymaid.clear_cache()` to clear. (pymaid)\n",
      "INFO  : Cached data used. Use `pymaid.clear_cache()` to clear. (pymaid)\n",
      "INFO  : Done. Found 0 pre-, 13 postsynaptic and 0 gap junction-connected neurons (pymaid)\n",
      "INFO  : Fetching connectivity table for 1 neurons (pymaid)\n",
      "INFO  : Done. Found 0 pre-, 9 postsynaptic and 0 gap junction-connected neurons (pymaid)\n",
      "INFO  : Fetching connectivity table for 1 neurons (pymaid)\n",
      "INFO  : Cached data used. Use `pymaid.clear_cache()` to clear. (pymaid)\n",
      "INFO  : Cached data used. Use `pymaid.clear_cache()` to clear. (pymaid)\n",
      "INFO  : Done. Found 0 pre-, 9 postsynaptic and 0 gap junction-connected neurons (pymaid)\n",
      "INFO  : Fetching connectivity table for 1 neurons (pymaid)\n",
      "INFO  : Done. Found 0 pre-, 0 postsynaptic and 0 gap junction-connected neurons (pymaid)\n",
      "INFO  : Fetching connectivity table for 1 neurons (pymaid)\n",
      "INFO  : Cached data used. Use `pymaid.clear_cache()` to clear. (pymaid)\n",
      "INFO  : Cached data used. Use `pymaid.clear_cache()` to clear. (pymaid)\n",
      "INFO  : Done. Found 0 pre-, 0 postsynaptic and 0 gap junction-connected neurons (pymaid)\n",
      "INFO  : Fetching connectivity table for 1 neurons (pymaid)\n",
      "INFO  : Done. Found 0 pre-, 18 postsynaptic and 0 gap junction-connected neurons (pymaid)\n",
      "INFO  : Fetching connectivity table for 1 neurons (pymaid)\n",
      "INFO  : Cached data used. Use `pymaid.clear_cache()` to clear. (pymaid)\n",
      "INFO  : Cached data used. Use `pymaid.clear_cache()` to clear. (pymaid)\n",
      "INFO  : Done. Found 0 pre-, 18 postsynaptic and 0 gap junction-connected neurons (pymaid)\n",
      "INFO  : Fetching connectivity table for 1 neurons (pymaid)\n",
      "INFO  : Done. Found 0 pre-, 5 postsynaptic and 0 gap junction-connected neurons (pymaid)\n",
      "INFO  : Fetching connectivity table for 1 neurons (pymaid)\n",
      "INFO  : Cached data used. Use `pymaid.clear_cache()` to clear. (pymaid)\n",
      "INFO  : Cached data used. Use `pymaid.clear_cache()` to clear. (pymaid)\n",
      "INFO  : Done. Found 0 pre-, 5 postsynaptic and 0 gap junction-connected neurons (pymaid)\n",
      "INFO  : Fetching connectivity table for 1 neurons (pymaid)\n",
      "INFO  : Done. Found 0 pre-, 10 postsynaptic and 0 gap junction-connected neurons (pymaid)\n",
      "INFO  : Fetching connectivity table for 1 neurons (pymaid)\n",
      "INFO  : Cached data used. Use `pymaid.clear_cache()` to clear. (pymaid)\n",
      "INFO  : Cached data used. Use `pymaid.clear_cache()` to clear. (pymaid)\n",
      "INFO  : Done. Found 0 pre-, 10 postsynaptic and 0 gap junction-connected neurons (pymaid)\n",
      "INFO  : Fetching connectivity table for 1 neurons (pymaid)\n",
      "INFO  : Cached data used. Use `pymaid.clear_cache()` to clear. (pymaid)\n",
      "INFO  : Cached data used. Use `pymaid.clear_cache()` to clear. (pymaid)\n",
      "INFO  : Done. Found 31 pre-, 0 postsynaptic and 0 gap junction-connected neurons (pymaid)\n",
      "INFO  : Cached data used. Use `pymaid.clear_cache()` to clear. (pymaid)\n",
      "INFO  : Cached data used. Use `pymaid.clear_cache()` to clear. (pymaid)\n",
      "INFO  : Cached data used. Use `pymaid.clear_cache()` to clear. (pymaid)\n",
      "INFO  : Cached data used. Use `pymaid.clear_cache()` to clear. (pymaid)\n",
      "INFO  : Cached data used. Use `pymaid.clear_cache()` to clear. (pymaid)\n",
      "INFO  : Fetching connectivity table for 1 neurons (pymaid)\n",
      "INFO  : Cached data used. Use `pymaid.clear_cache()` to clear. (pymaid)\n",
      "INFO  : Cached data used. Use `pymaid.clear_cache()` to clear. (pymaid)\n",
      "INFO  : Done. Found 0 pre-, 10 postsynaptic and 0 gap junction-connected neurons (pymaid)\n",
      "INFO  : Fetching connectivity table for 1 neurons (pymaid)\n",
      "INFO  : Cached data used. Use `pymaid.clear_cache()` to clear. (pymaid)\n",
      "INFO  : Cached data used. Use `pymaid.clear_cache()` to clear. (pymaid)\n",
      "INFO  : Done. Found 0 pre-, 10 postsynaptic and 0 gap junction-connected neurons (pymaid)\n",
      "INFO  : Fetching connectivity table for 1 neurons (pymaid)\n",
      "INFO  : Cached data used. Use `pymaid.clear_cache()` to clear. (pymaid)\n",
      "INFO  : Cached data used. Use `pymaid.clear_cache()` to clear. (pymaid)\n",
      "INFO  : Done. Found 31 pre-, 0 postsynaptic and 0 gap junction-connected neurons (pymaid)\n",
      "INFO  : Cached data used. Use `pymaid.clear_cache()` to clear. (pymaid)\n",
      "INFO  : Cached data used. Use `pymaid.clear_cache()` to clear. (pymaid)\n",
      "INFO  : Cached data used. Use `pymaid.clear_cache()` to clear. (pymaid)\n",
      "INFO  : Cached data used. Use `pymaid.clear_cache()` to clear. (pymaid)\n",
      "INFO  : Cached data used. Use `pymaid.clear_cache()` to clear. (pymaid)\n",
      "INFO  : Cached data used. Use `pymaid.clear_cache()` to clear. (pymaid)\n",
      "INFO  : Fetching connectivity table for 1 neurons (pymaid)\n",
      "INFO  : Done. Found 0 pre-, 15 postsynaptic and 0 gap junction-connected neurons (pymaid)\n",
      "INFO  : Fetching connectivity table for 1 neurons (pymaid)\n",
      "INFO  : Cached data used. Use `pymaid.clear_cache()` to clear. (pymaid)\n",
      "INFO  : Cached data used. Use `pymaid.clear_cache()` to clear. (pymaid)\n",
      "INFO  : Done. Found 0 pre-, 15 postsynaptic and 0 gap junction-connected neurons (pymaid)\n",
      "INFO  : Fetching connectivity table for 1 neurons (pymaid)\n",
      "INFO  : Done. Found 0 pre-, 17 postsynaptic and 0 gap junction-connected neurons (pymaid)\n",
      "INFO  : Fetching connectivity table for 1 neurons (pymaid)\n",
      "INFO  : Cached data used. Use `pymaid.clear_cache()` to clear. (pymaid)\n"
     ]
    },
    {
     "name": "stderr",
     "output_type": "stream",
     "text": [
      "INFO  : Cached data used. Use `pymaid.clear_cache()` to clear. (pymaid)\n",
      "INFO  : Done. Found 0 pre-, 17 postsynaptic and 0 gap junction-connected neurons (pymaid)\n",
      "INFO  : Fetching connectivity table for 1 neurons (pymaid)\n",
      "INFO  : Done. Found 0 pre-, 3 postsynaptic and 0 gap junction-connected neurons (pymaid)\n",
      "INFO  : Fetching connectivity table for 1 neurons (pymaid)\n",
      "INFO  : Cached data used. Use `pymaid.clear_cache()` to clear. (pymaid)\n",
      "INFO  : Cached data used. Use `pymaid.clear_cache()` to clear. (pymaid)\n",
      "INFO  : Done. Found 0 pre-, 3 postsynaptic and 0 gap junction-connected neurons (pymaid)\n",
      "INFO  : Fetching connectivity table for 1 neurons (pymaid)\n",
      "INFO  : Done. Found 0 pre-, 8 postsynaptic and 0 gap junction-connected neurons (pymaid)\n",
      "INFO  : Fetching connectivity table for 1 neurons (pymaid)\n",
      "INFO  : Cached data used. Use `pymaid.clear_cache()` to clear. (pymaid)\n",
      "INFO  : Cached data used. Use `pymaid.clear_cache()` to clear. (pymaid)\n",
      "INFO  : Done. Found 0 pre-, 8 postsynaptic and 0 gap junction-connected neurons (pymaid)\n",
      "INFO  : Fetching connectivity table for 1 neurons (pymaid)\n",
      "INFO  : Done. Found 0 pre-, 24 postsynaptic and 0 gap junction-connected neurons (pymaid)\n",
      "INFO  : Fetching connectivity table for 1 neurons (pymaid)\n",
      "INFO  : Cached data used. Use `pymaid.clear_cache()` to clear. (pymaid)\n",
      "INFO  : Cached data used. Use `pymaid.clear_cache()` to clear. (pymaid)\n",
      "INFO  : Done. Found 0 pre-, 24 postsynaptic and 0 gap junction-connected neurons (pymaid)\n",
      "INFO  : Fetching connectivity table for 1 neurons (pymaid)\n",
      "INFO  : Done. Found 0 pre-, 22 postsynaptic and 0 gap junction-connected neurons (pymaid)\n",
      "INFO  : Fetching connectivity table for 1 neurons (pymaid)\n",
      "INFO  : Cached data used. Use `pymaid.clear_cache()` to clear. (pymaid)\n",
      "INFO  : Cached data used. Use `pymaid.clear_cache()` to clear. (pymaid)\n",
      "INFO  : Done. Found 0 pre-, 22 postsynaptic and 0 gap junction-connected neurons (pymaid)\n",
      "INFO  : Fetching connectivity table for 1 neurons (pymaid)\n",
      "INFO  : Done. Found 0 pre-, 17 postsynaptic and 0 gap junction-connected neurons (pymaid)\n",
      "INFO  : Fetching connectivity table for 1 neurons (pymaid)\n",
      "INFO  : Cached data used. Use `pymaid.clear_cache()` to clear. (pymaid)\n",
      "INFO  : Cached data used. Use `pymaid.clear_cache()` to clear. (pymaid)\n",
      "INFO  : Done. Found 0 pre-, 17 postsynaptic and 0 gap junction-connected neurons (pymaid)\n",
      "INFO  : Fetching connectivity table for 1 neurons (pymaid)\n",
      "INFO  : Done. Found 0 pre-, 15 postsynaptic and 0 gap junction-connected neurons (pymaid)\n",
      "INFO  : Fetching connectivity table for 1 neurons (pymaid)\n",
      "INFO  : Cached data used. Use `pymaid.clear_cache()` to clear. (pymaid)\n",
      "INFO  : Cached data used. Use `pymaid.clear_cache()` to clear. (pymaid)\n",
      "INFO  : Done. Found 0 pre-, 15 postsynaptic and 0 gap junction-connected neurons (pymaid)\n",
      "INFO  : Fetching connectivity table for 1 neurons (pymaid)\n",
      "INFO  : Cached data used. Use `pymaid.clear_cache()` to clear. (pymaid)\n",
      "INFO  : Cached data used. Use `pymaid.clear_cache()` to clear. (pymaid)\n",
      "INFO  : Done. Found 26 pre-, 0 postsynaptic and 0 gap junction-connected neurons (pymaid)\n",
      "INFO  : Cached data used. Use `pymaid.clear_cache()` to clear. (pymaid)\n",
      "INFO  : Cached data used. Use `pymaid.clear_cache()` to clear. (pymaid)\n",
      "INFO  : Cached data used. Use `pymaid.clear_cache()` to clear. (pymaid)\n",
      "INFO  : Cached data used. Use `pymaid.clear_cache()` to clear. (pymaid)\n",
      "INFO  : Cached data used. Use `pymaid.clear_cache()` to clear. (pymaid)\n",
      "INFO  : Fetching connectivity table for 1 neurons (pymaid)\n",
      "INFO  : Cached data used. Use `pymaid.clear_cache()` to clear. (pymaid)\n",
      "INFO  : Cached data used. Use `pymaid.clear_cache()` to clear. (pymaid)\n",
      "INFO  : Done. Found 0 pre-, 15 postsynaptic and 0 gap junction-connected neurons (pymaid)\n",
      "INFO  : Fetching connectivity table for 1 neurons (pymaid)\n",
      "INFO  : Cached data used. Use `pymaid.clear_cache()` to clear. (pymaid)\n",
      "INFO  : Cached data used. Use `pymaid.clear_cache()` to clear. (pymaid)\n",
      "INFO  : Done. Found 0 pre-, 15 postsynaptic and 0 gap junction-connected neurons (pymaid)\n",
      "INFO  : Fetching connectivity table for 1 neurons (pymaid)\n",
      "INFO  : Cached data used. Use `pymaid.clear_cache()` to clear. (pymaid)\n",
      "INFO  : Cached data used. Use `pymaid.clear_cache()` to clear. (pymaid)\n",
      "INFO  : Done. Found 26 pre-, 0 postsynaptic and 0 gap junction-connected neurons (pymaid)\n",
      "INFO  : Cached data used. Use `pymaid.clear_cache()` to clear. (pymaid)\n",
      "INFO  : Cached data used. Use `pymaid.clear_cache()` to clear. (pymaid)\n",
      "INFO  : Cached data used. Use `pymaid.clear_cache()` to clear. (pymaid)\n",
      "INFO  : Cached data used. Use `pymaid.clear_cache()` to clear. (pymaid)\n",
      "INFO  : Cached data used. Use `pymaid.clear_cache()` to clear. (pymaid)\n",
      "INFO  : Cached data used. Use `pymaid.clear_cache()` to clear. (pymaid)\n",
      "INFO  : Fetching connectivity table for 1 neurons (pymaid)\n",
      "INFO  : Done. Found 0 pre-, 9 postsynaptic and 0 gap junction-connected neurons (pymaid)\n",
      "INFO  : Fetching connectivity table for 1 neurons (pymaid)\n",
      "INFO  : Cached data used. Use `pymaid.clear_cache()` to clear. (pymaid)\n",
      "INFO  : Cached data used. Use `pymaid.clear_cache()` to clear. (pymaid)\n",
      "INFO  : Done. Found 0 pre-, 9 postsynaptic and 0 gap junction-connected neurons (pymaid)\n",
      "INFO  : Fetching connectivity table for 1 neurons (pymaid)\n",
      "INFO  : Done. Found 0 pre-, 3 postsynaptic and 0 gap junction-connected neurons (pymaid)\n",
      "INFO  : Fetching connectivity table for 1 neurons (pymaid)\n",
      "INFO  : Cached data used. Use `pymaid.clear_cache()` to clear. (pymaid)\n",
      "INFO  : Cached data used. Use `pymaid.clear_cache()` to clear. (pymaid)\n",
      "INFO  : Done. Found 0 pre-, 3 postsynaptic and 0 gap junction-connected neurons (pymaid)\n",
      "INFO  : Fetching connectivity table for 1 neurons (pymaid)\n",
      "INFO  : Done. Found 0 pre-, 21 postsynaptic and 0 gap junction-connected neurons (pymaid)\n",
      "INFO  : Fetching connectivity table for 1 neurons (pymaid)\n",
      "INFO  : Cached data used. Use `pymaid.clear_cache()` to clear. (pymaid)\n",
      "INFO  : Cached data used. Use `pymaid.clear_cache()` to clear. (pymaid)\n",
      "INFO  : Done. Found 0 pre-, 21 postsynaptic and 0 gap junction-connected neurons (pymaid)\n",
      "INFO  : Fetching connectivity table for 1 neurons (pymaid)\n",
      "INFO  : Done. Found 0 pre-, 16 postsynaptic and 0 gap junction-connected neurons (pymaid)\n",
      "INFO  : Fetching connectivity table for 1 neurons (pymaid)\n",
      "INFO  : Cached data used. Use `pymaid.clear_cache()` to clear. (pymaid)\n",
      "INFO  : Cached data used. Use `pymaid.clear_cache()` to clear. (pymaid)\n",
      "INFO  : Done. Found 0 pre-, 16 postsynaptic and 0 gap junction-connected neurons (pymaid)\n",
      "INFO  : Fetching connectivity table for 1 neurons (pymaid)\n",
      "INFO  : Done. Found 0 pre-, 10 postsynaptic and 0 gap junction-connected neurons (pymaid)\n",
      "INFO  : Fetching connectivity table for 1 neurons (pymaid)\n",
      "INFO  : Cached data used. Use `pymaid.clear_cache()` to clear. (pymaid)\n",
      "INFO  : Cached data used. Use `pymaid.clear_cache()` to clear. (pymaid)\n",
      "INFO  : Done. Found 0 pre-, 10 postsynaptic and 0 gap junction-connected neurons (pymaid)\n",
      "INFO  : Fetching connectivity table for 1 neurons (pymaid)\n",
      "INFO  : Done. Found 0 pre-, 5 postsynaptic and 0 gap junction-connected neurons (pymaid)\n",
      "INFO  : Fetching connectivity table for 1 neurons (pymaid)\n",
      "INFO  : Cached data used. Use `pymaid.clear_cache()` to clear. (pymaid)\n",
      "INFO  : Cached data used. Use `pymaid.clear_cache()` to clear. (pymaid)\n",
      "INFO  : Done. Found 0 pre-, 5 postsynaptic and 0 gap junction-connected neurons (pymaid)\n",
      "INFO  : Fetching connectivity table for 1 neurons (pymaid)\n",
      "INFO  : Cached data used. Use `pymaid.clear_cache()` to clear. (pymaid)\n",
      "INFO  : Cached data used. Use `pymaid.clear_cache()` to clear. (pymaid)\n",
      "INFO  : Done. Found 32 pre-, 0 postsynaptic and 0 gap junction-connected neurons (pymaid)\n",
      "INFO  : Cached data used. Use `pymaid.clear_cache()` to clear. (pymaid)\n",
      "INFO  : Cached data used. Use `pymaid.clear_cache()` to clear. (pymaid)\n",
      "INFO  : Cached data used. Use `pymaid.clear_cache()` to clear. (pymaid)\n",
      "INFO  : Cached data used. Use `pymaid.clear_cache()` to clear. (pymaid)\n",
      "INFO  : Cached data used. Use `pymaid.clear_cache()` to clear. (pymaid)\n",
      "INFO  : Fetching connectivity table for 1 neurons (pymaid)\n",
      "INFO  : Cached data used. Use `pymaid.clear_cache()` to clear. (pymaid)\n"
     ]
    },
    {
     "name": "stderr",
     "output_type": "stream",
     "text": [
      "INFO  : Cached data used. Use `pymaid.clear_cache()` to clear. (pymaid)\n",
      "INFO  : Done. Found 0 pre-, 5 postsynaptic and 0 gap junction-connected neurons (pymaid)\n",
      "INFO  : Fetching connectivity table for 1 neurons (pymaid)\n",
      "INFO  : Cached data used. Use `pymaid.clear_cache()` to clear. (pymaid)\n",
      "INFO  : Cached data used. Use `pymaid.clear_cache()` to clear. (pymaid)\n",
      "INFO  : Done. Found 0 pre-, 5 postsynaptic and 0 gap junction-connected neurons (pymaid)\n",
      "INFO  : Fetching connectivity table for 1 neurons (pymaid)\n",
      "INFO  : Cached data used. Use `pymaid.clear_cache()` to clear. (pymaid)\n",
      "INFO  : Cached data used. Use `pymaid.clear_cache()` to clear. (pymaid)\n",
      "INFO  : Done. Found 32 pre-, 0 postsynaptic and 0 gap junction-connected neurons (pymaid)\n",
      "INFO  : Cached data used. Use `pymaid.clear_cache()` to clear. (pymaid)\n",
      "INFO  : Cached data used. Use `pymaid.clear_cache()` to clear. (pymaid)\n",
      "INFO  : Cached data used. Use `pymaid.clear_cache()` to clear. (pymaid)\n",
      "INFO  : Cached data used. Use `pymaid.clear_cache()` to clear. (pymaid)\n",
      "INFO  : Cached data used. Use `pymaid.clear_cache()` to clear. (pymaid)\n",
      "INFO  : Cached data used. Use `pymaid.clear_cache()` to clear. (pymaid)\n",
      "INFO  : Fetching connectivity table for 1 neurons (pymaid)\n",
      "INFO  : Done. Found 0 pre-, 6 postsynaptic and 0 gap junction-connected neurons (pymaid)\n",
      "INFO  : Fetching connectivity table for 1 neurons (pymaid)\n",
      "INFO  : Cached data used. Use `pymaid.clear_cache()` to clear. (pymaid)\n",
      "INFO  : Cached data used. Use `pymaid.clear_cache()` to clear. (pymaid)\n",
      "INFO  : Done. Found 0 pre-, 6 postsynaptic and 0 gap junction-connected neurons (pymaid)\n",
      "INFO  : Fetching connectivity table for 1 neurons (pymaid)\n",
      "INFO  : Done. Found 0 pre-, 5 postsynaptic and 0 gap junction-connected neurons (pymaid)\n",
      "INFO  : Fetching connectivity table for 1 neurons (pymaid)\n",
      "INFO  : Cached data used. Use `pymaid.clear_cache()` to clear. (pymaid)\n",
      "INFO  : Cached data used. Use `pymaid.clear_cache()` to clear. (pymaid)\n",
      "INFO  : Done. Found 0 pre-, 5 postsynaptic and 0 gap junction-connected neurons (pymaid)\n",
      "INFO  : Fetching connectivity table for 1 neurons (pymaid)\n",
      "INFO  : Done. Found 0 pre-, 6 postsynaptic and 0 gap junction-connected neurons (pymaid)\n",
      "INFO  : Fetching connectivity table for 1 neurons (pymaid)\n",
      "INFO  : Cached data used. Use `pymaid.clear_cache()` to clear. (pymaid)\n",
      "INFO  : Cached data used. Use `pymaid.clear_cache()` to clear. (pymaid)\n",
      "INFO  : Done. Found 0 pre-, 6 postsynaptic and 0 gap junction-connected neurons (pymaid)\n",
      "INFO  : Fetching connectivity table for 1 neurons (pymaid)\n",
      "INFO  : Done. Found 0 pre-, 4 postsynaptic and 0 gap junction-connected neurons (pymaid)\n",
      "INFO  : Fetching connectivity table for 1 neurons (pymaid)\n",
      "INFO  : Cached data used. Use `pymaid.clear_cache()` to clear. (pymaid)\n",
      "INFO  : Cached data used. Use `pymaid.clear_cache()` to clear. (pymaid)\n",
      "INFO  : Done. Found 0 pre-, 4 postsynaptic and 0 gap junction-connected neurons (pymaid)\n",
      "INFO  : Fetching connectivity table for 1 neurons (pymaid)\n",
      "INFO  : Done. Found 0 pre-, 0 postsynaptic and 0 gap junction-connected neurons (pymaid)\n",
      "INFO  : Fetching connectivity table for 1 neurons (pymaid)\n",
      "INFO  : Cached data used. Use `pymaid.clear_cache()` to clear. (pymaid)\n",
      "INFO  : Cached data used. Use `pymaid.clear_cache()` to clear. (pymaid)\n",
      "INFO  : Done. Found 0 pre-, 0 postsynaptic and 0 gap junction-connected neurons (pymaid)\n",
      "INFO  : Fetching connectivity table for 1 neurons (pymaid)\n",
      "INFO  : Done. Found 0 pre-, 16 postsynaptic and 0 gap junction-connected neurons (pymaid)\n",
      "INFO  : Fetching connectivity table for 1 neurons (pymaid)\n",
      "INFO  : Cached data used. Use `pymaid.clear_cache()` to clear. (pymaid)\n",
      "INFO  : Cached data used. Use `pymaid.clear_cache()` to clear. (pymaid)\n",
      "INFO  : Done. Found 0 pre-, 16 postsynaptic and 0 gap junction-connected neurons (pymaid)\n",
      "INFO  : Fetching connectivity table for 1 neurons (pymaid)\n",
      "INFO  : Done. Found 0 pre-, 7 postsynaptic and 0 gap junction-connected neurons (pymaid)\n",
      "INFO  : Fetching connectivity table for 1 neurons (pymaid)\n",
      "INFO  : Cached data used. Use `pymaid.clear_cache()` to clear. (pymaid)\n",
      "INFO  : Cached data used. Use `pymaid.clear_cache()` to clear. (pymaid)\n",
      "INFO  : Done. Found 0 pre-, 7 postsynaptic and 0 gap junction-connected neurons (pymaid)\n",
      "INFO  : Fetching connectivity table for 1 neurons (pymaid)\n",
      "INFO  : Done. Found 0 pre-, 12 postsynaptic and 0 gap junction-connected neurons (pymaid)\n",
      "INFO  : Fetching connectivity table for 1 neurons (pymaid)\n",
      "INFO  : Cached data used. Use `pymaid.clear_cache()` to clear. (pymaid)\n",
      "INFO  : Cached data used. Use `pymaid.clear_cache()` to clear. (pymaid)\n",
      "INFO  : Done. Found 0 pre-, 12 postsynaptic and 0 gap junction-connected neurons (pymaid)\n",
      "INFO  : Fetching connectivity table for 1 neurons (pymaid)\n",
      "INFO  : Done. Found 0 pre-, 10 postsynaptic and 0 gap junction-connected neurons (pymaid)\n",
      "INFO  : Fetching connectivity table for 1 neurons (pymaid)\n",
      "INFO  : Cached data used. Use `pymaid.clear_cache()` to clear. (pymaid)\n",
      "INFO  : Cached data used. Use `pymaid.clear_cache()` to clear. (pymaid)\n",
      "INFO  : Done. Found 0 pre-, 10 postsynaptic and 0 gap junction-connected neurons (pymaid)\n",
      "INFO  : Fetching connectivity table for 1 neurons (pymaid)\n",
      "INFO  : Done. Found 0 pre-, 7 postsynaptic and 0 gap junction-connected neurons (pymaid)\n",
      "INFO  : Fetching connectivity table for 1 neurons (pymaid)\n",
      "INFO  : Cached data used. Use `pymaid.clear_cache()` to clear. (pymaid)\n",
      "INFO  : Cached data used. Use `pymaid.clear_cache()` to clear. (pymaid)\n",
      "INFO  : Done. Found 0 pre-, 7 postsynaptic and 0 gap junction-connected neurons (pymaid)\n",
      "INFO  : Fetching connectivity table for 1 neurons (pymaid)\n",
      "INFO  : Done. Found 0 pre-, 5 postsynaptic and 0 gap junction-connected neurons (pymaid)\n",
      "INFO  : Fetching connectivity table for 1 neurons (pymaid)\n",
      "INFO  : Cached data used. Use `pymaid.clear_cache()` to clear. (pymaid)\n",
      "INFO  : Cached data used. Use `pymaid.clear_cache()` to clear. (pymaid)\n",
      "INFO  : Done. Found 0 pre-, 5 postsynaptic and 0 gap junction-connected neurons (pymaid)\n",
      "INFO  : Fetching connectivity table for 1 neurons (pymaid)\n",
      "INFO  : Cached data used. Use `pymaid.clear_cache()` to clear. (pymaid)\n",
      "INFO  : Cached data used. Use `pymaid.clear_cache()` to clear. (pymaid)\n",
      "INFO  : Done. Found 19 pre-, 0 postsynaptic and 0 gap junction-connected neurons (pymaid)\n",
      "INFO  : Cached data used. Use `pymaid.clear_cache()` to clear. (pymaid)\n",
      "INFO  : Cached data used. Use `pymaid.clear_cache()` to clear. (pymaid)\n",
      "INFO  : Fetching connectivity table for 1 neurons (pymaid)\n",
      "INFO  : Cached data used. Use `pymaid.clear_cache()` to clear. (pymaid)\n",
      "INFO  : Cached data used. Use `pymaid.clear_cache()` to clear. (pymaid)\n",
      "INFO  : Done. Found 0 pre-, 5 postsynaptic and 0 gap junction-connected neurons (pymaid)\n",
      "INFO  : Fetching connectivity table for 1 neurons (pymaid)\n",
      "INFO  : Cached data used. Use `pymaid.clear_cache()` to clear. (pymaid)\n",
      "INFO  : Cached data used. Use `pymaid.clear_cache()` to clear. (pymaid)\n",
      "INFO  : Done. Found 0 pre-, 5 postsynaptic and 0 gap junction-connected neurons (pymaid)\n",
      "INFO  : Fetching connectivity table for 1 neurons (pymaid)\n",
      "INFO  : Cached data used. Use `pymaid.clear_cache()` to clear. (pymaid)\n",
      "INFO  : Cached data used. Use `pymaid.clear_cache()` to clear. (pymaid)\n",
      "INFO  : Done. Found 19 pre-, 0 postsynaptic and 0 gap junction-connected neurons (pymaid)\n",
      "INFO  : Cached data used. Use `pymaid.clear_cache()` to clear. (pymaid)\n",
      "INFO  : Cached data used. Use `pymaid.clear_cache()` to clear. (pymaid)\n",
      "INFO  : Cached data used. Use `pymaid.clear_cache()` to clear. (pymaid)\n",
      "INFO  : Fetching connectivity table for 1 neurons (pymaid)\n",
      "INFO  : Done. Found 0 pre-, 5 postsynaptic and 0 gap junction-connected neurons (pymaid)\n",
      "INFO  : Fetching connectivity table for 1 neurons (pymaid)\n",
      "INFO  : Cached data used. Use `pymaid.clear_cache()` to clear. (pymaid)\n",
      "INFO  : Cached data used. Use `pymaid.clear_cache()` to clear. (pymaid)\n",
      "INFO  : Done. Found 0 pre-, 5 postsynaptic and 0 gap junction-connected neurons (pymaid)\n",
      "INFO  : Fetching connectivity table for 1 neurons (pymaid)\n",
      "INFO  : Done. Found 0 pre-, 8 postsynaptic and 0 gap junction-connected neurons (pymaid)\n",
      "INFO  : Fetching connectivity table for 1 neurons (pymaid)\n"
     ]
    },
    {
     "name": "stderr",
     "output_type": "stream",
     "text": [
      "INFO  : Cached data used. Use `pymaid.clear_cache()` to clear. (pymaid)\n",
      "INFO  : Cached data used. Use `pymaid.clear_cache()` to clear. (pymaid)\n",
      "INFO  : Done. Found 0 pre-, 8 postsynaptic and 0 gap junction-connected neurons (pymaid)\n",
      "INFO  : Fetching connectivity table for 1 neurons (pymaid)\n",
      "INFO  : Done. Found 0 pre-, 5 postsynaptic and 0 gap junction-connected neurons (pymaid)\n",
      "INFO  : Fetching connectivity table for 1 neurons (pymaid)\n",
      "INFO  : Cached data used. Use `pymaid.clear_cache()` to clear. (pymaid)\n",
      "INFO  : Cached data used. Use `pymaid.clear_cache()` to clear. (pymaid)\n",
      "INFO  : Done. Found 0 pre-, 5 postsynaptic and 0 gap junction-connected neurons (pymaid)\n",
      "INFO  : Fetching connectivity table for 1 neurons (pymaid)\n",
      "INFO  : Done. Found 0 pre-, 10 postsynaptic and 0 gap junction-connected neurons (pymaid)\n",
      "INFO  : Fetching connectivity table for 1 neurons (pymaid)\n",
      "INFO  : Cached data used. Use `pymaid.clear_cache()` to clear. (pymaid)\n",
      "INFO  : Cached data used. Use `pymaid.clear_cache()` to clear. (pymaid)\n",
      "INFO  : Done. Found 0 pre-, 10 postsynaptic and 0 gap junction-connected neurons (pymaid)\n",
      "INFO  : Fetching connectivity table for 1 neurons (pymaid)\n",
      "INFO  : Cached data used. Use `pymaid.clear_cache()` to clear. (pymaid)\n",
      "INFO  : Cached data used. Use `pymaid.clear_cache()` to clear. (pymaid)\n",
      "INFO  : Done. Found 31 pre-, 0 postsynaptic and 0 gap junction-connected neurons (pymaid)\n",
      "INFO  : Fetching connectivity table for 1 neurons (pymaid)\n",
      "INFO  : Cached data used. Use `pymaid.clear_cache()` to clear. (pymaid)\n",
      "INFO  : Cached data used. Use `pymaid.clear_cache()` to clear. (pymaid)\n",
      "INFO  : Done. Found 32 pre-, 0 postsynaptic and 0 gap junction-connected neurons (pymaid)\n",
      "INFO  : Cached data used. Use `pymaid.clear_cache()` to clear. (pymaid)\n",
      "INFO  : Cached data used. Use `pymaid.clear_cache()` to clear. (pymaid)\n",
      "INFO  : Cached data used. Use `pymaid.clear_cache()` to clear. (pymaid)\n",
      "INFO  : Cached data used. Use `pymaid.clear_cache()` to clear. (pymaid)\n",
      "INFO  : Cached data used. Use `pymaid.clear_cache()` to clear. (pymaid)\n",
      "INFO  : Cached data used. Use `pymaid.clear_cache()` to clear. (pymaid)\n",
      "INFO  : Cached data used. Use `pymaid.clear_cache()` to clear. (pymaid)\n",
      "INFO  : Cached data used. Use `pymaid.clear_cache()` to clear. (pymaid)\n",
      "INFO  : Fetching connectivity table for 1 neurons (pymaid)\n",
      "INFO  : Cached data used. Use `pymaid.clear_cache()` to clear. (pymaid)\n",
      "INFO  : Cached data used. Use `pymaid.clear_cache()` to clear. (pymaid)\n",
      "INFO  : Done. Found 0 pre-, 10 postsynaptic and 0 gap junction-connected neurons (pymaid)\n",
      "INFO  : Fetching connectivity table for 1 neurons (pymaid)\n",
      "INFO  : Cached data used. Use `pymaid.clear_cache()` to clear. (pymaid)\n",
      "INFO  : Cached data used. Use `pymaid.clear_cache()` to clear. (pymaid)\n",
      "INFO  : Done. Found 0 pre-, 10 postsynaptic and 0 gap junction-connected neurons (pymaid)\n",
      "INFO  : Fetching connectivity table for 1 neurons (pymaid)\n",
      "INFO  : Cached data used. Use `pymaid.clear_cache()` to clear. (pymaid)\n",
      "INFO  : Cached data used. Use `pymaid.clear_cache()` to clear. (pymaid)\n",
      "INFO  : Done. Found 31 pre-, 0 postsynaptic and 0 gap junction-connected neurons (pymaid)\n",
      "INFO  : Fetching connectivity table for 1 neurons (pymaid)\n",
      "INFO  : Cached data used. Use `pymaid.clear_cache()` to clear. (pymaid)\n",
      "INFO  : Cached data used. Use `pymaid.clear_cache()` to clear. (pymaid)\n",
      "INFO  : Done. Found 32 pre-, 0 postsynaptic and 0 gap junction-connected neurons (pymaid)\n",
      "INFO  : Cached data used. Use `pymaid.clear_cache()` to clear. (pymaid)\n",
      "INFO  : Cached data used. Use `pymaid.clear_cache()` to clear. (pymaid)\n",
      "INFO  : Cached data used. Use `pymaid.clear_cache()` to clear. (pymaid)\n",
      "INFO  : Cached data used. Use `pymaid.clear_cache()` to clear. (pymaid)\n",
      "INFO  : Cached data used. Use `pymaid.clear_cache()` to clear. (pymaid)\n",
      "INFO  : Cached data used. Use `pymaid.clear_cache()` to clear. (pymaid)\n",
      "INFO  : Cached data used. Use `pymaid.clear_cache()` to clear. (pymaid)\n",
      "INFO  : Cached data used. Use `pymaid.clear_cache()` to clear. (pymaid)\n",
      "INFO  : Cached data used. Use `pymaid.clear_cache()` to clear. (pymaid)\n",
      "INFO  : Fetching connectivity table for 1 neurons (pymaid)\n",
      "INFO  : Done. Found 0 pre-, 21 postsynaptic and 0 gap junction-connected neurons (pymaid)\n",
      "INFO  : Fetching connectivity table for 1 neurons (pymaid)\n",
      "INFO  : Cached data used. Use `pymaid.clear_cache()` to clear. (pymaid)\n",
      "INFO  : Cached data used. Use `pymaid.clear_cache()` to clear. (pymaid)\n",
      "INFO  : Done. Found 0 pre-, 21 postsynaptic and 0 gap junction-connected neurons (pymaid)\n",
      "INFO  : Fetching connectivity table for 1 neurons (pymaid)\n",
      "INFO  : Cached data used. Use `pymaid.clear_cache()` to clear. (pymaid)\n",
      "INFO  : Cached data used. Use `pymaid.clear_cache()` to clear. (pymaid)\n",
      "INFO  : Done. Found 31 pre-, 0 postsynaptic and 0 gap junction-connected neurons (pymaid)\n",
      "INFO  : Fetching connectivity table for 1 neurons (pymaid)\n",
      "INFO  : Cached data used. Use `pymaid.clear_cache()` to clear. (pymaid)\n",
      "INFO  : Cached data used. Use `pymaid.clear_cache()` to clear. (pymaid)\n",
      "INFO  : Done. Found 32 pre-, 0 postsynaptic and 0 gap junction-connected neurons (pymaid)\n",
      "INFO  : Cached data used. Use `pymaid.clear_cache()` to clear. (pymaid)\n",
      "INFO  : Cached data used. Use `pymaid.clear_cache()` to clear. (pymaid)\n",
      "INFO  : Cached data used. Use `pymaid.clear_cache()` to clear. (pymaid)\n",
      "INFO  : Cached data used. Use `pymaid.clear_cache()` to clear. (pymaid)\n",
      "INFO  : Cached data used. Use `pymaid.clear_cache()` to clear. (pymaid)\n",
      "INFO  : Cached data used. Use `pymaid.clear_cache()` to clear. (pymaid)\n",
      "INFO  : Cached data used. Use `pymaid.clear_cache()` to clear. (pymaid)\n",
      "INFO  : Cached data used. Use `pymaid.clear_cache()` to clear. (pymaid)\n",
      "INFO  : Cached data used. Use `pymaid.clear_cache()` to clear. (pymaid)\n",
      "INFO  : Cached data used. Use `pymaid.clear_cache()` to clear. (pymaid)\n",
      "INFO  : Cached data used. Use `pymaid.clear_cache()` to clear. (pymaid)\n",
      "INFO  : Cached data used. Use `pymaid.clear_cache()` to clear. (pymaid)\n",
      "INFO  : Cached data used. Use `pymaid.clear_cache()` to clear. (pymaid)\n",
      "INFO  : Fetching connectivity table for 1 neurons (pymaid)\n",
      "INFO  : Cached data used. Use `pymaid.clear_cache()` to clear. (pymaid)\n",
      "INFO  : Cached data used. Use `pymaid.clear_cache()` to clear. (pymaid)\n",
      "INFO  : Done. Found 0 pre-, 21 postsynaptic and 0 gap junction-connected neurons (pymaid)\n",
      "INFO  : Fetching connectivity table for 1 neurons (pymaid)\n",
      "INFO  : Cached data used. Use `pymaid.clear_cache()` to clear. (pymaid)\n",
      "INFO  : Cached data used. Use `pymaid.clear_cache()` to clear. (pymaid)\n",
      "INFO  : Done. Found 0 pre-, 21 postsynaptic and 0 gap junction-connected neurons (pymaid)\n",
      "INFO  : Fetching connectivity table for 1 neurons (pymaid)\n",
      "INFO  : Cached data used. Use `pymaid.clear_cache()` to clear. (pymaid)\n",
      "INFO  : Cached data used. Use `pymaid.clear_cache()` to clear. (pymaid)\n",
      "INFO  : Done. Found 31 pre-, 0 postsynaptic and 0 gap junction-connected neurons (pymaid)\n",
      "INFO  : Fetching connectivity table for 1 neurons (pymaid)\n",
      "INFO  : Cached data used. Use `pymaid.clear_cache()` to clear. (pymaid)\n",
      "INFO  : Cached data used. Use `pymaid.clear_cache()` to clear. (pymaid)\n",
      "INFO  : Done. Found 32 pre-, 0 postsynaptic and 0 gap junction-connected neurons (pymaid)\n",
      "INFO  : Cached data used. Use `pymaid.clear_cache()` to clear. (pymaid)\n",
      "INFO  : Cached data used. Use `pymaid.clear_cache()` to clear. (pymaid)\n",
      "INFO  : Cached data used. Use `pymaid.clear_cache()` to clear. (pymaid)\n",
      "INFO  : Cached data used. Use `pymaid.clear_cache()` to clear. (pymaid)\n",
      "INFO  : Cached data used. Use `pymaid.clear_cache()` to clear. (pymaid)\n",
      "INFO  : Cached data used. Use `pymaid.clear_cache()` to clear. (pymaid)\n",
      "INFO  : Cached data used. Use `pymaid.clear_cache()` to clear. (pymaid)\n",
      "INFO  : Cached data used. Use `pymaid.clear_cache()` to clear. (pymaid)\n",
      "INFO  : Cached data used. Use `pymaid.clear_cache()` to clear. (pymaid)\n",
      "INFO  : Cached data used. Use `pymaid.clear_cache()` to clear. (pymaid)\n",
      "INFO  : Cached data used. Use `pymaid.clear_cache()` to clear. (pymaid)\n",
      "INFO  : Cached data used. Use `pymaid.clear_cache()` to clear. (pymaid)\n",
      "INFO  : Cached data used. Use `pymaid.clear_cache()` to clear. (pymaid)\n",
      "INFO  : Cached data used. Use `pymaid.clear_cache()` to clear. (pymaid)\n"
     ]
    },
    {
     "name": "stderr",
     "output_type": "stream",
     "text": [
      "INFO  : Cached data used. Use `pymaid.clear_cache()` to clear. (pymaid)\n",
      "INFO  : Fetching connectivity table for 1 neurons (pymaid)\n",
      "INFO  : Done. Found 0 pre-, 6 postsynaptic and 0 gap junction-connected neurons (pymaid)\n",
      "INFO  : Fetching connectivity table for 1 neurons (pymaid)\n",
      "INFO  : Cached data used. Use `pymaid.clear_cache()` to clear. (pymaid)\n",
      "INFO  : Cached data used. Use `pymaid.clear_cache()` to clear. (pymaid)\n",
      "INFO  : Done. Found 0 pre-, 6 postsynaptic and 0 gap junction-connected neurons (pymaid)\n",
      "INFO  : Fetching connectivity table for 1 neurons (pymaid)\n",
      "INFO  : Done. Found 0 pre-, 46 postsynaptic and 0 gap junction-connected neurons (pymaid)\n",
      "INFO  : Fetching connectivity table for 1 neurons (pymaid)\n",
      "INFO  : Cached data used. Use `pymaid.clear_cache()` to clear. (pymaid)\n",
      "INFO  : Cached data used. Use `pymaid.clear_cache()` to clear. (pymaid)\n",
      "INFO  : Done. Found 0 pre-, 46 postsynaptic and 0 gap junction-connected neurons (pymaid)\n",
      "INFO  : Fetching connectivity table for 1 neurons (pymaid)\n",
      "INFO  : Done. Found 0 pre-, 14 postsynaptic and 0 gap junction-connected neurons (pymaid)\n",
      "INFO  : Fetching connectivity table for 1 neurons (pymaid)\n",
      "INFO  : Cached data used. Use `pymaid.clear_cache()` to clear. (pymaid)\n",
      "INFO  : Cached data used. Use `pymaid.clear_cache()` to clear. (pymaid)\n",
      "INFO  : Done. Found 0 pre-, 14 postsynaptic and 0 gap junction-connected neurons (pymaid)\n",
      "INFO  : Fetching connectivity table for 1 neurons (pymaid)\n",
      "INFO  : Done. Found 0 pre-, 38 postsynaptic and 0 gap junction-connected neurons (pymaid)\n",
      "INFO  : Fetching connectivity table for 1 neurons (pymaid)\n",
      "INFO  : Cached data used. Use `pymaid.clear_cache()` to clear. (pymaid)\n",
      "INFO  : Cached data used. Use `pymaid.clear_cache()` to clear. (pymaid)\n",
      "INFO  : Done. Found 0 pre-, 38 postsynaptic and 0 gap junction-connected neurons (pymaid)\n",
      "INFO  : Fetching connectivity table for 1 neurons (pymaid)\n",
      "INFO  : Done. Found 0 pre-, 8 postsynaptic and 0 gap junction-connected neurons (pymaid)\n",
      "INFO  : Fetching connectivity table for 1 neurons (pymaid)\n",
      "INFO  : Cached data used. Use `pymaid.clear_cache()` to clear. (pymaid)\n",
      "INFO  : Cached data used. Use `pymaid.clear_cache()` to clear. (pymaid)\n",
      "INFO  : Done. Found 0 pre-, 8 postsynaptic and 0 gap junction-connected neurons (pymaid)\n",
      "INFO  : Fetching connectivity table for 1 neurons (pymaid)\n",
      "INFO  : Done. Found 0 pre-, 3 postsynaptic and 0 gap junction-connected neurons (pymaid)\n",
      "INFO  : Fetching connectivity table for 1 neurons (pymaid)\n",
      "INFO  : Cached data used. Use `pymaid.clear_cache()` to clear. (pymaid)\n",
      "INFO  : Cached data used. Use `pymaid.clear_cache()` to clear. (pymaid)\n",
      "INFO  : Done. Found 0 pre-, 3 postsynaptic and 0 gap junction-connected neurons (pymaid)\n",
      "INFO  : Fetching connectivity table for 1 neurons (pymaid)\n",
      "INFO  : Done. Found 0 pre-, 32 postsynaptic and 0 gap junction-connected neurons (pymaid)\n",
      "INFO  : Fetching connectivity table for 1 neurons (pymaid)\n",
      "INFO  : Cached data used. Use `pymaid.clear_cache()` to clear. (pymaid)\n",
      "INFO  : Cached data used. Use `pymaid.clear_cache()` to clear. (pymaid)\n",
      "INFO  : Done. Found 0 pre-, 32 postsynaptic and 0 gap junction-connected neurons (pymaid)\n",
      "INFO  : Fetching connectivity table for 1 neurons (pymaid)\n",
      "INFO  : Done. Found 0 pre-, 5 postsynaptic and 0 gap junction-connected neurons (pymaid)\n",
      "INFO  : Fetching connectivity table for 1 neurons (pymaid)\n",
      "INFO  : Cached data used. Use `pymaid.clear_cache()` to clear. (pymaid)\n",
      "INFO  : Cached data used. Use `pymaid.clear_cache()` to clear. (pymaid)\n",
      "INFO  : Done. Found 0 pre-, 5 postsynaptic and 0 gap junction-connected neurons (pymaid)\n",
      "INFO  : Fetching connectivity table for 1 neurons (pymaid)\n",
      "INFO  : Done. Found 0 pre-, 11 postsynaptic and 0 gap junction-connected neurons (pymaid)\n",
      "INFO  : Fetching connectivity table for 1 neurons (pymaid)\n",
      "INFO  : Cached data used. Use `pymaid.clear_cache()` to clear. (pymaid)\n",
      "INFO  : Cached data used. Use `pymaid.clear_cache()` to clear. (pymaid)\n",
      "INFO  : Done. Found 0 pre-, 11 postsynaptic and 0 gap junction-connected neurons (pymaid)\n",
      "INFO  : Fetching connectivity table for 1 neurons (pymaid)\n",
      "INFO  : Cached data used. Use `pymaid.clear_cache()` to clear. (pymaid)\n",
      "INFO  : Cached data used. Use `pymaid.clear_cache()` to clear. (pymaid)\n",
      "INFO  : Done. Found 19 pre-, 0 postsynaptic and 0 gap junction-connected neurons (pymaid)\n",
      "INFO  : Cached data used. Use `pymaid.clear_cache()` to clear. (pymaid)\n",
      "INFO  : Cached data used. Use `pymaid.clear_cache()` to clear. (pymaid)\n",
      "INFO  : Cached data used. Use `pymaid.clear_cache()` to clear. (pymaid)\n",
      "INFO  : Cached data used. Use `pymaid.clear_cache()` to clear. (pymaid)\n",
      "INFO  : Cached data used. Use `pymaid.clear_cache()` to clear. (pymaid)\n",
      "INFO  : Fetching connectivity table for 1 neurons (pymaid)\n",
      "INFO  : Cached data used. Use `pymaid.clear_cache()` to clear. (pymaid)\n",
      "INFO  : Cached data used. Use `pymaid.clear_cache()` to clear. (pymaid)\n",
      "INFO  : Done. Found 0 pre-, 11 postsynaptic and 0 gap junction-connected neurons (pymaid)\n",
      "INFO  : Fetching connectivity table for 1 neurons (pymaid)\n",
      "INFO  : Cached data used. Use `pymaid.clear_cache()` to clear. (pymaid)\n",
      "INFO  : Cached data used. Use `pymaid.clear_cache()` to clear. (pymaid)\n",
      "INFO  : Done. Found 0 pre-, 11 postsynaptic and 0 gap junction-connected neurons (pymaid)\n",
      "INFO  : Fetching connectivity table for 1 neurons (pymaid)\n",
      "INFO  : Cached data used. Use `pymaid.clear_cache()` to clear. (pymaid)\n",
      "INFO  : Cached data used. Use `pymaid.clear_cache()` to clear. (pymaid)\n",
      "INFO  : Done. Found 19 pre-, 0 postsynaptic and 0 gap junction-connected neurons (pymaid)\n",
      "INFO  : Cached data used. Use `pymaid.clear_cache()` to clear. (pymaid)\n",
      "INFO  : Cached data used. Use `pymaid.clear_cache()` to clear. (pymaid)\n",
      "INFO  : Cached data used. Use `pymaid.clear_cache()` to clear. (pymaid)\n",
      "INFO  : Cached data used. Use `pymaid.clear_cache()` to clear. (pymaid)\n",
      "INFO  : Cached data used. Use `pymaid.clear_cache()` to clear. (pymaid)\n",
      "INFO  : Cached data used. Use `pymaid.clear_cache()` to clear. (pymaid)\n",
      "INFO  : Fetching connectivity table for 1 neurons (pymaid)\n",
      "INFO  : Done. Found 0 pre-, 9 postsynaptic and 0 gap junction-connected neurons (pymaid)\n",
      "INFO  : Fetching connectivity table for 1 neurons (pymaid)\n",
      "INFO  : Cached data used. Use `pymaid.clear_cache()` to clear. (pymaid)\n",
      "INFO  : Cached data used. Use `pymaid.clear_cache()` to clear. (pymaid)\n",
      "INFO  : Done. Found 0 pre-, 9 postsynaptic and 0 gap junction-connected neurons (pymaid)\n",
      "INFO  : Fetching connectivity table for 1 neurons (pymaid)\n",
      "INFO  : Done. Found 0 pre-, 14 postsynaptic and 0 gap junction-connected neurons (pymaid)\n",
      "INFO  : Fetching connectivity table for 1 neurons (pymaid)\n",
      "INFO  : Cached data used. Use `pymaid.clear_cache()` to clear. (pymaid)\n",
      "INFO  : Cached data used. Use `pymaid.clear_cache()` to clear. (pymaid)\n",
      "INFO  : Done. Found 0 pre-, 14 postsynaptic and 0 gap junction-connected neurons (pymaid)\n",
      "INFO  : Fetching connectivity table for 1 neurons (pymaid)\n",
      "INFO  : Done. Found 0 pre-, 2 postsynaptic and 0 gap junction-connected neurons (pymaid)\n",
      "INFO  : Fetching connectivity table for 1 neurons (pymaid)\n",
      "INFO  : Cached data used. Use `pymaid.clear_cache()` to clear. (pymaid)\n",
      "INFO  : Cached data used. Use `pymaid.clear_cache()` to clear. (pymaid)\n",
      "INFO  : Done. Found 0 pre-, 2 postsynaptic and 0 gap junction-connected neurons (pymaid)\n",
      "INFO  : Fetching connectivity table for 1 neurons (pymaid)\n",
      "INFO  : Done. Found 0 pre-, 25 postsynaptic and 0 gap junction-connected neurons (pymaid)\n",
      "INFO  : Fetching connectivity table for 1 neurons (pymaid)\n",
      "INFO  : Cached data used. Use `pymaid.clear_cache()` to clear. (pymaid)\n",
      "INFO  : Cached data used. Use `pymaid.clear_cache()` to clear. (pymaid)\n",
      "INFO  : Done. Found 0 pre-, 25 postsynaptic and 0 gap junction-connected neurons (pymaid)\n",
      "INFO  : Fetching connectivity table for 1 neurons (pymaid)\n",
      "INFO  : Done. Found 0 pre-, 33 postsynaptic and 0 gap junction-connected neurons (pymaid)\n",
      "INFO  : Fetching connectivity table for 1 neurons (pymaid)\n",
      "INFO  : Cached data used. Use `pymaid.clear_cache()` to clear. (pymaid)\n",
      "INFO  : Cached data used. Use `pymaid.clear_cache()` to clear. (pymaid)\n",
      "INFO  : Done. Found 0 pre-, 33 postsynaptic and 0 gap junction-connected neurons (pymaid)\n"
     ]
    },
    {
     "name": "stderr",
     "output_type": "stream",
     "text": [
      "INFO  : Fetching connectivity table for 1 neurons (pymaid)\n",
      "INFO  : Done. Found 0 pre-, 7 postsynaptic and 0 gap junction-connected neurons (pymaid)\n",
      "INFO  : Fetching connectivity table for 1 neurons (pymaid)\n",
      "INFO  : Cached data used. Use `pymaid.clear_cache()` to clear. (pymaid)\n",
      "INFO  : Cached data used. Use `pymaid.clear_cache()` to clear. (pymaid)\n",
      "INFO  : Done. Found 0 pre-, 7 postsynaptic and 0 gap junction-connected neurons (pymaid)\n",
      "INFO  : Fetching connectivity table for 1 neurons (pymaid)\n",
      "INFO  : Done. Found 0 pre-, 5 postsynaptic and 0 gap junction-connected neurons (pymaid)\n",
      "INFO  : Fetching connectivity table for 1 neurons (pymaid)\n",
      "INFO  : Cached data used. Use `pymaid.clear_cache()` to clear. (pymaid)\n",
      "INFO  : Cached data used. Use `pymaid.clear_cache()` to clear. (pymaid)\n",
      "INFO  : Done. Found 0 pre-, 5 postsynaptic and 0 gap junction-connected neurons (pymaid)\n",
      "INFO  : Fetching connectivity table for 1 neurons (pymaid)\n",
      "INFO  : Done. Found 0 pre-, 9 postsynaptic and 0 gap junction-connected neurons (pymaid)\n",
      "INFO  : Fetching connectivity table for 1 neurons (pymaid)\n",
      "INFO  : Cached data used. Use `pymaid.clear_cache()` to clear. (pymaid)\n",
      "INFO  : Cached data used. Use `pymaid.clear_cache()` to clear. (pymaid)\n",
      "INFO  : Done. Found 0 pre-, 9 postsynaptic and 0 gap junction-connected neurons (pymaid)\n",
      "INFO  : Fetching connectivity table for 1 neurons (pymaid)\n",
      "INFO  : Done. Found 0 pre-, 9 postsynaptic and 0 gap junction-connected neurons (pymaid)\n",
      "INFO  : Fetching connectivity table for 1 neurons (pymaid)\n",
      "INFO  : Cached data used. Use `pymaid.clear_cache()` to clear. (pymaid)\n",
      "INFO  : Cached data used. Use `pymaid.clear_cache()` to clear. (pymaid)\n",
      "INFO  : Done. Found 0 pre-, 9 postsynaptic and 0 gap junction-connected neurons (pymaid)\n",
      "INFO  : Fetching connectivity table for 1 neurons (pymaid)\n",
      "INFO  : Done. Found 0 pre-, 16 postsynaptic and 0 gap junction-connected neurons (pymaid)\n",
      "INFO  : Fetching connectivity table for 1 neurons (pymaid)\n",
      "INFO  : Cached data used. Use `pymaid.clear_cache()` to clear. (pymaid)\n",
      "INFO  : Cached data used. Use `pymaid.clear_cache()` to clear. (pymaid)\n",
      "INFO  : Done. Found 0 pre-, 16 postsynaptic and 0 gap junction-connected neurons (pymaid)\n",
      "INFO  : Fetching connectivity table for 1 neurons (pymaid)\n",
      "INFO  : Done. Found 0 pre-, 13 postsynaptic and 0 gap junction-connected neurons (pymaid)\n",
      "INFO  : Fetching connectivity table for 1 neurons (pymaid)\n",
      "INFO  : Cached data used. Use `pymaid.clear_cache()` to clear. (pymaid)\n",
      "INFO  : Cached data used. Use `pymaid.clear_cache()` to clear. (pymaid)\n",
      "INFO  : Done. Found 0 pre-, 13 postsynaptic and 0 gap junction-connected neurons (pymaid)\n",
      "INFO  : Fetching connectivity table for 1 neurons (pymaid)\n",
      "INFO  : Done. Found 0 pre-, 18 postsynaptic and 0 gap junction-connected neurons (pymaid)\n",
      "INFO  : Fetching connectivity table for 1 neurons (pymaid)\n",
      "INFO  : Cached data used. Use `pymaid.clear_cache()` to clear. (pymaid)\n",
      "INFO  : Cached data used. Use `pymaid.clear_cache()` to clear. (pymaid)\n",
      "INFO  : Done. Found 0 pre-, 18 postsynaptic and 0 gap junction-connected neurons (pymaid)\n",
      "INFO  : Fetching connectivity table for 1 neurons (pymaid)\n",
      "INFO  : Cached data used. Use `pymaid.clear_cache()` to clear. (pymaid)\n",
      "INFO  : Cached data used. Use `pymaid.clear_cache()` to clear. (pymaid)\n",
      "INFO  : Done. Found 16 pre-, 0 postsynaptic and 0 gap junction-connected neurons (pymaid)\n",
      "INFO  : Fetching connectivity table for 1 neurons (pymaid)\n",
      "INFO  : Cached data used. Use `pymaid.clear_cache()` to clear. (pymaid)\n",
      "INFO  : Cached data used. Use `pymaid.clear_cache()` to clear. (pymaid)\n",
      "INFO  : Done. Found 19 pre-, 0 postsynaptic and 0 gap junction-connected neurons (pymaid)\n",
      "INFO  : Cached data used. Use `pymaid.clear_cache()` to clear. (pymaid)\n",
      "INFO  : Cached data used. Use `pymaid.clear_cache()` to clear. (pymaid)\n",
      "INFO  : Cached data used. Use `pymaid.clear_cache()` to clear. (pymaid)\n",
      "INFO  : Cached data used. Use `pymaid.clear_cache()` to clear. (pymaid)\n",
      "INFO  : Cached data used. Use `pymaid.clear_cache()` to clear. (pymaid)\n",
      "INFO  : Cached data used. Use `pymaid.clear_cache()` to clear. (pymaid)\n",
      "INFO  : Cached data used. Use `pymaid.clear_cache()` to clear. (pymaid)\n",
      "INFO  : Cached data used. Use `pymaid.clear_cache()` to clear. (pymaid)\n",
      "INFO  : Cached data used. Use `pymaid.clear_cache()` to clear. (pymaid)\n",
      "INFO  : Cached data used. Use `pymaid.clear_cache()` to clear. (pymaid)\n",
      "INFO  : Cached data used. Use `pymaid.clear_cache()` to clear. (pymaid)\n",
      "INFO  : Fetching connectivity table for 1 neurons (pymaid)\n",
      "INFO  : Cached data used. Use `pymaid.clear_cache()` to clear. (pymaid)\n",
      "INFO  : Cached data used. Use `pymaid.clear_cache()` to clear. (pymaid)\n",
      "INFO  : Done. Found 0 pre-, 18 postsynaptic and 0 gap junction-connected neurons (pymaid)\n",
      "INFO  : Fetching connectivity table for 1 neurons (pymaid)\n",
      "INFO  : Cached data used. Use `pymaid.clear_cache()` to clear. (pymaid)\n",
      "INFO  : Cached data used. Use `pymaid.clear_cache()` to clear. (pymaid)\n",
      "INFO  : Done. Found 0 pre-, 18 postsynaptic and 0 gap junction-connected neurons (pymaid)\n",
      "INFO  : Fetching connectivity table for 1 neurons (pymaid)\n",
      "INFO  : Cached data used. Use `pymaid.clear_cache()` to clear. (pymaid)\n",
      "INFO  : Cached data used. Use `pymaid.clear_cache()` to clear. (pymaid)\n",
      "INFO  : Done. Found 16 pre-, 0 postsynaptic and 0 gap junction-connected neurons (pymaid)\n",
      "INFO  : Fetching connectivity table for 1 neurons (pymaid)\n",
      "INFO  : Cached data used. Use `pymaid.clear_cache()` to clear. (pymaid)\n",
      "INFO  : Cached data used. Use `pymaid.clear_cache()` to clear. (pymaid)\n",
      "INFO  : Done. Found 19 pre-, 0 postsynaptic and 0 gap junction-connected neurons (pymaid)\n",
      "INFO  : Cached data used. Use `pymaid.clear_cache()` to clear. (pymaid)\n",
      "INFO  : Cached data used. Use `pymaid.clear_cache()` to clear. (pymaid)\n",
      "INFO  : Cached data used. Use `pymaid.clear_cache()` to clear. (pymaid)\n",
      "INFO  : Cached data used. Use `pymaid.clear_cache()` to clear. (pymaid)\n",
      "INFO  : Cached data used. Use `pymaid.clear_cache()` to clear. (pymaid)\n",
      "INFO  : Cached data used. Use `pymaid.clear_cache()` to clear. (pymaid)\n",
      "INFO  : Cached data used. Use `pymaid.clear_cache()` to clear. (pymaid)\n",
      "INFO  : Cached data used. Use `pymaid.clear_cache()` to clear. (pymaid)\n",
      "INFO  : Cached data used. Use `pymaid.clear_cache()` to clear. (pymaid)\n",
      "INFO  : Cached data used. Use `pymaid.clear_cache()` to clear. (pymaid)\n",
      "INFO  : Cached data used. Use `pymaid.clear_cache()` to clear. (pymaid)\n",
      "INFO  : Cached data used. Use `pymaid.clear_cache()` to clear. (pymaid)\n",
      "INFO  : Fetching connectivity table for 1 neurons (pymaid)\n",
      "INFO  : Done. Found 0 pre-, 13 postsynaptic and 0 gap junction-connected neurons (pymaid)\n",
      "INFO  : Fetching connectivity table for 1 neurons (pymaid)\n",
      "INFO  : Cached data used. Use `pymaid.clear_cache()` to clear. (pymaid)\n",
      "INFO  : Cached data used. Use `pymaid.clear_cache()` to clear. (pymaid)\n",
      "INFO  : Done. Found 0 pre-, 13 postsynaptic and 0 gap junction-connected neurons (pymaid)\n",
      "INFO  : Fetching connectivity table for 1 neurons (pymaid)\n",
      "INFO  : Done. Found 0 pre-, 0 postsynaptic and 0 gap junction-connected neurons (pymaid)\n",
      "INFO  : Fetching connectivity table for 1 neurons (pymaid)\n",
      "INFO  : Cached data used. Use `pymaid.clear_cache()` to clear. (pymaid)\n",
      "INFO  : Cached data used. Use `pymaid.clear_cache()` to clear. (pymaid)\n",
      "INFO  : Done. Found 0 pre-, 0 postsynaptic and 0 gap junction-connected neurons (pymaid)\n",
      "INFO  : Fetching connectivity table for 1 neurons (pymaid)\n",
      "INFO  : Done. Found 0 pre-, 4 postsynaptic and 0 gap junction-connected neurons (pymaid)\n",
      "INFO  : Fetching connectivity table for 1 neurons (pymaid)\n",
      "INFO  : Cached data used. Use `pymaid.clear_cache()` to clear. (pymaid)\n",
      "INFO  : Cached data used. Use `pymaid.clear_cache()` to clear. (pymaid)\n",
      "INFO  : Done. Found 0 pre-, 4 postsynaptic and 0 gap junction-connected neurons (pymaid)\n",
      "INFO  : Fetching connectivity table for 1 neurons (pymaid)\n",
      "INFO  : Done. Found 0 pre-, 21 postsynaptic and 0 gap junction-connected neurons (pymaid)\n",
      "INFO  : Fetching connectivity table for 1 neurons (pymaid)\n",
      "INFO  : Cached data used. Use `pymaid.clear_cache()` to clear. (pymaid)\n",
      "INFO  : Cached data used. Use `pymaid.clear_cache()` to clear. (pymaid)\n",
      "INFO  : Done. Found 0 pre-, 21 postsynaptic and 0 gap junction-connected neurons (pymaid)\n"
     ]
    },
    {
     "name": "stderr",
     "output_type": "stream",
     "text": [
      "INFO  : Fetching connectivity table for 1 neurons (pymaid)\n",
      "INFO  : Done. Found 0 pre-, 4 postsynaptic and 0 gap junction-connected neurons (pymaid)\n",
      "INFO  : Fetching connectivity table for 1 neurons (pymaid)\n",
      "INFO  : Cached data used. Use `pymaid.clear_cache()` to clear. (pymaid)\n",
      "INFO  : Cached data used. Use `pymaid.clear_cache()` to clear. (pymaid)\n",
      "INFO  : Done. Found 0 pre-, 4 postsynaptic and 0 gap junction-connected neurons (pymaid)\n",
      "INFO  : Fetching connectivity table for 1 neurons (pymaid)\n",
      "INFO  : Done. Found 0 pre-, 18 postsynaptic and 0 gap junction-connected neurons (pymaid)\n",
      "INFO  : Fetching connectivity table for 1 neurons (pymaid)\n",
      "INFO  : Cached data used. Use `pymaid.clear_cache()` to clear. (pymaid)\n",
      "INFO  : Cached data used. Use `pymaid.clear_cache()` to clear. (pymaid)\n",
      "INFO  : Done. Found 0 pre-, 18 postsynaptic and 0 gap junction-connected neurons (pymaid)\n",
      "INFO  : Fetching connectivity table for 1 neurons (pymaid)\n",
      "INFO  : Done. Found 0 pre-, 8 postsynaptic and 0 gap junction-connected neurons (pymaid)\n",
      "INFO  : Fetching connectivity table for 1 neurons (pymaid)\n",
      "INFO  : Cached data used. Use `pymaid.clear_cache()` to clear. (pymaid)\n",
      "INFO  : Cached data used. Use `pymaid.clear_cache()` to clear. (pymaid)\n",
      "INFO  : Done. Found 0 pre-, 8 postsynaptic and 0 gap junction-connected neurons (pymaid)\n",
      "INFO  : Fetching connectivity table for 1 neurons (pymaid)\n",
      "INFO  : Done. Found 0 pre-, 19 postsynaptic and 0 gap junction-connected neurons (pymaid)\n",
      "INFO  : Fetching connectivity table for 1 neurons (pymaid)\n",
      "INFO  : Cached data used. Use `pymaid.clear_cache()` to clear. (pymaid)\n",
      "INFO  : Cached data used. Use `pymaid.clear_cache()` to clear. (pymaid)\n",
      "INFO  : Done. Found 0 pre-, 19 postsynaptic and 0 gap junction-connected neurons (pymaid)\n",
      "INFO  : Fetching connectivity table for 1 neurons (pymaid)\n",
      "INFO  : Done. Found 0 pre-, 6 postsynaptic and 0 gap junction-connected neurons (pymaid)\n",
      "INFO  : Fetching connectivity table for 1 neurons (pymaid)\n",
      "INFO  : Cached data used. Use `pymaid.clear_cache()` to clear. (pymaid)\n",
      "INFO  : Cached data used. Use `pymaid.clear_cache()` to clear. (pymaid)\n",
      "INFO  : Done. Found 0 pre-, 6 postsynaptic and 0 gap junction-connected neurons (pymaid)\n",
      "INFO  : Fetching connectivity table for 1 neurons (pymaid)\n",
      "INFO  : Done. Found 0 pre-, 16 postsynaptic and 0 gap junction-connected neurons (pymaid)\n",
      "INFO  : Fetching connectivity table for 1 neurons (pymaid)\n",
      "INFO  : Cached data used. Use `pymaid.clear_cache()` to clear. (pymaid)\n",
      "INFO  : Cached data used. Use `pymaid.clear_cache()` to clear. (pymaid)\n",
      "INFO  : Done. Found 0 pre-, 16 postsynaptic and 0 gap junction-connected neurons (pymaid)\n",
      "INFO  : Fetching connectivity table for 1 neurons (pymaid)\n",
      "INFO  : Cached data used. Use `pymaid.clear_cache()` to clear. (pymaid)\n",
      "INFO  : Cached data used. Use `pymaid.clear_cache()` to clear. (pymaid)\n",
      "INFO  : Done. Found 26 pre-, 0 postsynaptic and 0 gap junction-connected neurons (pymaid)\n",
      "INFO  : Cached data used. Use `pymaid.clear_cache()` to clear. (pymaid)\n",
      "INFO  : Cached data used. Use `pymaid.clear_cache()` to clear. (pymaid)\n",
      "INFO  : Cached data used. Use `pymaid.clear_cache()` to clear. (pymaid)\n",
      "INFO  : Cached data used. Use `pymaid.clear_cache()` to clear. (pymaid)\n",
      "INFO  : Cached data used. Use `pymaid.clear_cache()` to clear. (pymaid)\n",
      "INFO  : Cached data used. Use `pymaid.clear_cache()` to clear. (pymaid)\n",
      "INFO  : Cached data used. Use `pymaid.clear_cache()` to clear. (pymaid)\n",
      "INFO  : Cached data used. Use `pymaid.clear_cache()` to clear. (pymaid)\n",
      "INFO  : Cached data used. Use `pymaid.clear_cache()` to clear. (pymaid)\n",
      "INFO  : Cached data used. Use `pymaid.clear_cache()` to clear. (pymaid)\n",
      "INFO  : Cached data used. Use `pymaid.clear_cache()` to clear. (pymaid)\n",
      "INFO  : Fetching connectivity table for 1 neurons (pymaid)\n",
      "INFO  : Cached data used. Use `pymaid.clear_cache()` to clear. (pymaid)\n",
      "INFO  : Cached data used. Use `pymaid.clear_cache()` to clear. (pymaid)\n",
      "INFO  : Done. Found 0 pre-, 16 postsynaptic and 0 gap junction-connected neurons (pymaid)\n",
      "INFO  : Fetching connectivity table for 1 neurons (pymaid)\n",
      "INFO  : Cached data used. Use `pymaid.clear_cache()` to clear. (pymaid)\n",
      "INFO  : Cached data used. Use `pymaid.clear_cache()` to clear. (pymaid)\n",
      "INFO  : Done. Found 0 pre-, 16 postsynaptic and 0 gap junction-connected neurons (pymaid)\n",
      "INFO  : Fetching connectivity table for 1 neurons (pymaid)\n",
      "INFO  : Cached data used. Use `pymaid.clear_cache()` to clear. (pymaid)\n",
      "INFO  : Cached data used. Use `pymaid.clear_cache()` to clear. (pymaid)\n",
      "INFO  : Done. Found 26 pre-, 0 postsynaptic and 0 gap junction-connected neurons (pymaid)\n",
      "INFO  : Cached data used. Use `pymaid.clear_cache()` to clear. (pymaid)\n",
      "INFO  : Cached data used. Use `pymaid.clear_cache()` to clear. (pymaid)\n",
      "INFO  : Cached data used. Use `pymaid.clear_cache()` to clear. (pymaid)\n",
      "INFO  : Cached data used. Use `pymaid.clear_cache()` to clear. (pymaid)\n",
      "INFO  : Cached data used. Use `pymaid.clear_cache()` to clear. (pymaid)\n",
      "INFO  : Cached data used. Use `pymaid.clear_cache()` to clear. (pymaid)\n",
      "INFO  : Cached data used. Use `pymaid.clear_cache()` to clear. (pymaid)\n",
      "INFO  : Cached data used. Use `pymaid.clear_cache()` to clear. (pymaid)\n",
      "INFO  : Cached data used. Use `pymaid.clear_cache()` to clear. (pymaid)\n",
      "INFO  : Cached data used. Use `pymaid.clear_cache()` to clear. (pymaid)\n",
      "INFO  : Cached data used. Use `pymaid.clear_cache()` to clear. (pymaid)\n",
      "INFO  : Cached data used. Use `pymaid.clear_cache()` to clear. (pymaid)\n",
      "INFO  : Fetching connectivity table for 1 neurons (pymaid)\n",
      "INFO  : Done. Found 0 pre-, 17 postsynaptic and 0 gap junction-connected neurons (pymaid)\n",
      "INFO  : Fetching connectivity table for 1 neurons (pymaid)\n",
      "INFO  : Cached data used. Use `pymaid.clear_cache()` to clear. (pymaid)\n",
      "INFO  : Cached data used. Use `pymaid.clear_cache()` to clear. (pymaid)\n",
      "INFO  : Done. Found 0 pre-, 17 postsynaptic and 0 gap junction-connected neurons (pymaid)\n",
      "INFO  : Fetching connectivity table for 1 neurons (pymaid)\n",
      "INFO  : Done. Found 0 pre-, 5 postsynaptic and 0 gap junction-connected neurons (pymaid)\n",
      "INFO  : Fetching connectivity table for 1 neurons (pymaid)\n",
      "INFO  : Cached data used. Use `pymaid.clear_cache()` to clear. (pymaid)\n",
      "INFO  : Cached data used. Use `pymaid.clear_cache()` to clear. (pymaid)\n",
      "INFO  : Done. Found 0 pre-, 5 postsynaptic and 0 gap junction-connected neurons (pymaid)\n",
      "INFO  : Fetching connectivity table for 1 neurons (pymaid)\n",
      "INFO  : Done. Found 0 pre-, 5 postsynaptic and 0 gap junction-connected neurons (pymaid)\n",
      "INFO  : Fetching connectivity table for 1 neurons (pymaid)\n",
      "INFO  : Cached data used. Use `pymaid.clear_cache()` to clear. (pymaid)\n",
      "INFO  : Cached data used. Use `pymaid.clear_cache()` to clear. (pymaid)\n",
      "INFO  : Done. Found 0 pre-, 5 postsynaptic and 0 gap junction-connected neurons (pymaid)\n",
      "INFO  : Fetching connectivity table for 1 neurons (pymaid)\n",
      "INFO  : Done. Found 0 pre-, 2 postsynaptic and 0 gap junction-connected neurons (pymaid)\n",
      "INFO  : Fetching connectivity table for 1 neurons (pymaid)\n",
      "INFO  : Cached data used. Use `pymaid.clear_cache()` to clear. (pymaid)\n",
      "INFO  : Cached data used. Use `pymaid.clear_cache()` to clear. (pymaid)\n",
      "INFO  : Done. Found 0 pre-, 2 postsynaptic and 0 gap junction-connected neurons (pymaid)\n"
     ]
    }
   ],
   "source": [
    "def all_triples_new(targets,t,fname):#returns all triangles (no backward edges)\n",
    "    target = pymaid.find_neurons(annotations = targets)\n",
    "    tarskids = target.skeleton_id.tolist()\n",
    "    phar = pymaid.get_neurons('annotations:Pharyngeal sensory')\n",
    "    phids = phar.skeleton_id.tolist()\n",
    "    ctable = pymaid.get_partners(target,directions=['incoming'], threshold = t)\n",
    "    skids = ctable['skeleton_id'].tolist()\n",
    "    sens = skids\n",
    "    bad_names = [n for n in list(pymaid.get_names(skids).values()) if 'SE0 R4' in n]\n",
    "    intids = [sk for sk in skids if sk not in phids and sk not in tarskids]\n",
    "    \n",
    "\n",
    "    inter = pymaid.get_neuron(intids)\n",
    "    interskids = [n.skeleton_id for n in inter if n.neuron_name not in bad_names]\n",
    "    new_inter = pymaid.get_neuron(interskids)\n",
    "    all_ = [single_triple(s,target,new_inter,t) for s in phids if single_triple(s,target,new_inter,t)]\n",
    "\n",
    "    final = list(itertools.chain.from_iterable(all_)) #list of the triples by skeleton ids\n",
    "    with open(fname, 'w', newline='') as myfile:\n",
    "        wr = csv.writer(myfile, quoting=csv.QUOTE_ALL)\n",
    "        wr.writerow(['source','interneuron','target'])\n",
    "        for triple in final:\n",
    "            wr.writerow(triple)\n",
    "    return final\n",
    "\n",
    "sen1 = 'sens2-to-hugin-ipc'\n",
    "sen2 = 'sens2-to-hugin-dms'\n",
    "\n",
    "tar1 = 'IPCs'\n",
    "tar2 = 'DMS'\n",
    "tar3 = 'DH44'\n",
    "intr = 'Hugin PC'\n",
    "tar4 = 'Se0ens'\n",
    "\n",
    "trips1 = all_triples_new(tar4,2,'triples_se0ens_new3.csv')\n",
    "# trips2 = all_triples(sen2,tar2,intr,2)"
   ]
  },
  {
   "cell_type": "code",
   "execution_count": 11,
   "metadata": {},
   "outputs": [
    {
     "data": {
      "text/plain": [
       "133"
      ]
     },
     "execution_count": 11,
     "metadata": {},
     "output_type": "execute_result"
    }
   ],
   "source": [
    "len(trips1)"
   ]
  },
  {
   "cell_type": "code",
   "execution_count": 8,
   "metadata": {
    "scrolled": true
   },
   "outputs": [
    {
     "data": {
      "text/plain": [
       "['AN-R-Sens-B1-ACa-01',\n",
       " 'AN-L-Sens-B1-ACa-01',\n",
       " 'AN-L-Sens-B1-ACa-10',\n",
       " 'AN-L-Sens-B1-ACa-02']"
      ]
     },
     "execution_count": 8,
     "metadata": {},
     "output_type": "execute_result"
    }
   ],
   "source": [
    "lista = []\n",
    "for k in range(len(trips1)):\n",
    "    for trip in trips2:\n",
    "        if trip[0] in trips1[k] and trip[0] not in lista:\n",
    "            lista.append(trip[0])\n",
    "#     lista = [trip[0] for trip in trips2 if trip[0] in trips1[k]]\n",
    "    \n",
    "lista"
   ]
  },
  {
   "cell_type": "markdown",
   "metadata": {},
   "source": [
    "# Ranking index\n",
    "\n"
   ]
  },
  {
   "cell_type": "markdown",
   "metadata": {},
   "source": [
    "The function **new()** converts to 0 all counts of synapses in the partners table smaller or equal to the given threshold. It will be used in the following functions for filtering connections below a threshold.\n"
   ]
  },
  {
   "cell_type": "code",
   "execution_count": 9,
   "metadata": {},
   "outputs": [],
   "source": [
    "def new (df,t):\n",
    "    nw_df=df.copy(deep=True)\n",
    "    for n in df.columns[4:]:\n",
    "        for m in df.index.values:\n",
    "            v=df.loc[m].at[n]\n",
    "            if int(v)<t:\n",
    "                nw_df.at[m,n]=0\n",
    "    return nw_df\n"
   ]
  },
  {
   "cell_type": "markdown",
   "metadata": {},
   "source": [
    "First, a function is needed to find the ranking index of the unidirectional connection between two single neurons, source -> target, defined as the *number of synapses between neuron s and a target neuron m, divided by the highest number of synapses among all incoming synaptic connections to m*\n",
    "\n",
    "**rank_idx()** takes as input two neuron names, (s- source and m- target), the min. nr. of incoming synapses to the target (tr-threshold) and minimum node count for partner (mins)\n",
    "\n",
    "The returned value is the ranking index of the incoming edge to the target neuron from the source (range:0-1, two decimal places)"
   ]
  },
  {
   "cell_type": "code",
   "execution_count": 10,
   "metadata": {
    "scrolled": true
   },
   "outputs": [
    {
     "name": "stderr",
     "output_type": "stream",
     "text": [
      "INFO  : Cached cleared. (pymaid)\n"
     ]
    },
    {
     "data": {
      "application/vnd.jupyter.widget-view+json": {
       "model_id": "",
       "version_major": 2,
       "version_minor": 0
      },
      "text/plain": [
       "HBox(children=(IntProgress(value=0, description='Make nrn', max=1, style=ProgressStyle(description_width='init…"
      ]
     },
     "metadata": {},
     "output_type": "display_data"
    },
    {
     "name": "stderr",
     "output_type": "stream",
     "text": [
      "INFO  : Found 1 neurons matching the search parameters (pymaid)\n"
     ]
    },
    {
     "name": "stdout",
     "output_type": "stream",
     "text": [
      "\r"
     ]
    },
    {
     "data": {
      "application/vnd.jupyter.widget-view+json": {
       "model_id": "",
       "version_major": 2,
       "version_minor": 0
      },
      "text/plain": [
       "HBox(children=(IntProgress(value=0, description='Make nrn', max=1, style=ProgressStyle(description_width='init…"
      ]
     },
     "metadata": {},
     "output_type": "display_data"
    },
    {
     "name": "stderr",
     "output_type": "stream",
     "text": [
      "INFO  : Found 1 neurons matching the search parameters (pymaid)\n",
      "INFO  : Fetching connectivity table for 1 neurons (pymaid)\n"
     ]
    },
    {
     "name": "stdout",
     "output_type": "stream",
     "text": [
      "\r"
     ]
    },
    {
     "name": "stderr",
     "output_type": "stream",
     "text": [
      "INFO  : Done. Found 48 pre-, 0 postsynaptic and 0 gap junction-connected neurons (pymaid)\n"
     ]
    }
   ],
   "source": [
    "def rank_idx (s,m,tr,mins): \n",
    "    sen = pymaid.find_neurons(s)\n",
    "    mot = pymaid.find_neurons(m)\n",
    "    mcons=pymaid.get_partners(mot,directions=['incoming'], min_size = mins)\n",
    "    n_cons=new(mcons,tr)\n",
    "    sens=sen.skeleton_id.tolist()\n",
    "\n",
    "    cons = [n_cons.loc[n_cons['skeleton_id']==n] for n in sens]\n",
    "    result = pd.concat(cons)\n",
    "    r = sum(result.total)\n",
    "    t = mcons.total[0]\n",
    "    return round(r/t,2)\n",
    "\n",
    "pymaid.clear_cache()\n",
    "test1 = rank_idx('AN-L-Sens-B1-ACa-01', 'hugin-PC left 4',2,1)\n"
   ]
  },
  {
   "cell_type": "code",
   "execution_count": 11,
   "metadata": {},
   "outputs": [
    {
     "data": {
      "text/plain": [
       "0.78"
      ]
     },
     "execution_count": 11,
     "metadata": {},
     "output_type": "execute_result"
    }
   ],
   "source": [
    "test1"
   ]
  },
  {
   "cell_type": "markdown",
   "metadata": {},
   "source": [
    "The function **ranks_all ()** takes as input two lists of neuron names, (inputs and targets), the min. nr. of incoming synapses to the target (tr-threshold) and minimum node count for partner (mins), and uses rank_idx() to find the ranking indexes of all connections between the neurons in the given input and target lists.\n",
    "\n",
    "The output is a dataframe with the ranking indexes between the inputs (rows) and the targets (columns)"
   ]
  },
  {
   "cell_type": "code",
   "execution_count": 12,
   "metadata": {
    "scrolled": false
   },
   "outputs": [
    {
     "name": "stderr",
     "output_type": "stream",
     "text": [
      "INFO  : Cached cleared. (pymaid)\n",
      "INFO  : Found 7 neurons with matching annotation(s) (pymaid)\n",
      "INFO  : Cached data used. Use `pymaid.clear_cache()` to clear. (pymaid)\n",
      "INFO  : Found 4 neurons with matching annotation(s) (pymaid)\n"
     ]
    },
    {
     "data": {
      "application/vnd.jupyter.widget-view+json": {
       "model_id": "",
       "version_major": 2,
       "version_minor": 0
      },
      "text/plain": [
       "HBox(children=(IntProgress(value=0, description='Make nrn', max=1, style=ProgressStyle(description_width='init…"
      ]
     },
     "metadata": {},
     "output_type": "display_data"
    },
    {
     "name": "stderr",
     "output_type": "stream",
     "text": [
      "INFO  : Found 1 neurons matching the search parameters (pymaid)\n"
     ]
    },
    {
     "name": "stdout",
     "output_type": "stream",
     "text": [
      "\r"
     ]
    },
    {
     "data": {
      "application/vnd.jupyter.widget-view+json": {
       "model_id": "",
       "version_major": 2,
       "version_minor": 0
      },
      "text/plain": [
       "HBox(children=(IntProgress(value=0, description='Make nrn', max=1, style=ProgressStyle(description_width='init…"
      ]
     },
     "metadata": {},
     "output_type": "display_data"
    },
    {
     "name": "stderr",
     "output_type": "stream",
     "text": [
      "INFO  : Found 1 neurons matching the search parameters (pymaid)\n",
      "INFO  : Fetching connectivity table for 1 neurons (pymaid)\n"
     ]
    },
    {
     "name": "stdout",
     "output_type": "stream",
     "text": [
      "\r"
     ]
    },
    {
     "name": "stderr",
     "output_type": "stream",
     "text": [
      "INFO  : Done. Found 30 pre-, 0 postsynaptic and 0 gap junction-connected neurons (pymaid)\n",
      "INFO  : Cached data used. Use `pymaid.clear_cache()` to clear. (pymaid)\n"
     ]
    },
    {
     "data": {
      "application/vnd.jupyter.widget-view+json": {
       "model_id": "",
       "version_major": 2,
       "version_minor": 0
      },
      "text/plain": [
       "HBox(children=(IntProgress(value=0, description='Make nrn', max=1, style=ProgressStyle(description_width='init…"
      ]
     },
     "metadata": {},
     "output_type": "display_data"
    },
    {
     "name": "stderr",
     "output_type": "stream",
     "text": [
      "INFO  : Cached data used. Use `pymaid.clear_cache()` to clear. (pymaid)\n",
      "INFO  : Found 1 neurons matching the search parameters (pymaid)\n"
     ]
    },
    {
     "name": "stdout",
     "output_type": "stream",
     "text": [
      "\r"
     ]
    },
    {
     "data": {
      "application/vnd.jupyter.widget-view+json": {
       "model_id": "",
       "version_major": 2,
       "version_minor": 0
      },
      "text/plain": [
       "HBox(children=(IntProgress(value=0, description='Make nrn', max=1, style=ProgressStyle(description_width='init…"
      ]
     },
     "metadata": {},
     "output_type": "display_data"
    },
    {
     "name": "stderr",
     "output_type": "stream",
     "text": [
      "INFO  : Found 1 neurons matching the search parameters (pymaid)\n",
      "INFO  : Fetching connectivity table for 1 neurons (pymaid)\n"
     ]
    },
    {
     "name": "stdout",
     "output_type": "stream",
     "text": [
      "\r"
     ]
    },
    {
     "name": "stderr",
     "output_type": "stream",
     "text": [
      "INFO  : Done. Found 35 pre-, 0 postsynaptic and 0 gap junction-connected neurons (pymaid)\n",
      "INFO  : Cached data used. Use `pymaid.clear_cache()` to clear. (pymaid)\n"
     ]
    },
    {
     "data": {
      "application/vnd.jupyter.widget-view+json": {
       "model_id": "",
       "version_major": 2,
       "version_minor": 0
      },
      "text/plain": [
       "HBox(children=(IntProgress(value=0, description='Make nrn', max=1, style=ProgressStyle(description_width='init…"
      ]
     },
     "metadata": {},
     "output_type": "display_data"
    },
    {
     "name": "stderr",
     "output_type": "stream",
     "text": [
      "INFO  : Cached data used. Use `pymaid.clear_cache()` to clear. (pymaid)\n",
      "INFO  : Found 1 neurons matching the search parameters (pymaid)\n"
     ]
    },
    {
     "name": "stdout",
     "output_type": "stream",
     "text": [
      "\r"
     ]
    },
    {
     "data": {
      "application/vnd.jupyter.widget-view+json": {
       "model_id": "",
       "version_major": 2,
       "version_minor": 0
      },
      "text/plain": [
       "HBox(children=(IntProgress(value=0, description='Make nrn', max=1, style=ProgressStyle(description_width='init…"
      ]
     },
     "metadata": {},
     "output_type": "display_data"
    },
    {
     "name": "stderr",
     "output_type": "stream",
     "text": [
      "INFO  : Found 1 neurons matching the search parameters (pymaid)\n",
      "INFO  : Fetching connectivity table for 1 neurons (pymaid)\n"
     ]
    },
    {
     "name": "stdout",
     "output_type": "stream",
     "text": [
      "\r"
     ]
    },
    {
     "name": "stderr",
     "output_type": "stream",
     "text": [
      "INFO  : Done. Found 30 pre-, 0 postsynaptic and 0 gap junction-connected neurons (pymaid)\n",
      "INFO  : Cached data used. Use `pymaid.clear_cache()` to clear. (pymaid)\n"
     ]
    },
    {
     "data": {
      "application/vnd.jupyter.widget-view+json": {
       "model_id": "",
       "version_major": 2,
       "version_minor": 0
      },
      "text/plain": [
       "HBox(children=(IntProgress(value=0, description='Make nrn', max=1, style=ProgressStyle(description_width='init…"
      ]
     },
     "metadata": {},
     "output_type": "display_data"
    },
    {
     "name": "stderr",
     "output_type": "stream",
     "text": [
      "INFO  : Cached data used. Use `pymaid.clear_cache()` to clear. (pymaid)\n",
      "INFO  : Found 1 neurons matching the search parameters (pymaid)\n"
     ]
    },
    {
     "name": "stdout",
     "output_type": "stream",
     "text": [
      "\r"
     ]
    },
    {
     "data": {
      "application/vnd.jupyter.widget-view+json": {
       "model_id": "",
       "version_major": 2,
       "version_minor": 0
      },
      "text/plain": [
       "HBox(children=(IntProgress(value=0, description='Make nrn', max=1, style=ProgressStyle(description_width='init…"
      ]
     },
     "metadata": {},
     "output_type": "display_data"
    },
    {
     "name": "stderr",
     "output_type": "stream",
     "text": [
      "INFO  : Found 1 neurons matching the search parameters (pymaid)\n",
      "INFO  : Fetching connectivity table for 1 neurons (pymaid)\n"
     ]
    },
    {
     "name": "stdout",
     "output_type": "stream",
     "text": [
      "\r"
     ]
    },
    {
     "name": "stderr",
     "output_type": "stream",
     "text": [
      "INFO  : Done. Found 27 pre-, 0 postsynaptic and 0 gap junction-connected neurons (pymaid)\n"
     ]
    },
    {
     "data": {
      "application/vnd.jupyter.widget-view+json": {
       "model_id": "",
       "version_major": 2,
       "version_minor": 0
      },
      "text/plain": [
       "HBox(children=(IntProgress(value=0, description='Make nrn', max=1, style=ProgressStyle(description_width='init…"
      ]
     },
     "metadata": {},
     "output_type": "display_data"
    },
    {
     "name": "stderr",
     "output_type": "stream",
     "text": [
      "INFO  : Found 1 neurons matching the search parameters (pymaid)\n",
      "INFO  : Cached data used. Use `pymaid.clear_cache()` to clear. (pymaid)\n"
     ]
    },
    {
     "name": "stdout",
     "output_type": "stream",
     "text": [
      "\r"
     ]
    },
    {
     "data": {
      "application/vnd.jupyter.widget-view+json": {
       "model_id": "",
       "version_major": 2,
       "version_minor": 0
      },
      "text/plain": [
       "HBox(children=(IntProgress(value=0, description='Make nrn', max=1, style=ProgressStyle(description_width='init…"
      ]
     },
     "metadata": {},
     "output_type": "display_data"
    },
    {
     "name": "stderr",
     "output_type": "stream",
     "text": [
      "INFO  : Cached data used. Use `pymaid.clear_cache()` to clear. (pymaid)\n",
      "INFO  : Found 1 neurons matching the search parameters (pymaid)\n",
      "INFO  : Fetching connectivity table for 1 neurons (pymaid)\n",
      "INFO  : Cached data used. Use `pymaid.clear_cache()` to clear. (pymaid)\n",
      "INFO  : Cached data used. Use `pymaid.clear_cache()` to clear. (pymaid)\n",
      "INFO  : Done. Found 30 pre-, 0 postsynaptic and 0 gap junction-connected neurons (pymaid)\n",
      "INFO  : Cached data used. Use `pymaid.clear_cache()` to clear. (pymaid)\n"
     ]
    },
    {
     "name": "stdout",
     "output_type": "stream",
     "text": [
      "\r"
     ]
    },
    {
     "data": {
      "application/vnd.jupyter.widget-view+json": {
       "model_id": "",
       "version_major": 2,
       "version_minor": 0
      },
      "text/plain": [
       "HBox(children=(IntProgress(value=0, description='Make nrn', max=1, style=ProgressStyle(description_width='init…"
      ]
     },
     "metadata": {},
     "output_type": "display_data"
    },
    {
     "name": "stderr",
     "output_type": "stream",
     "text": [
      "INFO  : Cached data used. Use `pymaid.clear_cache()` to clear. (pymaid)\n",
      "INFO  : Found 1 neurons matching the search parameters (pymaid)\n",
      "INFO  : Cached data used. Use `pymaid.clear_cache()` to clear. (pymaid)\n"
     ]
    },
    {
     "name": "stdout",
     "output_type": "stream",
     "text": [
      "\r"
     ]
    },
    {
     "data": {
      "application/vnd.jupyter.widget-view+json": {
       "model_id": "",
       "version_major": 2,
       "version_minor": 0
      },
      "text/plain": [
       "HBox(children=(IntProgress(value=0, description='Make nrn', max=1, style=ProgressStyle(description_width='init…"
      ]
     },
     "metadata": {},
     "output_type": "display_data"
    },
    {
     "name": "stderr",
     "output_type": "stream",
     "text": [
      "INFO  : Cached data used. Use `pymaid.clear_cache()` to clear. (pymaid)\n",
      "INFO  : Found 1 neurons matching the search parameters (pymaid)\n",
      "INFO  : Fetching connectivity table for 1 neurons (pymaid)\n",
      "INFO  : Cached data used. Use `pymaid.clear_cache()` to clear. (pymaid)\n",
      "INFO  : Cached data used. Use `pymaid.clear_cache()` to clear. (pymaid)\n"
     ]
    },
    {
     "name": "stdout",
     "output_type": "stream",
     "text": [
      "\r"
     ]
    },
    {
     "name": "stderr",
     "output_type": "stream",
     "text": [
      "INFO  : Done. Found 35 pre-, 0 postsynaptic and 0 gap junction-connected neurons (pymaid)\n",
      "INFO  : Cached data used. Use `pymaid.clear_cache()` to clear. (pymaid)\n"
     ]
    },
    {
     "data": {
      "application/vnd.jupyter.widget-view+json": {
       "model_id": "",
       "version_major": 2,
       "version_minor": 0
      },
      "text/plain": [
       "HBox(children=(IntProgress(value=0, description='Make nrn', max=1, style=ProgressStyle(description_width='init…"
      ]
     },
     "metadata": {},
     "output_type": "display_data"
    },
    {
     "name": "stderr",
     "output_type": "stream",
     "text": [
      "INFO  : Cached data used. Use `pymaid.clear_cache()` to clear. (pymaid)\n",
      "INFO  : Found 1 neurons matching the search parameters (pymaid)\n",
      "INFO  : Cached data used. Use `pymaid.clear_cache()` to clear. (pymaid)\n"
     ]
    },
    {
     "name": "stdout",
     "output_type": "stream",
     "text": [
      "\r"
     ]
    },
    {
     "data": {
      "application/vnd.jupyter.widget-view+json": {
       "model_id": "",
       "version_major": 2,
       "version_minor": 0
      },
      "text/plain": [
       "HBox(children=(IntProgress(value=0, description='Make nrn', max=1, style=ProgressStyle(description_width='init…"
      ]
     },
     "metadata": {},
     "output_type": "display_data"
    },
    {
     "name": "stderr",
     "output_type": "stream",
     "text": [
      "INFO  : Cached data used. Use `pymaid.clear_cache()` to clear. (pymaid)\n",
      "INFO  : Found 1 neurons matching the search parameters (pymaid)\n",
      "INFO  : Fetching connectivity table for 1 neurons (pymaid)\n",
      "INFO  : Cached data used. Use `pymaid.clear_cache()` to clear. (pymaid)\n",
      "INFO  : Cached data used. Use `pymaid.clear_cache()` to clear. (pymaid)\n"
     ]
    },
    {
     "name": "stdout",
     "output_type": "stream",
     "text": [
      "\r"
     ]
    },
    {
     "name": "stderr",
     "output_type": "stream",
     "text": [
      "INFO  : Done. Found 30 pre-, 0 postsynaptic and 0 gap junction-connected neurons (pymaid)\n",
      "INFO  : Cached data used. Use `pymaid.clear_cache()` to clear. (pymaid)\n"
     ]
    },
    {
     "data": {
      "application/vnd.jupyter.widget-view+json": {
       "model_id": "",
       "version_major": 2,
       "version_minor": 0
      },
      "text/plain": [
       "HBox(children=(IntProgress(value=0, description='Make nrn', max=1, style=ProgressStyle(description_width='init…"
      ]
     },
     "metadata": {},
     "output_type": "display_data"
    },
    {
     "name": "stderr",
     "output_type": "stream",
     "text": [
      "INFO  : Cached data used. Use `pymaid.clear_cache()` to clear. (pymaid)\n",
      "INFO  : Found 1 neurons matching the search parameters (pymaid)\n",
      "INFO  : Cached data used. Use `pymaid.clear_cache()` to clear. (pymaid)\n"
     ]
    },
    {
     "name": "stdout",
     "output_type": "stream",
     "text": [
      "\r"
     ]
    },
    {
     "data": {
      "application/vnd.jupyter.widget-view+json": {
       "model_id": "",
       "version_major": 2,
       "version_minor": 0
      },
      "text/plain": [
       "HBox(children=(IntProgress(value=0, description='Make nrn', max=1, style=ProgressStyle(description_width='init…"
      ]
     },
     "metadata": {},
     "output_type": "display_data"
    },
    {
     "name": "stderr",
     "output_type": "stream",
     "text": [
      "INFO  : Cached data used. Use `pymaid.clear_cache()` to clear. (pymaid)\n",
      "INFO  : Found 1 neurons matching the search parameters (pymaid)\n",
      "INFO  : Fetching connectivity table for 1 neurons (pymaid)\n",
      "INFO  : Cached data used. Use `pymaid.clear_cache()` to clear. (pymaid)\n",
      "INFO  : Cached data used. Use `pymaid.clear_cache()` to clear. (pymaid)\n"
     ]
    },
    {
     "name": "stdout",
     "output_type": "stream",
     "text": [
      "\r"
     ]
    },
    {
     "name": "stderr",
     "output_type": "stream",
     "text": [
      "INFO  : Done. Found 27 pre-, 0 postsynaptic and 0 gap junction-connected neurons (pymaid)\n"
     ]
    },
    {
     "data": {
      "application/vnd.jupyter.widget-view+json": {
       "model_id": "",
       "version_major": 2,
       "version_minor": 0
      },
      "text/plain": [
       "HBox(children=(IntProgress(value=0, description='Make nrn', max=1, style=ProgressStyle(description_width='init…"
      ]
     },
     "metadata": {},
     "output_type": "display_data"
    },
    {
     "name": "stderr",
     "output_type": "stream",
     "text": [
      "INFO  : Found 1 neurons matching the search parameters (pymaid)\n",
      "INFO  : Cached data used. Use `pymaid.clear_cache()` to clear. (pymaid)\n"
     ]
    },
    {
     "name": "stdout",
     "output_type": "stream",
     "text": [
      "\r"
     ]
    },
    {
     "data": {
      "application/vnd.jupyter.widget-view+json": {
       "model_id": "",
       "version_major": 2,
       "version_minor": 0
      },
      "text/plain": [
       "HBox(children=(IntProgress(value=0, description='Make nrn', max=1, style=ProgressStyle(description_width='init…"
      ]
     },
     "metadata": {},
     "output_type": "display_data"
    },
    {
     "name": "stderr",
     "output_type": "stream",
     "text": [
      "INFO  : Cached data used. Use `pymaid.clear_cache()` to clear. (pymaid)\n",
      "INFO  : Found 1 neurons matching the search parameters (pymaid)\n",
      "INFO  : Fetching connectivity table for 1 neurons (pymaid)\n",
      "INFO  : Cached data used. Use `pymaid.clear_cache()` to clear. (pymaid)\n",
      "INFO  : Cached data used. Use `pymaid.clear_cache()` to clear. (pymaid)\n",
      "INFO  : Done. Found 30 pre-, 0 postsynaptic and 0 gap junction-connected neurons (pymaid)\n",
      "INFO  : Cached data used. Use `pymaid.clear_cache()` to clear. (pymaid)\n"
     ]
    },
    {
     "name": "stdout",
     "output_type": "stream",
     "text": [
      "\r"
     ]
    },
    {
     "data": {
      "application/vnd.jupyter.widget-view+json": {
       "model_id": "",
       "version_major": 2,
       "version_minor": 0
      },
      "text/plain": [
       "HBox(children=(IntProgress(value=0, description='Make nrn', max=1, style=ProgressStyle(description_width='init…"
      ]
     },
     "metadata": {},
     "output_type": "display_data"
    },
    {
     "name": "stderr",
     "output_type": "stream",
     "text": [
      "INFO  : Cached data used. Use `pymaid.clear_cache()` to clear. (pymaid)\n",
      "INFO  : Found 1 neurons matching the search parameters (pymaid)\n",
      "INFO  : Cached data used. Use `pymaid.clear_cache()` to clear. (pymaid)\n"
     ]
    },
    {
     "name": "stdout",
     "output_type": "stream",
     "text": [
      "\r"
     ]
    },
    {
     "data": {
      "application/vnd.jupyter.widget-view+json": {
       "model_id": "",
       "version_major": 2,
       "version_minor": 0
      },
      "text/plain": [
       "HBox(children=(IntProgress(value=0, description='Make nrn', max=1, style=ProgressStyle(description_width='init…"
      ]
     },
     "metadata": {},
     "output_type": "display_data"
    },
    {
     "name": "stderr",
     "output_type": "stream",
     "text": [
      "INFO  : Cached data used. Use `pymaid.clear_cache()` to clear. (pymaid)\n",
      "INFO  : Found 1 neurons matching the search parameters (pymaid)\n",
      "INFO  : Fetching connectivity table for 1 neurons (pymaid)\n",
      "INFO  : Cached data used. Use `pymaid.clear_cache()` to clear. (pymaid)\n",
      "INFO  : Cached data used. Use `pymaid.clear_cache()` to clear. (pymaid)\n"
     ]
    },
    {
     "name": "stdout",
     "output_type": "stream",
     "text": [
      "\r"
     ]
    },
    {
     "name": "stderr",
     "output_type": "stream",
     "text": [
      "INFO  : Done. Found 35 pre-, 0 postsynaptic and 0 gap junction-connected neurons (pymaid)\n",
      "INFO  : Cached data used. Use `pymaid.clear_cache()` to clear. (pymaid)\n"
     ]
    },
    {
     "data": {
      "application/vnd.jupyter.widget-view+json": {
       "model_id": "",
       "version_major": 2,
       "version_minor": 0
      },
      "text/plain": [
       "HBox(children=(IntProgress(value=0, description='Make nrn', max=1, style=ProgressStyle(description_width='init…"
      ]
     },
     "metadata": {},
     "output_type": "display_data"
    },
    {
     "name": "stderr",
     "output_type": "stream",
     "text": [
      "INFO  : Cached data used. Use `pymaid.clear_cache()` to clear. (pymaid)\n"
     ]
    },
    {
     "name": "stdout",
     "output_type": "stream",
     "text": [
      "\r"
     ]
    },
    {
     "name": "stderr",
     "output_type": "stream",
     "text": [
      "INFO  : Found 1 neurons matching the search parameters (pymaid)\n",
      "INFO  : Cached data used. Use `pymaid.clear_cache()` to clear. (pymaid)\n"
     ]
    },
    {
     "data": {
      "application/vnd.jupyter.widget-view+json": {
       "model_id": "",
       "version_major": 2,
       "version_minor": 0
      },
      "text/plain": [
       "HBox(children=(IntProgress(value=0, description='Make nrn', max=1, style=ProgressStyle(description_width='init…"
      ]
     },
     "metadata": {},
     "output_type": "display_data"
    },
    {
     "name": "stderr",
     "output_type": "stream",
     "text": [
      "INFO  : Cached data used. Use `pymaid.clear_cache()` to clear. (pymaid)\n",
      "INFO  : Found 1 neurons matching the search parameters (pymaid)\n",
      "INFO  : Fetching connectivity table for 1 neurons (pymaid)\n",
      "INFO  : Cached data used. Use `pymaid.clear_cache()` to clear. (pymaid)\n",
      "INFO  : Cached data used. Use `pymaid.clear_cache()` to clear. (pymaid)\n",
      "INFO  : Done. Found 30 pre-, 0 postsynaptic and 0 gap junction-connected neurons (pymaid)\n",
      "INFO  : Cached data used. Use `pymaid.clear_cache()` to clear. (pymaid)\n"
     ]
    },
    {
     "name": "stdout",
     "output_type": "stream",
     "text": [
      "\r"
     ]
    },
    {
     "data": {
      "application/vnd.jupyter.widget-view+json": {
       "model_id": "",
       "version_major": 2,
       "version_minor": 0
      },
      "text/plain": [
       "HBox(children=(IntProgress(value=0, description='Make nrn', max=1, style=ProgressStyle(description_width='init…"
      ]
     },
     "metadata": {},
     "output_type": "display_data"
    },
    {
     "name": "stderr",
     "output_type": "stream",
     "text": [
      "INFO  : Cached data used. Use `pymaid.clear_cache()` to clear. (pymaid)\n",
      "INFO  : Found 1 neurons matching the search parameters (pymaid)\n",
      "INFO  : Cached data used. Use `pymaid.clear_cache()` to clear. (pymaid)\n"
     ]
    },
    {
     "name": "stdout",
     "output_type": "stream",
     "text": [
      "\r"
     ]
    },
    {
     "data": {
      "application/vnd.jupyter.widget-view+json": {
       "model_id": "",
       "version_major": 2,
       "version_minor": 0
      },
      "text/plain": [
       "HBox(children=(IntProgress(value=0, description='Make nrn', max=1, style=ProgressStyle(description_width='init…"
      ]
     },
     "metadata": {},
     "output_type": "display_data"
    },
    {
     "name": "stdout",
     "output_type": "stream",
     "text": [
      "\r"
     ]
    },
    {
     "name": "stderr",
     "output_type": "stream",
     "text": [
      "INFO  : Cached data used. Use `pymaid.clear_cache()` to clear. (pymaid)\n",
      "INFO  : Found 1 neurons matching the search parameters (pymaid)\n",
      "INFO  : Fetching connectivity table for 1 neurons (pymaid)\n",
      "INFO  : Cached data used. Use `pymaid.clear_cache()` to clear. (pymaid)\n",
      "INFO  : Cached data used. Use `pymaid.clear_cache()` to clear. (pymaid)\n",
      "INFO  : Done. Found 27 pre-, 0 postsynaptic and 0 gap junction-connected neurons (pymaid)\n"
     ]
    },
    {
     "data": {
      "application/vnd.jupyter.widget-view+json": {
       "model_id": "",
       "version_major": 2,
       "version_minor": 0
      },
      "text/plain": [
       "HBox(children=(IntProgress(value=0, description='Make nrn', max=1, style=ProgressStyle(description_width='init…"
      ]
     },
     "metadata": {},
     "output_type": "display_data"
    },
    {
     "name": "stdout",
     "output_type": "stream",
     "text": [
      "\r"
     ]
    },
    {
     "name": "stderr",
     "output_type": "stream",
     "text": [
      "INFO  : Found 1 neurons matching the search parameters (pymaid)\n",
      "INFO  : Cached data used. Use `pymaid.clear_cache()` to clear. (pymaid)\n"
     ]
    },
    {
     "data": {
      "application/vnd.jupyter.widget-view+json": {
       "model_id": "",
       "version_major": 2,
       "version_minor": 0
      },
      "text/plain": [
       "HBox(children=(IntProgress(value=0, description='Make nrn', max=1, style=ProgressStyle(description_width='init…"
      ]
     },
     "metadata": {},
     "output_type": "display_data"
    },
    {
     "name": "stderr",
     "output_type": "stream",
     "text": [
      "INFO  : Cached data used. Use `pymaid.clear_cache()` to clear. (pymaid)\n",
      "INFO  : Found 1 neurons matching the search parameters (pymaid)\n",
      "INFO  : Fetching connectivity table for 1 neurons (pymaid)\n",
      "INFO  : Cached data used. Use `pymaid.clear_cache()` to clear. (pymaid)\n",
      "INFO  : Cached data used. Use `pymaid.clear_cache()` to clear. (pymaid)\n"
     ]
    },
    {
     "name": "stdout",
     "output_type": "stream",
     "text": [
      "\r"
     ]
    },
    {
     "name": "stderr",
     "output_type": "stream",
     "text": [
      "INFO  : Done. Found 30 pre-, 0 postsynaptic and 0 gap junction-connected neurons (pymaid)\n",
      "INFO  : Cached data used. Use `pymaid.clear_cache()` to clear. (pymaid)\n"
     ]
    },
    {
     "data": {
      "application/vnd.jupyter.widget-view+json": {
       "model_id": "",
       "version_major": 2,
       "version_minor": 0
      },
      "text/plain": [
       "HBox(children=(IntProgress(value=0, description='Make nrn', max=1, style=ProgressStyle(description_width='init…"
      ]
     },
     "metadata": {},
     "output_type": "display_data"
    },
    {
     "name": "stderr",
     "output_type": "stream",
     "text": [
      "INFO  : Cached data used. Use `pymaid.clear_cache()` to clear. (pymaid)\n",
      "INFO  : Found 1 neurons matching the search parameters (pymaid)\n",
      "INFO  : Cached data used. Use `pymaid.clear_cache()` to clear. (pymaid)\n"
     ]
    },
    {
     "name": "stdout",
     "output_type": "stream",
     "text": [
      "\r"
     ]
    },
    {
     "data": {
      "application/vnd.jupyter.widget-view+json": {
       "model_id": "",
       "version_major": 2,
       "version_minor": 0
      },
      "text/plain": [
       "HBox(children=(IntProgress(value=0, description='Make nrn', max=1, style=ProgressStyle(description_width='init…"
      ]
     },
     "metadata": {},
     "output_type": "display_data"
    },
    {
     "name": "stderr",
     "output_type": "stream",
     "text": [
      "INFO  : Cached data used. Use `pymaid.clear_cache()` to clear. (pymaid)\n",
      "INFO  : Found 1 neurons matching the search parameters (pymaid)\n",
      "INFO  : Fetching connectivity table for 1 neurons (pymaid)\n",
      "INFO  : Cached data used. Use `pymaid.clear_cache()` to clear. (pymaid)\n",
      "INFO  : Cached data used. Use `pymaid.clear_cache()` to clear. (pymaid)\n"
     ]
    },
    {
     "name": "stdout",
     "output_type": "stream",
     "text": [
      "\r"
     ]
    },
    {
     "name": "stderr",
     "output_type": "stream",
     "text": [
      "INFO  : Done. Found 35 pre-, 0 postsynaptic and 0 gap junction-connected neurons (pymaid)\n",
      "INFO  : Cached data used. Use `pymaid.clear_cache()` to clear. (pymaid)\n"
     ]
    },
    {
     "data": {
      "application/vnd.jupyter.widget-view+json": {
       "model_id": "",
       "version_major": 2,
       "version_minor": 0
      },
      "text/plain": [
       "HBox(children=(IntProgress(value=0, description='Make nrn', max=1, style=ProgressStyle(description_width='init…"
      ]
     },
     "metadata": {},
     "output_type": "display_data"
    },
    {
     "name": "stderr",
     "output_type": "stream",
     "text": [
      "INFO  : Cached data used. Use `pymaid.clear_cache()` to clear. (pymaid)\n"
     ]
    },
    {
     "name": "stdout",
     "output_type": "stream",
     "text": [
      "\r"
     ]
    },
    {
     "name": "stderr",
     "output_type": "stream",
     "text": [
      "INFO  : Found 1 neurons matching the search parameters (pymaid)\n",
      "INFO  : Cached data used. Use `pymaid.clear_cache()` to clear. (pymaid)\n"
     ]
    },
    {
     "data": {
      "application/vnd.jupyter.widget-view+json": {
       "model_id": "",
       "version_major": 2,
       "version_minor": 0
      },
      "text/plain": [
       "HBox(children=(IntProgress(value=0, description='Make nrn', max=1, style=ProgressStyle(description_width='init…"
      ]
     },
     "metadata": {},
     "output_type": "display_data"
    },
    {
     "name": "stdout",
     "output_type": "stream",
     "text": [
      "\r"
     ]
    },
    {
     "name": "stderr",
     "output_type": "stream",
     "text": [
      "INFO  : Cached data used. Use `pymaid.clear_cache()` to clear. (pymaid)\n",
      "INFO  : Found 1 neurons matching the search parameters (pymaid)\n",
      "INFO  : Fetching connectivity table for 1 neurons (pymaid)\n",
      "INFO  : Cached data used. Use `pymaid.clear_cache()` to clear. (pymaid)\n",
      "INFO  : Cached data used. Use `pymaid.clear_cache()` to clear. (pymaid)\n",
      "INFO  : Done. Found 30 pre-, 0 postsynaptic and 0 gap junction-connected neurons (pymaid)\n",
      "INFO  : Cached data used. Use `pymaid.clear_cache()` to clear. (pymaid)\n"
     ]
    },
    {
     "data": {
      "application/vnd.jupyter.widget-view+json": {
       "model_id": "",
       "version_major": 2,
       "version_minor": 0
      },
      "text/plain": [
       "HBox(children=(IntProgress(value=0, description='Make nrn', max=1, style=ProgressStyle(description_width='init…"
      ]
     },
     "metadata": {},
     "output_type": "display_data"
    },
    {
     "name": "stderr",
     "output_type": "stream",
     "text": [
      "INFO  : Cached data used. Use `pymaid.clear_cache()` to clear. (pymaid)\n",
      "INFO  : Found 1 neurons matching the search parameters (pymaid)\n",
      "INFO  : Cached data used. Use `pymaid.clear_cache()` to clear. (pymaid)\n"
     ]
    },
    {
     "name": "stdout",
     "output_type": "stream",
     "text": [
      "\r"
     ]
    },
    {
     "data": {
      "application/vnd.jupyter.widget-view+json": {
       "model_id": "",
       "version_major": 2,
       "version_minor": 0
      },
      "text/plain": [
       "HBox(children=(IntProgress(value=0, description='Make nrn', max=1, style=ProgressStyle(description_width='init…"
      ]
     },
     "metadata": {},
     "output_type": "display_data"
    },
    {
     "name": "stderr",
     "output_type": "stream",
     "text": [
      "INFO  : Cached data used. Use `pymaid.clear_cache()` to clear. (pymaid)\n",
      "INFO  : Found 1 neurons matching the search parameters (pymaid)\n",
      "INFO  : Fetching connectivity table for 1 neurons (pymaid)\n",
      "INFO  : Cached data used. Use `pymaid.clear_cache()` to clear. (pymaid)\n",
      "INFO  : Cached data used. Use `pymaid.clear_cache()` to clear. (pymaid)\n"
     ]
    },
    {
     "name": "stdout",
     "output_type": "stream",
     "text": [
      "\r"
     ]
    },
    {
     "name": "stderr",
     "output_type": "stream",
     "text": [
      "INFO  : Done. Found 27 pre-, 0 postsynaptic and 0 gap junction-connected neurons (pymaid)\n"
     ]
    },
    {
     "data": {
      "application/vnd.jupyter.widget-view+json": {
       "model_id": "",
       "version_major": 2,
       "version_minor": 0
      },
      "text/plain": [
       "HBox(children=(IntProgress(value=0, description='Make nrn', max=1, style=ProgressStyle(description_width='init…"
      ]
     },
     "metadata": {},
     "output_type": "display_data"
    },
    {
     "name": "stdout",
     "output_type": "stream",
     "text": [
      "\r"
     ]
    },
    {
     "name": "stderr",
     "output_type": "stream",
     "text": [
      "INFO  : Found 1 neurons matching the search parameters (pymaid)\n",
      "INFO  : Cached data used. Use `pymaid.clear_cache()` to clear. (pymaid)\n"
     ]
    },
    {
     "data": {
      "application/vnd.jupyter.widget-view+json": {
       "model_id": "",
       "version_major": 2,
       "version_minor": 0
      },
      "text/plain": [
       "HBox(children=(IntProgress(value=0, description='Make nrn', max=1, style=ProgressStyle(description_width='init…"
      ]
     },
     "metadata": {},
     "output_type": "display_data"
    },
    {
     "name": "stderr",
     "output_type": "stream",
     "text": [
      "INFO  : Cached data used. Use `pymaid.clear_cache()` to clear. (pymaid)\n",
      "INFO  : Found 1 neurons matching the search parameters (pymaid)\n",
      "INFO  : Fetching connectivity table for 1 neurons (pymaid)\n",
      "INFO  : Cached data used. Use `pymaid.clear_cache()` to clear. (pymaid)\n",
      "INFO  : Cached data used. Use `pymaid.clear_cache()` to clear. (pymaid)\n",
      "INFO  : Done. Found 30 pre-, 0 postsynaptic and 0 gap junction-connected neurons (pymaid)\n",
      "INFO  : Cached data used. Use `pymaid.clear_cache()` to clear. (pymaid)\n"
     ]
    },
    {
     "name": "stdout",
     "output_type": "stream",
     "text": [
      "\r"
     ]
    },
    {
     "data": {
      "application/vnd.jupyter.widget-view+json": {
       "model_id": "",
       "version_major": 2,
       "version_minor": 0
      },
      "text/plain": [
       "HBox(children=(IntProgress(value=0, description='Make nrn', max=1, style=ProgressStyle(description_width='init…"
      ]
     },
     "metadata": {},
     "output_type": "display_data"
    },
    {
     "name": "stderr",
     "output_type": "stream",
     "text": [
      "INFO  : Cached data used. Use `pymaid.clear_cache()` to clear. (pymaid)\n",
      "INFO  : Found 1 neurons matching the search parameters (pymaid)\n",
      "INFO  : Cached data used. Use `pymaid.clear_cache()` to clear. (pymaid)\n"
     ]
    },
    {
     "name": "stdout",
     "output_type": "stream",
     "text": [
      "\r"
     ]
    },
    {
     "data": {
      "application/vnd.jupyter.widget-view+json": {
       "model_id": "",
       "version_major": 2,
       "version_minor": 0
      },
      "text/plain": [
       "HBox(children=(IntProgress(value=0, description='Make nrn', max=1, style=ProgressStyle(description_width='init…"
      ]
     },
     "metadata": {},
     "output_type": "display_data"
    },
    {
     "name": "stderr",
     "output_type": "stream",
     "text": [
      "INFO  : Cached data used. Use `pymaid.clear_cache()` to clear. (pymaid)\n",
      "INFO  : Found 1 neurons matching the search parameters (pymaid)\n",
      "INFO  : Fetching connectivity table for 1 neurons (pymaid)\n",
      "INFO  : Cached data used. Use `pymaid.clear_cache()` to clear. (pymaid)\n",
      "INFO  : Cached data used. Use `pymaid.clear_cache()` to clear. (pymaid)\n",
      "INFO  : Done. Found 35 pre-, 0 postsynaptic and 0 gap junction-connected neurons (pymaid)\n"
     ]
    },
    {
     "name": "stdout",
     "output_type": "stream",
     "text": [
      "\r"
     ]
    },
    {
     "name": "stderr",
     "output_type": "stream",
     "text": [
      "INFO  : Cached data used. Use `pymaid.clear_cache()` to clear. (pymaid)\n"
     ]
    },
    {
     "data": {
      "application/vnd.jupyter.widget-view+json": {
       "model_id": "",
       "version_major": 2,
       "version_minor": 0
      },
      "text/plain": [
       "HBox(children=(IntProgress(value=0, description='Make nrn', max=1, style=ProgressStyle(description_width='init…"
      ]
     },
     "metadata": {},
     "output_type": "display_data"
    },
    {
     "name": "stderr",
     "output_type": "stream",
     "text": [
      "INFO  : Cached data used. Use `pymaid.clear_cache()` to clear. (pymaid)\n"
     ]
    },
    {
     "name": "stdout",
     "output_type": "stream",
     "text": [
      "\r"
     ]
    },
    {
     "name": "stderr",
     "output_type": "stream",
     "text": [
      "INFO  : Found 1 neurons matching the search parameters (pymaid)\n",
      "INFO  : Cached data used. Use `pymaid.clear_cache()` to clear. (pymaid)\n"
     ]
    },
    {
     "data": {
      "application/vnd.jupyter.widget-view+json": {
       "model_id": "",
       "version_major": 2,
       "version_minor": 0
      },
      "text/plain": [
       "HBox(children=(IntProgress(value=0, description='Make nrn', max=1, style=ProgressStyle(description_width='init…"
      ]
     },
     "metadata": {},
     "output_type": "display_data"
    },
    {
     "name": "stderr",
     "output_type": "stream",
     "text": [
      "INFO  : Cached data used. Use `pymaid.clear_cache()` to clear. (pymaid)\n",
      "INFO  : Found 1 neurons matching the search parameters (pymaid)\n",
      "INFO  : Fetching connectivity table for 1 neurons (pymaid)\n",
      "INFO  : Cached data used. Use `pymaid.clear_cache()` to clear. (pymaid)\n",
      "INFO  : Cached data used. Use `pymaid.clear_cache()` to clear. (pymaid)\n",
      "INFO  : Done. Found 30 pre-, 0 postsynaptic and 0 gap junction-connected neurons (pymaid)\n",
      "INFO  : Cached data used. Use `pymaid.clear_cache()` to clear. (pymaid)\n"
     ]
    },
    {
     "name": "stdout",
     "output_type": "stream",
     "text": [
      "\r"
     ]
    },
    {
     "data": {
      "application/vnd.jupyter.widget-view+json": {
       "model_id": "",
       "version_major": 2,
       "version_minor": 0
      },
      "text/plain": [
       "HBox(children=(IntProgress(value=0, description='Make nrn', max=1, style=ProgressStyle(description_width='init…"
      ]
     },
     "metadata": {},
     "output_type": "display_data"
    },
    {
     "name": "stderr",
     "output_type": "stream",
     "text": [
      "INFO  : Cached data used. Use `pymaid.clear_cache()` to clear. (pymaid)\n",
      "INFO  : Found 1 neurons matching the search parameters (pymaid)\n",
      "INFO  : Cached data used. Use `pymaid.clear_cache()` to clear. (pymaid)\n"
     ]
    },
    {
     "name": "stdout",
     "output_type": "stream",
     "text": [
      "\r"
     ]
    },
    {
     "data": {
      "application/vnd.jupyter.widget-view+json": {
       "model_id": "",
       "version_major": 2,
       "version_minor": 0
      },
      "text/plain": [
       "HBox(children=(IntProgress(value=0, description='Make nrn', max=1, style=ProgressStyle(description_width='init…"
      ]
     },
     "metadata": {},
     "output_type": "display_data"
    },
    {
     "name": "stderr",
     "output_type": "stream",
     "text": [
      "INFO  : Cached data used. Use `pymaid.clear_cache()` to clear. (pymaid)\n",
      "INFO  : Found 1 neurons matching the search parameters (pymaid)\n",
      "INFO  : Fetching connectivity table for 1 neurons (pymaid)\n",
      "INFO  : Cached data used. Use `pymaid.clear_cache()` to clear. (pymaid)\n",
      "INFO  : Cached data used. Use `pymaid.clear_cache()` to clear. (pymaid)\n"
     ]
    },
    {
     "name": "stdout",
     "output_type": "stream",
     "text": [
      "\r"
     ]
    },
    {
     "name": "stderr",
     "output_type": "stream",
     "text": [
      "INFO  : Done. Found 27 pre-, 0 postsynaptic and 0 gap junction-connected neurons (pymaid)\n"
     ]
    },
    {
     "data": {
      "application/vnd.jupyter.widget-view+json": {
       "model_id": "",
       "version_major": 2,
       "version_minor": 0
      },
      "text/plain": [
       "HBox(children=(IntProgress(value=0, description='Make nrn', max=1, style=ProgressStyle(description_width='init…"
      ]
     },
     "metadata": {},
     "output_type": "display_data"
    },
    {
     "name": "stderr",
     "output_type": "stream",
     "text": [
      "INFO  : Found 1 neurons matching the search parameters (pymaid)\n"
     ]
    },
    {
     "name": "stdout",
     "output_type": "stream",
     "text": [
      "\r"
     ]
    },
    {
     "name": "stderr",
     "output_type": "stream",
     "text": [
      "INFO  : Cached data used. Use `pymaid.clear_cache()` to clear. (pymaid)\n"
     ]
    },
    {
     "data": {
      "application/vnd.jupyter.widget-view+json": {
       "model_id": "",
       "version_major": 2,
       "version_minor": 0
      },
      "text/plain": [
       "HBox(children=(IntProgress(value=0, description='Make nrn', max=1, style=ProgressStyle(description_width='init…"
      ]
     },
     "metadata": {},
     "output_type": "display_data"
    },
    {
     "name": "stderr",
     "output_type": "stream",
     "text": [
      "INFO  : Cached data used. Use `pymaid.clear_cache()` to clear. (pymaid)\n",
      "INFO  : Found 1 neurons matching the search parameters (pymaid)\n",
      "INFO  : Fetching connectivity table for 1 neurons (pymaid)\n",
      "INFO  : Cached data used. Use `pymaid.clear_cache()` to clear. (pymaid)\n",
      "INFO  : Cached data used. Use `pymaid.clear_cache()` to clear. (pymaid)\n",
      "INFO  : Done. Found 30 pre-, 0 postsynaptic and 0 gap junction-connected neurons (pymaid)\n",
      "INFO  : Cached data used. Use `pymaid.clear_cache()` to clear. (pymaid)\n"
     ]
    },
    {
     "name": "stdout",
     "output_type": "stream",
     "text": [
      "\r"
     ]
    },
    {
     "data": {
      "application/vnd.jupyter.widget-view+json": {
       "model_id": "",
       "version_major": 2,
       "version_minor": 0
      },
      "text/plain": [
       "HBox(children=(IntProgress(value=0, description='Make nrn', max=1, style=ProgressStyle(description_width='init…"
      ]
     },
     "metadata": {},
     "output_type": "display_data"
    },
    {
     "name": "stderr",
     "output_type": "stream",
     "text": [
      "INFO  : Cached data used. Use `pymaid.clear_cache()` to clear. (pymaid)\n",
      "INFO  : Found 1 neurons matching the search parameters (pymaid)\n",
      "INFO  : Cached data used. Use `pymaid.clear_cache()` to clear. (pymaid)\n"
     ]
    },
    {
     "name": "stdout",
     "output_type": "stream",
     "text": [
      "\r"
     ]
    },
    {
     "data": {
      "application/vnd.jupyter.widget-view+json": {
       "model_id": "",
       "version_major": 2,
       "version_minor": 0
      },
      "text/plain": [
       "HBox(children=(IntProgress(value=0, description='Make nrn', max=1, style=ProgressStyle(description_width='init…"
      ]
     },
     "metadata": {},
     "output_type": "display_data"
    },
    {
     "name": "stderr",
     "output_type": "stream",
     "text": [
      "INFO  : Cached data used. Use `pymaid.clear_cache()` to clear. (pymaid)\n",
      "INFO  : Found 1 neurons matching the search parameters (pymaid)\n",
      "INFO  : Fetching connectivity table for 1 neurons (pymaid)\n",
      "INFO  : Cached data used. Use `pymaid.clear_cache()` to clear. (pymaid)\n",
      "INFO  : Cached data used. Use `pymaid.clear_cache()` to clear. (pymaid)\n"
     ]
    },
    {
     "name": "stdout",
     "output_type": "stream",
     "text": [
      "\r"
     ]
    },
    {
     "name": "stderr",
     "output_type": "stream",
     "text": [
      "INFO  : Done. Found 35 pre-, 0 postsynaptic and 0 gap junction-connected neurons (pymaid)\n",
      "INFO  : Cached data used. Use `pymaid.clear_cache()` to clear. (pymaid)\n"
     ]
    },
    {
     "data": {
      "application/vnd.jupyter.widget-view+json": {
       "model_id": "",
       "version_major": 2,
       "version_minor": 0
      },
      "text/plain": [
       "HBox(children=(IntProgress(value=0, description='Make nrn', max=1, style=ProgressStyle(description_width='init…"
      ]
     },
     "metadata": {},
     "output_type": "display_data"
    },
    {
     "name": "stderr",
     "output_type": "stream",
     "text": [
      "INFO  : Cached data used. Use `pymaid.clear_cache()` to clear. (pymaid)\n",
      "INFO  : Found 1 neurons matching the search parameters (pymaid)\n",
      "INFO  : Cached data used. Use `pymaid.clear_cache()` to clear. (pymaid)\n"
     ]
    },
    {
     "name": "stdout",
     "output_type": "stream",
     "text": [
      "\r"
     ]
    },
    {
     "data": {
      "application/vnd.jupyter.widget-view+json": {
       "model_id": "",
       "version_major": 2,
       "version_minor": 0
      },
      "text/plain": [
       "HBox(children=(IntProgress(value=0, description='Make nrn', max=1, style=ProgressStyle(description_width='init…"
      ]
     },
     "metadata": {},
     "output_type": "display_data"
    },
    {
     "name": "stderr",
     "output_type": "stream",
     "text": [
      "INFO  : Cached data used. Use `pymaid.clear_cache()` to clear. (pymaid)\n",
      "INFO  : Found 1 neurons matching the search parameters (pymaid)\n",
      "INFO  : Fetching connectivity table for 1 neurons (pymaid)\n",
      "INFO  : Cached data used. Use `pymaid.clear_cache()` to clear. (pymaid)\n",
      "INFO  : Cached data used. Use `pymaid.clear_cache()` to clear. (pymaid)\n"
     ]
    },
    {
     "name": "stdout",
     "output_type": "stream",
     "text": [
      "\r"
     ]
    },
    {
     "name": "stderr",
     "output_type": "stream",
     "text": [
      "INFO  : Done. Found 30 pre-, 0 postsynaptic and 0 gap junction-connected neurons (pymaid)\n",
      "INFO  : Cached data used. Use `pymaid.clear_cache()` to clear. (pymaid)\n"
     ]
    },
    {
     "data": {
      "application/vnd.jupyter.widget-view+json": {
       "model_id": "",
       "version_major": 2,
       "version_minor": 0
      },
      "text/plain": [
       "HBox(children=(IntProgress(value=0, description='Make nrn', max=1, style=ProgressStyle(description_width='init…"
      ]
     },
     "metadata": {},
     "output_type": "display_data"
    },
    {
     "name": "stderr",
     "output_type": "stream",
     "text": [
      "INFO  : Cached data used. Use `pymaid.clear_cache()` to clear. (pymaid)\n",
      "INFO  : Found 1 neurons matching the search parameters (pymaid)\n",
      "INFO  : Cached data used. Use `pymaid.clear_cache()` to clear. (pymaid)\n"
     ]
    },
    {
     "name": "stdout",
     "output_type": "stream",
     "text": [
      "\r"
     ]
    },
    {
     "data": {
      "application/vnd.jupyter.widget-view+json": {
       "model_id": "",
       "version_major": 2,
       "version_minor": 0
      },
      "text/plain": [
       "HBox(children=(IntProgress(value=0, description='Make nrn', max=1, style=ProgressStyle(description_width='init…"
      ]
     },
     "metadata": {},
     "output_type": "display_data"
    },
    {
     "name": "stderr",
     "output_type": "stream",
     "text": [
      "INFO  : Cached data used. Use `pymaid.clear_cache()` to clear. (pymaid)\n",
      "INFO  : Found 1 neurons matching the search parameters (pymaid)\n",
      "INFO  : Fetching connectivity table for 1 neurons (pymaid)\n",
      "INFO  : Cached data used. Use `pymaid.clear_cache()` to clear. (pymaid)\n",
      "INFO  : Cached data used. Use `pymaid.clear_cache()` to clear. (pymaid)\n"
     ]
    },
    {
     "name": "stdout",
     "output_type": "stream",
     "text": [
      "\r"
     ]
    },
    {
     "name": "stderr",
     "output_type": "stream",
     "text": [
      "INFO  : Done. Found 27 pre-, 0 postsynaptic and 0 gap junction-connected neurons (pymaid)\n"
     ]
    },
    {
     "data": {
      "application/vnd.jupyter.widget-view+json": {
       "model_id": "",
       "version_major": 2,
       "version_minor": 0
      },
      "text/plain": [
       "HBox(children=(IntProgress(value=0, description='Make nrn', max=1, style=ProgressStyle(description_width='init…"
      ]
     },
     "metadata": {},
     "output_type": "display_data"
    },
    {
     "name": "stdout",
     "output_type": "stream",
     "text": [
      "\r"
     ]
    },
    {
     "name": "stderr",
     "output_type": "stream",
     "text": [
      "INFO  : Found 1 neurons matching the search parameters (pymaid)\n",
      "INFO  : Cached data used. Use `pymaid.clear_cache()` to clear. (pymaid)\n"
     ]
    },
    {
     "data": {
      "application/vnd.jupyter.widget-view+json": {
       "model_id": "",
       "version_major": 2,
       "version_minor": 0
      },
      "text/plain": [
       "HBox(children=(IntProgress(value=0, description='Make nrn', max=1, style=ProgressStyle(description_width='init…"
      ]
     },
     "metadata": {},
     "output_type": "display_data"
    },
    {
     "name": "stderr",
     "output_type": "stream",
     "text": [
      "INFO  : Cached data used. Use `pymaid.clear_cache()` to clear. (pymaid)\n",
      "INFO  : Found 1 neurons matching the search parameters (pymaid)\n",
      "INFO  : Fetching connectivity table for 1 neurons (pymaid)\n",
      "INFO  : Cached data used. Use `pymaid.clear_cache()` to clear. (pymaid)\n",
      "INFO  : Cached data used. Use `pymaid.clear_cache()` to clear. (pymaid)\n",
      "INFO  : Done. Found 30 pre-, 0 postsynaptic and 0 gap junction-connected neurons (pymaid)\n",
      "INFO  : Cached data used. Use `pymaid.clear_cache()` to clear. (pymaid)\n"
     ]
    },
    {
     "name": "stdout",
     "output_type": "stream",
     "text": [
      "\r"
     ]
    },
    {
     "data": {
      "application/vnd.jupyter.widget-view+json": {
       "model_id": "",
       "version_major": 2,
       "version_minor": 0
      },
      "text/plain": [
       "HBox(children=(IntProgress(value=0, description='Make nrn', max=1, style=ProgressStyle(description_width='init…"
      ]
     },
     "metadata": {},
     "output_type": "display_data"
    },
    {
     "name": "stderr",
     "output_type": "stream",
     "text": [
      "INFO  : Cached data used. Use `pymaid.clear_cache()` to clear. (pymaid)\n",
      "INFO  : Found 1 neurons matching the search parameters (pymaid)\n",
      "INFO  : Cached data used. Use `pymaid.clear_cache()` to clear. (pymaid)\n"
     ]
    },
    {
     "name": "stdout",
     "output_type": "stream",
     "text": [
      "\r"
     ]
    },
    {
     "data": {
      "application/vnd.jupyter.widget-view+json": {
       "model_id": "",
       "version_major": 2,
       "version_minor": 0
      },
      "text/plain": [
       "HBox(children=(IntProgress(value=0, description='Make nrn', max=1, style=ProgressStyle(description_width='init…"
      ]
     },
     "metadata": {},
     "output_type": "display_data"
    },
    {
     "name": "stderr",
     "output_type": "stream",
     "text": [
      "INFO  : Cached data used. Use `pymaid.clear_cache()` to clear. (pymaid)\n",
      "INFO  : Found 1 neurons matching the search parameters (pymaid)\n",
      "INFO  : Fetching connectivity table for 1 neurons (pymaid)\n",
      "INFO  : Cached data used. Use `pymaid.clear_cache()` to clear. (pymaid)\n",
      "INFO  : Cached data used. Use `pymaid.clear_cache()` to clear. (pymaid)\n",
      "INFO  : Done. Found 35 pre-, 0 postsynaptic and 0 gap junction-connected neurons (pymaid)\n"
     ]
    },
    {
     "name": "stdout",
     "output_type": "stream",
     "text": [
      "\r"
     ]
    },
    {
     "name": "stderr",
     "output_type": "stream",
     "text": [
      "INFO  : Cached data used. Use `pymaid.clear_cache()` to clear. (pymaid)\n"
     ]
    },
    {
     "data": {
      "application/vnd.jupyter.widget-view+json": {
       "model_id": "",
       "version_major": 2,
       "version_minor": 0
      },
      "text/plain": [
       "HBox(children=(IntProgress(value=0, description='Make nrn', max=1, style=ProgressStyle(description_width='init…"
      ]
     },
     "metadata": {},
     "output_type": "display_data"
    },
    {
     "name": "stderr",
     "output_type": "stream",
     "text": [
      "INFO  : Cached data used. Use `pymaid.clear_cache()` to clear. (pymaid)\n",
      "INFO  : Found 1 neurons matching the search parameters (pymaid)\n",
      "INFO  : Cached data used. Use `pymaid.clear_cache()` to clear. (pymaid)\n"
     ]
    },
    {
     "name": "stdout",
     "output_type": "stream",
     "text": [
      "\r"
     ]
    },
    {
     "data": {
      "application/vnd.jupyter.widget-view+json": {
       "model_id": "",
       "version_major": 2,
       "version_minor": 0
      },
      "text/plain": [
       "HBox(children=(IntProgress(value=0, description='Make nrn', max=1, style=ProgressStyle(description_width='init…"
      ]
     },
     "metadata": {},
     "output_type": "display_data"
    },
    {
     "name": "stderr",
     "output_type": "stream",
     "text": [
      "INFO  : Cached data used. Use `pymaid.clear_cache()` to clear. (pymaid)\n",
      "INFO  : Found 1 neurons matching the search parameters (pymaid)\n",
      "INFO  : Fetching connectivity table for 1 neurons (pymaid)\n",
      "INFO  : Cached data used. Use `pymaid.clear_cache()` to clear. (pymaid)\n",
      "INFO  : Cached data used. Use `pymaid.clear_cache()` to clear. (pymaid)\n"
     ]
    },
    {
     "name": "stdout",
     "output_type": "stream",
     "text": [
      "\r"
     ]
    },
    {
     "name": "stderr",
     "output_type": "stream",
     "text": [
      "INFO  : Done. Found 30 pre-, 0 postsynaptic and 0 gap junction-connected neurons (pymaid)\n",
      "INFO  : Cached data used. Use `pymaid.clear_cache()` to clear. (pymaid)\n"
     ]
    },
    {
     "data": {
      "application/vnd.jupyter.widget-view+json": {
       "model_id": "",
       "version_major": 2,
       "version_minor": 0
      },
      "text/plain": [
       "HBox(children=(IntProgress(value=0, description='Make nrn', max=1, style=ProgressStyle(description_width='init…"
      ]
     },
     "metadata": {},
     "output_type": "display_data"
    },
    {
     "name": "stderr",
     "output_type": "stream",
     "text": [
      "INFO  : Cached data used. Use `pymaid.clear_cache()` to clear. (pymaid)\n",
      "INFO  : Found 1 neurons matching the search parameters (pymaid)\n",
      "INFO  : Cached data used. Use `pymaid.clear_cache()` to clear. (pymaid)\n"
     ]
    },
    {
     "name": "stdout",
     "output_type": "stream",
     "text": [
      "\r"
     ]
    },
    {
     "data": {
      "application/vnd.jupyter.widget-view+json": {
       "model_id": "",
       "version_major": 2,
       "version_minor": 0
      },
      "text/plain": [
       "HBox(children=(IntProgress(value=0, description='Make nrn', max=1, style=ProgressStyle(description_width='init…"
      ]
     },
     "metadata": {},
     "output_type": "display_data"
    },
    {
     "name": "stderr",
     "output_type": "stream",
     "text": [
      "INFO  : Cached data used. Use `pymaid.clear_cache()` to clear. (pymaid)\n",
      "INFO  : Found 1 neurons matching the search parameters (pymaid)\n",
      "INFO  : Fetching connectivity table for 1 neurons (pymaid)\n",
      "INFO  : Cached data used. Use `pymaid.clear_cache()` to clear. (pymaid)\n",
      "INFO  : Cached data used. Use `pymaid.clear_cache()` to clear. (pymaid)\n"
     ]
    },
    {
     "name": "stdout",
     "output_type": "stream",
     "text": [
      "\r"
     ]
    },
    {
     "name": "stderr",
     "output_type": "stream",
     "text": [
      "INFO  : Done. Found 27 pre-, 0 postsynaptic and 0 gap junction-connected neurons (pymaid)\n"
     ]
    }
   ],
   "source": [
    "def ranks_all (inputs,targets,tr,mins):\n",
    "    df = pd.DataFrame([[rank_idx(sen,tar,tr,mins) for tar in targets] for sen in inputs], index = inputs, columns = targets)\n",
    "    return df\n",
    "\n",
    "pymaid.clear_cache()\n",
    "sensories = pymaid.get_names('annotation:sens2-to-hugin-dms').values()\n",
    "inters = pymaid.get_names('annotation:DMS').values()\n",
    "test2 = ranks_all(sensories,inters,2,1)"
   ]
  },
  {
   "cell_type": "code",
   "execution_count": 13,
   "metadata": {},
   "outputs": [
    {
     "data": {
      "text/html": [
       "<div>\n",
       "<style scoped>\n",
       "    .dataframe tbody tr th:only-of-type {\n",
       "        vertical-align: middle;\n",
       "    }\n",
       "\n",
       "    .dataframe tbody tr th {\n",
       "        vertical-align: top;\n",
       "    }\n",
       "\n",
       "    .dataframe thead th {\n",
       "        text-align: right;\n",
       "    }\n",
       "</style>\n",
       "<table border=\"1\" class=\"dataframe\">\n",
       "  <thead>\n",
       "    <tr style=\"text-align: right;\">\n",
       "      <th></th>\n",
       "      <th>DMS 1 right</th>\n",
       "      <th>DMS 1 left</th>\n",
       "      <th>DMS 2 left</th>\n",
       "      <th>DMS 2 right</th>\n",
       "    </tr>\n",
       "  </thead>\n",
       "  <tbody>\n",
       "    <tr>\n",
       "      <th>AN-L-Sens-B1-ACa-10</th>\n",
       "      <td>0.0</td>\n",
       "      <td>0.57</td>\n",
       "      <td>0.33</td>\n",
       "      <td>0.00</td>\n",
       "    </tr>\n",
       "    <tr>\n",
       "      <th>AN-L-Sens-B1-ACa-11</th>\n",
       "      <td>0.0</td>\n",
       "      <td>0.43</td>\n",
       "      <td>0.00</td>\n",
       "      <td>0.00</td>\n",
       "    </tr>\n",
       "    <tr>\n",
       "      <th>AN-L-Sens-B1-ACa-01</th>\n",
       "      <td>0.0</td>\n",
       "      <td>0.71</td>\n",
       "      <td>0.78</td>\n",
       "      <td>0.00</td>\n",
       "    </tr>\n",
       "    <tr>\n",
       "      <th>AN-R-Sens-B1-ACa-01</th>\n",
       "      <td>0.0</td>\n",
       "      <td>1.00</td>\n",
       "      <td>0.44</td>\n",
       "      <td>0.00</td>\n",
       "    </tr>\n",
       "    <tr>\n",
       "      <th>AN-L-Sens-B1-ACa-02</th>\n",
       "      <td>1.0</td>\n",
       "      <td>0.29</td>\n",
       "      <td>0.67</td>\n",
       "      <td>0.29</td>\n",
       "    </tr>\n",
       "    <tr>\n",
       "      <th>AN-R-Sens-B1-ACa-09</th>\n",
       "      <td>0.0</td>\n",
       "      <td>0.00</td>\n",
       "      <td>0.00</td>\n",
       "      <td>0.57</td>\n",
       "    </tr>\n",
       "    <tr>\n",
       "      <th>AN-R-Sens-B1-ACa-08</th>\n",
       "      <td>0.0</td>\n",
       "      <td>0.00</td>\n",
       "      <td>0.00</td>\n",
       "      <td>0.43</td>\n",
       "    </tr>\n",
       "  </tbody>\n",
       "</table>\n",
       "</div>"
      ],
      "text/plain": [
       "                     DMS 1 right  DMS 1 left  DMS 2 left  DMS 2 right\n",
       "AN-L-Sens-B1-ACa-10          0.0        0.57        0.33         0.00\n",
       "AN-L-Sens-B1-ACa-11          0.0        0.43        0.00         0.00\n",
       "AN-L-Sens-B1-ACa-01          0.0        0.71        0.78         0.00\n",
       "AN-R-Sens-B1-ACa-01          0.0        1.00        0.44         0.00\n",
       "AN-L-Sens-B1-ACa-02          1.0        0.29        0.67         0.29\n",
       "AN-R-Sens-B1-ACa-09          0.0        0.00        0.00         0.57\n",
       "AN-R-Sens-B1-ACa-08          0.0        0.00        0.00         0.43"
      ]
     },
     "execution_count": 13,
     "metadata": {},
     "output_type": "execute_result"
    }
   ],
   "source": [
    "test2"
   ]
  },
  {
   "cell_type": "markdown",
   "metadata": {},
   "source": [
    "# Plotting triples in a graph"
   ]
  },
  {
   "cell_type": "markdown",
   "metadata": {},
   "source": [
    "First, a function that plots a single triple is defined: **single_network()**. It takes as input a skeleton id of a source neuron, a list of targets, a list of interneurons, and a synaptic threshold (the same input as in single_triple). The output is a network graph showing the neurons that are part of triples accordingly connected by edges. The edge labels are the ranking indexes for the connections."
   ]
  },
  {
   "cell_type": "code",
   "execution_count": 14,
   "metadata": {},
   "outputs": [
    {
     "data": {
      "text/html": [
       "<div>\n",
       "<style scoped>\n",
       "    .dataframe tbody tr th:only-of-type {\n",
       "        vertical-align: middle;\n",
       "    }\n",
       "\n",
       "    .dataframe tbody tr th {\n",
       "        vertical-align: top;\n",
       "    }\n",
       "\n",
       "    .dataframe thead th {\n",
       "        text-align: right;\n",
       "    }\n",
       "</style>\n",
       "<table border=\"1\" class=\"dataframe\">\n",
       "  <thead>\n",
       "    <tr style=\"text-align: right;\">\n",
       "      <th></th>\n",
       "      <th>name</th>\n",
       "      <th>skeleton_id</th>\n",
       "    </tr>\n",
       "  </thead>\n",
       "  <tbody>\n",
       "    <tr>\n",
       "      <th>0</th>\n",
       "      <td>AN-L-Sens-B1-ACa-02</td>\n",
       "      <td>13744425</td>\n",
       "    </tr>\n",
       "  </tbody>\n",
       "</table>\n",
       "</div>"
      ],
      "text/plain": [
       "                  name  skeleton_id\n",
       "0  AN-L-Sens-B1-ACa-02     13744425"
      ]
     },
     "execution_count": 14,
     "metadata": {},
     "output_type": "execute_result"
    }
   ],
   "source": [
    "pymaid.get_skids_by_name('AN-L-Sens-B1-ACa-02')"
   ]
  },
  {
   "cell_type": "code",
   "execution_count": 15,
   "metadata": {
    "scrolled": false
   },
   "outputs": [
    {
     "name": "stderr",
     "output_type": "stream",
     "text": [
      "INFO  : Cached data used. Use `pymaid.clear_cache()` to clear. (pymaid)\n"
     ]
    },
    {
     "data": {
      "application/vnd.jupyter.widget-view+json": {
       "model_id": "",
       "version_major": 2,
       "version_minor": 0
      },
      "text/plain": [
       "HBox(children=(IntProgress(value=0, description='Make nrn', max=14, style=ProgressStyle(description_width='ini…"
      ]
     },
     "metadata": {},
     "output_type": "display_data"
    },
    {
     "name": "stderr",
     "output_type": "stream",
     "text": [
      "INFO  : Found 14 neurons matching the search parameters (pymaid)\n",
      "INFO  : Cached data used. Use `pymaid.clear_cache()` to clear. (pymaid)\n"
     ]
    },
    {
     "name": "stdout",
     "output_type": "stream",
     "text": [
      "\r"
     ]
    },
    {
     "data": {
      "application/vnd.jupyter.widget-view+json": {
       "model_id": "",
       "version_major": 2,
       "version_minor": 0
      },
      "text/plain": [
       "HBox(children=(IntProgress(value=0, description='Make nrn', max=8, style=ProgressStyle(description_width='init…"
      ]
     },
     "metadata": {},
     "output_type": "display_data"
    },
    {
     "name": "stderr",
     "output_type": "stream",
     "text": [
      "INFO  : Found 8 neurons matching the search parameters (pymaid)\n",
      "INFO  : Fetching connectivity table for 1 neurons (pymaid)\n"
     ]
    },
    {
     "name": "stdout",
     "output_type": "stream",
     "text": [
      "\r"
     ]
    },
    {
     "name": "stderr",
     "output_type": "stream",
     "text": [
      "INFO  : Done. Found 0 pre-, 50 postsynaptic and 0 gap junction-connected neurons (pymaid)\n",
      "INFO  : Fetching connectivity table for 1 neurons (pymaid)\n",
      "INFO  : Cached data used. Use `pymaid.clear_cache()` to clear. (pymaid)\n",
      "INFO  : Cached data used. Use `pymaid.clear_cache()` to clear. (pymaid)\n",
      "INFO  : Done. Found 0 pre-, 50 postsynaptic and 0 gap junction-connected neurons (pymaid)\n",
      "INFO  : Fetching connectivity table for 1 neurons (pymaid)\n",
      "INFO  : Done. Found 23 pre-, 0 postsynaptic and 0 gap junction-connected neurons (pymaid)\n",
      "INFO  : Fetching connectivity table for 1 neurons (pymaid)\n",
      "INFO  : Done. Found 25 pre-, 0 postsynaptic and 0 gap junction-connected neurons (pymaid)\n",
      "INFO  : Fetching connectivity table for 1 neurons (pymaid)\n",
      "INFO  : Done. Found 22 pre-, 0 postsynaptic and 0 gap junction-connected neurons (pymaid)\n",
      "INFO  : Fetching connectivity table for 1 neurons (pymaid)\n",
      "INFO  : Done. Found 19 pre-, 0 postsynaptic and 0 gap junction-connected neurons (pymaid)\n",
      "INFO  : Fetching connectivity table for 1 neurons (pymaid)\n",
      "INFO  : Done. Found 15 pre-, 0 postsynaptic and 0 gap junction-connected neurons (pymaid)\n",
      "INFO  : Fetching connectivity table for 1 neurons (pymaid)\n",
      "INFO  : Done. Found 22 pre-, 0 postsynaptic and 0 gap junction-connected neurons (pymaid)\n",
      "INFO  : Fetching connectivity table for 1 neurons (pymaid)\n",
      "INFO  : Done. Found 29 pre-, 0 postsynaptic and 0 gap junction-connected neurons (pymaid)\n",
      "INFO  : Fetching connectivity table for 1 neurons (pymaid)\n",
      "INFO  : Done. Found 16 pre-, 0 postsynaptic and 0 gap junction-connected neurons (pymaid)\n",
      "INFO  : Cached data used. Use `pymaid.clear_cache()` to clear. (pymaid)\n",
      "INFO  : Cached data used. Use `pymaid.clear_cache()` to clear. (pymaid)\n",
      "INFO  : Cached data used. Use `pymaid.clear_cache()` to clear. (pymaid)\n",
      "INFO  : Cached data used. Use `pymaid.clear_cache()` to clear. (pymaid)\n",
      "INFO  : Cached data used. Use `pymaid.clear_cache()` to clear. (pymaid)\n",
      "INFO  : Cached data used. Use `pymaid.clear_cache()` to clear. (pymaid)\n",
      "INFO  : Cached data used. Use `pymaid.clear_cache()` to clear. (pymaid)\n",
      "INFO  : Cached data used. Use `pymaid.clear_cache()` to clear. (pymaid)\n",
      "INFO  : Cached data used. Use `pymaid.clear_cache()` to clear. (pymaid)\n",
      "INFO  : Cached data used. Use `pymaid.clear_cache()` to clear. (pymaid)\n",
      "INFO  : Cached data used. Use `pymaid.clear_cache()` to clear. (pymaid)\n",
      "INFO  : Cached data used. Use `pymaid.clear_cache()` to clear. (pymaid)\n",
      "INFO  : Cached data used. Use `pymaid.clear_cache()` to clear. (pymaid)\n",
      "INFO  : Cached data used. Use `pymaid.clear_cache()` to clear. (pymaid)\n",
      "INFO  : Cached data used. Use `pymaid.clear_cache()` to clear. (pymaid)\n",
      "INFO  : Cached data used. Use `pymaid.clear_cache()` to clear. (pymaid)\n",
      "INFO  : Cached data used. Use `pymaid.clear_cache()` to clear. (pymaid)\n",
      "INFO  : Cached data used. Use `pymaid.clear_cache()` to clear. (pymaid)\n",
      "INFO  : Cached data used. Use `pymaid.clear_cache()` to clear. (pymaid)\n",
      "INFO  : Cached data used. Use `pymaid.clear_cache()` to clear. (pymaid)\n",
      "INFO  : Cached data used. Use `pymaid.clear_cache()` to clear. (pymaid)\n"
     ]
    },
    {
     "data": {
      "application/vnd.jupyter.widget-view+json": {
       "model_id": "",
       "version_major": 2,
       "version_minor": 0
      },
      "text/plain": [
       "HBox(children=(IntProgress(value=0, description='Make nrn', max=1, style=ProgressStyle(description_width='init…"
      ]
     },
     "metadata": {},
     "output_type": "display_data"
    },
    {
     "name": "stderr",
     "output_type": "stream",
     "text": [
      "INFO  : Cached data used. Use `pymaid.clear_cache()` to clear. (pymaid)\n",
      "INFO  : Found 1 neurons matching the search parameters (pymaid)\n"
     ]
    },
    {
     "name": "stdout",
     "output_type": "stream",
     "text": [
      "\r"
     ]
    },
    {
     "data": {
      "application/vnd.jupyter.widget-view+json": {
       "model_id": "",
       "version_major": 2,
       "version_minor": 0
      },
      "text/plain": [
       "HBox(children=(IntProgress(value=0, description='Make nrn', max=1, style=ProgressStyle(description_width='init…"
      ]
     },
     "metadata": {},
     "output_type": "display_data"
    },
    {
     "name": "stderr",
     "output_type": "stream",
     "text": [
      "INFO  : Cached data used. Use `pymaid.clear_cache()` to clear. (pymaid)\n",
      "INFO  : Found 1 neurons matching the search parameters (pymaid)\n",
      "INFO  : Fetching connectivity table for 1 neurons (pymaid)\n"
     ]
    },
    {
     "name": "stdout",
     "output_type": "stream",
     "text": [
      "\r"
     ]
    },
    {
     "name": "stderr",
     "output_type": "stream",
     "text": [
      "INFO  : Done. Found 52 pre-, 0 postsynaptic and 0 gap junction-connected neurons (pymaid)\n",
      "INFO  : Cached data used. Use `pymaid.clear_cache()` to clear. (pymaid)\n"
     ]
    },
    {
     "data": {
      "application/vnd.jupyter.widget-view+json": {
       "model_id": "",
       "version_major": 2,
       "version_minor": 0
      },
      "text/plain": [
       "HBox(children=(IntProgress(value=0, description='Make nrn', max=1, style=ProgressStyle(description_width='init…"
      ]
     },
     "metadata": {},
     "output_type": "display_data"
    },
    {
     "name": "stderr",
     "output_type": "stream",
     "text": [
      "INFO  : Cached data used. Use `pymaid.clear_cache()` to clear. (pymaid)\n",
      "INFO  : Found 1 neurons matching the search parameters (pymaid)\n"
     ]
    },
    {
     "name": "stdout",
     "output_type": "stream",
     "text": [
      "\r"
     ]
    },
    {
     "data": {
      "application/vnd.jupyter.widget-view+json": {
       "model_id": "",
       "version_major": 2,
       "version_minor": 0
      },
      "text/plain": [
       "HBox(children=(IntProgress(value=0, description='Make nrn', max=1, style=ProgressStyle(description_width='init…"
      ]
     },
     "metadata": {},
     "output_type": "display_data"
    },
    {
     "name": "stderr",
     "output_type": "stream",
     "text": [
      "INFO  : Cached data used. Use `pymaid.clear_cache()` to clear. (pymaid)\n",
      "INFO  : Found 1 neurons matching the search parameters (pymaid)\n",
      "INFO  : Fetching connectivity table for 1 neurons (pymaid)\n",
      "INFO  : Cached data used. Use `pymaid.clear_cache()` to clear. (pymaid)\n",
      "INFO  : Cached data used. Use `pymaid.clear_cache()` to clear. (pymaid)\n",
      "INFO  : Done. Found 33 pre-, 0 postsynaptic and 0 gap junction-connected neurons (pymaid)\n",
      "INFO  : Cached data used. Use `pymaid.clear_cache()` to clear. (pymaid)\n"
     ]
    },
    {
     "name": "stdout",
     "output_type": "stream",
     "text": [
      "\r"
     ]
    },
    {
     "data": {
      "application/vnd.jupyter.widget-view+json": {
       "model_id": "",
       "version_major": 2,
       "version_minor": 0
      },
      "text/plain": [
       "HBox(children=(IntProgress(value=0, description='Make nrn', max=1, style=ProgressStyle(description_width='init…"
      ]
     },
     "metadata": {},
     "output_type": "display_data"
    },
    {
     "name": "stderr",
     "output_type": "stream",
     "text": [
      "INFO  : Cached data used. Use `pymaid.clear_cache()` to clear. (pymaid)\n",
      "INFO  : Found 1 neurons matching the search parameters (pymaid)\n",
      "INFO  : Cached data used. Use `pymaid.clear_cache()` to clear. (pymaid)\n"
     ]
    },
    {
     "name": "stdout",
     "output_type": "stream",
     "text": [
      "\r"
     ]
    },
    {
     "data": {
      "application/vnd.jupyter.widget-view+json": {
       "model_id": "",
       "version_major": 2,
       "version_minor": 0
      },
      "text/plain": [
       "HBox(children=(IntProgress(value=0, description='Make nrn', max=1, style=ProgressStyle(description_width='init…"
      ]
     },
     "metadata": {},
     "output_type": "display_data"
    },
    {
     "name": "stderr",
     "output_type": "stream",
     "text": [
      "INFO  : Cached data used. Use `pymaid.clear_cache()` to clear. (pymaid)\n",
      "INFO  : Found 1 neurons matching the search parameters (pymaid)\n",
      "INFO  : Fetching connectivity table for 1 neurons (pymaid)\n",
      "INFO  : Cached data used. Use `pymaid.clear_cache()` to clear. (pymaid)\n",
      "INFO  : Cached data used. Use `pymaid.clear_cache()` to clear. (pymaid)\n"
     ]
    },
    {
     "name": "stdout",
     "output_type": "stream",
     "text": [
      "\r"
     ]
    },
    {
     "name": "stderr",
     "output_type": "stream",
     "text": [
      "INFO  : Done. Found 33 pre-, 0 postsynaptic and 0 gap junction-connected neurons (pymaid)\n",
      "INFO  : Cached data used. Use `pymaid.clear_cache()` to clear. (pymaid)\n"
     ]
    },
    {
     "data": {
      "application/vnd.jupyter.widget-view+json": {
       "model_id": "",
       "version_major": 2,
       "version_minor": 0
      },
      "text/plain": [
       "HBox(children=(IntProgress(value=0, description='Make nrn', max=1, style=ProgressStyle(description_width='init…"
      ]
     },
     "metadata": {},
     "output_type": "display_data"
    },
    {
     "name": "stderr",
     "output_type": "stream",
     "text": [
      "INFO  : Cached data used. Use `pymaid.clear_cache()` to clear. (pymaid)\n",
      "INFO  : Found 1 neurons matching the search parameters (pymaid)\n"
     ]
    },
    {
     "name": "stdout",
     "output_type": "stream",
     "text": [
      "\r"
     ]
    },
    {
     "data": {
      "application/vnd.jupyter.widget-view+json": {
       "model_id": "",
       "version_major": 2,
       "version_minor": 0
      },
      "text/plain": [
       "HBox(children=(IntProgress(value=0, description='Make nrn', max=1, style=ProgressStyle(description_width='init…"
      ]
     },
     "metadata": {},
     "output_type": "display_data"
    },
    {
     "name": "stderr",
     "output_type": "stream",
     "text": [
      "INFO  : Cached data used. Use `pymaid.clear_cache()` to clear. (pymaid)\n",
      "INFO  : Found 1 neurons matching the search parameters (pymaid)\n",
      "INFO  : Fetching connectivity table for 1 neurons (pymaid)\n"
     ]
    },
    {
     "name": "stdout",
     "output_type": "stream",
     "text": [
      "\r"
     ]
    },
    {
     "name": "stderr",
     "output_type": "stream",
     "text": [
      "INFO  : Done. Found 40 pre-, 0 postsynaptic and 0 gap junction-connected neurons (pymaid)\n",
      "INFO  : Cached data used. Use `pymaid.clear_cache()` to clear. (pymaid)\n"
     ]
    },
    {
     "data": {
      "application/vnd.jupyter.widget-view+json": {
       "model_id": "",
       "version_major": 2,
       "version_minor": 0
      },
      "text/plain": [
       "HBox(children=(IntProgress(value=0, description='Make nrn', max=1, style=ProgressStyle(description_width='init…"
      ]
     },
     "metadata": {},
     "output_type": "display_data"
    },
    {
     "name": "stderr",
     "output_type": "stream",
     "text": [
      "INFO  : Cached data used. Use `pymaid.clear_cache()` to clear. (pymaid)\n",
      "INFO  : Found 1 neurons matching the search parameters (pymaid)\n",
      "INFO  : Cached data used. Use `pymaid.clear_cache()` to clear. (pymaid)\n"
     ]
    },
    {
     "name": "stdout",
     "output_type": "stream",
     "text": [
      "\r"
     ]
    },
    {
     "data": {
      "application/vnd.jupyter.widget-view+json": {
       "model_id": "",
       "version_major": 2,
       "version_minor": 0
      },
      "text/plain": [
       "HBox(children=(IntProgress(value=0, description='Make nrn', max=1, style=ProgressStyle(description_width='init…"
      ]
     },
     "metadata": {},
     "output_type": "display_data"
    },
    {
     "name": "stderr",
     "output_type": "stream",
     "text": [
      "INFO  : Cached data used. Use `pymaid.clear_cache()` to clear. (pymaid)\n",
      "INFO  : Found 1 neurons matching the search parameters (pymaid)\n",
      "INFO  : Fetching connectivity table for 1 neurons (pymaid)\n",
      "INFO  : Cached data used. Use `pymaid.clear_cache()` to clear. (pymaid)\n",
      "INFO  : Cached data used. Use `pymaid.clear_cache()` to clear. (pymaid)\n",
      "INFO  : Done. Found 33 pre-, 0 postsynaptic and 0 gap junction-connected neurons (pymaid)\n",
      "INFO  : Cached data used. Use `pymaid.clear_cache()` to clear. (pymaid)\n"
     ]
    },
    {
     "name": "stdout",
     "output_type": "stream",
     "text": [
      "\r"
     ]
    },
    {
     "data": {
      "application/vnd.jupyter.widget-view+json": {
       "model_id": "",
       "version_major": 2,
       "version_minor": 0
      },
      "text/plain": [
       "HBox(children=(IntProgress(value=0, description='Make nrn', max=1, style=ProgressStyle(description_width='init…"
      ]
     },
     "metadata": {},
     "output_type": "display_data"
    },
    {
     "name": "stderr",
     "output_type": "stream",
     "text": [
      "INFO  : Cached data used. Use `pymaid.clear_cache()` to clear. (pymaid)\n",
      "INFO  : Found 1 neurons matching the search parameters (pymaid)\n",
      "INFO  : Cached data used. Use `pymaid.clear_cache()` to clear. (pymaid)\n"
     ]
    },
    {
     "name": "stdout",
     "output_type": "stream",
     "text": [
      "\r"
     ]
    },
    {
     "data": {
      "application/vnd.jupyter.widget-view+json": {
       "model_id": "",
       "version_major": 2,
       "version_minor": 0
      },
      "text/plain": [
       "HBox(children=(IntProgress(value=0, description='Make nrn', max=1, style=ProgressStyle(description_width='init…"
      ]
     },
     "metadata": {},
     "output_type": "display_data"
    },
    {
     "name": "stderr",
     "output_type": "stream",
     "text": [
      "INFO  : Cached data used. Use `pymaid.clear_cache()` to clear. (pymaid)\n",
      "INFO  : Found 1 neurons matching the search parameters (pymaid)\n",
      "INFO  : Fetching connectivity table for 1 neurons (pymaid)\n",
      "INFO  : Cached data used. Use `pymaid.clear_cache()` to clear. (pymaid)\n",
      "INFO  : Cached data used. Use `pymaid.clear_cache()` to clear. (pymaid)\n"
     ]
    },
    {
     "name": "stdout",
     "output_type": "stream",
     "text": [
      "\r"
     ]
    },
    {
     "name": "stderr",
     "output_type": "stream",
     "text": [
      "INFO  : Done. Found 33 pre-, 0 postsynaptic and 0 gap junction-connected neurons (pymaid)\n",
      "INFO  : Cached data used. Use `pymaid.clear_cache()` to clear. (pymaid)\n"
     ]
    },
    {
     "data": {
      "application/vnd.jupyter.widget-view+json": {
       "model_id": "",
       "version_major": 2,
       "version_minor": 0
      },
      "text/plain": [
       "HBox(children=(IntProgress(value=0, description='Make nrn', max=1, style=ProgressStyle(description_width='init…"
      ]
     },
     "metadata": {},
     "output_type": "display_data"
    },
    {
     "name": "stderr",
     "output_type": "stream",
     "text": [
      "INFO  : Cached data used. Use `pymaid.clear_cache()` to clear. (pymaid)\n",
      "INFO  : Found 1 neurons matching the search parameters (pymaid)\n",
      "INFO  : Cached data used. Use `pymaid.clear_cache()` to clear. (pymaid)\n"
     ]
    },
    {
     "name": "stdout",
     "output_type": "stream",
     "text": [
      "\r"
     ]
    },
    {
     "data": {
      "application/vnd.jupyter.widget-view+json": {
       "model_id": "",
       "version_major": 2,
       "version_minor": 0
      },
      "text/plain": [
       "HBox(children=(IntProgress(value=0, description='Make nrn', max=1, style=ProgressStyle(description_width='init…"
      ]
     },
     "metadata": {},
     "output_type": "display_data"
    },
    {
     "name": "stderr",
     "output_type": "stream",
     "text": [
      "INFO  : Cached data used. Use `pymaid.clear_cache()` to clear. (pymaid)\n",
      "INFO  : Found 1 neurons matching the search parameters (pymaid)\n",
      "INFO  : Fetching connectivity table for 1 neurons (pymaid)\n",
      "INFO  : Cached data used. Use `pymaid.clear_cache()` to clear. (pymaid)\n",
      "INFO  : Cached data used. Use `pymaid.clear_cache()` to clear. (pymaid)\n"
     ]
    },
    {
     "name": "stdout",
     "output_type": "stream",
     "text": [
      "\r"
     ]
    },
    {
     "name": "stderr",
     "output_type": "stream",
     "text": [
      "INFO  : Done. Found 52 pre-, 0 postsynaptic and 0 gap junction-connected neurons (pymaid)\n",
      "INFO  : Cached data used. Use `pymaid.clear_cache()` to clear. (pymaid)\n"
     ]
    },
    {
     "data": {
      "application/vnd.jupyter.widget-view+json": {
       "model_id": "",
       "version_major": 2,
       "version_minor": 0
      },
      "text/plain": [
       "HBox(children=(IntProgress(value=0, description='Make nrn', max=1, style=ProgressStyle(description_width='init…"
      ]
     },
     "metadata": {},
     "output_type": "display_data"
    },
    {
     "name": "stderr",
     "output_type": "stream",
     "text": [
      "INFO  : Cached data used. Use `pymaid.clear_cache()` to clear. (pymaid)\n",
      "INFO  : Found 1 neurons matching the search parameters (pymaid)\n"
     ]
    },
    {
     "name": "stdout",
     "output_type": "stream",
     "text": [
      "\r"
     ]
    },
    {
     "data": {
      "application/vnd.jupyter.widget-view+json": {
       "model_id": "",
       "version_major": 2,
       "version_minor": 0
      },
      "text/plain": [
       "HBox(children=(IntProgress(value=0, description='Make nrn', max=1, style=ProgressStyle(description_width='init…"
      ]
     },
     "metadata": {},
     "output_type": "display_data"
    },
    {
     "name": "stderr",
     "output_type": "stream",
     "text": [
      "INFO  : Cached data used. Use `pymaid.clear_cache()` to clear. (pymaid)\n",
      "INFO  : Found 1 neurons matching the search parameters (pymaid)\n",
      "INFO  : Fetching connectivity table for 1 neurons (pymaid)\n",
      "INFO  : Cached data used. Use `pymaid.clear_cache()` to clear. (pymaid)\n",
      "INFO  : Cached data used. Use `pymaid.clear_cache()` to clear. (pymaid)\n",
      "INFO  : Done. Found 38 pre-, 0 postsynaptic and 0 gap junction-connected neurons (pymaid)\n",
      "INFO  : Cached data used. Use `pymaid.clear_cache()` to clear. (pymaid)\n"
     ]
    },
    {
     "name": "stdout",
     "output_type": "stream",
     "text": [
      "\r"
     ]
    },
    {
     "data": {
      "application/vnd.jupyter.widget-view+json": {
       "model_id": "",
       "version_major": 2,
       "version_minor": 0
      },
      "text/plain": [
       "HBox(children=(IntProgress(value=0, description='Make nrn', max=1, style=ProgressStyle(description_width='init…"
      ]
     },
     "metadata": {},
     "output_type": "display_data"
    },
    {
     "name": "stderr",
     "output_type": "stream",
     "text": [
      "INFO  : Cached data used. Use `pymaid.clear_cache()` to clear. (pymaid)\n",
      "INFO  : Found 1 neurons matching the search parameters (pymaid)\n",
      "INFO  : Cached data used. Use `pymaid.clear_cache()` to clear. (pymaid)\n"
     ]
    },
    {
     "name": "stdout",
     "output_type": "stream",
     "text": [
      "\r"
     ]
    },
    {
     "data": {
      "application/vnd.jupyter.widget-view+json": {
       "model_id": "",
       "version_major": 2,
       "version_minor": 0
      },
      "text/plain": [
       "HBox(children=(IntProgress(value=0, description='Make nrn', max=1, style=ProgressStyle(description_width='init…"
      ]
     },
     "metadata": {},
     "output_type": "display_data"
    },
    {
     "name": "stderr",
     "output_type": "stream",
     "text": [
      "INFO  : Cached data used. Use `pymaid.clear_cache()` to clear. (pymaid)\n",
      "INFO  : Found 1 neurons matching the search parameters (pymaid)\n",
      "INFO  : Fetching connectivity table for 1 neurons (pymaid)\n",
      "INFO  : Cached data used. Use `pymaid.clear_cache()` to clear. (pymaid)\n",
      "INFO  : Cached data used. Use `pymaid.clear_cache()` to clear. (pymaid)\n",
      "INFO  : Done. Found 38 pre-, 0 postsynaptic and 0 gap junction-connected neurons (pymaid)\n"
     ]
    },
    {
     "name": "stdout",
     "output_type": "stream",
     "text": [
      "\r"
     ]
    },
    {
     "name": "stderr",
     "output_type": "stream",
     "text": [
      "INFO  : Cached data used. Use `pymaid.clear_cache()` to clear. (pymaid)\n"
     ]
    },
    {
     "data": {
      "application/vnd.jupyter.widget-view+json": {
       "model_id": "",
       "version_major": 2,
       "version_minor": 0
      },
      "text/plain": [
       "HBox(children=(IntProgress(value=0, description='Make nrn', max=1, style=ProgressStyle(description_width='init…"
      ]
     },
     "metadata": {},
     "output_type": "display_data"
    },
    {
     "name": "stderr",
     "output_type": "stream",
     "text": [
      "INFO  : Cached data used. Use `pymaid.clear_cache()` to clear. (pymaid)\n",
      "INFO  : Found 1 neurons matching the search parameters (pymaid)\n",
      "INFO  : Cached data used. Use `pymaid.clear_cache()` to clear. (pymaid)\n"
     ]
    },
    {
     "name": "stdout",
     "output_type": "stream",
     "text": [
      "\r"
     ]
    },
    {
     "data": {
      "application/vnd.jupyter.widget-view+json": {
       "model_id": "",
       "version_major": 2,
       "version_minor": 0
      },
      "text/plain": [
       "HBox(children=(IntProgress(value=0, description='Make nrn', max=1, style=ProgressStyle(description_width='init…"
      ]
     },
     "metadata": {},
     "output_type": "display_data"
    },
    {
     "name": "stderr",
     "output_type": "stream",
     "text": [
      "INFO  : Cached data used. Use `pymaid.clear_cache()` to clear. (pymaid)\n",
      "INFO  : Found 1 neurons matching the search parameters (pymaid)\n",
      "INFO  : Fetching connectivity table for 1 neurons (pymaid)\n",
      "INFO  : Cached data used. Use `pymaid.clear_cache()` to clear. (pymaid)\n",
      "INFO  : Cached data used. Use `pymaid.clear_cache()` to clear. (pymaid)\n"
     ]
    },
    {
     "name": "stdout",
     "output_type": "stream",
     "text": [
      "\r"
     ]
    },
    {
     "name": "stderr",
     "output_type": "stream",
     "text": [
      "INFO  : Done. Found 52 pre-, 0 postsynaptic and 0 gap junction-connected neurons (pymaid)\n",
      "INFO  : Cached data used. Use `pymaid.clear_cache()` to clear. (pymaid)\n"
     ]
    },
    {
     "data": {
      "application/vnd.jupyter.widget-view+json": {
       "model_id": "",
       "version_major": 2,
       "version_minor": 0
      },
      "text/plain": [
       "HBox(children=(IntProgress(value=0, description='Make nrn', max=1, style=ProgressStyle(description_width='init…"
      ]
     },
     "metadata": {},
     "output_type": "display_data"
    },
    {
     "name": "stderr",
     "output_type": "stream",
     "text": [
      "INFO  : Cached data used. Use `pymaid.clear_cache()` to clear. (pymaid)\n",
      "INFO  : Found 1 neurons matching the search parameters (pymaid)\n"
     ]
    },
    {
     "name": "stdout",
     "output_type": "stream",
     "text": [
      "\r"
     ]
    },
    {
     "data": {
      "application/vnd.jupyter.widget-view+json": {
       "model_id": "",
       "version_major": 2,
       "version_minor": 0
      },
      "text/plain": [
       "HBox(children=(IntProgress(value=0, description='Make nrn', max=1, style=ProgressStyle(description_width='init…"
      ]
     },
     "metadata": {},
     "output_type": "display_data"
    },
    {
     "name": "stderr",
     "output_type": "stream",
     "text": [
      "INFO  : Cached data used. Use `pymaid.clear_cache()` to clear. (pymaid)\n",
      "INFO  : Found 1 neurons matching the search parameters (pymaid)\n",
      "INFO  : Fetching connectivity table for 1 neurons (pymaid)\n",
      "INFO  : Cached data used. Use `pymaid.clear_cache()` to clear. (pymaid)\n",
      "INFO  : Cached data used. Use `pymaid.clear_cache()` to clear. (pymaid)\n",
      "INFO  : Done. Found 31 pre-, 0 postsynaptic and 0 gap junction-connected neurons (pymaid)\n",
      "INFO  : Cached data used. Use `pymaid.clear_cache()` to clear. (pymaid)\n"
     ]
    },
    {
     "name": "stdout",
     "output_type": "stream",
     "text": [
      "\r"
     ]
    },
    {
     "data": {
      "application/vnd.jupyter.widget-view+json": {
       "model_id": "",
       "version_major": 2,
       "version_minor": 0
      },
      "text/plain": [
       "HBox(children=(IntProgress(value=0, description='Make nrn', max=1, style=ProgressStyle(description_width='init…"
      ]
     },
     "metadata": {},
     "output_type": "display_data"
    },
    {
     "name": "stderr",
     "output_type": "stream",
     "text": [
      "INFO  : Cached data used. Use `pymaid.clear_cache()` to clear. (pymaid)\n",
      "INFO  : Found 1 neurons matching the search parameters (pymaid)\n"
     ]
    },
    {
     "name": "stdout",
     "output_type": "stream",
     "text": [
      "\r"
     ]
    },
    {
     "name": "stderr",
     "output_type": "stream",
     "text": [
      "INFO  : Cached data used. Use `pymaid.clear_cache()` to clear. (pymaid)\n"
     ]
    },
    {
     "data": {
      "application/vnd.jupyter.widget-view+json": {
       "model_id": "",
       "version_major": 2,
       "version_minor": 0
      },
      "text/plain": [
       "HBox(children=(IntProgress(value=0, description='Make nrn', max=1, style=ProgressStyle(description_width='init…"
      ]
     },
     "metadata": {},
     "output_type": "display_data"
    },
    {
     "name": "stderr",
     "output_type": "stream",
     "text": [
      "INFO  : Cached data used. Use `pymaid.clear_cache()` to clear. (pymaid)\n",
      "INFO  : Found 1 neurons matching the search parameters (pymaid)\n",
      "INFO  : Fetching connectivity table for 1 neurons (pymaid)\n",
      "INFO  : Cached data used. Use `pymaid.clear_cache()` to clear. (pymaid)\n",
      "INFO  : Cached data used. Use `pymaid.clear_cache()` to clear. (pymaid)\n",
      "INFO  : Done. Found 31 pre-, 0 postsynaptic and 0 gap junction-connected neurons (pymaid)\n"
     ]
    },
    {
     "name": "stdout",
     "output_type": "stream",
     "text": [
      "\r"
     ]
    },
    {
     "name": "stderr",
     "output_type": "stream",
     "text": [
      "INFO  : Cached data used. Use `pymaid.clear_cache()` to clear. (pymaid)\n"
     ]
    },
    {
     "data": {
      "application/vnd.jupyter.widget-view+json": {
       "model_id": "",
       "version_major": 2,
       "version_minor": 0
      },
      "text/plain": [
       "HBox(children=(IntProgress(value=0, description='Make nrn', max=1, style=ProgressStyle(description_width='init…"
      ]
     },
     "metadata": {},
     "output_type": "display_data"
    },
    {
     "name": "stderr",
     "output_type": "stream",
     "text": [
      "INFO  : Cached data used. Use `pymaid.clear_cache()` to clear. (pymaid)\n",
      "INFO  : Found 1 neurons matching the search parameters (pymaid)\n",
      "INFO  : Cached data used. Use `pymaid.clear_cache()` to clear. (pymaid)\n"
     ]
    },
    {
     "name": "stdout",
     "output_type": "stream",
     "text": [
      "\r"
     ]
    },
    {
     "data": {
      "application/vnd.jupyter.widget-view+json": {
       "model_id": "",
       "version_major": 2,
       "version_minor": 0
      },
      "text/plain": [
       "HBox(children=(IntProgress(value=0, description='Make nrn', max=1, style=ProgressStyle(description_width='init…"
      ]
     },
     "metadata": {},
     "output_type": "display_data"
    },
    {
     "name": "stderr",
     "output_type": "stream",
     "text": [
      "INFO  : Cached data used. Use `pymaid.clear_cache()` to clear. (pymaid)\n",
      "INFO  : Found 1 neurons matching the search parameters (pymaid)\n",
      "INFO  : Fetching connectivity table for 1 neurons (pymaid)\n",
      "INFO  : Cached data used. Use `pymaid.clear_cache()` to clear. (pymaid)\n",
      "INFO  : Cached data used. Use `pymaid.clear_cache()` to clear. (pymaid)\n",
      "INFO  : Done. Found 40 pre-, 0 postsynaptic and 0 gap junction-connected neurons (pymaid)\n",
      "INFO  : Cached data used. Use `pymaid.clear_cache()` to clear. (pymaid)\n"
     ]
    },
    {
     "name": "stdout",
     "output_type": "stream",
     "text": [
      "\r"
     ]
    },
    {
     "data": {
      "application/vnd.jupyter.widget-view+json": {
       "model_id": "",
       "version_major": 2,
       "version_minor": 0
      },
      "text/plain": [
       "HBox(children=(IntProgress(value=0, description='Make nrn', max=1, style=ProgressStyle(description_width='init…"
      ]
     },
     "metadata": {},
     "output_type": "display_data"
    },
    {
     "name": "stdout",
     "output_type": "stream",
     "text": [
      "\r"
     ]
    },
    {
     "name": "stderr",
     "output_type": "stream",
     "text": [
      "INFO  : Cached data used. Use `pymaid.clear_cache()` to clear. (pymaid)\n",
      "INFO  : Found 1 neurons matching the search parameters (pymaid)\n",
      "INFO  : Cached data used. Use `pymaid.clear_cache()` to clear. (pymaid)\n"
     ]
    },
    {
     "data": {
      "application/vnd.jupyter.widget-view+json": {
       "model_id": "",
       "version_major": 2,
       "version_minor": 0
      },
      "text/plain": [
       "HBox(children=(IntProgress(value=0, description='Make nrn', max=1, style=ProgressStyle(description_width='init…"
      ]
     },
     "metadata": {},
     "output_type": "display_data"
    },
    {
     "name": "stderr",
     "output_type": "stream",
     "text": [
      "INFO  : Cached data used. Use `pymaid.clear_cache()` to clear. (pymaid)\n",
      "INFO  : Found 1 neurons matching the search parameters (pymaid)\n",
      "INFO  : Fetching connectivity table for 1 neurons (pymaid)\n",
      "INFO  : Cached data used. Use `pymaid.clear_cache()` to clear. (pymaid)\n",
      "INFO  : Cached data used. Use `pymaid.clear_cache()` to clear. (pymaid)\n",
      "INFO  : Done. Found 31 pre-, 0 postsynaptic and 0 gap junction-connected neurons (pymaid)\n",
      "INFO  : Cached data used. Use `pymaid.clear_cache()` to clear. (pymaid)\n"
     ]
    },
    {
     "name": "stdout",
     "output_type": "stream",
     "text": [
      "\r"
     ]
    },
    {
     "data": {
      "application/vnd.jupyter.widget-view+json": {
       "model_id": "",
       "version_major": 2,
       "version_minor": 0
      },
      "text/plain": [
       "HBox(children=(IntProgress(value=0, description='Make nrn', max=1, style=ProgressStyle(description_width='init…"
      ]
     },
     "metadata": {},
     "output_type": "display_data"
    },
    {
     "name": "stderr",
     "output_type": "stream",
     "text": [
      "INFO  : Cached data used. Use `pymaid.clear_cache()` to clear. (pymaid)\n",
      "INFO  : Found 1 neurons matching the search parameters (pymaid)\n",
      "INFO  : Cached data used. Use `pymaid.clear_cache()` to clear. (pymaid)\n"
     ]
    },
    {
     "name": "stdout",
     "output_type": "stream",
     "text": [
      "\r"
     ]
    },
    {
     "data": {
      "application/vnd.jupyter.widget-view+json": {
       "model_id": "",
       "version_major": 2,
       "version_minor": 0
      },
      "text/plain": [
       "HBox(children=(IntProgress(value=0, description='Make nrn', max=1, style=ProgressStyle(description_width='init…"
      ]
     },
     "metadata": {},
     "output_type": "display_data"
    },
    {
     "name": "stderr",
     "output_type": "stream",
     "text": [
      "INFO  : Cached data used. Use `pymaid.clear_cache()` to clear. (pymaid)\n",
      "INFO  : Found 1 neurons matching the search parameters (pymaid)\n",
      "INFO  : Fetching connectivity table for 1 neurons (pymaid)\n",
      "INFO  : Cached data used. Use `pymaid.clear_cache()` to clear. (pymaid)\n",
      "INFO  : Cached data used. Use `pymaid.clear_cache()` to clear. (pymaid)\n"
     ]
    },
    {
     "name": "stdout",
     "output_type": "stream",
     "text": [
      "\r"
     ]
    },
    {
     "name": "stderr",
     "output_type": "stream",
     "text": [
      "INFO  : Done. Found 31 pre-, 0 postsynaptic and 0 gap junction-connected neurons (pymaid)\n",
      "INFO  : Cached data used. Use `pymaid.clear_cache()` to clear. (pymaid)\n"
     ]
    },
    {
     "data": {
      "application/vnd.jupyter.widget-view+json": {
       "model_id": "",
       "version_major": 2,
       "version_minor": 0
      },
      "text/plain": [
       "HBox(children=(IntProgress(value=0, description='Make nrn', max=1, style=ProgressStyle(description_width='init…"
      ]
     },
     "metadata": {},
     "output_type": "display_data"
    },
    {
     "name": "stderr",
     "output_type": "stream",
     "text": [
      "INFO  : Cached data used. Use `pymaid.clear_cache()` to clear. (pymaid)\n",
      "INFO  : Found 1 neurons matching the search parameters (pymaid)\n",
      "INFO  : Cached data used. Use `pymaid.clear_cache()` to clear. (pymaid)\n"
     ]
    },
    {
     "name": "stdout",
     "output_type": "stream",
     "text": [
      "\r"
     ]
    },
    {
     "data": {
      "application/vnd.jupyter.widget-view+json": {
       "model_id": "",
       "version_major": 2,
       "version_minor": 0
      },
      "text/plain": [
       "HBox(children=(IntProgress(value=0, description='Make nrn', max=1, style=ProgressStyle(description_width='init…"
      ]
     },
     "metadata": {},
     "output_type": "display_data"
    },
    {
     "name": "stderr",
     "output_type": "stream",
     "text": [
      "INFO  : Cached data used. Use `pymaid.clear_cache()` to clear. (pymaid)\n",
      "INFO  : Found 1 neurons matching the search parameters (pymaid)\n",
      "INFO  : Fetching connectivity table for 1 neurons (pymaid)\n",
      "INFO  : Cached data used. Use `pymaid.clear_cache()` to clear. (pymaid)\n",
      "INFO  : Cached data used. Use `pymaid.clear_cache()` to clear. (pymaid)\n",
      "INFO  : Done. Found 52 pre-, 0 postsynaptic and 0 gap junction-connected neurons (pymaid)\n",
      "INFO  : Cached data used. Use `pymaid.clear_cache()` to clear. (pymaid)\n"
     ]
    },
    {
     "name": "stdout",
     "output_type": "stream",
     "text": [
      "\r"
     ]
    },
    {
     "data": {
      "application/vnd.jupyter.widget-view+json": {
       "model_id": "",
       "version_major": 2,
       "version_minor": 0
      },
      "text/plain": [
       "HBox(children=(IntProgress(value=0, description='Make nrn', max=1, style=ProgressStyle(description_width='init…"
      ]
     },
     "metadata": {},
     "output_type": "display_data"
    },
    {
     "name": "stderr",
     "output_type": "stream",
     "text": [
      "INFO  : Cached data used. Use `pymaid.clear_cache()` to clear. (pymaid)\n",
      "INFO  : Found 1 neurons matching the search parameters (pymaid)\n"
     ]
    },
    {
     "name": "stdout",
     "output_type": "stream",
     "text": [
      "\r"
     ]
    },
    {
     "data": {
      "application/vnd.jupyter.widget-view+json": {
       "model_id": "",
       "version_major": 2,
       "version_minor": 0
      },
      "text/plain": [
       "HBox(children=(IntProgress(value=0, description='Make nrn', max=1, style=ProgressStyle(description_width='init…"
      ]
     },
     "metadata": {},
     "output_type": "display_data"
    },
    {
     "name": "stderr",
     "output_type": "stream",
     "text": [
      "INFO  : Cached data used. Use `pymaid.clear_cache()` to clear. (pymaid)\n",
      "INFO  : Found 1 neurons matching the search parameters (pymaid)\n",
      "INFO  : Fetching connectivity table for 1 neurons (pymaid)\n",
      "INFO  : Cached data used. Use `pymaid.clear_cache()` to clear. (pymaid)\n",
      "INFO  : Cached data used. Use `pymaid.clear_cache()` to clear. (pymaid)\n",
      "INFO  : Done. Found 43 pre-, 0 postsynaptic and 0 gap junction-connected neurons (pymaid)\n",
      "INFO  : Cached data used. Use `pymaid.clear_cache()` to clear. (pymaid)\n"
     ]
    },
    {
     "name": "stdout",
     "output_type": "stream",
     "text": [
      "\r"
     ]
    },
    {
     "data": {
      "application/vnd.jupyter.widget-view+json": {
       "model_id": "",
       "version_major": 2,
       "version_minor": 0
      },
      "text/plain": [
       "HBox(children=(IntProgress(value=0, description='Make nrn', max=1, style=ProgressStyle(description_width='init…"
      ]
     },
     "metadata": {},
     "output_type": "display_data"
    },
    {
     "name": "stderr",
     "output_type": "stream",
     "text": [
      "INFO  : Cached data used. Use `pymaid.clear_cache()` to clear. (pymaid)\n",
      "INFO  : Found 1 neurons matching the search parameters (pymaid)\n",
      "INFO  : Cached data used. Use `pymaid.clear_cache()` to clear. (pymaid)\n"
     ]
    },
    {
     "name": "stdout",
     "output_type": "stream",
     "text": [
      "\r"
     ]
    },
    {
     "data": {
      "application/vnd.jupyter.widget-view+json": {
       "model_id": "",
       "version_major": 2,
       "version_minor": 0
      },
      "text/plain": [
       "HBox(children=(IntProgress(value=0, description='Make nrn', max=1, style=ProgressStyle(description_width='init…"
      ]
     },
     "metadata": {},
     "output_type": "display_data"
    },
    {
     "name": "stderr",
     "output_type": "stream",
     "text": [
      "INFO  : Cached data used. Use `pymaid.clear_cache()` to clear. (pymaid)\n",
      "INFO  : Found 1 neurons matching the search parameters (pymaid)\n",
      "INFO  : Fetching connectivity table for 1 neurons (pymaid)\n",
      "INFO  : Cached data used. Use `pymaid.clear_cache()` to clear. (pymaid)\n",
      "INFO  : Cached data used. Use `pymaid.clear_cache()` to clear. (pymaid)\n"
     ]
    },
    {
     "name": "stdout",
     "output_type": "stream",
     "text": [
      "\r"
     ]
    },
    {
     "name": "stderr",
     "output_type": "stream",
     "text": [
      "INFO  : Done. Found 43 pre-, 0 postsynaptic and 0 gap junction-connected neurons (pymaid)\n",
      "INFO  : Cached data used. Use `pymaid.clear_cache()` to clear. (pymaid)\n"
     ]
    },
    {
     "data": {
      "application/vnd.jupyter.widget-view+json": {
       "model_id": "",
       "version_major": 2,
       "version_minor": 0
      },
      "text/plain": [
       "HBox(children=(IntProgress(value=0, description='Make nrn', max=1, style=ProgressStyle(description_width='init…"
      ]
     },
     "metadata": {},
     "output_type": "display_data"
    },
    {
     "name": "stdout",
     "output_type": "stream",
     "text": [
      "\r"
     ]
    },
    {
     "name": "stderr",
     "output_type": "stream",
     "text": [
      "INFO  : Cached data used. Use `pymaid.clear_cache()` to clear. (pymaid)\n",
      "INFO  : Found 1 neurons matching the search parameters (pymaid)\n",
      "INFO  : Cached data used. Use `pymaid.clear_cache()` to clear. (pymaid)\n"
     ]
    },
    {
     "data": {
      "application/vnd.jupyter.widget-view+json": {
       "model_id": "",
       "version_major": 2,
       "version_minor": 0
      },
      "text/plain": [
       "HBox(children=(IntProgress(value=0, description='Make nrn', max=1, style=ProgressStyle(description_width='init…"
      ]
     },
     "metadata": {},
     "output_type": "display_data"
    },
    {
     "name": "stderr",
     "output_type": "stream",
     "text": [
      "INFO  : Cached data used. Use `pymaid.clear_cache()` to clear. (pymaid)\n",
      "INFO  : Found 1 neurons matching the search parameters (pymaid)\n",
      "INFO  : Fetching connectivity table for 1 neurons (pymaid)\n",
      "INFO  : Cached data used. Use `pymaid.clear_cache()` to clear. (pymaid)\n"
     ]
    },
    {
     "name": "stdout",
     "output_type": "stream",
     "text": [
      "\r"
     ]
    },
    {
     "name": "stderr",
     "output_type": "stream",
     "text": [
      "INFO  : Cached data used. Use `pymaid.clear_cache()` to clear. (pymaid)\n",
      "INFO  : Done. Found 40 pre-, 0 postsynaptic and 0 gap junction-connected neurons (pymaid)\n",
      "INFO  : Cached data used. Use `pymaid.clear_cache()` to clear. (pymaid)\n"
     ]
    },
    {
     "data": {
      "application/vnd.jupyter.widget-view+json": {
       "model_id": "",
       "version_major": 2,
       "version_minor": 0
      },
      "text/plain": [
       "HBox(children=(IntProgress(value=0, description='Make nrn', max=1, style=ProgressStyle(description_width='init…"
      ]
     },
     "metadata": {},
     "output_type": "display_data"
    },
    {
     "name": "stderr",
     "output_type": "stream",
     "text": [
      "INFO  : Cached data used. Use `pymaid.clear_cache()` to clear. (pymaid)\n",
      "INFO  : Found 1 neurons matching the search parameters (pymaid)\n",
      "INFO  : Cached data used. Use `pymaid.clear_cache()` to clear. (pymaid)\n"
     ]
    },
    {
     "name": "stdout",
     "output_type": "stream",
     "text": [
      "\r"
     ]
    },
    {
     "data": {
      "application/vnd.jupyter.widget-view+json": {
       "model_id": "",
       "version_major": 2,
       "version_minor": 0
      },
      "text/plain": [
       "HBox(children=(IntProgress(value=0, description='Make nrn', max=1, style=ProgressStyle(description_width='init…"
      ]
     },
     "metadata": {},
     "output_type": "display_data"
    },
    {
     "name": "stderr",
     "output_type": "stream",
     "text": [
      "INFO  : Cached data used. Use `pymaid.clear_cache()` to clear. (pymaid)\n",
      "INFO  : Found 1 neurons matching the search parameters (pymaid)\n",
      "INFO  : Fetching connectivity table for 1 neurons (pymaid)\n",
      "INFO  : Cached data used. Use `pymaid.clear_cache()` to clear. (pymaid)\n",
      "INFO  : Cached data used. Use `pymaid.clear_cache()` to clear. (pymaid)\n"
     ]
    },
    {
     "name": "stdout",
     "output_type": "stream",
     "text": [
      "\r"
     ]
    },
    {
     "name": "stderr",
     "output_type": "stream",
     "text": [
      "INFO  : Done. Found 43 pre-, 0 postsynaptic and 0 gap junction-connected neurons (pymaid)\n",
      "INFO  : Cached data used. Use `pymaid.clear_cache()` to clear. (pymaid)\n"
     ]
    },
    {
     "data": {
      "application/vnd.jupyter.widget-view+json": {
       "model_id": "",
       "version_major": 2,
       "version_minor": 0
      },
      "text/plain": [
       "HBox(children=(IntProgress(value=0, description='Make nrn', max=1, style=ProgressStyle(description_width='init…"
      ]
     },
     "metadata": {},
     "output_type": "display_data"
    },
    {
     "name": "stderr",
     "output_type": "stream",
     "text": [
      "INFO  : Cached data used. Use `pymaid.clear_cache()` to clear. (pymaid)\n",
      "INFO  : Found 1 neurons matching the search parameters (pymaid)\n",
      "INFO  : Cached data used. Use `pymaid.clear_cache()` to clear. (pymaid)\n"
     ]
    },
    {
     "name": "stdout",
     "output_type": "stream",
     "text": [
      "\r"
     ]
    },
    {
     "data": {
      "application/vnd.jupyter.widget-view+json": {
       "model_id": "",
       "version_major": 2,
       "version_minor": 0
      },
      "text/plain": [
       "HBox(children=(IntProgress(value=0, description='Make nrn', max=1, style=ProgressStyle(description_width='init…"
      ]
     },
     "metadata": {},
     "output_type": "display_data"
    },
    {
     "name": "stderr",
     "output_type": "stream",
     "text": [
      "INFO  : Cached data used. Use `pymaid.clear_cache()` to clear. (pymaid)\n",
      "INFO  : Found 1 neurons matching the search parameters (pymaid)\n",
      "INFO  : Fetching connectivity table for 1 neurons (pymaid)\n",
      "INFO  : Cached data used. Use `pymaid.clear_cache()` to clear. (pymaid)\n"
     ]
    },
    {
     "name": "stdout",
     "output_type": "stream",
     "text": [
      "\r"
     ]
    },
    {
     "name": "stderr",
     "output_type": "stream",
     "text": [
      "INFO  : Cached data used. Use `pymaid.clear_cache()` to clear. (pymaid)\n",
      "INFO  : Done. Found 43 pre-, 0 postsynaptic and 0 gap junction-connected neurons (pymaid)\n",
      "/srv/conda/lib/python3.7/site-packages/networkx/drawing/nx_pylab.py:611: MatplotlibDeprecationWarning:\n",
      "\n",
      "isinstance(..., numbers.Number)\n",
      "\n"
     ]
    },
    {
     "data": {
      "image/png": "[encoded data removed]",
      "text/plain": [
       "<Figure size 504x504 with 1 Axes>"
      ]
     },
     "metadata": {},
     "output_type": "display_data"
    }
   ],
   "source": [
    "def single_network(sen, tars, hugs,tr):\n",
    "\n",
    "    trips = single_triple(sen,tars,hugs,tr)\n",
    "    tarrs = tars.skeleton_id.tolist()\n",
    "    s_names = [triple[0] for triple in trips]\n",
    "    t_names = [pymaid.get_names(neuron)[neuron] for neuron in tarrs]\n",
    "    \n",
    "    G = nx.Graph()\n",
    "    colours = sns.color_palette('muted', 3)\n",
    "    source = pymaid.get_names(sen)[sen]\n",
    "    G.add_node(source)\n",
    "    for el in trips:\n",
    "        r1 = rank_idx(el[0],el[1],2,1)\n",
    "        r2 = rank_idx(el[0],el[2],2,1)\n",
    "        r3 = rank_idx(el[1],el[2],2,1)\n",
    "\n",
    "        G.add_node(el[1])\n",
    "        G.add_node(el[2])\n",
    "\n",
    "        G.add_edge(source,el[1],r = r1)\n",
    "        G.add_edge(source,el[2],r = r2)\n",
    "        G.add_edge(el[1],el[2], r = r3)\n",
    "        edge_labels = nx.get_edge_attributes(G,'r')\n",
    "\n",
    "    cmap = { n : colours[0] for n in s_names }\n",
    "    cmap.update( { n : colours[1] for n in t_names} )\n",
    "    cmap.update( { n : colours[2] for n in G.nodes if n not in s_names and n not in t_names })\n",
    "    pos = nx.layout.spring_layout(G,scale = 50)\n",
    "\n",
    "    fig, ax = plt.subplots(figsize=(7,7))\n",
    "    nx.draw_networkx_edge_labels(G, pos, edge_labels = edge_labels)\n",
    "    nx.draw(G, pos, node_color=[cmap[n] for n in G.nodes], ax = ax, with_labels = True)\n",
    "\n",
    "    ax.text(x=1,y=1,\n",
    "            s='source',\n",
    "            color=colours[0],\n",
    "            fontsize=10, ha='right', va='top',\n",
    "            transform=ax.transAxes)\n",
    "    ax.text(x=1,y=0.95,\n",
    "            s='target',\n",
    "            color=colours[1],\n",
    "            fontsize=10, ha='right', va='top',\n",
    "            transform=ax.transAxes)\n",
    "    ax.text(x=1,y=0.90,\n",
    "            s='interneuron',\n",
    "            color=colours[2],\n",
    "            fontsize=10, ha='right', va='top',\n",
    "            transform=ax.transAxes)\n",
    "    \n",
    "    ax.margins(0.1)\n",
    "    plt.show()\n",
    "    return G\n",
    "\n",
    "target = pymaid.find_neurons(annotations = 'IPCs')\n",
    "hugin = pymaid.find_neurons(annotations = 'Hugin PC')\n",
    "#s_skid = '13744425'\n",
    "single_graph = single_network('13744425',target,hugin,2)"
   ]
  },
  {
   "cell_type": "code",
   "execution_count": 16,
   "metadata": {},
   "outputs": [
    {
     "data": {
      "text/plain": [
       "<networkx.classes.graph.Graph at 0x7fdb25c24438>"
      ]
     },
     "execution_count": 16,
     "metadata": {},
     "output_type": "execute_result"
    }
   ],
   "source": [
    "single_graph"
   ]
  },
  {
   "cell_type": "markdown",
   "metadata": {},
   "source": [
    "Building upon the previous function, the function **all_networks()** plots a network of triples for multiple source neurons. As arguments it takes annotations of input, output and interneurons, and a synaptic threshold (the same arguments as all_triples()). \n",
    "\n",
    "It returns a graph with all the triples connected by appropriate edges, where the edge label is again the ranking index."
   ]
  },
  {
   "cell_type": "code",
   "execution_count": 18,
   "metadata": {},
   "outputs": [
    {
     "name": "stderr",
     "output_type": "stream",
     "text": [
      "INFO  : Cached data used. Use `pymaid.clear_cache()` to clear. (pymaid)\n"
     ]
    },
    {
     "data": {
      "application/vnd.jupyter.widget-view+json": {
       "model_id": "",
       "version_major": 2,
       "version_minor": 0
      },
      "text/plain": [
       "HBox(children=(IntProgress(value=0, description='Make nrn', max=6, style=ProgressStyle(description_width='init…"
      ]
     },
     "metadata": {},
     "output_type": "display_data"
    },
    {
     "name": "stderr",
     "output_type": "stream",
     "text": [
      "INFO  : Found 6 neurons matching the search parameters (pymaid)\n",
      "INFO  : Cached data used. Use `pymaid.clear_cache()` to clear. (pymaid)\n",
      "INFO  : Cached data used. Use `pymaid.clear_cache()` to clear. (pymaid)\n"
     ]
    },
    {
     "name": "stdout",
     "output_type": "stream",
     "text": [
      "\r"
     ]
    },
    {
     "data": {
      "application/vnd.jupyter.widget-view+json": {
       "model_id": "",
       "version_major": 2,
       "version_minor": 0
      },
      "text/plain": [
       "HBox(children=(IntProgress(value=0, description='Make nrn', max=14, style=ProgressStyle(description_width='ini…"
      ]
     },
     "metadata": {},
     "output_type": "display_data"
    },
    {
     "name": "stderr",
     "output_type": "stream",
     "text": [
      "INFO  : Cached data used. Use `pymaid.clear_cache()` to clear. (pymaid)\n",
      "INFO  : Found 14 neurons matching the search parameters (pymaid)\n",
      "INFO  : Cached data used. Use `pymaid.clear_cache()` to clear. (pymaid)\n"
     ]
    },
    {
     "name": "stdout",
     "output_type": "stream",
     "text": [
      "\r"
     ]
    },
    {
     "name": "stderr",
     "output_type": "stream",
     "text": [
      "INFO  : Cached data used. Use `pymaid.clear_cache()` to clear. (pymaid)\n"
     ]
    },
    {
     "data": {
      "application/vnd.jupyter.widget-view+json": {
       "model_id": "",
       "version_major": 2,
       "version_minor": 0
      },
      "text/plain": [
       "HBox(children=(IntProgress(value=0, description='Make nrn', max=8, style=ProgressStyle(description_width='init…"
      ]
     },
     "metadata": {},
     "output_type": "display_data"
    },
    {
     "name": "stderr",
     "output_type": "stream",
     "text": [
      "INFO  : Cached data used. Use `pymaid.clear_cache()` to clear. (pymaid)\n",
      "INFO  : Found 8 neurons matching the search parameters (pymaid)\n",
      "INFO  : Fetching connectivity table for 1 neurons (pymaid)\n"
     ]
    },
    {
     "name": "stdout",
     "output_type": "stream",
     "text": [
      "\r"
     ]
    },
    {
     "name": "stderr",
     "output_type": "stream",
     "text": [
      "INFO  : Done. Found 0 pre-, 13 postsynaptic and 0 gap junction-connected neurons (pymaid)\n",
      "INFO  : Fetching connectivity table for 1 neurons (pymaid)\n",
      "INFO  : Cached data used. Use `pymaid.clear_cache()` to clear. (pymaid)\n",
      "INFO  : Cached data used. Use `pymaid.clear_cache()` to clear. (pymaid)\n",
      "INFO  : Done. Found 0 pre-, 13 postsynaptic and 0 gap junction-connected neurons (pymaid)\n",
      "INFO  : Fetching connectivity table for 1 neurons (pymaid)\n",
      "INFO  : Cached data used. Use `pymaid.clear_cache()` to clear. (pymaid)\n",
      "INFO  : Cached data used. Use `pymaid.clear_cache()` to clear. (pymaid)\n",
      "INFO  : Done. Found 22 pre-, 0 postsynaptic and 0 gap junction-connected neurons (pymaid)\n",
      "INFO  : Cached data used. Use `pymaid.clear_cache()` to clear. (pymaid)\n",
      "INFO  : Fetching connectivity table for 1 neurons (pymaid)\n",
      "INFO  : Done. Found 0 pre-, 32 postsynaptic and 0 gap junction-connected neurons (pymaid)\n",
      "INFO  : Fetching connectivity table for 1 neurons (pymaid)\n",
      "INFO  : Cached data used. Use `pymaid.clear_cache()` to clear. (pymaid)\n",
      "INFO  : Cached data used. Use `pymaid.clear_cache()` to clear. (pymaid)\n",
      "INFO  : Done. Found 0 pre-, 32 postsynaptic and 0 gap junction-connected neurons (pymaid)\n",
      "INFO  : Fetching connectivity table for 1 neurons (pymaid)\n",
      "INFO  : Cached data used. Use `pymaid.clear_cache()` to clear. (pymaid)\n",
      "INFO  : Cached data used. Use `pymaid.clear_cache()` to clear. (pymaid)\n",
      "INFO  : Done. Found 25 pre-, 0 postsynaptic and 0 gap junction-connected neurons (pymaid)\n",
      "INFO  : Fetching connectivity table for 1 neurons (pymaid)\n",
      "INFO  : Done. Found 25 pre-, 0 postsynaptic and 0 gap junction-connected neurons (pymaid)\n",
      "INFO  : Fetching connectivity table for 1 neurons (pymaid)\n",
      "INFO  : Cached data used. Use `pymaid.clear_cache()` to clear. (pymaid)\n",
      "INFO  : Cached data used. Use `pymaid.clear_cache()` to clear. (pymaid)\n",
      "INFO  : Done. Found 22 pre-, 0 postsynaptic and 0 gap junction-connected neurons (pymaid)\n",
      "INFO  : Fetching connectivity table for 1 neurons (pymaid)\n",
      "INFO  : Cached data used. Use `pymaid.clear_cache()` to clear. (pymaid)\n",
      "INFO  : Cached data used. Use `pymaid.clear_cache()` to clear. (pymaid)\n",
      "INFO  : Done. Found 19 pre-, 0 postsynaptic and 0 gap junction-connected neurons (pymaid)\n",
      "INFO  : Fetching connectivity table for 1 neurons (pymaid)\n",
      "INFO  : Cached data used. Use `pymaid.clear_cache()` to clear. (pymaid)\n",
      "INFO  : Cached data used. Use `pymaid.clear_cache()` to clear. (pymaid)\n",
      "INFO  : Done. Found 29 pre-, 0 postsynaptic and 0 gap junction-connected neurons (pymaid)\n",
      "INFO  : Cached data used. Use `pymaid.clear_cache()` to clear. (pymaid)\n",
      "INFO  : Cached data used. Use `pymaid.clear_cache()` to clear. (pymaid)\n",
      "INFO  : Cached data used. Use `pymaid.clear_cache()` to clear. (pymaid)\n",
      "INFO  : Cached data used. Use `pymaid.clear_cache()` to clear. (pymaid)\n",
      "INFO  : Cached data used. Use `pymaid.clear_cache()` to clear. (pymaid)\n",
      "INFO  : Cached data used. Use `pymaid.clear_cache()` to clear. (pymaid)\n",
      "INFO  : Cached data used. Use `pymaid.clear_cache()` to clear. (pymaid)\n",
      "INFO  : Cached data used. Use `pymaid.clear_cache()` to clear. (pymaid)\n",
      "INFO  : Fetching connectivity table for 1 neurons (pymaid)\n",
      "INFO  : Done. Found 0 pre-, 42 postsynaptic and 0 gap junction-connected neurons (pymaid)\n",
      "INFO  : Fetching connectivity table for 1 neurons (pymaid)\n",
      "INFO  : Cached data used. Use `pymaid.clear_cache()` to clear. (pymaid)\n",
      "INFO  : Cached data used. Use `pymaid.clear_cache()` to clear. (pymaid)\n",
      "INFO  : Done. Found 0 pre-, 42 postsynaptic and 0 gap junction-connected neurons (pymaid)\n",
      "INFO  : Fetching connectivity table for 1 neurons (pymaid)\n",
      "INFO  : Cached data used. Use `pymaid.clear_cache()` to clear. (pymaid)\n",
      "INFO  : Cached data used. Use `pymaid.clear_cache()` to clear. (pymaid)\n",
      "INFO  : Done. Found 25 pre-, 0 postsynaptic and 0 gap junction-connected neurons (pymaid)\n",
      "INFO  : Fetching connectivity table for 1 neurons (pymaid)\n",
      "INFO  : Cached data used. Use `pymaid.clear_cache()` to clear. (pymaid)\n",
      "INFO  : Cached data used. Use `pymaid.clear_cache()` to clear. (pymaid)\n",
      "INFO  : Done. Found 19 pre-, 0 postsynaptic and 0 gap junction-connected neurons (pymaid)\n",
      "INFO  : Fetching connectivity table for 1 neurons (pymaid)\n",
      "INFO  : Done. Found 19 pre-, 0 postsynaptic and 0 gap junction-connected neurons (pymaid)\n",
      "INFO  : Fetching connectivity table for 1 neurons (pymaid)\n",
      "INFO  : Done. Found 17 pre-, 0 postsynaptic and 0 gap junction-connected neurons (pymaid)\n",
      "INFO  : Fetching connectivity table for 1 neurons (pymaid)\n",
      "INFO  : Done. Found 16 pre-, 0 postsynaptic and 0 gap junction-connected neurons (pymaid)\n",
      "INFO  : Fetching connectivity table for 1 neurons (pymaid)\n",
      "INFO  : Cached data used. Use `pymaid.clear_cache()` to clear. (pymaid)\n",
      "INFO  : Cached data used. Use `pymaid.clear_cache()` to clear. (pymaid)\n",
      "INFO  : Done. Found 22 pre-, 0 postsynaptic and 0 gap junction-connected neurons (pymaid)\n",
      "INFO  : Fetching connectivity table for 1 neurons (pymaid)\n",
      "INFO  : Cached data used. Use `pymaid.clear_cache()` to clear. (pymaid)\n",
      "INFO  : Cached data used. Use `pymaid.clear_cache()` to clear. (pymaid)\n",
      "INFO  : Done. Found 29 pre-, 0 postsynaptic and 0 gap junction-connected neurons (pymaid)\n",
      "INFO  : Cached data used. Use `pymaid.clear_cache()` to clear. (pymaid)\n",
      "INFO  : Cached data used. Use `pymaid.clear_cache()` to clear. (pymaid)\n",
      "INFO  : Cached data used. Use `pymaid.clear_cache()` to clear. (pymaid)\n",
      "INFO  : Cached data used. Use `pymaid.clear_cache()` to clear. (pymaid)\n",
      "INFO  : Cached data used. Use `pymaid.clear_cache()` to clear. (pymaid)\n",
      "INFO  : Cached data used. Use `pymaid.clear_cache()` to clear. (pymaid)\n",
      "INFO  : Fetching connectivity table for 1 neurons (pymaid)\n",
      "INFO  : Done. Found 0 pre-, 22 postsynaptic and 0 gap junction-connected neurons (pymaid)\n",
      "INFO  : Fetching connectivity table for 1 neurons (pymaid)\n",
      "INFO  : Cached data used. Use `pymaid.clear_cache()` to clear. (pymaid)\n",
      "INFO  : Cached data used. Use `pymaid.clear_cache()` to clear. (pymaid)\n",
      "INFO  : Done. Found 0 pre-, 22 postsynaptic and 0 gap junction-connected neurons (pymaid)\n",
      "INFO  : Fetching connectivity table for 1 neurons (pymaid)\n",
      "INFO  : Done. Found 19 pre-, 0 postsynaptic and 0 gap junction-connected neurons (pymaid)\n",
      "INFO  : Cached data used. Use `pymaid.clear_cache()` to clear. (pymaid)\n",
      "INFO  : Cached data used. Use `pymaid.clear_cache()` to clear. (pymaid)\n",
      "INFO  : Cached data used. Use `pymaid.clear_cache()` to clear. (pymaid)\n",
      "INFO  : Fetching connectivity table for 1 neurons (pymaid)\n",
      "INFO  : Cached data used. Use `pymaid.clear_cache()` to clear. (pymaid)\n",
      "INFO  : Cached data used. Use `pymaid.clear_cache()` to clear. (pymaid)\n",
      "INFO  : Done. Found 0 pre-, 50 postsynaptic and 0 gap junction-connected neurons (pymaid)\n",
      "INFO  : Fetching connectivity table for 1 neurons (pymaid)\n",
      "INFO  : Cached data used. Use `pymaid.clear_cache()` to clear. (pymaid)\n",
      "INFO  : Cached data used. Use `pymaid.clear_cache()` to clear. (pymaid)\n",
      "INFO  : Done. Found 0 pre-, 50 postsynaptic and 0 gap junction-connected neurons (pymaid)\n",
      "INFO  : Fetching connectivity table for 1 neurons (pymaid)\n",
      "INFO  : Cached data used. Use `pymaid.clear_cache()` to clear. (pymaid)\n",
      "INFO  : Cached data used. Use `pymaid.clear_cache()` to clear. (pymaid)\n",
      "INFO  : Done. Found 23 pre-, 0 postsynaptic and 0 gap junction-connected neurons (pymaid)\n",
      "INFO  : Fetching connectivity table for 1 neurons (pymaid)\n",
      "INFO  : Cached data used. Use `pymaid.clear_cache()` to clear. (pymaid)\n",
      "INFO  : Cached data used. Use `pymaid.clear_cache()` to clear. (pymaid)\n",
      "INFO  : Done. Found 25 pre-, 0 postsynaptic and 0 gap junction-connected neurons (pymaid)\n",
      "INFO  : Fetching connectivity table for 1 neurons (pymaid)\n",
      "INFO  : Cached data used. Use `pymaid.clear_cache()` to clear. (pymaid)\n",
      "INFO  : Cached data used. Use `pymaid.clear_cache()` to clear. (pymaid)\n",
      "INFO  : Done. Found 22 pre-, 0 postsynaptic and 0 gap junction-connected neurons (pymaid)\n",
      "INFO  : Fetching connectivity table for 1 neurons (pymaid)\n",
      "INFO  : Cached data used. Use `pymaid.clear_cache()` to clear. (pymaid)\n",
      "INFO  : Cached data used. Use `pymaid.clear_cache()` to clear. (pymaid)\n",
      "INFO  : Done. Found 19 pre-, 0 postsynaptic and 0 gap junction-connected neurons (pymaid)\n",
      "INFO  : Fetching connectivity table for 1 neurons (pymaid)\n",
      "INFO  : Cached data used. Use `pymaid.clear_cache()` to clear. (pymaid)\n",
      "INFO  : Cached data used. Use `pymaid.clear_cache()` to clear. (pymaid)\n",
      "INFO  : Done. Found 15 pre-, 0 postsynaptic and 0 gap junction-connected neurons (pymaid)\n",
      "INFO  : Fetching connectivity table for 1 neurons (pymaid)\n",
      "INFO  : Cached data used. Use `pymaid.clear_cache()` to clear. (pymaid)\n",
      "INFO  : Cached data used. Use `pymaid.clear_cache()` to clear. (pymaid)\n",
      "INFO  : Done. Found 22 pre-, 0 postsynaptic and 0 gap junction-connected neurons (pymaid)\n",
      "INFO  : Fetching connectivity table for 1 neurons (pymaid)\n",
      "INFO  : Cached data used. Use `pymaid.clear_cache()` to clear. (pymaid)\n",
      "INFO  : Cached data used. Use `pymaid.clear_cache()` to clear. (pymaid)\n",
      "INFO  : Done. Found 29 pre-, 0 postsynaptic and 0 gap junction-connected neurons (pymaid)\n",
      "INFO  : Fetching connectivity table for 1 neurons (pymaid)\n",
      "INFO  : Cached data used. Use `pymaid.clear_cache()` to clear. (pymaid)\n",
      "INFO  : Cached data used. Use `pymaid.clear_cache()` to clear. (pymaid)\n",
      "INFO  : Done. Found 16 pre-, 0 postsynaptic and 0 gap junction-connected neurons (pymaid)\n",
      "INFO  : Cached data used. Use `pymaid.clear_cache()` to clear. (pymaid)\n",
      "INFO  : Cached data used. Use `pymaid.clear_cache()` to clear. (pymaid)\n",
      "INFO  : Cached data used. Use `pymaid.clear_cache()` to clear. (pymaid)\n",
      "INFO  : Cached data used. Use `pymaid.clear_cache()` to clear. (pymaid)\n",
      "INFO  : Cached data used. Use `pymaid.clear_cache()` to clear. (pymaid)\n",
      "INFO  : Cached data used. Use `pymaid.clear_cache()` to clear. (pymaid)\n",
      "INFO  : Cached data used. Use `pymaid.clear_cache()` to clear. (pymaid)\n",
      "INFO  : Cached data used. Use `pymaid.clear_cache()` to clear. (pymaid)\n",
      "INFO  : Cached data used. Use `pymaid.clear_cache()` to clear. (pymaid)\n",
      "INFO  : Cached data used. Use `pymaid.clear_cache()` to clear. (pymaid)\n",
      "INFO  : Cached data used. Use `pymaid.clear_cache()` to clear. (pymaid)\n",
      "INFO  : Cached data used. Use `pymaid.clear_cache()` to clear. (pymaid)\n",
      "INFO  : Cached data used. Use `pymaid.clear_cache()` to clear. (pymaid)\n",
      "INFO  : Cached data used. Use `pymaid.clear_cache()` to clear. (pymaid)\n",
      "INFO  : Cached data used. Use `pymaid.clear_cache()` to clear. (pymaid)\n",
      "INFO  : Cached data used. Use `pymaid.clear_cache()` to clear. (pymaid)\n",
      "INFO  : Cached data used. Use `pymaid.clear_cache()` to clear. (pymaid)\n",
      "INFO  : Cached data used. Use `pymaid.clear_cache()` to clear. (pymaid)\n",
      "INFO  : Cached data used. Use `pymaid.clear_cache()` to clear. (pymaid)\n",
      "INFO  : Cached data used. Use `pymaid.clear_cache()` to clear. (pymaid)\n",
      "INFO  : Cached data used. Use `pymaid.clear_cache()` to clear. (pymaid)\n",
      "INFO  : Fetching connectivity table for 1 neurons (pymaid)\n",
      "INFO  : Done. Found 0 pre-, 9 postsynaptic and 0 gap junction-connected neurons (pymaid)\n",
      "INFO  : Fetching connectivity table for 1 neurons (pymaid)\n",
      "INFO  : Cached data used. Use `pymaid.clear_cache()` to clear. (pymaid)\n",
      "INFO  : Cached data used. Use `pymaid.clear_cache()` to clear. (pymaid)\n",
      "INFO  : Done. Found 0 pre-, 9 postsynaptic and 0 gap junction-connected neurons (pymaid)\n",
      "INFO  : Fetching connectivity table for 1 neurons (pymaid)\n",
      "INFO  : Cached data used. Use `pymaid.clear_cache()` to clear. (pymaid)\n",
      "INFO  : Cached data used. Use `pymaid.clear_cache()` to clear. (pymaid)\n",
      "INFO  : Done. Found 15 pre-, 0 postsynaptic and 0 gap junction-connected neurons (pymaid)\n",
      "INFO  : Fetching connectivity table for 1 neurons (pymaid)\n",
      "INFO  : Cached data used. Use `pymaid.clear_cache()` to clear. (pymaid)\n",
      "INFO  : Cached data used. Use `pymaid.clear_cache()` to clear. (pymaid)\n",
      "INFO  : Done. Found 22 pre-, 0 postsynaptic and 0 gap junction-connected neurons (pymaid)\n",
      "INFO  : Cached data used. Use `pymaid.clear_cache()` to clear. (pymaid)\n",
      "INFO  : Cached data used. Use `pymaid.clear_cache()` to clear. (pymaid)\n",
      "INFO  : Cached data used. Use `pymaid.clear_cache()` to clear. (pymaid)\n",
      "INFO  : Cached data used. Use `pymaid.clear_cache()` to clear. (pymaid)\n"
     ]
    },
    {
     "data": {
      "application/vnd.jupyter.widget-view+json": {
       "model_id": "",
       "version_major": 2,
       "version_minor": 0
      },
      "text/plain": [
       "HBox(children=(IntProgress(value=0, description='Make nrn', max=1, style=ProgressStyle(description_width='init…"
      ]
     },
     "metadata": {},
     "output_type": "display_data"
    },
    {
     "name": "stderr",
     "output_type": "stream",
     "text": [
      "INFO  : Cached data used. Use `pymaid.clear_cache()` to clear. (pymaid)\n",
      "INFO  : Found 1 neurons matching the search parameters (pymaid)\n"
     ]
    },
    {
     "name": "stdout",
     "output_type": "stream",
     "text": [
      "\r"
     ]
    },
    {
     "data": {
      "application/vnd.jupyter.widget-view+json": {
       "model_id": "",
       "version_major": 2,
       "version_minor": 0
      },
      "text/plain": [
       "HBox(children=(IntProgress(value=0, description='Make nrn', max=1, style=ProgressStyle(description_width='init…"
      ]
     },
     "metadata": {},
     "output_type": "display_data"
    },
    {
     "name": "stderr",
     "output_type": "stream",
     "text": [
      "INFO  : Cached data used. Use `pymaid.clear_cache()` to clear. (pymaid)\n",
      "INFO  : Found 1 neurons matching the search parameters (pymaid)\n",
      "INFO  : Fetching connectivity table for 1 neurons (pymaid)\n"
     ]
    },
    {
     "name": "stdout",
     "output_type": "stream",
     "text": [
      "\r"
     ]
    },
    {
     "name": "stderr",
     "output_type": "stream",
     "text": [
      "INFO  : Done. Found 48 pre-, 0 postsynaptic and 0 gap junction-connected neurons (pymaid)\n",
      "INFO  : Cached data used. Use `pymaid.clear_cache()` to clear. (pymaid)\n"
     ]
    },
    {
     "data": {
      "application/vnd.jupyter.widget-view+json": {
       "model_id": "",
       "version_major": 2,
       "version_minor": 0
      },
      "text/plain": [
       "HBox(children=(IntProgress(value=0, description='Make nrn', max=1, style=ProgressStyle(description_width='init…"
      ]
     },
     "metadata": {},
     "output_type": "display_data"
    },
    {
     "name": "stderr",
     "output_type": "stream",
     "text": [
      "INFO  : Cached data used. Use `pymaid.clear_cache()` to clear. (pymaid)\n",
      "INFO  : Found 1 neurons matching the search parameters (pymaid)\n",
      "INFO  : Cached data used. Use `pymaid.clear_cache()` to clear. (pymaid)\n"
     ]
    },
    {
     "name": "stdout",
     "output_type": "stream",
     "text": [
      "\r"
     ]
    },
    {
     "data": {
      "application/vnd.jupyter.widget-view+json": {
       "model_id": "",
       "version_major": 2,
       "version_minor": 0
      },
      "text/plain": [
       "HBox(children=(IntProgress(value=0, description='Make nrn', max=1, style=ProgressStyle(description_width='init…"
      ]
     },
     "metadata": {},
     "output_type": "display_data"
    },
    {
     "name": "stderr",
     "output_type": "stream",
     "text": [
      "INFO  : Cached data used. Use `pymaid.clear_cache()` to clear. (pymaid)\n",
      "INFO  : Found 1 neurons matching the search parameters (pymaid)\n",
      "INFO  : Fetching connectivity table for 1 neurons (pymaid)\n",
      "INFO  : Cached data used. Use `pymaid.clear_cache()` to clear. (pymaid)\n",
      "INFO  : Cached data used. Use `pymaid.clear_cache()` to clear. (pymaid)\n",
      "INFO  : Done. Found 38 pre-, 0 postsynaptic and 0 gap junction-connected neurons (pymaid)\n",
      "INFO  : Cached data used. Use `pymaid.clear_cache()` to clear. (pymaid)\n"
     ]
    },
    {
     "name": "stdout",
     "output_type": "stream",
     "text": [
      "\r"
     ]
    },
    {
     "data": {
      "application/vnd.jupyter.widget-view+json": {
       "model_id": "",
       "version_major": 2,
       "version_minor": 0
      },
      "text/plain": [
       "HBox(children=(IntProgress(value=0, description='Make nrn', max=1, style=ProgressStyle(description_width='init…"
      ]
     },
     "metadata": {},
     "output_type": "display_data"
    },
    {
     "name": "stderr",
     "output_type": "stream",
     "text": [
      "INFO  : Cached data used. Use `pymaid.clear_cache()` to clear. (pymaid)\n",
      "INFO  : Found 1 neurons matching the search parameters (pymaid)\n",
      "INFO  : Cached data used. Use `pymaid.clear_cache()` to clear. (pymaid)\n"
     ]
    },
    {
     "name": "stdout",
     "output_type": "stream",
     "text": [
      "\r"
     ]
    },
    {
     "data": {
      "application/vnd.jupyter.widget-view+json": {
       "model_id": "",
       "version_major": 2,
       "version_minor": 0
      },
      "text/plain": [
       "HBox(children=(IntProgress(value=0, description='Make nrn', max=1, style=ProgressStyle(description_width='init…"
      ]
     },
     "metadata": {},
     "output_type": "display_data"
    },
    {
     "name": "stderr",
     "output_type": "stream",
     "text": [
      "INFO  : Cached data used. Use `pymaid.clear_cache()` to clear. (pymaid)\n",
      "INFO  : Found 1 neurons matching the search parameters (pymaid)\n",
      "INFO  : Fetching connectivity table for 1 neurons (pymaid)\n",
      "INFO  : Cached data used. Use `pymaid.clear_cache()` to clear. (pymaid)\n",
      "INFO  : Cached data used. Use `pymaid.clear_cache()` to clear. (pymaid)\n"
     ]
    },
    {
     "name": "stdout",
     "output_type": "stream",
     "text": [
      "\r"
     ]
    },
    {
     "name": "stderr",
     "output_type": "stream",
     "text": [
      "INFO  : Done. Found 38 pre-, 0 postsynaptic and 0 gap junction-connected neurons (pymaid)\n",
      "INFO  : Cached data used. Use `pymaid.clear_cache()` to clear. (pymaid)\n"
     ]
    },
    {
     "data": {
      "application/vnd.jupyter.widget-view+json": {
       "model_id": "",
       "version_major": 2,
       "version_minor": 0
      },
      "text/plain": [
       "HBox(children=(IntProgress(value=0, description='Make nrn', max=1, style=ProgressStyle(description_width='init…"
      ]
     },
     "metadata": {},
     "output_type": "display_data"
    },
    {
     "name": "stderr",
     "output_type": "stream",
     "text": [
      "INFO  : Cached data used. Use `pymaid.clear_cache()` to clear. (pymaid)\n",
      "INFO  : Found 1 neurons matching the search parameters (pymaid)\n"
     ]
    },
    {
     "name": "stdout",
     "output_type": "stream",
     "text": [
      "\r"
     ]
    },
    {
     "data": {
      "application/vnd.jupyter.widget-view+json": {
       "model_id": "",
       "version_major": 2,
       "version_minor": 0
      },
      "text/plain": [
       "HBox(children=(IntProgress(value=0, description='Make nrn', max=1, style=ProgressStyle(description_width='init…"
      ]
     },
     "metadata": {},
     "output_type": "display_data"
    },
    {
     "name": "stderr",
     "output_type": "stream",
     "text": [
      "INFO  : Cached data used. Use `pymaid.clear_cache()` to clear. (pymaid)\n",
      "INFO  : Found 1 neurons matching the search parameters (pymaid)\n",
      "INFO  : Fetching connectivity table for 1 neurons (pymaid)\n"
     ]
    },
    {
     "name": "stdout",
     "output_type": "stream",
     "text": [
      "\r"
     ]
    },
    {
     "name": "stderr",
     "output_type": "stream",
     "text": [
      "INFO  : Done. Found 45 pre-, 0 postsynaptic and 0 gap junction-connected neurons (pymaid)\n",
      "INFO  : Cached data used. Use `pymaid.clear_cache()` to clear. (pymaid)\n"
     ]
    },
    {
     "data": {
      "application/vnd.jupyter.widget-view+json": {
       "model_id": "",
       "version_major": 2,
       "version_minor": 0
      },
      "text/plain": [
       "HBox(children=(IntProgress(value=0, description='Make nrn', max=1, style=ProgressStyle(description_width='init…"
      ]
     },
     "metadata": {},
     "output_type": "display_data"
    },
    {
     "name": "stderr",
     "output_type": "stream",
     "text": [
      "INFO  : Cached data used. Use `pymaid.clear_cache()` to clear. (pymaid)\n",
      "INFO  : Found 1 neurons matching the search parameters (pymaid)\n"
     ]
    },
    {
     "name": "stdout",
     "output_type": "stream",
     "text": [
      "\r"
     ]
    },
    {
     "data": {
      "application/vnd.jupyter.widget-view+json": {
       "model_id": "",
       "version_major": 2,
       "version_minor": 0
      },
      "text/plain": [
       "HBox(children=(IntProgress(value=0, description='Make nrn', max=1, style=ProgressStyle(description_width='init…"
      ]
     },
     "metadata": {},
     "output_type": "display_data"
    },
    {
     "name": "stderr",
     "output_type": "stream",
     "text": [
      "INFO  : Cached data used. Use `pymaid.clear_cache()` to clear. (pymaid)\n",
      "INFO  : Found 1 neurons matching the search parameters (pymaid)\n",
      "INFO  : Fetching connectivity table for 1 neurons (pymaid)\n",
      "INFO  : Cached data used. Use `pymaid.clear_cache()` to clear. (pymaid)\n",
      "INFO  : Cached data used. Use `pymaid.clear_cache()` to clear. (pymaid)\n",
      "INFO  : Done. Found 44 pre-, 0 postsynaptic and 0 gap junction-connected neurons (pymaid)\n",
      "INFO  : Cached data used. Use `pymaid.clear_cache()` to clear. (pymaid)\n"
     ]
    },
    {
     "name": "stdout",
     "output_type": "stream",
     "text": [
      "\r"
     ]
    },
    {
     "data": {
      "application/vnd.jupyter.widget-view+json": {
       "model_id": "",
       "version_major": 2,
       "version_minor": 0
      },
      "text/plain": [
       "HBox(children=(IntProgress(value=0, description='Make nrn', max=1, style=ProgressStyle(description_width='init…"
      ]
     },
     "metadata": {},
     "output_type": "display_data"
    },
    {
     "name": "stderr",
     "output_type": "stream",
     "text": [
      "INFO  : Cached data used. Use `pymaid.clear_cache()` to clear. (pymaid)\n",
      "INFO  : Found 1 neurons matching the search parameters (pymaid)\n",
      "INFO  : Cached data used. Use `pymaid.clear_cache()` to clear. (pymaid)\n"
     ]
    },
    {
     "name": "stdout",
     "output_type": "stream",
     "text": [
      "\r"
     ]
    },
    {
     "data": {
      "application/vnd.jupyter.widget-view+json": {
       "model_id": "",
       "version_major": 2,
       "version_minor": 0
      },
      "text/plain": [
       "HBox(children=(IntProgress(value=0, description='Make nrn', max=1, style=ProgressStyle(description_width='init…"
      ]
     },
     "metadata": {},
     "output_type": "display_data"
    },
    {
     "name": "stderr",
     "output_type": "stream",
     "text": [
      "INFO  : Cached data used. Use `pymaid.clear_cache()` to clear. (pymaid)\n",
      "INFO  : Found 1 neurons matching the search parameters (pymaid)\n",
      "INFO  : Fetching connectivity table for 1 neurons (pymaid)\n",
      "INFO  : Cached data used. Use `pymaid.clear_cache()` to clear. (pymaid)\n",
      "INFO  : Cached data used. Use `pymaid.clear_cache()` to clear. (pymaid)\n"
     ]
    },
    {
     "name": "stdout",
     "output_type": "stream",
     "text": [
      "\r"
     ]
    },
    {
     "name": "stderr",
     "output_type": "stream",
     "text": [
      "INFO  : Done. Found 44 pre-, 0 postsynaptic and 0 gap junction-connected neurons (pymaid)\n",
      "INFO  : Cached data used. Use `pymaid.clear_cache()` to clear. (pymaid)\n"
     ]
    },
    {
     "data": {
      "application/vnd.jupyter.widget-view+json": {
       "model_id": "",
       "version_major": 2,
       "version_minor": 0
      },
      "text/plain": [
       "HBox(children=(IntProgress(value=0, description='Make nrn', max=1, style=ProgressStyle(description_width='init…"
      ]
     },
     "metadata": {},
     "output_type": "display_data"
    },
    {
     "name": "stderr",
     "output_type": "stream",
     "text": [
      "INFO  : Cached data used. Use `pymaid.clear_cache()` to clear. (pymaid)\n",
      "INFO  : Found 1 neurons matching the search parameters (pymaid)\n",
      "INFO  : Cached data used. Use `pymaid.clear_cache()` to clear. (pymaid)\n"
     ]
    },
    {
     "name": "stdout",
     "output_type": "stream",
     "text": [
      "\r"
     ]
    },
    {
     "data": {
      "application/vnd.jupyter.widget-view+json": {
       "model_id": "",
       "version_major": 2,
       "version_minor": 0
      },
      "text/plain": [
       "HBox(children=(IntProgress(value=0, description='Make nrn', max=1, style=ProgressStyle(description_width='init…"
      ]
     },
     "metadata": {},
     "output_type": "display_data"
    },
    {
     "name": "stderr",
     "output_type": "stream",
     "text": [
      "INFO  : Cached data used. Use `pymaid.clear_cache()` to clear. (pymaid)\n",
      "INFO  : Found 1 neurons matching the search parameters (pymaid)\n",
      "INFO  : Fetching connectivity table for 1 neurons (pymaid)\n",
      "INFO  : Cached data used. Use `pymaid.clear_cache()` to clear. (pymaid)\n",
      "INFO  : Cached data used. Use `pymaid.clear_cache()` to clear. (pymaid)\n",
      "INFO  : Done. Found 48 pre-, 0 postsynaptic and 0 gap junction-connected neurons (pymaid)\n",
      "INFO  : Cached data used. Use `pymaid.clear_cache()` to clear. (pymaid)\n"
     ]
    },
    {
     "name": "stdout",
     "output_type": "stream",
     "text": [
      "\r"
     ]
    },
    {
     "data": {
      "application/vnd.jupyter.widget-view+json": {
       "model_id": "",
       "version_major": 2,
       "version_minor": 0
      },
      "text/plain": [
       "HBox(children=(IntProgress(value=0, description='Make nrn', max=1, style=ProgressStyle(description_width='init…"
      ]
     },
     "metadata": {},
     "output_type": "display_data"
    },
    {
     "name": "stderr",
     "output_type": "stream",
     "text": [
      "INFO  : Cached data used. Use `pymaid.clear_cache()` to clear. (pymaid)\n",
      "INFO  : Found 1 neurons matching the search parameters (pymaid)\n"
     ]
    },
    {
     "name": "stdout",
     "output_type": "stream",
     "text": [
      "\r"
     ]
    },
    {
     "data": {
      "application/vnd.jupyter.widget-view+json": {
       "model_id": "",
       "version_major": 2,
       "version_minor": 0
      },
      "text/plain": [
       "HBox(children=(IntProgress(value=0, description='Make nrn', max=1, style=ProgressStyle(description_width='init…"
      ]
     },
     "metadata": {},
     "output_type": "display_data"
    },
    {
     "name": "stderr",
     "output_type": "stream",
     "text": [
      "INFO  : Cached data used. Use `pymaid.clear_cache()` to clear. (pymaid)\n",
      "INFO  : Found 1 neurons matching the search parameters (pymaid)\n",
      "INFO  : Fetching connectivity table for 1 neurons (pymaid)\n",
      "INFO  : Cached data used. Use `pymaid.clear_cache()` to clear. (pymaid)\n",
      "INFO  : Cached data used. Use `pymaid.clear_cache()` to clear. (pymaid)\n",
      "INFO  : Done. Found 40 pre-, 0 postsynaptic and 0 gap junction-connected neurons (pymaid)\n",
      "INFO  : Cached data used. Use `pymaid.clear_cache()` to clear. (pymaid)\n"
     ]
    },
    {
     "name": "stdout",
     "output_type": "stream",
     "text": [
      "\r"
     ]
    },
    {
     "data": {
      "application/vnd.jupyter.widget-view+json": {
       "model_id": "",
       "version_major": 2,
       "version_minor": 0
      },
      "text/plain": [
       "HBox(children=(IntProgress(value=0, description='Make nrn', max=1, style=ProgressStyle(description_width='init…"
      ]
     },
     "metadata": {},
     "output_type": "display_data"
    },
    {
     "name": "stderr",
     "output_type": "stream",
     "text": [
      "INFO  : Cached data used. Use `pymaid.clear_cache()` to clear. (pymaid)\n",
      "INFO  : Found 1 neurons matching the search parameters (pymaid)\n",
      "INFO  : Cached data used. Use `pymaid.clear_cache()` to clear. (pymaid)\n"
     ]
    },
    {
     "name": "stdout",
     "output_type": "stream",
     "text": [
      "\r"
     ]
    },
    {
     "data": {
      "application/vnd.jupyter.widget-view+json": {
       "model_id": "",
       "version_major": 2,
       "version_minor": 0
      },
      "text/plain": [
       "HBox(children=(IntProgress(value=0, description='Make nrn', max=1, style=ProgressStyle(description_width='init…"
      ]
     },
     "metadata": {},
     "output_type": "display_data"
    },
    {
     "name": "stderr",
     "output_type": "stream",
     "text": [
      "INFO  : Cached data used. Use `pymaid.clear_cache()` to clear. (pymaid)\n",
      "INFO  : Found 1 neurons matching the search parameters (pymaid)\n",
      "INFO  : Fetching connectivity table for 1 neurons (pymaid)\n",
      "INFO  : Cached data used. Use `pymaid.clear_cache()` to clear. (pymaid)\n",
      "INFO  : Cached data used. Use `pymaid.clear_cache()` to clear. (pymaid)\n"
     ]
    },
    {
     "name": "stdout",
     "output_type": "stream",
     "text": [
      "\r"
     ]
    },
    {
     "name": "stderr",
     "output_type": "stream",
     "text": [
      "INFO  : Done. Found 40 pre-, 0 postsynaptic and 0 gap junction-connected neurons (pymaid)\n",
      "INFO  : Cached data used. Use `pymaid.clear_cache()` to clear. (pymaid)\n"
     ]
    },
    {
     "data": {
      "application/vnd.jupyter.widget-view+json": {
       "model_id": "",
       "version_major": 2,
       "version_minor": 0
      },
      "text/plain": [
       "HBox(children=(IntProgress(value=0, description='Make nrn', max=1, style=ProgressStyle(description_width='init…"
      ]
     },
     "metadata": {},
     "output_type": "display_data"
    },
    {
     "name": "stderr",
     "output_type": "stream",
     "text": [
      "INFO  : Cached data used. Use `pymaid.clear_cache()` to clear. (pymaid)\n",
      "INFO  : Found 1 neurons matching the search parameters (pymaid)\n",
      "INFO  : Cached data used. Use `pymaid.clear_cache()` to clear. (pymaid)\n"
     ]
    },
    {
     "name": "stdout",
     "output_type": "stream",
     "text": [
      "\r"
     ]
    },
    {
     "data": {
      "application/vnd.jupyter.widget-view+json": {
       "model_id": "",
       "version_major": 2,
       "version_minor": 0
      },
      "text/plain": [
       "HBox(children=(IntProgress(value=0, description='Make nrn', max=1, style=ProgressStyle(description_width='init…"
      ]
     },
     "metadata": {},
     "output_type": "display_data"
    },
    {
     "name": "stderr",
     "output_type": "stream",
     "text": [
      "INFO  : Cached data used. Use `pymaid.clear_cache()` to clear. (pymaid)\n",
      "INFO  : Found 1 neurons matching the search parameters (pymaid)\n",
      "INFO  : Fetching connectivity table for 1 neurons (pymaid)\n",
      "INFO  : Cached data used. Use `pymaid.clear_cache()` to clear. (pymaid)\n",
      "INFO  : Cached data used. Use `pymaid.clear_cache()` to clear. (pymaid)\n",
      "INFO  : Done. Found 48 pre-, 0 postsynaptic and 0 gap junction-connected neurons (pymaid)\n",
      "INFO  : Cached data used. Use `pymaid.clear_cache()` to clear. (pymaid)\n"
     ]
    },
    {
     "name": "stdout",
     "output_type": "stream",
     "text": [
      "\r"
     ]
    },
    {
     "data": {
      "application/vnd.jupyter.widget-view+json": {
       "model_id": "",
       "version_major": 2,
       "version_minor": 0
      },
      "text/plain": [
       "HBox(children=(IntProgress(value=0, description='Make nrn', max=1, style=ProgressStyle(description_width='init…"
      ]
     },
     "metadata": {},
     "output_type": "display_data"
    },
    {
     "name": "stderr",
     "output_type": "stream",
     "text": [
      "INFO  : Cached data used. Use `pymaid.clear_cache()` to clear. (pymaid)\n",
      "INFO  : Found 1 neurons matching the search parameters (pymaid)\n",
      "INFO  : Cached data used. Use `pymaid.clear_cache()` to clear. (pymaid)\n"
     ]
    },
    {
     "name": "stdout",
     "output_type": "stream",
     "text": [
      "\r"
     ]
    },
    {
     "data": {
      "application/vnd.jupyter.widget-view+json": {
       "model_id": "",
       "version_major": 2,
       "version_minor": 0
      },
      "text/plain": [
       "HBox(children=(IntProgress(value=0, description='Make nrn', max=1, style=ProgressStyle(description_width='init…"
      ]
     },
     "metadata": {},
     "output_type": "display_data"
    },
    {
     "name": "stderr",
     "output_type": "stream",
     "text": [
      "INFO  : Cached data used. Use `pymaid.clear_cache()` to clear. (pymaid)\n",
      "INFO  : Found 1 neurons matching the search parameters (pymaid)\n",
      "INFO  : Fetching connectivity table for 1 neurons (pymaid)\n",
      "INFO  : Cached data used. Use `pymaid.clear_cache()` to clear. (pymaid)\n",
      "INFO  : Cached data used. Use `pymaid.clear_cache()` to clear. (pymaid)\n",
      "INFO  : Done. Found 38 pre-, 0 postsynaptic and 0 gap junction-connected neurons (pymaid)\n",
      "INFO  : Cached data used. Use `pymaid.clear_cache()` to clear. (pymaid)\n"
     ]
    },
    {
     "name": "stdout",
     "output_type": "stream",
     "text": [
      "\r"
     ]
    },
    {
     "data": {
      "application/vnd.jupyter.widget-view+json": {
       "model_id": "",
       "version_major": 2,
       "version_minor": 0
      },
      "text/plain": [
       "HBox(children=(IntProgress(value=0, description='Make nrn', max=1, style=ProgressStyle(description_width='init…"
      ]
     },
     "metadata": {},
     "output_type": "display_data"
    },
    {
     "name": "stdout",
     "output_type": "stream",
     "text": [
      "\r"
     ]
    },
    {
     "name": "stderr",
     "output_type": "stream",
     "text": [
      "INFO  : Cached data used. Use `pymaid.clear_cache()` to clear. (pymaid)\n",
      "INFO  : Found 1 neurons matching the search parameters (pymaid)\n",
      "INFO  : Cached data used. Use `pymaid.clear_cache()` to clear. (pymaid)\n"
     ]
    },
    {
     "data": {
      "application/vnd.jupyter.widget-view+json": {
       "model_id": "",
       "version_major": 2,
       "version_minor": 0
      },
      "text/plain": [
       "HBox(children=(IntProgress(value=0, description='Make nrn', max=1, style=ProgressStyle(description_width='init…"
      ]
     },
     "metadata": {},
     "output_type": "display_data"
    },
    {
     "name": "stderr",
     "output_type": "stream",
     "text": [
      "INFO  : Cached data used. Use `pymaid.clear_cache()` to clear. (pymaid)\n",
      "INFO  : Found 1 neurons matching the search parameters (pymaid)\n",
      "INFO  : Fetching connectivity table for 1 neurons (pymaid)\n",
      "INFO  : Cached data used. Use `pymaid.clear_cache()` to clear. (pymaid)\n",
      "INFO  : Cached data used. Use `pymaid.clear_cache()` to clear. (pymaid)\n",
      "INFO  : Done. Found 38 pre-, 0 postsynaptic and 0 gap junction-connected neurons (pymaid)\n",
      "INFO  : Cached data used. Use `pymaid.clear_cache()` to clear. (pymaid)\n"
     ]
    },
    {
     "name": "stdout",
     "output_type": "stream",
     "text": [
      "\r"
     ]
    },
    {
     "data": {
      "application/vnd.jupyter.widget-view+json": {
       "model_id": "",
       "version_major": 2,
       "version_minor": 0
      },
      "text/plain": [
       "HBox(children=(IntProgress(value=0, description='Make nrn', max=1, style=ProgressStyle(description_width='init…"
      ]
     },
     "metadata": {},
     "output_type": "display_data"
    },
    {
     "name": "stderr",
     "output_type": "stream",
     "text": [
      "INFO  : Cached data used. Use `pymaid.clear_cache()` to clear. (pymaid)\n",
      "INFO  : Found 1 neurons matching the search parameters (pymaid)\n",
      "INFO  : Cached data used. Use `pymaid.clear_cache()` to clear. (pymaid)\n"
     ]
    },
    {
     "name": "stdout",
     "output_type": "stream",
     "text": [
      "\r"
     ]
    },
    {
     "data": {
      "application/vnd.jupyter.widget-view+json": {
       "model_id": "",
       "version_major": 2,
       "version_minor": 0
      },
      "text/plain": [
       "HBox(children=(IntProgress(value=0, description='Make nrn', max=1, style=ProgressStyle(description_width='init…"
      ]
     },
     "metadata": {},
     "output_type": "display_data"
    },
    {
     "name": "stderr",
     "output_type": "stream",
     "text": [
      "INFO  : Cached data used. Use `pymaid.clear_cache()` to clear. (pymaid)\n",
      "INFO  : Found 1 neurons matching the search parameters (pymaid)\n",
      "INFO  : Fetching connectivity table for 1 neurons (pymaid)\n",
      "INFO  : Cached data used. Use `pymaid.clear_cache()` to clear. (pymaid)\n",
      "INFO  : Cached data used. Use `pymaid.clear_cache()` to clear. (pymaid)\n"
     ]
    },
    {
     "name": "stdout",
     "output_type": "stream",
     "text": [
      "\r"
     ]
    },
    {
     "name": "stderr",
     "output_type": "stream",
     "text": [
      "INFO  : Done. Found 48 pre-, 0 postsynaptic and 0 gap junction-connected neurons (pymaid)\n",
      "INFO  : Cached data used. Use `pymaid.clear_cache()` to clear. (pymaid)\n"
     ]
    },
    {
     "data": {
      "application/vnd.jupyter.widget-view+json": {
       "model_id": "",
       "version_major": 2,
       "version_minor": 0
      },
      "text/plain": [
       "HBox(children=(IntProgress(value=0, description='Make nrn', max=1, style=ProgressStyle(description_width='init…"
      ]
     },
     "metadata": {},
     "output_type": "display_data"
    },
    {
     "name": "stderr",
     "output_type": "stream",
     "text": [
      "INFO  : Cached data used. Use `pymaid.clear_cache()` to clear. (pymaid)\n",
      "INFO  : Found 1 neurons matching the search parameters (pymaid)\n",
      "INFO  : Cached data used. Use `pymaid.clear_cache()` to clear. (pymaid)\n"
     ]
    },
    {
     "name": "stdout",
     "output_type": "stream",
     "text": [
      "\r"
     ]
    },
    {
     "data": {
      "application/vnd.jupyter.widget-view+json": {
       "model_id": "",
       "version_major": 2,
       "version_minor": 0
      },
      "text/plain": [
       "HBox(children=(IntProgress(value=0, description='Make nrn', max=1, style=ProgressStyle(description_width='init…"
      ]
     },
     "metadata": {},
     "output_type": "display_data"
    },
    {
     "name": "stderr",
     "output_type": "stream",
     "text": [
      "INFO  : Cached data used. Use `pymaid.clear_cache()` to clear. (pymaid)\n",
      "INFO  : Found 1 neurons matching the search parameters (pymaid)\n",
      "INFO  : Fetching connectivity table for 1 neurons (pymaid)\n",
      "INFO  : Cached data used. Use `pymaid.clear_cache()` to clear. (pymaid)\n",
      "INFO  : Cached data used. Use `pymaid.clear_cache()` to clear. (pymaid)\n",
      "INFO  : Done. Found 40 pre-, 0 postsynaptic and 0 gap junction-connected neurons (pymaid)\n",
      "INFO  : Cached data used. Use `pymaid.clear_cache()` to clear. (pymaid)\n"
     ]
    },
    {
     "name": "stdout",
     "output_type": "stream",
     "text": [
      "\r"
     ]
    },
    {
     "data": {
      "application/vnd.jupyter.widget-view+json": {
       "model_id": "",
       "version_major": 2,
       "version_minor": 0
      },
      "text/plain": [
       "HBox(children=(IntProgress(value=0, description='Make nrn', max=1, style=ProgressStyle(description_width='init…"
      ]
     },
     "metadata": {},
     "output_type": "display_data"
    },
    {
     "name": "stderr",
     "output_type": "stream",
     "text": [
      "INFO  : Cached data used. Use `pymaid.clear_cache()` to clear. (pymaid)\n",
      "INFO  : Found 1 neurons matching the search parameters (pymaid)\n",
      "INFO  : Cached data used. Use `pymaid.clear_cache()` to clear. (pymaid)\n"
     ]
    },
    {
     "name": "stdout",
     "output_type": "stream",
     "text": [
      "\r"
     ]
    },
    {
     "data": {
      "application/vnd.jupyter.widget-view+json": {
       "model_id": "",
       "version_major": 2,
       "version_minor": 0
      },
      "text/plain": [
       "HBox(children=(IntProgress(value=0, description='Make nrn', max=1, style=ProgressStyle(description_width='init…"
      ]
     },
     "metadata": {},
     "output_type": "display_data"
    },
    {
     "name": "stderr",
     "output_type": "stream",
     "text": [
      "INFO  : Cached data used. Use `pymaid.clear_cache()` to clear. (pymaid)\n",
      "INFO  : Found 1 neurons matching the search parameters (pymaid)\n",
      "INFO  : Fetching connectivity table for 1 neurons (pymaid)\n"
     ]
    },
    {
     "name": "stdout",
     "output_type": "stream",
     "text": [
      "\r"
     ]
    },
    {
     "name": "stderr",
     "output_type": "stream",
     "text": [
      "INFO  : Cached data used. Use `pymaid.clear_cache()` to clear. (pymaid)\n",
      "INFO  : Cached data used. Use `pymaid.clear_cache()` to clear. (pymaid)\n",
      "INFO  : Done. Found 40 pre-, 0 postsynaptic and 0 gap junction-connected neurons (pymaid)\n",
      "INFO  : Cached data used. Use `pymaid.clear_cache()` to clear. (pymaid)\n"
     ]
    },
    {
     "data": {
      "application/vnd.jupyter.widget-view+json": {
       "model_id": "",
       "version_major": 2,
       "version_minor": 0
      },
      "text/plain": [
       "HBox(children=(IntProgress(value=0, description='Make nrn', max=1, style=ProgressStyle(description_width='init…"
      ]
     },
     "metadata": {},
     "output_type": "display_data"
    },
    {
     "name": "stderr",
     "output_type": "stream",
     "text": [
      "INFO  : Cached data used. Use `pymaid.clear_cache()` to clear. (pymaid)\n",
      "INFO  : Found 1 neurons matching the search parameters (pymaid)\n",
      "INFO  : Cached data used. Use `pymaid.clear_cache()` to clear. (pymaid)\n"
     ]
    },
    {
     "name": "stdout",
     "output_type": "stream",
     "text": [
      "\r"
     ]
    },
    {
     "data": {
      "application/vnd.jupyter.widget-view+json": {
       "model_id": "",
       "version_major": 2,
       "version_minor": 0
      },
      "text/plain": [
       "HBox(children=(IntProgress(value=0, description='Make nrn', max=1, style=ProgressStyle(description_width='init…"
      ]
     },
     "metadata": {},
     "output_type": "display_data"
    },
    {
     "name": "stderr",
     "output_type": "stream",
     "text": [
      "INFO  : Cached data used. Use `pymaid.clear_cache()` to clear. (pymaid)\n",
      "INFO  : Found 1 neurons matching the search parameters (pymaid)\n"
     ]
    },
    {
     "name": "stdout",
     "output_type": "stream",
     "text": [
      "\r"
     ]
    },
    {
     "name": "stderr",
     "output_type": "stream",
     "text": [
      "INFO  : Fetching connectivity table for 1 neurons (pymaid)\n",
      "INFO  : Cached data used. Use `pymaid.clear_cache()` to clear. (pymaid)\n",
      "INFO  : Cached data used. Use `pymaid.clear_cache()` to clear. (pymaid)\n",
      "INFO  : Done. Found 48 pre-, 0 postsynaptic and 0 gap junction-connected neurons (pymaid)\n",
      "INFO  : Cached data used. Use `pymaid.clear_cache()` to clear. (pymaid)\n"
     ]
    },
    {
     "data": {
      "application/vnd.jupyter.widget-view+json": {
       "model_id": "",
       "version_major": 2,
       "version_minor": 0
      },
      "text/plain": [
       "HBox(children=(IntProgress(value=0, description='Make nrn', max=1, style=ProgressStyle(description_width='init…"
      ]
     },
     "metadata": {},
     "output_type": "display_data"
    },
    {
     "name": "stderr",
     "output_type": "stream",
     "text": [
      "INFO  : Cached data used. Use `pymaid.clear_cache()` to clear. (pymaid)\n",
      "INFO  : Found 1 neurons matching the search parameters (pymaid)\n"
     ]
    },
    {
     "name": "stdout",
     "output_type": "stream",
     "text": [
      "\r"
     ]
    },
    {
     "data": {
      "application/vnd.jupyter.widget-view+json": {
       "model_id": "",
       "version_major": 2,
       "version_minor": 0
      },
      "text/plain": [
       "HBox(children=(IntProgress(value=0, description='Make nrn', max=1, style=ProgressStyle(description_width='init…"
      ]
     },
     "metadata": {},
     "output_type": "display_data"
    },
    {
     "name": "stderr",
     "output_type": "stream",
     "text": [
      "INFO  : Cached data used. Use `pymaid.clear_cache()` to clear. (pymaid)\n",
      "INFO  : Found 1 neurons matching the search parameters (pymaid)\n",
      "INFO  : Fetching connectivity table for 1 neurons (pymaid)\n",
      "INFO  : Cached data used. Use `pymaid.clear_cache()` to clear. (pymaid)\n",
      "INFO  : Cached data used. Use `pymaid.clear_cache()` to clear. (pymaid)\n",
      "INFO  : Done. Found 28 pre-, 0 postsynaptic and 0 gap junction-connected neurons (pymaid)\n",
      "INFO  : Cached data used. Use `pymaid.clear_cache()` to clear. (pymaid)\n"
     ]
    },
    {
     "name": "stdout",
     "output_type": "stream",
     "text": [
      "\r"
     ]
    },
    {
     "data": {
      "application/vnd.jupyter.widget-view+json": {
       "model_id": "",
       "version_major": 2,
       "version_minor": 0
      },
      "text/plain": [
       "HBox(children=(IntProgress(value=0, description='Make nrn', max=1, style=ProgressStyle(description_width='init…"
      ]
     },
     "metadata": {},
     "output_type": "display_data"
    },
    {
     "name": "stdout",
     "output_type": "stream",
     "text": [
      "\r"
     ]
    },
    {
     "name": "stderr",
     "output_type": "stream",
     "text": [
      "INFO  : Cached data used. Use `pymaid.clear_cache()` to clear. (pymaid)\n",
      "INFO  : Found 1 neurons matching the search parameters (pymaid)\n",
      "INFO  : Cached data used. Use `pymaid.clear_cache()` to clear. (pymaid)\n"
     ]
    },
    {
     "data": {
      "application/vnd.jupyter.widget-view+json": {
       "model_id": "",
       "version_major": 2,
       "version_minor": 0
      },
      "text/plain": [
       "HBox(children=(IntProgress(value=0, description='Make nrn', max=1, style=ProgressStyle(description_width='init…"
      ]
     },
     "metadata": {},
     "output_type": "display_data"
    },
    {
     "name": "stderr",
     "output_type": "stream",
     "text": [
      "INFO  : Cached data used. Use `pymaid.clear_cache()` to clear. (pymaid)\n",
      "INFO  : Found 1 neurons matching the search parameters (pymaid)\n",
      "INFO  : Fetching connectivity table for 1 neurons (pymaid)\n",
      "INFO  : Cached data used. Use `pymaid.clear_cache()` to clear. (pymaid)\n",
      "INFO  : Cached data used. Use `pymaid.clear_cache()` to clear. (pymaid)\n"
     ]
    },
    {
     "name": "stdout",
     "output_type": "stream",
     "text": [
      "\r"
     ]
    },
    {
     "name": "stderr",
     "output_type": "stream",
     "text": [
      "INFO  : Done. Found 28 pre-, 0 postsynaptic and 0 gap junction-connected neurons (pymaid)\n",
      "INFO  : Cached data used. Use `pymaid.clear_cache()` to clear. (pymaid)\n"
     ]
    },
    {
     "data": {
      "application/vnd.jupyter.widget-view+json": {
       "model_id": "",
       "version_major": 2,
       "version_minor": 0
      },
      "text/plain": [
       "HBox(children=(IntProgress(value=0, description='Make nrn', max=1, style=ProgressStyle(description_width='init…"
      ]
     },
     "metadata": {},
     "output_type": "display_data"
    },
    {
     "name": "stderr",
     "output_type": "stream",
     "text": [
      "INFO  : Cached data used. Use `pymaid.clear_cache()` to clear. (pymaid)\n",
      "INFO  : Found 1 neurons matching the search parameters (pymaid)\n",
      "INFO  : Cached data used. Use `pymaid.clear_cache()` to clear. (pymaid)\n"
     ]
    },
    {
     "name": "stdout",
     "output_type": "stream",
     "text": [
      "\r"
     ]
    },
    {
     "data": {
      "application/vnd.jupyter.widget-view+json": {
       "model_id": "",
       "version_major": 2,
       "version_minor": 0
      },
      "text/plain": [
       "HBox(children=(IntProgress(value=0, description='Make nrn', max=1, style=ProgressStyle(description_width='init…"
      ]
     },
     "metadata": {},
     "output_type": "display_data"
    },
    {
     "name": "stderr",
     "output_type": "stream",
     "text": [
      "INFO  : Cached data used. Use `pymaid.clear_cache()` to clear. (pymaid)\n",
      "INFO  : Found 1 neurons matching the search parameters (pymaid)\n",
      "INFO  : Fetching connectivity table for 1 neurons (pymaid)\n",
      "INFO  : Cached data used. Use `pymaid.clear_cache()` to clear. (pymaid)\n"
     ]
    },
    {
     "name": "stdout",
     "output_type": "stream",
     "text": [
      "\r"
     ]
    },
    {
     "name": "stderr",
     "output_type": "stream",
     "text": [
      "INFO  : Cached data used. Use `pymaid.clear_cache()` to clear. (pymaid)\n",
      "INFO  : Done. Found 52 pre-, 0 postsynaptic and 0 gap junction-connected neurons (pymaid)\n",
      "INFO  : Cached data used. Use `pymaid.clear_cache()` to clear. (pymaid)\n"
     ]
    },
    {
     "data": {
      "application/vnd.jupyter.widget-view+json": {
       "model_id": "",
       "version_major": 2,
       "version_minor": 0
      },
      "text/plain": [
       "HBox(children=(IntProgress(value=0, description='Make nrn', max=1, style=ProgressStyle(description_width='init…"
      ]
     },
     "metadata": {},
     "output_type": "display_data"
    },
    {
     "name": "stderr",
     "output_type": "stream",
     "text": [
      "INFO  : Cached data used. Use `pymaid.clear_cache()` to clear. (pymaid)\n"
     ]
    },
    {
     "name": "stdout",
     "output_type": "stream",
     "text": [
      "\r"
     ]
    },
    {
     "name": "stderr",
     "output_type": "stream",
     "text": [
      "INFO  : Found 1 neurons matching the search parameters (pymaid)\n"
     ]
    },
    {
     "data": {
      "application/vnd.jupyter.widget-view+json": {
       "model_id": "",
       "version_major": 2,
       "version_minor": 0
      },
      "text/plain": [
       "HBox(children=(IntProgress(value=0, description='Make nrn', max=1, style=ProgressStyle(description_width='init…"
      ]
     },
     "metadata": {},
     "output_type": "display_data"
    },
    {
     "name": "stderr",
     "output_type": "stream",
     "text": [
      "INFO  : Cached data used. Use `pymaid.clear_cache()` to clear. (pymaid)\n",
      "INFO  : Found 1 neurons matching the search parameters (pymaid)\n",
      "INFO  : Fetching connectivity table for 1 neurons (pymaid)\n",
      "INFO  : Cached data used. Use `pymaid.clear_cache()` to clear. (pymaid)\n",
      "INFO  : Cached data used. Use `pymaid.clear_cache()` to clear. (pymaid)\n",
      "INFO  : Done. Found 35 pre-, 0 postsynaptic and 0 gap junction-connected neurons (pymaid)\n",
      "INFO  : Cached data used. Use `pymaid.clear_cache()` to clear. (pymaid)\n"
     ]
    },
    {
     "name": "stdout",
     "output_type": "stream",
     "text": [
      "\r"
     ]
    },
    {
     "data": {
      "application/vnd.jupyter.widget-view+json": {
       "model_id": "",
       "version_major": 2,
       "version_minor": 0
      },
      "text/plain": [
       "HBox(children=(IntProgress(value=0, description='Make nrn', max=1, style=ProgressStyle(description_width='init…"
      ]
     },
     "metadata": {},
     "output_type": "display_data"
    },
    {
     "name": "stdout",
     "output_type": "stream",
     "text": [
      "\r"
     ]
    },
    {
     "name": "stderr",
     "output_type": "stream",
     "text": [
      "INFO  : Cached data used. Use `pymaid.clear_cache()` to clear. (pymaid)\n",
      "INFO  : Found 1 neurons matching the search parameters (pymaid)\n",
      "INFO  : Cached data used. Use `pymaid.clear_cache()` to clear. (pymaid)\n"
     ]
    },
    {
     "data": {
      "application/vnd.jupyter.widget-view+json": {
       "model_id": "",
       "version_major": 2,
       "version_minor": 0
      },
      "text/plain": [
       "HBox(children=(IntProgress(value=0, description='Make nrn', max=1, style=ProgressStyle(description_width='init…"
      ]
     },
     "metadata": {},
     "output_type": "display_data"
    },
    {
     "name": "stderr",
     "output_type": "stream",
     "text": [
      "INFO  : Cached data used. Use `pymaid.clear_cache()` to clear. (pymaid)\n",
      "INFO  : Found 1 neurons matching the search parameters (pymaid)\n",
      "INFO  : Fetching connectivity table for 1 neurons (pymaid)\n",
      "INFO  : Cached data used. Use `pymaid.clear_cache()` to clear. (pymaid)\n",
      "INFO  : Cached data used. Use `pymaid.clear_cache()` to clear. (pymaid)\n"
     ]
    },
    {
     "name": "stdout",
     "output_type": "stream",
     "text": [
      "\r"
     ]
    },
    {
     "name": "stderr",
     "output_type": "stream",
     "text": [
      "INFO  : Done. Found 35 pre-, 0 postsynaptic and 0 gap junction-connected neurons (pymaid)\n",
      "INFO  : Cached data used. Use `pymaid.clear_cache()` to clear. (pymaid)\n"
     ]
    },
    {
     "data": {
      "application/vnd.jupyter.widget-view+json": {
       "model_id": "",
       "version_major": 2,
       "version_minor": 0
      },
      "text/plain": [
       "HBox(children=(IntProgress(value=0, description='Make nrn', max=1, style=ProgressStyle(description_width='init…"
      ]
     },
     "metadata": {},
     "output_type": "display_data"
    },
    {
     "name": "stderr",
     "output_type": "stream",
     "text": [
      "INFO  : Cached data used. Use `pymaid.clear_cache()` to clear. (pymaid)\n",
      "INFO  : Found 1 neurons matching the search parameters (pymaid)\n",
      "INFO  : Cached data used. Use `pymaid.clear_cache()` to clear. (pymaid)\n"
     ]
    },
    {
     "name": "stdout",
     "output_type": "stream",
     "text": [
      "\r"
     ]
    },
    {
     "data": {
      "application/vnd.jupyter.widget-view+json": {
       "model_id": "",
       "version_major": 2,
       "version_minor": 0
      },
      "text/plain": [
       "HBox(children=(IntProgress(value=0, description='Make nrn', max=1, style=ProgressStyle(description_width='init…"
      ]
     },
     "metadata": {},
     "output_type": "display_data"
    },
    {
     "name": "stdout",
     "output_type": "stream",
     "text": [
      "\r"
     ]
    },
    {
     "name": "stderr",
     "output_type": "stream",
     "text": [
      "INFO  : Cached data used. Use `pymaid.clear_cache()` to clear. (pymaid)\n",
      "INFO  : Found 1 neurons matching the search parameters (pymaid)\n",
      "INFO  : Fetching connectivity table for 1 neurons (pymaid)\n",
      "INFO  : Cached data used. Use `pymaid.clear_cache()` to clear. (pymaid)\n",
      "INFO  : Cached data used. Use `pymaid.clear_cache()` to clear. (pymaid)\n",
      "INFO  : Done. Found 52 pre-, 0 postsynaptic and 0 gap junction-connected neurons (pymaid)\n",
      "INFO  : Cached data used. Use `pymaid.clear_cache()` to clear. (pymaid)\n"
     ]
    },
    {
     "data": {
      "application/vnd.jupyter.widget-view+json": {
       "model_id": "",
       "version_major": 2,
       "version_minor": 0
      },
      "text/plain": [
       "HBox(children=(IntProgress(value=0, description='Make nrn', max=1, style=ProgressStyle(description_width='init…"
      ]
     },
     "metadata": {},
     "output_type": "display_data"
    },
    {
     "name": "stderr",
     "output_type": "stream",
     "text": [
      "INFO  : Cached data used. Use `pymaid.clear_cache()` to clear. (pymaid)\n",
      "INFO  : Found 1 neurons matching the search parameters (pymaid)\n",
      "INFO  : Cached data used. Use `pymaid.clear_cache()` to clear. (pymaid)\n"
     ]
    },
    {
     "name": "stdout",
     "output_type": "stream",
     "text": [
      "\r"
     ]
    },
    {
     "data": {
      "application/vnd.jupyter.widget-view+json": {
       "model_id": "",
       "version_major": 2,
       "version_minor": 0
      },
      "text/plain": [
       "HBox(children=(IntProgress(value=0, description='Make nrn', max=1, style=ProgressStyle(description_width='init…"
      ]
     },
     "metadata": {},
     "output_type": "display_data"
    },
    {
     "name": "stderr",
     "output_type": "stream",
     "text": [
      "INFO  : Cached data used. Use `pymaid.clear_cache()` to clear. (pymaid)\n",
      "INFO  : Found 1 neurons matching the search parameters (pymaid)\n",
      "INFO  : Fetching connectivity table for 1 neurons (pymaid)\n",
      "INFO  : Cached data used. Use `pymaid.clear_cache()` to clear. (pymaid)\n",
      "INFO  : Cached data used. Use `pymaid.clear_cache()` to clear. (pymaid)\n",
      "INFO  : Done. Found 33 pre-, 0 postsynaptic and 0 gap junction-connected neurons (pymaid)\n",
      "INFO  : Cached data used. Use `pymaid.clear_cache()` to clear. (pymaid)\n"
     ]
    },
    {
     "name": "stdout",
     "output_type": "stream",
     "text": [
      "\r"
     ]
    },
    {
     "data": {
      "application/vnd.jupyter.widget-view+json": {
       "model_id": "",
       "version_major": 2,
       "version_minor": 0
      },
      "text/plain": [
       "HBox(children=(IntProgress(value=0, description='Make nrn', max=1, style=ProgressStyle(description_width='init…"
      ]
     },
     "metadata": {},
     "output_type": "display_data"
    },
    {
     "name": "stderr",
     "output_type": "stream",
     "text": [
      "INFO  : Cached data used. Use `pymaid.clear_cache()` to clear. (pymaid)\n",
      "INFO  : Found 1 neurons matching the search parameters (pymaid)\n",
      "INFO  : Cached data used. Use `pymaid.clear_cache()` to clear. (pymaid)\n"
     ]
    },
    {
     "name": "stdout",
     "output_type": "stream",
     "text": [
      "\r"
     ]
    },
    {
     "data": {
      "application/vnd.jupyter.widget-view+json": {
       "model_id": "",
       "version_major": 2,
       "version_minor": 0
      },
      "text/plain": [
       "HBox(children=(IntProgress(value=0, description='Make nrn', max=1, style=ProgressStyle(description_width='init…"
      ]
     },
     "metadata": {},
     "output_type": "display_data"
    },
    {
     "name": "stderr",
     "output_type": "stream",
     "text": [
      "INFO  : Cached data used. Use `pymaid.clear_cache()` to clear. (pymaid)\n",
      "INFO  : Found 1 neurons matching the search parameters (pymaid)\n",
      "INFO  : Fetching connectivity table for 1 neurons (pymaid)\n",
      "INFO  : Cached data used. Use `pymaid.clear_cache()` to clear. (pymaid)\n"
     ]
    },
    {
     "name": "stdout",
     "output_type": "stream",
     "text": [
      "\r"
     ]
    },
    {
     "name": "stderr",
     "output_type": "stream",
     "text": [
      "INFO  : Cached data used. Use `pymaid.clear_cache()` to clear. (pymaid)\n",
      "INFO  : Done. Found 33 pre-, 0 postsynaptic and 0 gap junction-connected neurons (pymaid)\n",
      "INFO  : Cached data used. Use `pymaid.clear_cache()` to clear. (pymaid)\n"
     ]
    },
    {
     "data": {
      "application/vnd.jupyter.widget-view+json": {
       "model_id": "",
       "version_major": 2,
       "version_minor": 0
      },
      "text/plain": [
       "HBox(children=(IntProgress(value=0, description='Make nrn', max=1, style=ProgressStyle(description_width='init…"
      ]
     },
     "metadata": {},
     "output_type": "display_data"
    },
    {
     "name": "stderr",
     "output_type": "stream",
     "text": [
      "INFO  : Cached data used. Use `pymaid.clear_cache()` to clear. (pymaid)\n",
      "INFO  : Found 1 neurons matching the search parameters (pymaid)\n",
      "INFO  : Cached data used. Use `pymaid.clear_cache()` to clear. (pymaid)\n"
     ]
    },
    {
     "name": "stdout",
     "output_type": "stream",
     "text": [
      "\r"
     ]
    },
    {
     "data": {
      "application/vnd.jupyter.widget-view+json": {
       "model_id": "",
       "version_major": 2,
       "version_minor": 0
      },
      "text/plain": [
       "HBox(children=(IntProgress(value=0, description='Make nrn', max=1, style=ProgressStyle(description_width='init…"
      ]
     },
     "metadata": {},
     "output_type": "display_data"
    },
    {
     "name": "stderr",
     "output_type": "stream",
     "text": [
      "INFO  : Cached data used. Use `pymaid.clear_cache()` to clear. (pymaid)\n",
      "INFO  : Found 1 neurons matching the search parameters (pymaid)\n"
     ]
    },
    {
     "name": "stdout",
     "output_type": "stream",
     "text": [
      "\r"
     ]
    },
    {
     "name": "stderr",
     "output_type": "stream",
     "text": [
      "INFO  : Fetching connectivity table for 1 neurons (pymaid)\n",
      "INFO  : Cached data used. Use `pymaid.clear_cache()` to clear. (pymaid)\n",
      "INFO  : Cached data used. Use `pymaid.clear_cache()` to clear. (pymaid)\n",
      "INFO  : Done. Found 40 pre-, 0 postsynaptic and 0 gap junction-connected neurons (pymaid)\n",
      "INFO  : Cached data used. Use `pymaid.clear_cache()` to clear. (pymaid)\n"
     ]
    },
    {
     "data": {
      "application/vnd.jupyter.widget-view+json": {
       "model_id": "",
       "version_major": 2,
       "version_minor": 0
      },
      "text/plain": [
       "HBox(children=(IntProgress(value=0, description='Make nrn', max=1, style=ProgressStyle(description_width='init…"
      ]
     },
     "metadata": {},
     "output_type": "display_data"
    },
    {
     "name": "stderr",
     "output_type": "stream",
     "text": [
      "INFO  : Cached data used. Use `pymaid.clear_cache()` to clear. (pymaid)\n",
      "INFO  : Found 1 neurons matching the search parameters (pymaid)\n",
      "INFO  : Cached data used. Use `pymaid.clear_cache()` to clear. (pymaid)\n"
     ]
    },
    {
     "name": "stdout",
     "output_type": "stream",
     "text": [
      "\r"
     ]
    },
    {
     "data": {
      "application/vnd.jupyter.widget-view+json": {
       "model_id": "",
       "version_major": 2,
       "version_minor": 0
      },
      "text/plain": [
       "HBox(children=(IntProgress(value=0, description='Make nrn', max=1, style=ProgressStyle(description_width='init…"
      ]
     },
     "metadata": {},
     "output_type": "display_data"
    },
    {
     "name": "stderr",
     "output_type": "stream",
     "text": [
      "INFO  : Cached data used. Use `pymaid.clear_cache()` to clear. (pymaid)\n",
      "INFO  : Found 1 neurons matching the search parameters (pymaid)\n",
      "INFO  : Fetching connectivity table for 1 neurons (pymaid)\n",
      "INFO  : Cached data used. Use `pymaid.clear_cache()` to clear. (pymaid)\n",
      "INFO  : Cached data used. Use `pymaid.clear_cache()` to clear. (pymaid)\n"
     ]
    },
    {
     "name": "stdout",
     "output_type": "stream",
     "text": [
      "\r"
     ]
    },
    {
     "name": "stderr",
     "output_type": "stream",
     "text": [
      "INFO  : Done. Found 33 pre-, 0 postsynaptic and 0 gap junction-connected neurons (pymaid)\n",
      "INFO  : Cached data used. Use `pymaid.clear_cache()` to clear. (pymaid)\n"
     ]
    },
    {
     "data": {
      "application/vnd.jupyter.widget-view+json": {
       "model_id": "",
       "version_major": 2,
       "version_minor": 0
      },
      "text/plain": [
       "HBox(children=(IntProgress(value=0, description='Make nrn', max=1, style=ProgressStyle(description_width='init…"
      ]
     },
     "metadata": {},
     "output_type": "display_data"
    },
    {
     "name": "stderr",
     "output_type": "stream",
     "text": [
      "INFO  : Cached data used. Use `pymaid.clear_cache()` to clear. (pymaid)\n",
      "INFO  : Found 1 neurons matching the search parameters (pymaid)\n",
      "INFO  : Cached data used. Use `pymaid.clear_cache()` to clear. (pymaid)\n"
     ]
    },
    {
     "name": "stdout",
     "output_type": "stream",
     "text": [
      "\r"
     ]
    },
    {
     "data": {
      "application/vnd.jupyter.widget-view+json": {
       "model_id": "",
       "version_major": 2,
       "version_minor": 0
      },
      "text/plain": [
       "HBox(children=(IntProgress(value=0, description='Make nrn', max=1, style=ProgressStyle(description_width='init…"
      ]
     },
     "metadata": {},
     "output_type": "display_data"
    },
    {
     "name": "stdout",
     "output_type": "stream",
     "text": [
      "\r"
     ]
    },
    {
     "name": "stderr",
     "output_type": "stream",
     "text": [
      "INFO  : Cached data used. Use `pymaid.clear_cache()` to clear. (pymaid)\n",
      "INFO  : Found 1 neurons matching the search parameters (pymaid)\n",
      "INFO  : Fetching connectivity table for 1 neurons (pymaid)\n",
      "INFO  : Cached data used. Use `pymaid.clear_cache()` to clear. (pymaid)\n",
      "INFO  : Cached data used. Use `pymaid.clear_cache()` to clear. (pymaid)\n",
      "INFO  : Done. Found 33 pre-, 0 postsynaptic and 0 gap junction-connected neurons (pymaid)\n",
      "INFO  : Cached data used. Use `pymaid.clear_cache()` to clear. (pymaid)\n"
     ]
    },
    {
     "data": {
      "application/vnd.jupyter.widget-view+json": {
       "model_id": "",
       "version_major": 2,
       "version_minor": 0
      },
      "text/plain": [
       "HBox(children=(IntProgress(value=0, description='Make nrn', max=1, style=ProgressStyle(description_width='init…"
      ]
     },
     "metadata": {},
     "output_type": "display_data"
    },
    {
     "name": "stdout",
     "output_type": "stream",
     "text": [
      "\r"
     ]
    },
    {
     "name": "stderr",
     "output_type": "stream",
     "text": [
      "INFO  : Cached data used. Use `pymaid.clear_cache()` to clear. (pymaid)\n",
      "INFO  : Found 1 neurons matching the search parameters (pymaid)\n",
      "INFO  : Cached data used. Use `pymaid.clear_cache()` to clear. (pymaid)\n"
     ]
    },
    {
     "data": {
      "application/vnd.jupyter.widget-view+json": {
       "model_id": "",
       "version_major": 2,
       "version_minor": 0
      },
      "text/plain": [
       "HBox(children=(IntProgress(value=0, description='Make nrn', max=1, style=ProgressStyle(description_width='init…"
      ]
     },
     "metadata": {},
     "output_type": "display_data"
    },
    {
     "name": "stderr",
     "output_type": "stream",
     "text": [
      "INFO  : Cached data used. Use `pymaid.clear_cache()` to clear. (pymaid)\n"
     ]
    },
    {
     "name": "stdout",
     "output_type": "stream",
     "text": [
      "\r"
     ]
    },
    {
     "name": "stderr",
     "output_type": "stream",
     "text": [
      "INFO  : Found 1 neurons matching the search parameters (pymaid)\n",
      "INFO  : Fetching connectivity table for 1 neurons (pymaid)\n",
      "INFO  : Cached data used. Use `pymaid.clear_cache()` to clear. (pymaid)\n",
      "INFO  : Cached data used. Use `pymaid.clear_cache()` to clear. (pymaid)\n",
      "INFO  : Done. Found 52 pre-, 0 postsynaptic and 0 gap junction-connected neurons (pymaid)\n",
      "INFO  : Cached data used. Use `pymaid.clear_cache()` to clear. (pymaid)\n"
     ]
    },
    {
     "data": {
      "application/vnd.jupyter.widget-view+json": {
       "model_id": "",
       "version_major": 2,
       "version_minor": 0
      },
      "text/plain": [
       "HBox(children=(IntProgress(value=0, description='Make nrn', max=1, style=ProgressStyle(description_width='init…"
      ]
     },
     "metadata": {},
     "output_type": "display_data"
    },
    {
     "name": "stderr",
     "output_type": "stream",
     "text": [
      "INFO  : Cached data used. Use `pymaid.clear_cache()` to clear. (pymaid)\n",
      "INFO  : Found 1 neurons matching the search parameters (pymaid)\n",
      "INFO  : Cached data used. Use `pymaid.clear_cache()` to clear. (pymaid)\n"
     ]
    },
    {
     "name": "stdout",
     "output_type": "stream",
     "text": [
      "\r"
     ]
    },
    {
     "data": {
      "application/vnd.jupyter.widget-view+json": {
       "model_id": "",
       "version_major": 2,
       "version_minor": 0
      },
      "text/plain": [
       "HBox(children=(IntProgress(value=0, description='Make nrn', max=1, style=ProgressStyle(description_width='init…"
      ]
     },
     "metadata": {},
     "output_type": "display_data"
    },
    {
     "name": "stderr",
     "output_type": "stream",
     "text": [
      "INFO  : Cached data used. Use `pymaid.clear_cache()` to clear. (pymaid)\n",
      "INFO  : Found 1 neurons matching the search parameters (pymaid)\n",
      "INFO  : Fetching connectivity table for 1 neurons (pymaid)\n",
      "INFO  : Cached data used. Use `pymaid.clear_cache()` to clear. (pymaid)\n",
      "INFO  : Cached data used. Use `pymaid.clear_cache()` to clear. (pymaid)\n",
      "INFO  : Done. Found 38 pre-, 0 postsynaptic and 0 gap junction-connected neurons (pymaid)\n",
      "INFO  : Cached data used. Use `pymaid.clear_cache()` to clear. (pymaid)\n"
     ]
    },
    {
     "name": "stdout",
     "output_type": "stream",
     "text": [
      "\r"
     ]
    },
    {
     "data": {
      "application/vnd.jupyter.widget-view+json": {
       "model_id": "",
       "version_major": 2,
       "version_minor": 0
      },
      "text/plain": [
       "HBox(children=(IntProgress(value=0, description='Make nrn', max=1, style=ProgressStyle(description_width='init…"
      ]
     },
     "metadata": {},
     "output_type": "display_data"
    },
    {
     "name": "stderr",
     "output_type": "stream",
     "text": [
      "INFO  : Cached data used. Use `pymaid.clear_cache()` to clear. (pymaid)\n",
      "INFO  : Found 1 neurons matching the search parameters (pymaid)\n",
      "INFO  : Cached data used. Use `pymaid.clear_cache()` to clear. (pymaid)\n"
     ]
    },
    {
     "name": "stdout",
     "output_type": "stream",
     "text": [
      "\r"
     ]
    },
    {
     "data": {
      "application/vnd.jupyter.widget-view+json": {
       "model_id": "",
       "version_major": 2,
       "version_minor": 0
      },
      "text/plain": [
       "HBox(children=(IntProgress(value=0, description='Make nrn', max=1, style=ProgressStyle(description_width='init…"
      ]
     },
     "metadata": {},
     "output_type": "display_data"
    },
    {
     "name": "stderr",
     "output_type": "stream",
     "text": [
      "INFO  : Cached data used. Use `pymaid.clear_cache()` to clear. (pymaid)\n",
      "INFO  : Found 1 neurons matching the search parameters (pymaid)\n",
      "INFO  : Fetching connectivity table for 1 neurons (pymaid)\n",
      "INFO  : Cached data used. Use `pymaid.clear_cache()` to clear. (pymaid)\n",
      "INFO  : Cached data used. Use `pymaid.clear_cache()` to clear. (pymaid)\n",
      "INFO  : Done. Found 38 pre-, 0 postsynaptic and 0 gap junction-connected neurons (pymaid)\n",
      "INFO  : Cached data used. Use `pymaid.clear_cache()` to clear. (pymaid)\n"
     ]
    },
    {
     "name": "stdout",
     "output_type": "stream",
     "text": [
      "\r"
     ]
    },
    {
     "data": {
      "application/vnd.jupyter.widget-view+json": {
       "model_id": "",
       "version_major": 2,
       "version_minor": 0
      },
      "text/plain": [
       "HBox(children=(IntProgress(value=0, description='Make nrn', max=1, style=ProgressStyle(description_width='init…"
      ]
     },
     "metadata": {},
     "output_type": "display_data"
    },
    {
     "name": "stderr",
     "output_type": "stream",
     "text": [
      "INFO  : Cached data used. Use `pymaid.clear_cache()` to clear. (pymaid)\n",
      "INFO  : Found 1 neurons matching the search parameters (pymaid)\n",
      "INFO  : Cached data used. Use `pymaid.clear_cache()` to clear. (pymaid)\n"
     ]
    },
    {
     "name": "stdout",
     "output_type": "stream",
     "text": [
      "\r"
     ]
    },
    {
     "data": {
      "application/vnd.jupyter.widget-view+json": {
       "model_id": "",
       "version_major": 2,
       "version_minor": 0
      },
      "text/plain": [
       "HBox(children=(IntProgress(value=0, description='Make nrn', max=1, style=ProgressStyle(description_width='init…"
      ]
     },
     "metadata": {},
     "output_type": "display_data"
    },
    {
     "name": "stderr",
     "output_type": "stream",
     "text": [
      "INFO  : Cached data used. Use `pymaid.clear_cache()` to clear. (pymaid)\n",
      "INFO  : Found 1 neurons matching the search parameters (pymaid)\n",
      "INFO  : Fetching connectivity table for 1 neurons (pymaid)\n",
      "INFO  : Cached data used. Use `pymaid.clear_cache()` to clear. (pymaid)\n",
      "INFO  : Cached data used. Use `pymaid.clear_cache()` to clear. (pymaid)\n",
      "INFO  : Done. Found 52 pre-, 0 postsynaptic and 0 gap junction-connected neurons (pymaid)\n",
      "INFO  : Cached data used. Use `pymaid.clear_cache()` to clear. (pymaid)\n"
     ]
    },
    {
     "name": "stdout",
     "output_type": "stream",
     "text": [
      "\r"
     ]
    },
    {
     "data": {
      "application/vnd.jupyter.widget-view+json": {
       "model_id": "",
       "version_major": 2,
       "version_minor": 0
      },
      "text/plain": [
       "HBox(children=(IntProgress(value=0, description='Make nrn', max=1, style=ProgressStyle(description_width='init…"
      ]
     },
     "metadata": {},
     "output_type": "display_data"
    },
    {
     "name": "stderr",
     "output_type": "stream",
     "text": [
      "INFO  : Cached data used. Use `pymaid.clear_cache()` to clear. (pymaid)\n",
      "INFO  : Found 1 neurons matching the search parameters (pymaid)\n",
      "INFO  : Cached data used. Use `pymaid.clear_cache()` to clear. (pymaid)\n"
     ]
    },
    {
     "name": "stdout",
     "output_type": "stream",
     "text": [
      "\r"
     ]
    },
    {
     "data": {
      "application/vnd.jupyter.widget-view+json": {
       "model_id": "",
       "version_major": 2,
       "version_minor": 0
      },
      "text/plain": [
       "HBox(children=(IntProgress(value=0, description='Make nrn', max=1, style=ProgressStyle(description_width='init…"
      ]
     },
     "metadata": {},
     "output_type": "display_data"
    },
    {
     "name": "stderr",
     "output_type": "stream",
     "text": [
      "INFO  : Cached data used. Use `pymaid.clear_cache()` to clear. (pymaid)\n",
      "INFO  : Found 1 neurons matching the search parameters (pymaid)\n",
      "INFO  : Fetching connectivity table for 1 neurons (pymaid)\n",
      "INFO  : Cached data used. Use `pymaid.clear_cache()` to clear. (pymaid)\n",
      "INFO  : Cached data used. Use `pymaid.clear_cache()` to clear. (pymaid)\n",
      "INFO  : Done. Found 31 pre-, 0 postsynaptic and 0 gap junction-connected neurons (pymaid)\n",
      "INFO  : Cached data used. Use `pymaid.clear_cache()` to clear. (pymaid)\n"
     ]
    },
    {
     "name": "stdout",
     "output_type": "stream",
     "text": [
      "\r"
     ]
    },
    {
     "data": {
      "application/vnd.jupyter.widget-view+json": {
       "model_id": "",
       "version_major": 2,
       "version_minor": 0
      },
      "text/plain": [
       "HBox(children=(IntProgress(value=0, description='Make nrn', max=1, style=ProgressStyle(description_width='init…"
      ]
     },
     "metadata": {},
     "output_type": "display_data"
    },
    {
     "name": "stderr",
     "output_type": "stream",
     "text": [
      "INFO  : Cached data used. Use `pymaid.clear_cache()` to clear. (pymaid)\n",
      "INFO  : Found 1 neurons matching the search parameters (pymaid)\n",
      "INFO  : Cached data used. Use `pymaid.clear_cache()` to clear. (pymaid)\n"
     ]
    },
    {
     "name": "stdout",
     "output_type": "stream",
     "text": [
      "\r"
     ]
    },
    {
     "data": {
      "application/vnd.jupyter.widget-view+json": {
       "model_id": "",
       "version_major": 2,
       "version_minor": 0
      },
      "text/plain": [
       "HBox(children=(IntProgress(value=0, description='Make nrn', max=1, style=ProgressStyle(description_width='init…"
      ]
     },
     "metadata": {},
     "output_type": "display_data"
    },
    {
     "name": "stderr",
     "output_type": "stream",
     "text": [
      "INFO  : Cached data used. Use `pymaid.clear_cache()` to clear. (pymaid)\n",
      "INFO  : Found 1 neurons matching the search parameters (pymaid)\n",
      "INFO  : Fetching connectivity table for 1 neurons (pymaid)\n",
      "INFO  : Cached data used. Use `pymaid.clear_cache()` to clear. (pymaid)\n"
     ]
    },
    {
     "name": "stdout",
     "output_type": "stream",
     "text": [
      "\r"
     ]
    },
    {
     "name": "stderr",
     "output_type": "stream",
     "text": [
      "INFO  : Cached data used. Use `pymaid.clear_cache()` to clear. (pymaid)\n",
      "INFO  : Done. Found 31 pre-, 0 postsynaptic and 0 gap junction-connected neurons (pymaid)\n",
      "INFO  : Cached data used. Use `pymaid.clear_cache()` to clear. (pymaid)\n"
     ]
    },
    {
     "data": {
      "application/vnd.jupyter.widget-view+json": {
       "model_id": "",
       "version_major": 2,
       "version_minor": 0
      },
      "text/plain": [
       "HBox(children=(IntProgress(value=0, description='Make nrn', max=1, style=ProgressStyle(description_width='init…"
      ]
     },
     "metadata": {},
     "output_type": "display_data"
    },
    {
     "name": "stderr",
     "output_type": "stream",
     "text": [
      "INFO  : Cached data used. Use `pymaid.clear_cache()` to clear. (pymaid)\n",
      "INFO  : Found 1 neurons matching the search parameters (pymaid)\n",
      "INFO  : Cached data used. Use `pymaid.clear_cache()` to clear. (pymaid)\n"
     ]
    },
    {
     "name": "stdout",
     "output_type": "stream",
     "text": [
      "\r"
     ]
    },
    {
     "data": {
      "application/vnd.jupyter.widget-view+json": {
       "model_id": "",
       "version_major": 2,
       "version_minor": 0
      },
      "text/plain": [
       "HBox(children=(IntProgress(value=0, description='Make nrn', max=1, style=ProgressStyle(description_width='init…"
      ]
     },
     "metadata": {},
     "output_type": "display_data"
    },
    {
     "name": "stderr",
     "output_type": "stream",
     "text": [
      "INFO  : Cached data used. Use `pymaid.clear_cache()` to clear. (pymaid)\n",
      "INFO  : Found 1 neurons matching the search parameters (pymaid)\n",
      "INFO  : Fetching connectivity table for 1 neurons (pymaid)\n",
      "INFO  : Cached data used. Use `pymaid.clear_cache()` to clear. (pymaid)\n",
      "INFO  : Cached data used. Use `pymaid.clear_cache()` to clear. (pymaid)\n"
     ]
    },
    {
     "name": "stdout",
     "output_type": "stream",
     "text": [
      "\r"
     ]
    },
    {
     "name": "stderr",
     "output_type": "stream",
     "text": [
      "INFO  : Done. Found 40 pre-, 0 postsynaptic and 0 gap junction-connected neurons (pymaid)\n",
      "INFO  : Cached data used. Use `pymaid.clear_cache()` to clear. (pymaid)\n"
     ]
    },
    {
     "data": {
      "application/vnd.jupyter.widget-view+json": {
       "model_id": "",
       "version_major": 2,
       "version_minor": 0
      },
      "text/plain": [
       "HBox(children=(IntProgress(value=0, description='Make nrn', max=1, style=ProgressStyle(description_width='init…"
      ]
     },
     "metadata": {},
     "output_type": "display_data"
    },
    {
     "name": "stderr",
     "output_type": "stream",
     "text": [
      "INFO  : Cached data used. Use `pymaid.clear_cache()` to clear. (pymaid)\n",
      "INFO  : Found 1 neurons matching the search parameters (pymaid)\n",
      "INFO  : Cached data used. Use `pymaid.clear_cache()` to clear. (pymaid)\n"
     ]
    },
    {
     "name": "stdout",
     "output_type": "stream",
     "text": [
      "\r"
     ]
    },
    {
     "data": {
      "application/vnd.jupyter.widget-view+json": {
       "model_id": "",
       "version_major": 2,
       "version_minor": 0
      },
      "text/plain": [
       "HBox(children=(IntProgress(value=0, description='Make nrn', max=1, style=ProgressStyle(description_width='init…"
      ]
     },
     "metadata": {},
     "output_type": "display_data"
    },
    {
     "name": "stderr",
     "output_type": "stream",
     "text": [
      "INFO  : Cached data used. Use `pymaid.clear_cache()` to clear. (pymaid)\n"
     ]
    },
    {
     "name": "stdout",
     "output_type": "stream",
     "text": [
      "\r"
     ]
    },
    {
     "name": "stderr",
     "output_type": "stream",
     "text": [
      "INFO  : Found 1 neurons matching the search parameters (pymaid)\n",
      "INFO  : Fetching connectivity table for 1 neurons (pymaid)\n",
      "INFO  : Cached data used. Use `pymaid.clear_cache()` to clear. (pymaid)\n",
      "INFO  : Cached data used. Use `pymaid.clear_cache()` to clear. (pymaid)\n",
      "INFO  : Done. Found 31 pre-, 0 postsynaptic and 0 gap junction-connected neurons (pymaid)\n",
      "INFO  : Cached data used. Use `pymaid.clear_cache()` to clear. (pymaid)\n"
     ]
    },
    {
     "data": {
      "application/vnd.jupyter.widget-view+json": {
       "model_id": "",
       "version_major": 2,
       "version_minor": 0
      },
      "text/plain": [
       "HBox(children=(IntProgress(value=0, description='Make nrn', max=1, style=ProgressStyle(description_width='init…"
      ]
     },
     "metadata": {},
     "output_type": "display_data"
    },
    {
     "name": "stdout",
     "output_type": "stream",
     "text": [
      "\r"
     ]
    },
    {
     "name": "stderr",
     "output_type": "stream",
     "text": [
      "INFO  : Cached data used. Use `pymaid.clear_cache()` to clear. (pymaid)\n",
      "INFO  : Found 1 neurons matching the search parameters (pymaid)\n",
      "INFO  : Cached data used. Use `pymaid.clear_cache()` to clear. (pymaid)\n"
     ]
    },
    {
     "data": {
      "application/vnd.jupyter.widget-view+json": {
       "model_id": "",
       "version_major": 2,
       "version_minor": 0
      },
      "text/plain": [
       "HBox(children=(IntProgress(value=0, description='Make nrn', max=1, style=ProgressStyle(description_width='init…"
      ]
     },
     "metadata": {},
     "output_type": "display_data"
    },
    {
     "name": "stderr",
     "output_type": "stream",
     "text": [
      "INFO  : Cached data used. Use `pymaid.clear_cache()` to clear. (pymaid)\n",
      "INFO  : Found 1 neurons matching the search parameters (pymaid)\n",
      "INFO  : Fetching connectivity table for 1 neurons (pymaid)\n",
      "INFO  : Cached data used. Use `pymaid.clear_cache()` to clear. (pymaid)\n",
      "INFO  : Cached data used. Use `pymaid.clear_cache()` to clear. (pymaid)\n"
     ]
    },
    {
     "name": "stdout",
     "output_type": "stream",
     "text": [
      "\r"
     ]
    },
    {
     "name": "stderr",
     "output_type": "stream",
     "text": [
      "INFO  : Done. Found 31 pre-, 0 postsynaptic and 0 gap junction-connected neurons (pymaid)\n",
      "INFO  : Cached data used. Use `pymaid.clear_cache()` to clear. (pymaid)\n"
     ]
    },
    {
     "data": {
      "application/vnd.jupyter.widget-view+json": {
       "model_id": "",
       "version_major": 2,
       "version_minor": 0
      },
      "text/plain": [
       "HBox(children=(IntProgress(value=0, description='Make nrn', max=1, style=ProgressStyle(description_width='init…"
      ]
     },
     "metadata": {},
     "output_type": "display_data"
    },
    {
     "name": "stderr",
     "output_type": "stream",
     "text": [
      "INFO  : Cached data used. Use `pymaid.clear_cache()` to clear. (pymaid)\n",
      "INFO  : Found 1 neurons matching the search parameters (pymaid)\n",
      "INFO  : Cached data used. Use `pymaid.clear_cache()` to clear. (pymaid)\n"
     ]
    },
    {
     "name": "stdout",
     "output_type": "stream",
     "text": [
      "\r"
     ]
    },
    {
     "data": {
      "application/vnd.jupyter.widget-view+json": {
       "model_id": "",
       "version_major": 2,
       "version_minor": 0
      },
      "text/plain": [
       "HBox(children=(IntProgress(value=0, description='Make nrn', max=1, style=ProgressStyle(description_width='init…"
      ]
     },
     "metadata": {},
     "output_type": "display_data"
    },
    {
     "name": "stderr",
     "output_type": "stream",
     "text": [
      "INFO  : Cached data used. Use `pymaid.clear_cache()` to clear. (pymaid)\n",
      "INFO  : Found 1 neurons matching the search parameters (pymaid)\n",
      "INFO  : Fetching connectivity table for 1 neurons (pymaid)\n",
      "INFO  : Cached data used. Use `pymaid.clear_cache()` to clear. (pymaid)\n",
      "INFO  : Cached data used. Use `pymaid.clear_cache()` to clear. (pymaid)\n"
     ]
    },
    {
     "name": "stdout",
     "output_type": "stream",
     "text": [
      "\r"
     ]
    },
    {
     "name": "stderr",
     "output_type": "stream",
     "text": [
      "INFO  : Done. Found 52 pre-, 0 postsynaptic and 0 gap junction-connected neurons (pymaid)\n",
      "INFO  : Cached data used. Use `pymaid.clear_cache()` to clear. (pymaid)\n"
     ]
    },
    {
     "data": {
      "application/vnd.jupyter.widget-view+json": {
       "model_id": "",
       "version_major": 2,
       "version_minor": 0
      },
      "text/plain": [
       "HBox(children=(IntProgress(value=0, description='Make nrn', max=1, style=ProgressStyle(description_width='init…"
      ]
     },
     "metadata": {},
     "output_type": "display_data"
    },
    {
     "name": "stderr",
     "output_type": "stream",
     "text": [
      "INFO  : Cached data used. Use `pymaid.clear_cache()` to clear. (pymaid)\n",
      "INFO  : Found 1 neurons matching the search parameters (pymaid)\n",
      "INFO  : Cached data used. Use `pymaid.clear_cache()` to clear. (pymaid)\n"
     ]
    },
    {
     "name": "stdout",
     "output_type": "stream",
     "text": [
      "\r"
     ]
    },
    {
     "data": {
      "application/vnd.jupyter.widget-view+json": {
       "model_id": "",
       "version_major": 2,
       "version_minor": 0
      },
      "text/plain": [
       "HBox(children=(IntProgress(value=0, description='Make nrn', max=1, style=ProgressStyle(description_width='init…"
      ]
     },
     "metadata": {},
     "output_type": "display_data"
    },
    {
     "name": "stderr",
     "output_type": "stream",
     "text": [
      "INFO  : Cached data used. Use `pymaid.clear_cache()` to clear. (pymaid)\n",
      "INFO  : Found 1 neurons matching the search parameters (pymaid)\n",
      "INFO  : Fetching connectivity table for 1 neurons (pymaid)\n",
      "INFO  : Cached data used. Use `pymaid.clear_cache()` to clear. (pymaid)\n",
      "INFO  : Cached data used. Use `pymaid.clear_cache()` to clear. (pymaid)\n"
     ]
    },
    {
     "name": "stdout",
     "output_type": "stream",
     "text": [
      "\r"
     ]
    },
    {
     "name": "stderr",
     "output_type": "stream",
     "text": [
      "INFO  : Done. Found 43 pre-, 0 postsynaptic and 0 gap junction-connected neurons (pymaid)\n",
      "INFO  : Cached data used. Use `pymaid.clear_cache()` to clear. (pymaid)\n"
     ]
    },
    {
     "data": {
      "application/vnd.jupyter.widget-view+json": {
       "model_id": "",
       "version_major": 2,
       "version_minor": 0
      },
      "text/plain": [
       "HBox(children=(IntProgress(value=0, description='Make nrn', max=1, style=ProgressStyle(description_width='init…"
      ]
     },
     "metadata": {},
     "output_type": "display_data"
    },
    {
     "name": "stderr",
     "output_type": "stream",
     "text": [
      "INFO  : Cached data used. Use `pymaid.clear_cache()` to clear. (pymaid)\n",
      "INFO  : Found 1 neurons matching the search parameters (pymaid)\n",
      "INFO  : Cached data used. Use `pymaid.clear_cache()` to clear. (pymaid)\n"
     ]
    },
    {
     "name": "stdout",
     "output_type": "stream",
     "text": [
      "\r"
     ]
    },
    {
     "data": {
      "application/vnd.jupyter.widget-view+json": {
       "model_id": "",
       "version_major": 2,
       "version_minor": 0
      },
      "text/plain": [
       "HBox(children=(IntProgress(value=0, description='Make nrn', max=1, style=ProgressStyle(description_width='init…"
      ]
     },
     "metadata": {},
     "output_type": "display_data"
    },
    {
     "name": "stderr",
     "output_type": "stream",
     "text": [
      "INFO  : Cached data used. Use `pymaid.clear_cache()` to clear. (pymaid)\n",
      "INFO  : Found 1 neurons matching the search parameters (pymaid)\n",
      "INFO  : Fetching connectivity table for 1 neurons (pymaid)\n",
      "INFO  : Cached data used. Use `pymaid.clear_cache()` to clear. (pymaid)\n",
      "INFO  : Cached data used. Use `pymaid.clear_cache()` to clear. (pymaid)\n"
     ]
    },
    {
     "name": "stdout",
     "output_type": "stream",
     "text": [
      "\r"
     ]
    },
    {
     "name": "stderr",
     "output_type": "stream",
     "text": [
      "INFO  : Done. Found 43 pre-, 0 postsynaptic and 0 gap junction-connected neurons (pymaid)\n",
      "INFO  : Cached data used. Use `pymaid.clear_cache()` to clear. (pymaid)\n"
     ]
    },
    {
     "data": {
      "application/vnd.jupyter.widget-view+json": {
       "model_id": "",
       "version_major": 2,
       "version_minor": 0
      },
      "text/plain": [
       "HBox(children=(IntProgress(value=0, description='Make nrn', max=1, style=ProgressStyle(description_width='init…"
      ]
     },
     "metadata": {},
     "output_type": "display_data"
    },
    {
     "name": "stderr",
     "output_type": "stream",
     "text": [
      "INFO  : Cached data used. Use `pymaid.clear_cache()` to clear. (pymaid)\n",
      "INFO  : Found 1 neurons matching the search parameters (pymaid)\n",
      "INFO  : Cached data used. Use `pymaid.clear_cache()` to clear. (pymaid)\n"
     ]
    },
    {
     "name": "stdout",
     "output_type": "stream",
     "text": [
      "\r"
     ]
    },
    {
     "data": {
      "application/vnd.jupyter.widget-view+json": {
       "model_id": "",
       "version_major": 2,
       "version_minor": 0
      },
      "text/plain": [
       "HBox(children=(IntProgress(value=0, description='Make nrn', max=1, style=ProgressStyle(description_width='init…"
      ]
     },
     "metadata": {},
     "output_type": "display_data"
    },
    {
     "name": "stderr",
     "output_type": "stream",
     "text": [
      "INFO  : Cached data used. Use `pymaid.clear_cache()` to clear. (pymaid)\n",
      "INFO  : Found 1 neurons matching the search parameters (pymaid)\n",
      "INFO  : Fetching connectivity table for 1 neurons (pymaid)\n",
      "INFO  : Cached data used. Use `pymaid.clear_cache()` to clear. (pymaid)\n",
      "INFO  : Cached data used. Use `pymaid.clear_cache()` to clear. (pymaid)\n"
     ]
    },
    {
     "name": "stdout",
     "output_type": "stream",
     "text": [
      "\r"
     ]
    },
    {
     "name": "stderr",
     "output_type": "stream",
     "text": [
      "INFO  : Done. Found 40 pre-, 0 postsynaptic and 0 gap junction-connected neurons (pymaid)\n",
      "INFO  : Cached data used. Use `pymaid.clear_cache()` to clear. (pymaid)\n"
     ]
    },
    {
     "data": {
      "application/vnd.jupyter.widget-view+json": {
       "model_id": "",
       "version_major": 2,
       "version_minor": 0
      },
      "text/plain": [
       "HBox(children=(IntProgress(value=0, description='Make nrn', max=1, style=ProgressStyle(description_width='init…"
      ]
     },
     "metadata": {},
     "output_type": "display_data"
    },
    {
     "name": "stderr",
     "output_type": "stream",
     "text": [
      "INFO  : Cached data used. Use `pymaid.clear_cache()` to clear. (pymaid)\n",
      "INFO  : Found 1 neurons matching the search parameters (pymaid)\n"
     ]
    },
    {
     "name": "stdout",
     "output_type": "stream",
     "text": [
      "\r"
     ]
    },
    {
     "name": "stderr",
     "output_type": "stream",
     "text": [
      "INFO  : Cached data used. Use `pymaid.clear_cache()` to clear. (pymaid)\n"
     ]
    },
    {
     "data": {
      "application/vnd.jupyter.widget-view+json": {
       "model_id": "",
       "version_major": 2,
       "version_minor": 0
      },
      "text/plain": [
       "HBox(children=(IntProgress(value=0, description='Make nrn', max=1, style=ProgressStyle(description_width='init…"
      ]
     },
     "metadata": {},
     "output_type": "display_data"
    },
    {
     "name": "stderr",
     "output_type": "stream",
     "text": [
      "INFO  : Cached data used. Use `pymaid.clear_cache()` to clear. (pymaid)\n",
      "INFO  : Found 1 neurons matching the search parameters (pymaid)\n",
      "INFO  : Fetching connectivity table for 1 neurons (pymaid)\n",
      "INFO  : Cached data used. Use `pymaid.clear_cache()` to clear. (pymaid)\n",
      "INFO  : Cached data used. Use `pymaid.clear_cache()` to clear. (pymaid)\n",
      "INFO  : Done. Found 43 pre-, 0 postsynaptic and 0 gap junction-connected neurons (pymaid)\n",
      "INFO  : Cached data used. Use `pymaid.clear_cache()` to clear. (pymaid)\n"
     ]
    },
    {
     "name": "stdout",
     "output_type": "stream",
     "text": [
      "\r"
     ]
    },
    {
     "data": {
      "application/vnd.jupyter.widget-view+json": {
       "model_id": "",
       "version_major": 2,
       "version_minor": 0
      },
      "text/plain": [
       "HBox(children=(IntProgress(value=0, description='Make nrn', max=1, style=ProgressStyle(description_width='init…"
      ]
     },
     "metadata": {},
     "output_type": "display_data"
    },
    {
     "name": "stderr",
     "output_type": "stream",
     "text": [
      "INFO  : Cached data used. Use `pymaid.clear_cache()` to clear. (pymaid)\n",
      "INFO  : Found 1 neurons matching the search parameters (pymaid)\n",
      "INFO  : Cached data used. Use `pymaid.clear_cache()` to clear. (pymaid)\n"
     ]
    },
    {
     "name": "stdout",
     "output_type": "stream",
     "text": [
      "\r"
     ]
    },
    {
     "data": {
      "application/vnd.jupyter.widget-view+json": {
       "model_id": "",
       "version_major": 2,
       "version_minor": 0
      },
      "text/plain": [
       "HBox(children=(IntProgress(value=0, description='Make nrn', max=1, style=ProgressStyle(description_width='init…"
      ]
     },
     "metadata": {},
     "output_type": "display_data"
    },
    {
     "name": "stderr",
     "output_type": "stream",
     "text": [
      "INFO  : Cached data used. Use `pymaid.clear_cache()` to clear. (pymaid)\n",
      "INFO  : Found 1 neurons matching the search parameters (pymaid)\n",
      "INFO  : Fetching connectivity table for 1 neurons (pymaid)\n",
      "INFO  : Cached data used. Use `pymaid.clear_cache()` to clear. (pymaid)\n",
      "INFO  : Cached data used. Use `pymaid.clear_cache()` to clear. (pymaid)\n",
      "INFO  : Done. Found 43 pre-, 0 postsynaptic and 0 gap junction-connected neurons (pymaid)\n"
     ]
    },
    {
     "name": "stdout",
     "output_type": "stream",
     "text": [
      "\r"
     ]
    },
    {
     "data": {
      "application/vnd.jupyter.widget-view+json": {
       "model_id": "",
       "version_major": 2,
       "version_minor": 0
      },
      "text/plain": [
       "HBox(children=(IntProgress(value=0, description='Make nrn', max=1, style=ProgressStyle(description_width='init…"
      ]
     },
     "metadata": {},
     "output_type": "display_data"
    },
    {
     "name": "stdout",
     "output_type": "stream",
     "text": [
      "\r"
     ]
    },
    {
     "name": "stderr",
     "output_type": "stream",
     "text": [
      "INFO  : Cached data used. Use `pymaid.clear_cache()` to clear. (pymaid)\n",
      "INFO  : Found 1 neurons matching the search parameters (pymaid)\n"
     ]
    },
    {
     "data": {
      "application/vnd.jupyter.widget-view+json": {
       "model_id": "",
       "version_major": 2,
       "version_minor": 0
      },
      "text/plain": [
       "HBox(children=(IntProgress(value=0, description='Make nrn', max=1, style=ProgressStyle(description_width='init…"
      ]
     },
     "metadata": {},
     "output_type": "display_data"
    },
    {
     "name": "stderr",
     "output_type": "stream",
     "text": [
      "INFO  : Cached data used. Use `pymaid.clear_cache()` to clear. (pymaid)\n",
      "INFO  : Found 1 neurons matching the search parameters (pymaid)\n",
      "INFO  : Fetching connectivity table for 1 neurons (pymaid)\n"
     ]
    },
    {
     "name": "stdout",
     "output_type": "stream",
     "text": [
      "\r"
     ]
    },
    {
     "name": "stderr",
     "output_type": "stream",
     "text": [
      "INFO  : Done. Found 45 pre-, 0 postsynaptic and 0 gap junction-connected neurons (pymaid)\n",
      "INFO  : Cached data used. Use `pymaid.clear_cache()` to clear. (pymaid)\n"
     ]
    },
    {
     "data": {
      "application/vnd.jupyter.widget-view+json": {
       "model_id": "",
       "version_major": 2,
       "version_minor": 0
      },
      "text/plain": [
       "HBox(children=(IntProgress(value=0, description='Make nrn', max=1, style=ProgressStyle(description_width='init…"
      ]
     },
     "metadata": {},
     "output_type": "display_data"
    },
    {
     "name": "stderr",
     "output_type": "stream",
     "text": [
      "INFO  : Cached data used. Use `pymaid.clear_cache()` to clear. (pymaid)\n",
      "INFO  : Found 1 neurons matching the search parameters (pymaid)\n"
     ]
    },
    {
     "name": "stdout",
     "output_type": "stream",
     "text": [
      "\r"
     ]
    },
    {
     "data": {
      "application/vnd.jupyter.widget-view+json": {
       "model_id": "",
       "version_major": 2,
       "version_minor": 0
      },
      "text/plain": [
       "HBox(children=(IntProgress(value=0, description='Make nrn', max=1, style=ProgressStyle(description_width='init…"
      ]
     },
     "metadata": {},
     "output_type": "display_data"
    },
    {
     "name": "stderr",
     "output_type": "stream",
     "text": [
      "INFO  : Cached data used. Use `pymaid.clear_cache()` to clear. (pymaid)\n",
      "INFO  : Found 1 neurons matching the search parameters (pymaid)\n",
      "INFO  : Fetching connectivity table for 1 neurons (pymaid)\n",
      "INFO  : Cached data used. Use `pymaid.clear_cache()` to clear. (pymaid)\n",
      "INFO  : Cached data used. Use `pymaid.clear_cache()` to clear. (pymaid)\n",
      "INFO  : Done. Found 34 pre-, 0 postsynaptic and 0 gap junction-connected neurons (pymaid)\n",
      "INFO  : Cached data used. Use `pymaid.clear_cache()` to clear. (pymaid)\n"
     ]
    },
    {
     "name": "stdout",
     "output_type": "stream",
     "text": [
      "\r"
     ]
    },
    {
     "data": {
      "application/vnd.jupyter.widget-view+json": {
       "model_id": "",
       "version_major": 2,
       "version_minor": 0
      },
      "text/plain": [
       "HBox(children=(IntProgress(value=0, description='Make nrn', max=1, style=ProgressStyle(description_width='init…"
      ]
     },
     "metadata": {},
     "output_type": "display_data"
    },
    {
     "name": "stderr",
     "output_type": "stream",
     "text": [
      "INFO  : Cached data used. Use `pymaid.clear_cache()` to clear. (pymaid)\n"
     ]
    },
    {
     "name": "stdout",
     "output_type": "stream",
     "text": [
      "\r"
     ]
    },
    {
     "name": "stderr",
     "output_type": "stream",
     "text": [
      "INFO  : Found 1 neurons matching the search parameters (pymaid)\n",
      "INFO  : Cached data used. Use `pymaid.clear_cache()` to clear. (pymaid)\n"
     ]
    },
    {
     "data": {
      "application/vnd.jupyter.widget-view+json": {
       "model_id": "",
       "version_major": 2,
       "version_minor": 0
      },
      "text/plain": [
       "HBox(children=(IntProgress(value=0, description='Make nrn', max=1, style=ProgressStyle(description_width='init…"
      ]
     },
     "metadata": {},
     "output_type": "display_data"
    },
    {
     "name": "stderr",
     "output_type": "stream",
     "text": [
      "INFO  : Cached data used. Use `pymaid.clear_cache()` to clear. (pymaid)\n",
      "INFO  : Found 1 neurons matching the search parameters (pymaid)\n",
      "INFO  : Fetching connectivity table for 1 neurons (pymaid)\n",
      "INFO  : Cached data used. Use `pymaid.clear_cache()` to clear. (pymaid)\n",
      "INFO  : Cached data used. Use `pymaid.clear_cache()` to clear. (pymaid)\n"
     ]
    },
    {
     "name": "stdout",
     "output_type": "stream",
     "text": [
      "\r"
     ]
    },
    {
     "name": "stderr",
     "output_type": "stream",
     "text": [
      "INFO  : Done. Found 34 pre-, 0 postsynaptic and 0 gap junction-connected neurons (pymaid)\n",
      "INFO  : Cached data used. Use `pymaid.clear_cache()` to clear. (pymaid)\n"
     ]
    },
    {
     "data": {
      "application/vnd.jupyter.widget-view+json": {
       "model_id": "",
       "version_major": 2,
       "version_minor": 0
      },
      "text/plain": [
       "HBox(children=(IntProgress(value=0, description='Make nrn', max=1, style=ProgressStyle(description_width='init…"
      ]
     },
     "metadata": {},
     "output_type": "display_data"
    },
    {
     "name": "stderr",
     "output_type": "stream",
     "text": [
      "INFO  : Cached data used. Use `pymaid.clear_cache()` to clear. (pymaid)\n",
      "INFO  : Found 1 neurons matching the search parameters (pymaid)\n",
      "INFO  : Cached data used. Use `pymaid.clear_cache()` to clear. (pymaid)\n"
     ]
    },
    {
     "name": "stdout",
     "output_type": "stream",
     "text": [
      "\r"
     ]
    },
    {
     "data": {
      "application/vnd.jupyter.widget-view+json": {
       "model_id": "",
       "version_major": 2,
       "version_minor": 0
      },
      "text/plain": [
       "HBox(children=(IntProgress(value=0, description='Make nrn', max=1, style=ProgressStyle(description_width='init…"
      ]
     },
     "metadata": {},
     "output_type": "display_data"
    },
    {
     "name": "stderr",
     "output_type": "stream",
     "text": [
      "INFO  : Cached data used. Use `pymaid.clear_cache()` to clear. (pymaid)\n",
      "INFO  : Found 1 neurons matching the search parameters (pymaid)\n",
      "INFO  : Fetching connectivity table for 1 neurons (pymaid)\n",
      "INFO  : Cached data used. Use `pymaid.clear_cache()` to clear. (pymaid)\n",
      "INFO  : Cached data used. Use `pymaid.clear_cache()` to clear. (pymaid)\n"
     ]
    },
    {
     "name": "stdout",
     "output_type": "stream",
     "text": [
      "\r"
     ]
    },
    {
     "name": "stderr",
     "output_type": "stream",
     "text": [
      "INFO  : Done. Found 45 pre-, 0 postsynaptic and 0 gap junction-connected neurons (pymaid)\n",
      "INFO  : Cached data used. Use `pymaid.clear_cache()` to clear. (pymaid)\n"
     ]
    },
    {
     "data": {
      "application/vnd.jupyter.widget-view+json": {
       "model_id": "",
       "version_major": 2,
       "version_minor": 0
      },
      "text/plain": [
       "HBox(children=(IntProgress(value=0, description='Make nrn', max=1, style=ProgressStyle(description_width='init…"
      ]
     },
     "metadata": {},
     "output_type": "display_data"
    },
    {
     "name": "stderr",
     "output_type": "stream",
     "text": [
      "INFO  : Cached data used. Use `pymaid.clear_cache()` to clear. (pymaid)\n",
      "INFO  : Found 1 neurons matching the search parameters (pymaid)\n"
     ]
    },
    {
     "name": "stdout",
     "output_type": "stream",
     "text": [
      "\r"
     ]
    },
    {
     "data": {
      "application/vnd.jupyter.widget-view+json": {
       "model_id": "",
       "version_major": 2,
       "version_minor": 0
      },
      "text/plain": [
       "HBox(children=(IntProgress(value=0, description='Make nrn', max=1, style=ProgressStyle(description_width='init…"
      ]
     },
     "metadata": {},
     "output_type": "display_data"
    },
    {
     "name": "stderr",
     "output_type": "stream",
     "text": [
      "INFO  : Cached data used. Use `pymaid.clear_cache()` to clear. (pymaid)\n",
      "INFO  : Found 1 neurons matching the search parameters (pymaid)\n",
      "INFO  : Fetching connectivity table for 1 neurons (pymaid)\n",
      "INFO  : Cached data used. Use `pymaid.clear_cache()` to clear. (pymaid)\n",
      "INFO  : Cached data used. Use `pymaid.clear_cache()` to clear. (pymaid)\n",
      "INFO  : Done. Found 36 pre-, 0 postsynaptic and 0 gap junction-connected neurons (pymaid)\n",
      "INFO  : Cached data used. Use `pymaid.clear_cache()` to clear. (pymaid)\n"
     ]
    },
    {
     "name": "stdout",
     "output_type": "stream",
     "text": [
      "\r"
     ]
    },
    {
     "data": {
      "application/vnd.jupyter.widget-view+json": {
       "model_id": "",
       "version_major": 2,
       "version_minor": 0
      },
      "text/plain": [
       "HBox(children=(IntProgress(value=0, description='Make nrn', max=1, style=ProgressStyle(description_width='init…"
      ]
     },
     "metadata": {},
     "output_type": "display_data"
    },
    {
     "name": "stderr",
     "output_type": "stream",
     "text": [
      "INFO  : Cached data used. Use `pymaid.clear_cache()` to clear. (pymaid)\n",
      "INFO  : Found 1 neurons matching the search parameters (pymaid)\n",
      "INFO  : Cached data used. Use `pymaid.clear_cache()` to clear. (pymaid)\n"
     ]
    },
    {
     "name": "stdout",
     "output_type": "stream",
     "text": [
      "\r"
     ]
    },
    {
     "data": {
      "application/vnd.jupyter.widget-view+json": {
       "model_id": "",
       "version_major": 2,
       "version_minor": 0
      },
      "text/plain": [
       "HBox(children=(IntProgress(value=0, description='Make nrn', max=1, style=ProgressStyle(description_width='init…"
      ]
     },
     "metadata": {},
     "output_type": "display_data"
    },
    {
     "name": "stderr",
     "output_type": "stream",
     "text": [
      "INFO  : Cached data used. Use `pymaid.clear_cache()` to clear. (pymaid)\n",
      "INFO  : Found 1 neurons matching the search parameters (pymaid)\n",
      "INFO  : Fetching connectivity table for 1 neurons (pymaid)\n",
      "INFO  : Cached data used. Use `pymaid.clear_cache()` to clear. (pymaid)\n",
      "INFO  : Cached data used. Use `pymaid.clear_cache()` to clear. (pymaid)\n",
      "INFO  : Done. Found 36 pre-, 0 postsynaptic and 0 gap junction-connected neurons (pymaid)\n"
     ]
    },
    {
     "name": "stdout",
     "output_type": "stream",
     "text": [
      "\r"
     ]
    },
    {
     "data": {
      "image/png": "[encoded data removed]",
      "text/plain": [
       "<Figure size 720x720 with 1 Axes>"
      ]
     },
     "metadata": {},
     "output_type": "display_data"
    }
   ],
   "source": [
    "def all_networks(sens,tars,hugs,tr):\n",
    "    trips = all_triples(sens,tars,hugs,tr)\n",
    "    s_names = [triple[0] for triple in trips]\n",
    "    h_names = [triple[1] for triple in trips]\n",
    "    t_names = [triple[2] for triple in trips]\n",
    "    G = nx.Graph()\n",
    "    colours = sns.color_palette('muted', 3)\n",
    "    flat = list(itertools.chain.from_iterable(trips))\n",
    "    for el in flat:\n",
    "        G.add_node(el)\n",
    "\n",
    "    for group in trips:\n",
    "        G.add_edge(group[0],group[1], r = rank_idx(group[0],group[1],2,1))\n",
    "        G.add_edge(group[1],group[2], r = rank_idx(group[1],group[2],2,1))\n",
    "        G.add_edge(group[0],group[2], r = rank_idx(group[0],group[2],2,1))\n",
    "\n",
    "\n",
    "    pos = nx.layout.kamada_kawai_layout(G,scale=10)\n",
    "    cmap = { n : colours[0] for n in s_names }\n",
    "    cmap.update( { n : colours[1] for n in t_names} )\n",
    "    cmap.update( { n : colours[2] for n in G.nodes if n not in s_names and n not in t_names })\n",
    "\n",
    "    fig, ax = plt.subplots(figsize=(10,10))\n",
    "\n",
    "    edge_labels = nx.get_edge_attributes(G,'r')\n",
    "\n",
    "    nx.draw_networkx_edge_labels(G, pos, edge_labels = edge_labels, font_size = 10)\n",
    "\n",
    "    nx.draw(G, pos, \n",
    "            node_color=[cmap[n] for n in G.nodes], ax = ax, with_labels = True, font_size = 8)\n",
    "\n",
    "    # Add legend\n",
    "    ax.text(x=1,y=1,\n",
    "            s='source',\n",
    "            color=colours[0],\n",
    "            fontsize=12, ha='right', va='top',\n",
    "            transform=ax.transAxes)\n",
    "    ax.text(x=1,y=0.95,\n",
    "            s='target',\n",
    "            color=colours[1],\n",
    "            fontsize=12, ha='right', va='top',\n",
    "            transform=ax.transAxes)\n",
    "    ax.text(x=1,y=0.90,\n",
    "            s='interneuron',\n",
    "            color=colours[2],\n",
    "            fontsize=12, ha='right', va='top',\n",
    "            transform=ax.transAxes)\n",
    "    fig.autofmt_xdate()\n",
    "\n",
    "    ax.margins(0.1)\n",
    "    plt.show()\n",
    "    return G\n",
    "\n",
    "sen = 'sens2-to-hugin-ipc'\n",
    "tar = 'IPCs'\n",
    "intr = 'Hugin PC'\n",
    "\n",
    "all_graph = all_networks(sen,tar,intr,2)\n"
   ]
  },
  {
   "cell_type": "code",
   "execution_count": null,
   "metadata": {},
   "outputs": [],
   "source": [
    "all_graph"
   ]
  }
 ],
 "metadata": {
  "kernelspec": {
   "display_name": "Python 3",
   "language": "python",
   "name": "python3"
  },
  "language_info": {
   "codemirror_mode": {
    "name": "ipython",
    "version": 3
   },
   "file_extension": ".py",
   "mimetype": "text/x-python",
   "name": "python",
   "nbconvert_exporter": "python",
   "pygments_lexer": "ipython3",
   "version": "3.6.3"
  }
 },
 "nbformat": 4,
 "nbformat_minor": 2
}
